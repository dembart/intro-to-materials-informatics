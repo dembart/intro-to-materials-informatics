{
  "cells": [
    {
      "cell_type": "markdown",
      "metadata": {
        "id": "Jm0z2xP-WYz9"
      },
      "source": [
        "### Seminar 8: Molecular simulations with machine learning potentials\n",
        "\n",
        "Agenda\n",
        "\n",
        "- Calculating forces and energies\n",
        "- ASE calculators and optimizers\n",
        "- Using universal interatomic potentials\n",
        "- Thermal expansion\n",
        "- Li-ion diffusion"
      ]
    },
    {
      "cell_type": "markdown",
      "source": [
        "### Note: Turn on GPU support\n",
        "\n",
        "Runtime -> Change runtime type -> T4 GPU"
      ],
      "metadata": {
        "id": "lI0aE3X5YFJy"
      }
    },
    {
      "cell_type": "markdown",
      "metadata": {
        "id": "82bQosDfYB-u"
      },
      "source": [
        "### Part 1: ASE's calculators and optimizers. Fitting the Lennard-Jones pair potential example\n",
        "\n",
        "<img src=\"https://upload.wikimedia.org/wikipedia/commons/thumb/e/e7/Graph_of_Lennard-Jones_potential.png/1920px-Graph_of_Lennard-Jones_potential.png\" width=320 height=200 />\n",
        "\n",
        "\n",
        "<img src=\"https://wikimedia.org/api/rest_v1/media/math/render/svg/82d16f77cae964a5c4c52fb89165dd5d596ee03f\" width=320 height=200 />\n",
        "\n",
        "\n"
      ]
    },
    {
      "cell_type": "markdown",
      "metadata": {
        "id": "LbqGkoa2gKYv"
      },
      "source": [
        "There are calculators in ASE. These are used to calculate energies, forces, and stress tensors for a given atomic structure at the given level of theory.  "
      ]
    },
    {
      "cell_type": "code",
      "source": [
        "!pip install ase"
      ],
      "metadata": {
        "colab": {
          "base_uri": "https://localhost:8080/"
        },
        "id": "ROEhrKyrSWfs",
        "outputId": "26e861f6-fc0c-4a04-d2d3-9f79ae6838d9"
      },
      "execution_count": 1,
      "outputs": [
        {
          "output_type": "stream",
          "name": "stdout",
          "text": [
            "Collecting ase\n",
            "  Downloading ase-3.23.0-py3-none-any.whl.metadata (3.8 kB)\n",
            "Requirement already satisfied: numpy>=1.18.5 in /usr/local/lib/python3.10/dist-packages (from ase) (1.26.4)\n",
            "Requirement already satisfied: scipy>=1.6.0 in /usr/local/lib/python3.10/dist-packages (from ase) (1.13.1)\n",
            "Requirement already satisfied: matplotlib>=3.3.4 in /usr/local/lib/python3.10/dist-packages (from ase) (3.7.1)\n",
            "Requirement already satisfied: contourpy>=1.0.1 in /usr/local/lib/python3.10/dist-packages (from matplotlib>=3.3.4->ase) (1.3.0)\n",
            "Requirement already satisfied: cycler>=0.10 in /usr/local/lib/python3.10/dist-packages (from matplotlib>=3.3.4->ase) (0.12.1)\n",
            "Requirement already satisfied: fonttools>=4.22.0 in /usr/local/lib/python3.10/dist-packages (from matplotlib>=3.3.4->ase) (4.54.1)\n",
            "Requirement already satisfied: kiwisolver>=1.0.1 in /usr/local/lib/python3.10/dist-packages (from matplotlib>=3.3.4->ase) (1.4.7)\n",
            "Requirement already satisfied: packaging>=20.0 in /usr/local/lib/python3.10/dist-packages (from matplotlib>=3.3.4->ase) (24.1)\n",
            "Requirement already satisfied: pillow>=6.2.0 in /usr/local/lib/python3.10/dist-packages (from matplotlib>=3.3.4->ase) (10.4.0)\n",
            "Requirement already satisfied: pyparsing>=2.3.1 in /usr/local/lib/python3.10/dist-packages (from matplotlib>=3.3.4->ase) (3.1.4)\n",
            "Requirement already satisfied: python-dateutil>=2.7 in /usr/local/lib/python3.10/dist-packages (from matplotlib>=3.3.4->ase) (2.8.2)\n",
            "Requirement already satisfied: six>=1.5 in /usr/local/lib/python3.10/dist-packages (from python-dateutil>=2.7->matplotlib>=3.3.4->ase) (1.16.0)\n",
            "Downloading ase-3.23.0-py3-none-any.whl (2.9 MB)\n",
            "\u001b[2K   \u001b[90m━━━━━━━━━━━━━━━━━━━━━━━━━━━━━━━━━━━━━━━━\u001b[0m \u001b[32m2.9/2.9 MB\u001b[0m \u001b[31m29.6 MB/s\u001b[0m eta \u001b[36m0:00:00\u001b[0m\n",
            "\u001b[?25hInstalling collected packages: ase\n",
            "Successfully installed ase-3.23.0\n"
          ]
        }
      ]
    },
    {
      "cell_type": "code",
      "execution_count": 8,
      "metadata": {
        "id": "ZU7taaDMYIr5"
      },
      "outputs": [],
      "source": [
        "import numpy as np\n",
        "from ase.calculators.lj import LennardJones # importing LennardJones calculator\n",
        "from ase.io import read, write\n",
        "import matplotlib.pyplot as plt\n",
        "import ase.db\n",
        "\n"
      ]
    },
    {
      "cell_type": "markdown",
      "source": [
        "We will work with the argon.db file (an ase database format). The database contains several structures of bulk Ar and their energies/forces. The physical quantities are calculated with the density functional theory.\n",
        "\n",
        "data source: https://kitchingroup.cheme.cmu.edu/blog/2017/11/19/Training-the-ASE-Lennard-Jones-potential-to-DFT-calculations/"
      ],
      "metadata": {
        "id": "nDXbX7xqUQ2k"
      }
    },
    {
      "cell_type": "code",
      "source": [
        "db = ase.db.connect('argon.db')"
      ],
      "metadata": {
        "id": "5GOq38ozUWsR"
      },
      "execution_count": 54,
      "outputs": []
    },
    {
      "cell_type": "code",
      "source": [
        "# collect atoms and energies\n",
        "atoms_list = []\n",
        "energies = []\n",
        "for row in db.select():\n",
        "    atoms_list.append(row.toatoms())\n",
        "    energies.append(row.toatoms().get_potential_energy())"
      ],
      "metadata": {
        "id": "FTBY7hTDUX0I"
      },
      "execution_count": 56,
      "outputs": []
    },
    {
      "cell_type": "markdown",
      "metadata": {
        "id": "7uOnkJ5ulMan"
      },
      "source": [
        "We need to set the calculator to the Atoms object"
      ]
    },
    {
      "cell_type": "code",
      "execution_count": 57,
      "metadata": {
        "id": "LAz7uMNKjk21"
      },
      "outputs": [],
      "source": [
        "# read Ar crystal structures\n",
        "atoms1 = atoms_list[0]\n",
        "atoms2 = atoms_list[-1]\n",
        "\n",
        "# Define parameters of the potential\n",
        "epsilon, sigma = .5, 5.0\n",
        "\n",
        "# Define calculator for the atoms object\n",
        "atoms1.calc = LennardJones(sigma = sigma, epsilon = epsilon, rcut = 10.0, )\n",
        "atoms2.calc = LennardJones(sigma = sigma, epsilon = epsilon, rcut = 10.0, )\n",
        "\n"
      ]
    },
    {
      "cell_type": "markdown",
      "metadata": {
        "id": "dEZElAkAlUCW"
      },
      "source": [
        "There are a number of different optimizers available in ASE to optimize an objective function. In the case of crystal structure we want to minimize the forces acting on each atom."
      ]
    },
    {
      "cell_type": "code",
      "execution_count": 58,
      "metadata": {
        "id": "sJfp0mYplK-y"
      },
      "outputs": [],
      "source": [
        "from ase.optimize import BFGS"
      ]
    },
    {
      "cell_type": "markdown",
      "metadata": {
        "id": "4qmXTIy5ll8s"
      },
      "source": [
        "Let's optimize our crystal structure"
      ]
    },
    {
      "cell_type": "code",
      "execution_count": 59,
      "metadata": {
        "id": "l6Tc5YFDllDT"
      },
      "outputs": [],
      "source": [
        "# slightly disturb our structure\n",
        "atoms1.positions += np.random.normal(loc = 0, scale = 0.5, size = (len(atoms1), 3))\n",
        "atoms2.positions += np.random.normal(loc = 0, scale = 0.5, size = (len(atoms2), 3))"
      ]
    },
    {
      "cell_type": "markdown",
      "metadata": {
        "id": "grdUf0d4sjnh"
      },
      "source": [
        "The optimizer adjusts the atomic coordinates to minimize the forces acting on the atoms (energy of the system). Doesn't this remind you of loss minimization to find the best fit in linear regression? The weights in the case of minimizing the forces are the (x, y, z) coordinates of the atoms."
      ]
    },
    {
      "cell_type": "code",
      "execution_count": 60,
      "metadata": {
        "colab": {
          "base_uri": "https://localhost:8080/"
        },
        "id": "pEG-smhBoI8m",
        "outputId": "64dd928f-55e8-446c-8663-1ebf8782327f"
      },
      "outputs": [
        {
          "output_type": "stream",
          "name": "stdout",
          "text": [
            "      Step     Time          Energy          fmax\n",
            "BFGS:    0 11:58:14       84.136688        0.000000\n"
          ]
        },
        {
          "output_type": "execute_result",
          "data": {
            "text/plain": [
              "True"
            ]
          },
          "metadata": {},
          "execution_count": 60
        }
      ],
      "source": [
        "optim = BFGS(atoms1)\n",
        "optim.run(fmax = 0.01)"
      ]
    },
    {
      "cell_type": "code",
      "source": [
        "optim = BFGS(atoms2)\n",
        "optim.run(fmax = 0.01)"
      ],
      "metadata": {
        "colab": {
          "base_uri": "https://localhost:8080/"
        },
        "id": "DlVWNjl2U2Bs",
        "outputId": "cd056e1d-69f3-49ec-a12e-a3dbfe33a82c"
      },
      "execution_count": 61,
      "outputs": [
        {
          "output_type": "stream",
          "name": "stdout",
          "text": [
            "      Step     Time          Energy          fmax\n",
            "BFGS:    0 11:58:17       24.759183       75.157218\n",
            "BFGS:    1 11:58:17       11.668383       14.482729\n",
            "BFGS:    2 11:58:17       10.959326       17.850677\n",
            "BFGS:    3 11:58:17        8.429042        8.388309\n",
            "BFGS:    4 11:58:17        5.372788        7.706350\n",
            "BFGS:    5 11:58:17        3.596405        2.800455\n",
            "BFGS:    6 11:58:17        3.554110        2.219154\n",
            "BFGS:    7 11:58:17        3.483744        1.082992\n",
            "BFGS:    8 11:58:17        3.465429        0.313950\n",
            "BFGS:    9 11:58:17        3.464781        0.243156\n",
            "BFGS:   10 11:58:17        3.464177        0.146483\n",
            "BFGS:   11 11:58:17        3.463875        0.050006\n",
            "BFGS:   12 11:58:17        3.463837        0.010548\n",
            "BFGS:   13 11:58:17        3.463835        0.000968\n"
          ]
        },
        {
          "output_type": "execute_result",
          "data": {
            "text/plain": [
              "True"
            ]
          },
          "metadata": {},
          "execution_count": 61
        }
      ]
    },
    {
      "cell_type": "markdown",
      "metadata": {
        "id": "vMlT87M4opz1"
      },
      "source": [
        "Force are retrieved with .get_forces() method"
      ]
    },
    {
      "cell_type": "code",
      "execution_count": 62,
      "metadata": {
        "colab": {
          "base_uri": "https://localhost:8080/"
        },
        "id": "r_koKckUohbY",
        "outputId": "dcb75f39-d67f-4840-ea52-83911724de83"
      },
      "outputs": [
        {
          "output_type": "execute_result",
          "data": {
            "text/plain": [
              "array([[ 2.63642732e-15,  6.69493757e-14, -7.00731790e-14]])"
            ]
          },
          "metadata": {},
          "execution_count": 62
        }
      ],
      "source": [
        "atoms1.get_forces()"
      ]
    },
    {
      "cell_type": "markdown",
      "metadata": {
        "id": "hfAiB5-aphu6"
      },
      "source": [
        "Energy is retrieved with get_potential_energy() method"
      ]
    },
    {
      "cell_type": "code",
      "execution_count": 63,
      "metadata": {
        "colab": {
          "base_uri": "https://localhost:8080/"
        },
        "id": "AJ3I_k-6pmKi",
        "outputId": "cc13d040-f825-41a3-b11a-2b8748cec0b1"
      },
      "outputs": [
        {
          "output_type": "execute_result",
          "data": {
            "text/plain": [
              "3.463834800895179"
            ]
          },
          "metadata": {},
          "execution_count": 63
        }
      ],
      "source": [
        "atoms2.get_potential_energy()"
      ]
    },
    {
      "cell_type": "code",
      "source": [
        "atoms2.get_potential_energy()/len(atoms2) - atoms1.get_potential_energy()/len(atoms1)"
      ],
      "metadata": {
        "colab": {
          "base_uri": "https://localhost:8080/"
        },
        "id": "zzKkTv-3U6Id",
        "outputId": "8185bbee-6838-4de5-d4a3-545a097aad8f"
      },
      "execution_count": 64,
      "outputs": [
        {
          "output_type": "execute_result",
          "data": {
            "text/plain": [
              "-82.40477094982309"
            ]
          },
          "metadata": {},
          "execution_count": 64
        }
      ]
    },
    {
      "cell_type": "markdown",
      "metadata": {
        "id": "KqAnc2VUoXbF"
      },
      "source": [
        "Is this energy difference feasible? Let's compare with the density functional theory calculated energies"
      ]
    },
    {
      "cell_type": "code",
      "execution_count": 65,
      "metadata": {
        "id": "GJFP9XhljwTZ",
        "colab": {
          "base_uri": "https://localhost:8080/"
        },
        "outputId": "57b41298-6632-42be-beef-7ff5a093e3c9"
      },
      "outputs": [
        {
          "output_type": "execute_result",
          "data": {
            "text/plain": [
              "-0.02087009"
            ]
          },
          "metadata": {},
          "execution_count": 65
        }
      ],
      "source": [
        "energies[0]/len(atoms1) - energies[1]/len(atoms2)"
      ]
    },
    {
      "cell_type": "code",
      "execution_count": 67,
      "metadata": {
        "colab": {
          "base_uri": "https://localhost:8080/",
          "height": 466
        },
        "id": "RJ7Jhg_lcC98",
        "outputId": "7c4cdd0a-7c46-4956-b696-33c7d79ebd0c"
      },
      "outputs": [
        {
          "output_type": "execute_result",
          "data": {
            "text/plain": [
              "Text(0.5, 0, 'Energy')"
            ]
          },
          "metadata": {},
          "execution_count": 67
        },
        {
          "output_type": "display_data",
          "data": {
            "text/plain": [
              "<Figure size 640x480 with 1 Axes>"
            ],
            "image/png": "[encoded data removed]"
          },
          "metadata": {}
        }
      ],
      "source": [
        "\n",
        "plt.hist(energies, 20)\n",
        "plt.xlabel('Energy')"
      ]
    },
    {
      "cell_type": "code",
      "source": [
        "for atoms in atoms_list:\n",
        "    atoms.calc = LennardJones(sigma = sigma, epsilon = epsilon, rcut = 10.0, )\n",
        "\n",
        "predicted_energies = [atoms.get_potential_energy() for atoms in atoms_list]"
      ],
      "metadata": {
        "id": "SCzDp08dXa6d"
      },
      "execution_count": 79,
      "outputs": []
    },
    {
      "cell_type": "code",
      "source": [
        "plt.scatter(energies, predicted_energies)\n",
        "plt.xlabel('DFT')\n",
        "plt.ylabel('LJ')"
      ],
      "metadata": {
        "colab": {
          "base_uri": "https://localhost:8080/",
          "height": 466
        },
        "id": "SyItv36JXy9P",
        "outputId": "19b7a91b-9c6d-40c3-fd79-105e35f2885c"
      },
      "execution_count": 81,
      "outputs": [
        {
          "output_type": "execute_result",
          "data": {
            "text/plain": [
              "Text(0, 0.5, 'LJ')"
            ]
          },
          "metadata": {},
          "execution_count": 81
        },
        {
          "output_type": "display_data",
          "data": {
            "text/plain": [
              "<Figure size 640x480 with 1 Axes>"
            ],
            "image/png": "[encoded data removed]"
          },
          "metadata": {}
        }
      ]
    },
    {
      "cell_type": "markdown",
      "metadata": {
        "id": "Ze4tLagtpAS2"
      },
      "source": [
        "As you see the energies are far away from the calculated with LJ potential. This is due to the epsilon and sigma parameters. Let's find the best parameters that fits the DFT data. For this we will minimize the mean squared error of energy predictions with our LJ potential compared to the DFT data."
      ]
    },
    {
      "cell_type": "code",
      "execution_count": 68,
      "metadata": {
        "colab": {
          "base_uri": "https://localhost:8080/"
        },
        "id": "MFqkzCDYcVhn",
        "outputId": "21b6a42b-8be2-4d46-aade-d11af7d2af23"
      },
      "outputs": [
        {
          "output_type": "stream",
          "name": "stdout",
          "text": [
            "Optimization terminated successfully.\n",
            "         Current function value: 0.000141\n",
            "         Iterations: 113\n",
            "         Function evaluations: 214\n",
            "[0.00592838 3.73316798]\n"
          ]
        }
      ],
      "source": [
        "import numpy as np\n",
        "from scipy.optimize import fmin\n",
        "from ase.calculators.lj import LennardJones\n",
        "\n",
        "\n",
        "# original code source: https://kitchingroup.cheme.cmu.edu/blog/2017/11/19/Training-the-ASE-Lennard-Jones-potential-to-DFT-calculations/\n",
        "\n",
        "\n",
        "\n",
        "def my_lj(params):\n",
        "\n",
        "    \"\"\"\n",
        "    This function return potential energy predictions\n",
        "    for a given set of LJ pair potential parameters.\n",
        "\n",
        "    Note that configurations is a global variable.\n",
        "    It should be created before executing this function\n",
        "\n",
        "    Params\n",
        "    ------\n",
        "    params: list of two floats, e.g. [sigma, epsilon]\n",
        "\n",
        "    Returns\n",
        "    -------\n",
        "\n",
        "    predicted energies\n",
        "\n",
        "    \"\"\"\n",
        "\n",
        "    global configurations\n",
        "    epsilon, sigma = params\n",
        "    calc = LennardJones(sigma=sigma, epsilon=epsilon)\n",
        "    for atoms in configurations:\n",
        "        atoms.calc = calc\n",
        "    predictions = np.array([atoms.get_potential_energy() for atoms in configurations])\n",
        "    return predictions\n",
        "\n",
        "\n",
        "def loss(target, prediction):\n",
        "    \"\"\"\n",
        "    Mean squared error loss function\n",
        "\n",
        "    Params\n",
        "    ------\n",
        "\n",
        "    target: np.array\n",
        "        ground truth energies\n",
        "\n",
        "    prediction: np.array\n",
        "        predicted energies\n",
        "\n",
        "    \"\"\"\n",
        "    return np.square(prediction - target).mean()\n",
        "\n",
        "\n",
        "def callback(params):\n",
        "    #DA explain what is callback\n",
        "    steps.append(params)\n",
        "\n",
        "\n",
        "\n",
        "\n",
        "def objective(params):\n",
        "    \"\"\"\n",
        "    Objective function we want to minimize\n",
        "\n",
        "    Note that targets is a global variable.\n",
        "    It should be created before executing this function.\n",
        "    \"\"\"\n",
        "    global targets\n",
        "    predictions =  my_lj(params)\n",
        "\n",
        "    return loss(targets, predictions)\n",
        "\n",
        "configurations = [row.toatoms() for row in db.select()]\n",
        "targets = np.array([row.energy for row in db.select()])\n",
        "steps = []\n",
        "\n",
        "LJ_pars = fmin(objective, x0 = [0.5, 5.0], callback = callback)\n",
        "print(LJ_pars)"
      ]
    },
    {
      "cell_type": "code",
      "execution_count": 69,
      "metadata": {
        "id": "NoY0Mav0YBaT"
      },
      "outputs": [],
      "source": [
        "loss_history = []\n",
        "for step in steps:\n",
        "    loss_history.append(loss(targets, my_lj(step)))"
      ]
    },
    {
      "cell_type": "code",
      "execution_count": 74,
      "metadata": {
        "colab": {
          "base_uri": "https://localhost:8080/",
          "height": 664
        },
        "id": "S3kuhm5IjQCE",
        "outputId": "2c58f1aa-369d-4788-8da4-17f3683d65fb"
      },
      "outputs": [
        {
          "output_type": "display_data",
          "data": {
            "text/plain": [
              "<Figure size 960x720 with 1 Axes>"
            ],
            "image/png": "[encoded data removed]"
          },
          "metadata": {}
        }
      ],
      "source": [
        "plt.figure(dpi = 150)\n",
        "plt.plot(loss_history)\n",
        "plt.ylabel('MSE')\n",
        "plt.xlabel('Iteration')\n",
        "plt.yscale('log')\n"
      ]
    },
    {
      "cell_type": "markdown",
      "metadata": {
        "id": "1uWV_JcuqyGN"
      },
      "source": [
        "Now we have a much better fit to the DFT data."
      ]
    },
    {
      "cell_type": "code",
      "execution_count": null,
      "metadata": {
        "colab": {
          "base_uri": "https://localhost:8080/",
          "height": 473
        },
        "id": "VvXJKv2PqFUT",
        "outputId": "f8dda661-4876-4d80-a21b-b4ad5a31083b"
      },
      "outputs": [
        {
          "data": {
            "text/plain": [
              "Text(0.5, 0, 'DFT energy')"
            ]
          },
          "execution_count": 271,
          "metadata": {},
          "output_type": "execute_result"
        },
        {
          "data": {
            "image/png": "[encoded data removed]",
            "text/plain": [
              "<Figure size 450x450 with 1 Axes>"
            ]
          },
          "metadata": {},
          "output_type": "display_data"
        }
      ],
      "source": [
        "fig, ax = plt.subplots(dpi = 150, figsize = (3, 3))\n",
        "\n",
        "ax.scatter(targets, my_lj(LJ_pars))\n",
        "ax.plot(targets, targets)\n",
        "ax.set_ylabel('predicted energy')\n",
        "ax.set_xlabel('DFT energy')"
      ]
    },
    {
      "cell_type": "markdown",
      "metadata": {
        "id": "5kWpccdyXD6r"
      },
      "source": [
        "Now you have the intuition behind interatomic potential fitting. Today we will use the SevenNet universal interatomic potential trained on the MPtrj dataset - a dataset of crystal structure configurations from the Materials structure database with calculated energies, forces, and stress tensors using density functional theory. In other words, someone did the same thing we did, but instead of fitting the LJ potential with two parameters to several different structures, the graph neural network with ~700k (I need to check it) parameters (weights) was fitted to the ~1,000,000 energies, ~10,000,000 forces, and stress tensors. Universal means that this potential is intended to accurately predict energies and forces for crystal structures from a wide range of chemical systems.\n",
        "\n",
        "This library provides the SevenNetCalculator compatible with the ASE library, which allows using the ASE functionality for running molecular dynamics simulations and optimizing crystal structures"
      ]
    },
    {
      "cell_type": "code",
      "execution_count": null,
      "metadata": {
        "id": "qL_OqJSQW2i7"
      },
      "outputs": [],
      "source": [
        "# install SevenNet library\n",
        "!pip install sevenn"
      ]
    },
    {
      "cell_type": "code",
      "execution_count": null,
      "metadata": {
        "id": "Qzo5JeCUWXjQ"
      },
      "outputs": [],
      "source": [
        "from ase.optimize import FIRE\n",
        "from ase.io import read, write\n",
        "from ase.optimize import FIRE\n",
        "from ase.md.npt import NPT\n",
        "from ase.units import fs\n",
        "from ase.build import make_supercell\n",
        "import numpy as np\n",
        "from sevenn.sevennet_calculator import SevenNetCalculator"
      ]
    },
    {
      "cell_type": "code",
      "execution_count": null,
      "metadata": {
        "colab": {
          "base_uri": "https://localhost:8080/"
        },
        "id": "arhUsS0KFkqJ",
        "outputId": "e2184b16-ac62-456d-b464-d291f858549b"
      },
      "outputs": [
        {
          "name": "stderr",
          "output_type": "stream",
          "text": [
            "/usr/local/lib/python3.10/dist-packages/e3nn/o3/_wigner.py:10: FutureWarning: You are using `torch.load` with `weights_only=False` (the current default value), which uses the default pickle module implicitly. It is possible to construct malicious pickle data which will execute arbitrary code during unpickling (See https://github.com/pytorch/pytorch/blob/main/SECURITY.md#untrusted-models for more details). In a future release, the default value for `weights_only` will be flipped to `True`. This limits the functions that could be executed during unpickling. Arbitrary objects will no longer be allowed to be loaded via this mode unless they are explicitly allowlisted by the user via `torch.serialization.add_safe_globals`. We recommend you start setting `weights_only=True` for any use case where you don't have full control of the loaded file. Please open an issue on GitHub for any issues related to this experimental feature.\n",
            "  _Jd, _W3j_flat, _W3j_indices = torch.load(os.path.join(os.path.dirname(__file__), 'constants.pt'))\n",
            "/usr/local/lib/python3.10/dist-packages/sevenn/util.py:220: FutureWarning: You are using `torch.load` with `weights_only=False` (the current default value), which uses the default pickle module implicitly. It is possible to construct malicious pickle data which will execute arbitrary code during unpickling (See https://github.com/pytorch/pytorch/blob/main/SECURITY.md#untrusted-models for more details). In a future release, the default value for `weights_only` will be flipped to `True`. This limits the functions that could be executed during unpickling. Arbitrary objects will no longer be allowed to be loaded via this mode unless they are explicitly allowlisted by the user via `torch.serialization.add_safe_globals`. We recommend you start setting `weights_only=True` for any use case where you don't have full control of the loaded file. Please open an issue on GitHub for any issues related to this experimental feature.\n",
            "  checkpoint = torch.load(checkpoint, map_location='cpu')\n"
          ]
        }
      ],
      "source": [
        "sevennet_0_cal = SevenNetCalculator(\"7net-0\", device='cuda') # we use cuda device, i.e. GPU, for a faster calculations\n",
        ""
      ]
    },
    {
      "cell_type": "code",
      "execution_count": 86,
      "metadata": {
        "id": "ZIqd2bGjCUO4"
      },
      "outputs": [],
      "source": [
        "# Li10Ge(PS6)2, LGPS for a shorter notation, is known for its fast Li-ion conductivity\n",
        "atoms = read('Li10Ge(PS6)2_mp.cif')\n",
        "\n",
        "P = [\n",
        "    [1, 0, 0],\n",
        "    [0, 2, 0],\n",
        "    [0, 0, 2]\n",
        "]\n",
        "# create supercell for better statistics\n",
        "supercell = make_supercell(atoms, P)\n",
        "print(len(supercell))"
      ]
    },
    {
      "cell_type": "code",
      "execution_count": null,
      "metadata": {
        "colab": {
          "base_uri": "https://localhost:8080/"
        },
        "id": "5wft7-41B5_N",
        "outputId": "57e007a8-a41b-4293-bd08-2c4e7fbe7b44"
      },
      "outputs": [
        {
          "name": "stdout",
          "output_type": "stream",
          "text": [
            "-863.3062133789062\n"
          ]
        }
      ],
      "source": [
        "# set calculator\n",
        "supercell.calc = sevennet_0_cal\n",
        "print(supercell.get_potential_energy())"
      ]
    },
    {
      "cell_type": "code",
      "execution_count": null,
      "metadata": {
        "id": "lGH38LGuGPh3"
      },
      "outputs": [],
      "source": [
        "# optimize crystal structure\n",
        "# FIRE is the method for optimizing an objective function.\n",
        "# Newtonian dynamics with added friction https://wiki.fysik.dtu.dk/ase/ase/optimize.html\n",
        "optim = FIRE(supercell)"
      ]
    },
    {
      "cell_type": "code",
      "execution_count": null,
      "metadata": {
        "colab": {
          "base_uri": "https://localhost:8080/"
        },
        "id": "dkNBjHI4CaJB",
        "outputId": "c4df9eda-a176-4be9-faf7-330b0a15beb5"
      },
      "outputs": [
        {
          "name": "stdout",
          "output_type": "stream",
          "text": [
            "      Step     Time          Energy          fmax\n",
            "FIRE:    0 17:01:37     -863.306213        0.079666\n",
            "FIRE:    1 17:01:37     -863.311035        0.077807\n",
            "FIRE:    2 17:01:37     -863.319214        0.073963\n",
            "FIRE:    3 17:01:38     -863.328613        0.067917\n",
            "FIRE:    4 17:01:38     -863.338501        0.059607\n",
            "FIRE:    5 17:01:38     -863.349121        0.055366\n",
            "FIRE:    6 17:01:38     -863.360352        0.047204\n"
          ]
        },
        {
          "data": {
            "text/plain": [
              "True"
            ]
          },
          "execution_count": 74,
          "metadata": {},
          "output_type": "execute_result"
        }
      ],
      "source": [
        "optim.run(fmax = 0.01)"
      ]
    },
    {
      "cell_type": "code",
      "execution_count": null,
      "metadata": {
        "id": "jXt3FnLhJ0J7"
      },
      "outputs": [],
      "source": [
        "from ase.md.velocitydistribution import MaxwellBoltzmannDistribution"
      ]
    },
    {
      "cell_type": "code",
      "execution_count": null,
      "metadata": {
        "id": "UavfhrG3J1cf"
      },
      "outputs": [],
      "source": [
        "MaxwellBoltzmannDistribution(supercell, temperature_K = 1000) # create a distribution of velocities"
      ]
    },
    {
      "cell_type": "code",
      "execution_count": null,
      "metadata": {
        "id": "r4VJOSp_B2qP"
      },
      "outputs": [],
      "source": [
        "# define the ensemble\n",
        "\n",
        "thermo = NPT(supercell,\n",
        "             temperature_K = 1000,\n",
        "             timestep = 2 * fs, # convert to fs\n",
        "             trajectory='md.traj',\n",
        "             loginterval = 1,\n",
        "             logfile='md.log',\n",
        "             ttime = 40 * fs,\n",
        "             pfactor = (75 * fs)**2 * 0.6,\n",
        "             externalstress = 0,\n",
        "             )"
      ]
    },
    {
      "cell_type": "code",
      "execution_count": 86,
      "metadata": {
        "id": "ElvmsFrXB1Af"
      },
      "outputs": [],
      "source": [
        "# run MD simulation for 10,000 steps\n",
        "thermo.run(10000)"
      ]
    },
    {
      "cell_type": "code",
      "execution_count": null,
      "metadata": {
        "id": "TSfgymnbKPlJ"
      },
      "outputs": [],
      "source": [
        "# read saved trajectory\n",
        "traj = read('md.traj', index = ':')"
      ]
    },
    {
      "cell_type": "markdown",
      "source": [
        "###Task 1: V vs. time\n",
        " Plot volume of the supercell vs. time. How long does it take to converge?"
      ],
      "metadata": {
        "id": "KTHftMXZch8o"
      }
    },
    {
      "cell_type": "code",
      "execution_count": null,
      "metadata": {
        "colab": {
          "base_uri": "https://localhost:8080/",
          "height": 466
        },
        "id": "lgH7K-VrM6v6",
        "outputId": "3a5f2008-916c-440f-be38-23875914492d"
      },
      "outputs": [
        {
          "data": {
            "text/plain": [
              "Text(0, 0.5, 'Volume, $\\\\AA^3$')"
            ]
          },
          "execution_count": 82,
          "metadata": {},
          "output_type": "execute_result"
        },
        {
          "data": {
            "image/png": "[encoded data removed]",
            "text/plain": [
              "<Figure size 640x480 with 1 Axes>"
            ]
          },
          "metadata": {},
          "output_type": "display_data"
        }
      ],
      "source": [
        "\n",
        "plt.xlabel('time, ps')\n",
        "plt.ylabel('Volume, $\\AA^3$')"
      ]
    },
    {
      "cell_type": "markdown",
      "source": [
        "### Task 2. MSD\n",
        "\n",
        "Write a function that calculates the mean squared displacement at each timestep for a given atom\n",
        "\n",
        "![bg](https://pubs.rsc.org/image/article/2014/CP/c4cp02038c/c4cp02038c-t2_hi-res.gif)"
      ],
      "metadata": {
        "id": "MxhDJFj6czRg"
      }
    },
    {
      "cell_type": "code",
      "source": [
        "def classical_msd(trajectory, specie):\n",
        "\n",
        "    \"\"\"\n",
        "    Calclate classical mean squared displacement\n",
        "    for a given specie\n",
        "\n",
        "    Params:\n",
        "    ------\n",
        "    trajectory: list of ase's Atoms objects\n",
        "        simulation trajectory\n",
        "\n",
        "    specie: str\n",
        "        atomic symbol\n",
        "    \"\"\"\n",
        "\n",
        "\n",
        "    ### your code ###\n",
        "    pass"
      ],
      "metadata": {
        "id": "eeUFuTp1dumV"
      },
      "execution_count": 86,
      "outputs": []
    },
    {
      "cell_type": "markdown",
      "source": [
        "### Task 3: MSD(element) vs. time\n",
        "\n",
        "Plot MSD for each chemical element in the LGPS structure"
      ],
      "metadata": {
        "id": "cu01Hh9Fdwbh"
      }
    },
    {
      "cell_type": "code",
      "execution_count": null,
      "metadata": {
        "colab": {
          "base_uri": "https://localhost:8080/",
          "height": 447
        },
        "id": "aEinJkO9UjEQ",
        "outputId": "ec3c783d-c1ba-4e70-815b-e342d34935d4"
      },
      "outputs": [
        {
          "data": {
            "text/plain": [
              "[<matplotlib.lines.Line2D at 0x7a5a444dfb50>]"
            ]
          },
          "execution_count": 98,
          "metadata": {},
          "output_type": "execute_result"
        },
        {
          "data": {
            "image/png": "[encoded data removed]",
            "text/plain": [
              "<Figure size 640x480 with 1 Axes>"
            ]
          },
          "metadata": {},
          "output_type": "display_data"
        }
      ],
      "source": []
    },
    {
      "cell_type": "markdown",
      "source": [
        "### Task 4: Slope\n",
        "\n",
        "Fit the line to the linear region of the MSD(t) curve calculated for Li ions"
      ],
      "metadata": {
        "id": "kVK4wcVGeEmL"
      }
    },
    {
      "cell_type": "code",
      "source": [
        "# your code"
      ],
      "metadata": {
        "id": "fQ59bGgKef2p"
      },
      "execution_count": null,
      "outputs": []
    },
    {
      "cell_type": "code",
      "execution_count": null,
      "metadata": {
        "id": "_efyTPL_U1xJ"
      },
      "outputs": [],
      "source": [
        "def _diffusion_coefficient(slope, dim = 3):\n",
        "\n",
        "    \"\"\"\n",
        "    slope = [A ^ 2 / ps]\n",
        "    d = [cm ^ 2 / s]\n",
        "    \"\"\"\n",
        "    d = 1 / (2 * dim) * slope * (1e-16) / (1e-12)\n",
        "    return d"
      ]
    },
    {
      "cell_type": "markdown",
      "source": [
        "### Task 5. Arrhenius equation\n",
        "\n",
        "$D = D_0\\exp(-E_a/kT)$\n",
        "\n",
        "- Run several MD simulations at different temperatures (T=600, 800, 1000)\n",
        "\n",
        "- Fit the line to each of the MSD curves calculated for Li ion\n",
        "- Calculate D(T)\n",
        "- Fit the line to the log10(D) vs. 1/T\n",
        "- Extract $D_0$ and $E_a$\n",
        "- Compare calculated values with the literature data\n",
        "\n",
        "literature data: https://ceder.berkeley.edu/publications/YiFei_Lithium_Conductor.pdf\n"
      ],
      "metadata": {
        "id": "mn9prvptepqP"
      }
    }
  ],
  "metadata": {
    "accelerator": "GPU",
    "colab": {
      "gpuType": "T4",
      "provenance": []
    },
    "kernelspec": {
      "display_name": "Python 3 (ipykernel)",
      "language": "python",
      "name": "python3"
    },
    "language_info": {
      "codemirror_mode": {
        "name": "ipython",
        "version": 3
      },
      "file_extension": ".py",
      "mimetype": "text/x-python",
      "name": "python",
      "nbconvert_exporter": "python",
      "pygments_lexer": "ipython3",
      "version": "3.9.6"
    }
  },
  "nbformat": 4,
  "nbformat_minor": 0
}