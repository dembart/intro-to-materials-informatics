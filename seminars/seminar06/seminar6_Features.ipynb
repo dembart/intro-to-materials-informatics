{
 "cells": [
  {
   "cell_type": "markdown",
   "metadata": {},
   "source": [
    "### Seminar 6: Atomic structure encoding\n",
    "\n",
    "Goals/Agenda\n",
    "- Features importance study\n",
    "\n",
    "- Forward feature selection\n",
    "- Matminer for crystal structure featurization\n",
    "- Datasets size vs. model performance\n",
    "- Including geometrical features\n",
    "- Writing featurizers\n",
    "\n"
   ]
  },
  {
   "cell_type": "markdown",
   "metadata": {},
   "source": [
    "### Part 1: Feature importance"
   ]
  },
  {
   "cell_type": "code",
   "execution_count": 137,
   "metadata": {},
   "outputs": [],
   "source": [
    "import numpy as np \n",
    "import pandas as pd\n",
    "import matplotlib.pyplot as plt\n",
    "from tqdm import tqdm\n"
   ]
  },
  {
   "cell_type": "code",
   "execution_count": 16,
   "metadata": {},
   "outputs": [],
   "source": [
    "data = pd.read_csv('data/eg_double_perovskites.csv')\n",
    "data = data[data.Insulator == 1]"
   ]
  },
  {
   "cell_type": "code",
   "execution_count": 17,
   "metadata": {},
   "outputs": [],
   "source": [
    "data = data[data.Insulator == 1]"
   ]
  },
  {
   "cell_type": "code",
   "execution_count": 18,
   "metadata": {},
   "outputs": [
    {
     "name": "stdout",
     "output_type": "stream",
     "text": [
      "<class 'pandas.core.frame.DataFrame'>\n",
      "Int64Index: 1577 entries, 12 to 5145\n",
      "Data columns (total 40 columns):\n",
      " #   Column            Non-Null Count  Dtype  \n",
      "---  ------            --------------  -----  \n",
      " 0   functional group  1577 non-null   object \n",
      " 1   A                 1577 non-null   object \n",
      " 2   A_OS              1577 non-null   int64  \n",
      " 3   A'                1577 non-null   object \n",
      " 4   A'_OS             1577 non-null   int64  \n",
      " 5   A_HOMO-           1577 non-null   float64\n",
      " 6   A_HOMO+           1577 non-null   float64\n",
      " 7   A_IE-             1577 non-null   float64\n",
      " 8   A_IE+             1577 non-null   float64\n",
      " 9   A_LUMO-           1577 non-null   float64\n",
      " 10  A_LUMO+           1577 non-null   float64\n",
      " 11  A_X-              1577 non-null   float64\n",
      " 12  A_X+              1577 non-null   float64\n",
      " 13  A_Z_radii-        1577 non-null   float64\n",
      " 14  A_Z_radii+        1577 non-null   float64\n",
      " 15  A_e_affin-        1577 non-null   float64\n",
      " 16  A_e_affin+        1577 non-null   float64\n",
      " 17  Bi                1577 non-null   object \n",
      " 18  B_OS              1577 non-null   int64  \n",
      " 19  B'                1577 non-null   object \n",
      " 20  B'_OS             1577 non-null   float64\n",
      " 21  B_HOMO-           1577 non-null   float64\n",
      " 22  B_HOMO+           1577 non-null   float64\n",
      " 23  B_IE-             1577 non-null   float64\n",
      " 24  B_IE+             1577 non-null   float64\n",
      " 25  B_LUMO-           1577 non-null   float64\n",
      " 26  B_LUMO+           1577 non-null   float64\n",
      " 27  B_X-              1577 non-null   float64\n",
      " 28  B_X+              1577 non-null   float64\n",
      " 29  B_Z_radii-        1577 non-null   float64\n",
      " 30  B_Z_radii+        1577 non-null   float64\n",
      " 31  B_e_affin-        1577 non-null   float64\n",
      " 32  B_e_affin+        1577 non-null   float64\n",
      " 33  Insulator         1577 non-null   int64  \n",
      " 34  PBE band gap      1577 non-null   float64\n",
      " 35  μ                 1577 non-null   float64\n",
      " 36  μĀ                1577 non-null   float64\n",
      " 37  μ𝐵 ̅              1577 non-null   float64\n",
      " 38  stable            1577 non-null   int64  \n",
      " 39  t                 1577 non-null   float64\n",
      "dtypes: float64(30), int64(5), object(5)\n",
      "memory usage: 505.1+ KB\n"
     ]
    }
   ],
   "source": [
    "data.info()"
   ]
  },
  {
   "cell_type": "code",
   "execution_count": 19,
   "metadata": {},
   "outputs": [],
   "source": [
    "data = data.drop(['functional group', 'A', \"A'\", \"B'\", \"Bi\", 'Insulator'], axis = 1)"
   ]
  },
  {
   "cell_type": "code",
   "execution_count": 20,
   "metadata": {},
   "outputs": [
    {
     "name": "stdout",
     "output_type": "stream",
     "text": [
      "<class 'pandas.core.frame.DataFrame'>\n",
      "Int64Index: 1577 entries, 12 to 5145\n",
      "Data columns (total 34 columns):\n",
      " #   Column        Non-Null Count  Dtype  \n",
      "---  ------        --------------  -----  \n",
      " 0   A_OS          1577 non-null   int64  \n",
      " 1   A'_OS         1577 non-null   int64  \n",
      " 2   A_HOMO-       1577 non-null   float64\n",
      " 3   A_HOMO+       1577 non-null   float64\n",
      " 4   A_IE-         1577 non-null   float64\n",
      " 5   A_IE+         1577 non-null   float64\n",
      " 6   A_LUMO-       1577 non-null   float64\n",
      " 7   A_LUMO+       1577 non-null   float64\n",
      " 8   A_X-          1577 non-null   float64\n",
      " 9   A_X+          1577 non-null   float64\n",
      " 10  A_Z_radii-    1577 non-null   float64\n",
      " 11  A_Z_radii+    1577 non-null   float64\n",
      " 12  A_e_affin-    1577 non-null   float64\n",
      " 13  A_e_affin+    1577 non-null   float64\n",
      " 14  B_OS          1577 non-null   int64  \n",
      " 15  B'_OS         1577 non-null   float64\n",
      " 16  B_HOMO-       1577 non-null   float64\n",
      " 17  B_HOMO+       1577 non-null   float64\n",
      " 18  B_IE-         1577 non-null   float64\n",
      " 19  B_IE+         1577 non-null   float64\n",
      " 20  B_LUMO-       1577 non-null   float64\n",
      " 21  B_LUMO+       1577 non-null   float64\n",
      " 22  B_X-          1577 non-null   float64\n",
      " 23  B_X+          1577 non-null   float64\n",
      " 24  B_Z_radii-    1577 non-null   float64\n",
      " 25  B_Z_radii+    1577 non-null   float64\n",
      " 26  B_e_affin-    1577 non-null   float64\n",
      " 27  B_e_affin+    1577 non-null   float64\n",
      " 28  PBE band gap  1577 non-null   float64\n",
      " 29  μ             1577 non-null   float64\n",
      " 30  μĀ            1577 non-null   float64\n",
      " 31  μ𝐵 ̅          1577 non-null   float64\n",
      " 32  stable        1577 non-null   int64  \n",
      " 33  t             1577 non-null   float64\n",
      "dtypes: float64(30), int64(4)\n",
      "memory usage: 431.2 KB\n"
     ]
    }
   ],
   "source": [
    "data.info()"
   ]
  },
  {
   "cell_type": "markdown",
   "metadata": {},
   "source": [
    "Let's analyze the correlation between the features and the target property (PBE band gap)"
   ]
  },
  {
   "cell_type": "code",
   "execution_count": 58,
   "metadata": {},
   "outputs": [],
   "source": [
    "corr_data = data.corr()['PBE band gap'].sort_values()[:-1] # -1 is to drop target value"
   ]
  },
  {
   "cell_type": "code",
   "execution_count": 59,
   "metadata": {},
   "outputs": [
    {
     "data": {
      "text/plain": [
       "<BarContainer object of 33 artists>"
      ]
     },
     "execution_count": 59,
     "metadata": {},
     "output_type": "execute_result"
    },
    {
     "name": "stderr",
     "output_type": "stream",
     "text": [
      "/Users/artemdembitskiy/opt/anaconda3/lib/python3.8/site-packages/IPython/core/events.py:89: UserWarning: Glyph 119861 (\\N{MATHEMATICAL ITALIC CAPITAL B}) missing from current font.\n",
      "  func(*args, **kwargs)\n",
      "/Users/artemdembitskiy/opt/anaconda3/lib/python3.8/site-packages/IPython/core/pylabtools.py:137: UserWarning: Glyph 119861 (\\N{MATHEMATICAL ITALIC CAPITAL B}) missing from current font.\n",
      "  fig.canvas.print_figure(bytes_io, **kw)\n"
     ]
    },
    {
     "data": {
      "image/png": "[encoded data removed]",
      "text/plain": [
       "<Figure size 450x750 with 1 Axes>"
      ]
     },
     "metadata": {
      "needs_background": "light"
     },
     "output_type": "display_data"
    }
   ],
   "source": [
    "plt.rcParams.update({'font.size': 6})\n",
    "plt.figure(dpi = 150, figsize = (3,5))\n",
    "plt.barh(corr_data.index, corr_data.values)"
   ]
  },
  {
   "cell_type": "markdown",
   "metadata": {},
   "source": [
    "I would expect the features with the highest correlation would be the most important. Will see."
   ]
  },
  {
   "cell_type": "code",
   "execution_count": 61,
   "metadata": {},
   "outputs": [],
   "source": [
    "from sklearn.model_selection import train_test_split\n",
    "from sklearn.linear_model import Ridge\n",
    "from sklearn.preprocessing import StandardScaler\n",
    "from sklearn.ensemble import RandomForestRegressor"
   ]
  },
  {
   "cell_type": "code",
   "execution_count": 228,
   "metadata": {},
   "outputs": [],
   "source": [
    "# split data into train and test subsamples\n",
    "X = data.drop(['PBE band gap'], axis = 1)\n",
    "y = data['PBE band gap']\n",
    "X_train, X_test, y_train, y_test = train_test_split(X, y, test_size = 0.2, shuffle=True)"
   ]
  },
  {
   "cell_type": "markdown",
   "metadata": {},
   "source": [
    "#### Model selection with grid search\n",
    "\n",
    "Grid search is the method of optimizng hyperparameters of the model. We iteratively fit model for each set of possible hyperparameters."
   ]
  },
  {
   "cell_type": "code",
   "execution_count": 273,
   "metadata": {},
   "outputs": [
    {
     "name": "stdout",
     "output_type": "stream",
     "text": [
      "0.7752258714838314\n",
      "{'max_depth': 16, 'max_features': 8, 'n_estimators': 100}\n",
      "0.802465135792982\n"
     ]
    }
   ],
   "source": [
    "from sklearn.model_selection import GridSearchCV\n",
    "\n",
    "\n",
    "rf = RandomForestRegressor(n_estimators=50, random_state=1)\n",
    "param_grid = [\n",
    "  {\n",
    "    'n_estimators': [20, 50, 100],\n",
    "    'max_depth': [4, 6, 10, 12, 14, 16],\n",
    "    'max_features': [2, 4, 8],\n",
    "   },\n",
    "]\n",
    "gs = GridSearchCV(rf, param_grid, n_jobs=4, cv=5)\n",
    "gs.fit(X_train, y_train)\n",
    "print(gs.best_score_)\n",
    "print(gs.best_params_)\n",
    "print(gs.score(X_test, y_test))"
   ]
  },
  {
   "cell_type": "code",
   "execution_count": 274,
   "metadata": {},
   "outputs": [
    {
     "data": {
      "text/html": [
       "<style>#sk-container-id-13 {color: black;background-color: white;}#sk-container-id-13 pre{padding: 0;}#sk-container-id-13 div.sk-toggleable {background-color: white;}#sk-container-id-13 label.sk-toggleable__label {cursor: pointer;display: block;width: 100%;margin-bottom: 0;padding: 0.3em;box-sizing: border-box;text-align: center;}#sk-container-id-13 label.sk-toggleable__label-arrow:before {content: \"▸\";float: left;margin-right: 0.25em;color: #696969;}#sk-container-id-13 label.sk-toggleable__label-arrow:hover:before {color: black;}#sk-container-id-13 div.sk-estimator:hover label.sk-toggleable__label-arrow:before {color: black;}#sk-container-id-13 div.sk-toggleable__content {max-height: 0;max-width: 0;overflow: hidden;text-align: left;background-color: #f0f8ff;}#sk-container-id-13 div.sk-toggleable__content pre {margin: 0.2em;color: black;border-radius: 0.25em;background-color: #f0f8ff;}#sk-container-id-13 input.sk-toggleable__control:checked~div.sk-toggleable__content {max-height: 200px;max-width: 100%;overflow: auto;}#sk-container-id-13 input.sk-toggleable__control:checked~label.sk-toggleable__label-arrow:before {content: \"▾\";}#sk-container-id-13 div.sk-estimator input.sk-toggleable__control:checked~label.sk-toggleable__label {background-color: #d4ebff;}#sk-container-id-13 div.sk-label input.sk-toggleable__control:checked~label.sk-toggleable__label {background-color: #d4ebff;}#sk-container-id-13 input.sk-hidden--visually {border: 0;clip: rect(1px 1px 1px 1px);clip: rect(1px, 1px, 1px, 1px);height: 1px;margin: -1px;overflow: hidden;padding: 0;position: absolute;width: 1px;}#sk-container-id-13 div.sk-estimator {font-family: monospace;background-color: #f0f8ff;border: 1px dotted black;border-radius: 0.25em;box-sizing: border-box;margin-bottom: 0.5em;}#sk-container-id-13 div.sk-estimator:hover {background-color: #d4ebff;}#sk-container-id-13 div.sk-parallel-item::after {content: \"\";width: 100%;border-bottom: 1px solid gray;flex-grow: 1;}#sk-container-id-13 div.sk-label:hover label.sk-toggleable__label {background-color: #d4ebff;}#sk-container-id-13 div.sk-serial::before {content: \"\";position: absolute;border-left: 1px solid gray;box-sizing: border-box;top: 0;bottom: 0;left: 50%;z-index: 0;}#sk-container-id-13 div.sk-serial {display: flex;flex-direction: column;align-items: center;background-color: white;padding-right: 0.2em;padding-left: 0.2em;position: relative;}#sk-container-id-13 div.sk-item {position: relative;z-index: 1;}#sk-container-id-13 div.sk-parallel {display: flex;align-items: stretch;justify-content: center;background-color: white;position: relative;}#sk-container-id-13 div.sk-item::before, #sk-container-id-13 div.sk-parallel-item::before {content: \"\";position: absolute;border-left: 1px solid gray;box-sizing: border-box;top: 0;bottom: 0;left: 50%;z-index: -1;}#sk-container-id-13 div.sk-parallel-item {display: flex;flex-direction: column;z-index: 1;position: relative;background-color: white;}#sk-container-id-13 div.sk-parallel-item:first-child::after {align-self: flex-end;width: 50%;}#sk-container-id-13 div.sk-parallel-item:last-child::after {align-self: flex-start;width: 50%;}#sk-container-id-13 div.sk-parallel-item:only-child::after {width: 0;}#sk-container-id-13 div.sk-dashed-wrapped {border: 1px dashed gray;margin: 0 0.4em 0.5em 0.4em;box-sizing: border-box;padding-bottom: 0.4em;background-color: white;}#sk-container-id-13 div.sk-label label {font-family: monospace;font-weight: bold;display: inline-block;line-height: 1.2em;}#sk-container-id-13 div.sk-label-container {text-align: center;}#sk-container-id-13 div.sk-container {/* jupyter's `normalize.less` sets `[hidden] { display: none; }` but bootstrap.min.css set `[hidden] { display: none !important; }` so we also need the `!important` here to be able to override the default hidden behavior on the sphinx rendered scikit-learn.org. See: https://github.com/scikit-learn/scikit-learn/issues/21755 */display: inline-block !important;position: relative;}#sk-container-id-13 div.sk-text-repr-fallback {display: none;}</style><div id=\"sk-container-id-13\" class=\"sk-top-container\"><div class=\"sk-text-repr-fallback\"><pre>RandomForestRegressor(max_depth=14, max_features=8, random_state=42)</pre><b>In a Jupyter environment, please rerun this cell to show the HTML representation or trust the notebook. <br />On GitHub, the HTML representation is unable to render, please try loading this page with nbviewer.org.</b></div><div class=\"sk-container\" hidden><div class=\"sk-item\"><div class=\"sk-estimator sk-toggleable\"><input class=\"sk-toggleable__control sk-hidden--visually\" id=\"sk-estimator-id-13\" type=\"checkbox\" checked><label for=\"sk-estimator-id-13\" class=\"sk-toggleable__label sk-toggleable__label-arrow\">RandomForestRegressor</label><div class=\"sk-toggleable__content\"><pre>RandomForestRegressor(max_depth=14, max_features=8, random_state=42)</pre></div></div></div></div></div>"
      ],
      "text/plain": [
       "RandomForestRegressor(max_depth=14, max_features=8, random_state=42)"
      ]
     },
     "execution_count": 274,
     "metadata": {},
     "output_type": "execute_result"
    }
   ],
   "source": [
    "model = RandomForestRegressor(n_estimators=100, random_state=42, max_depth=14, max_features = 8)\n",
    "model.fit(X_train, y_train)"
   ]
  },
  {
   "cell_type": "code",
   "execution_count": 275,
   "metadata": {},
   "outputs": [],
   "source": [
    "fi = model.feature_importances_\n",
    "fea_labels = model.feature_names_in_\n",
    "\n",
    "importances = pd.DataFrame()\n",
    "\n",
    "importances['fi'] = fi\n",
    "importances['fea_label'] = fea_labels\n"
   ]
  },
  {
   "cell_type": "code",
   "execution_count": 276,
   "metadata": {},
   "outputs": [],
   "source": [
    "corr_data = pd.DataFrame(corr_data)\n",
    "corr_data['fea_label'] = corr_data.index\n"
   ]
  },
  {
   "cell_type": "code",
   "execution_count": 277,
   "metadata": {},
   "outputs": [],
   "source": [
    "\n",
    "df = corr_data.merge(importances)"
   ]
  },
  {
   "cell_type": "code",
   "execution_count": 278,
   "metadata": {},
   "outputs": [
    {
     "data": {
      "text/plain": [
       "<BarContainer object of 33 artists>"
      ]
     },
     "execution_count": 278,
     "metadata": {},
     "output_type": "execute_result"
    },
    {
     "name": "stderr",
     "output_type": "stream",
     "text": [
      "/Users/artemdembitskiy/opt/anaconda3/lib/python3.8/site-packages/IPython/core/events.py:89: UserWarning: Glyph 119861 (\\N{MATHEMATICAL ITALIC CAPITAL B}) missing from current font.\n",
      "  func(*args, **kwargs)\n",
      "/Users/artemdembitskiy/opt/anaconda3/lib/python3.8/site-packages/IPython/core/pylabtools.py:137: UserWarning: Glyph 119861 (\\N{MATHEMATICAL ITALIC CAPITAL B}) missing from current font.\n",
      "  fig.canvas.print_figure(bytes_io, **kw)\n"
     ]
    },
    {
     "data": {
      "image/png": "[encoded data removed]",
      "text/plain": [
       "<Figure size 900x900 with 2 Axes>"
      ]
     },
     "metadata": {
      "needs_background": "light"
     },
     "output_type": "display_data"
    }
   ],
   "source": [
    "plt.rcParams.update({'font.size': 6})\n",
    "fig, (ax1, ax2) = plt.subplots(dpi = 150, figsize = (6, 6), ncols = 2, sharey= True)\n",
    "ax1.barh(df.fea_label, df['PBE band gap'])\n",
    "ax1.set_title('Rp')\n",
    "\n",
    "ax2.set_title('Impurity-based importances')\n",
    "ax2.barh(df.fea_label, df.fi)"
   ]
  },
  {
   "cell_type": "code",
   "execution_count": 279,
   "metadata": {},
   "outputs": [],
   "source": [
    "from sklearn.inspection import permutation_importance\n",
    "r = permutation_importance(model, X_train, y_train,\n",
    "                           n_repeats=5,\n",
    "                           random_state=0)"
   ]
  },
  {
   "cell_type": "code",
   "execution_count": 280,
   "metadata": {},
   "outputs": [],
   "source": [
    "r.importances_mean\n",
    "X_train.columns\n",
    "\n",
    "pi = pd.DataFrame()\n",
    "\n",
    "pi['fea_label'] = X_train.columns\n",
    "pi['fi_pi'] = r.importances_mean\n",
    "\n",
    "df_ = df.merge(pi)"
   ]
  },
  {
   "cell_type": "code",
   "execution_count": 281,
   "metadata": {},
   "outputs": [
    {
     "data": {
      "text/html": [
       "<div>\n",
       "<style scoped>\n",
       "    .dataframe tbody tr th:only-of-type {\n",
       "        vertical-align: middle;\n",
       "    }\n",
       "\n",
       "    .dataframe tbody tr th {\n",
       "        vertical-align: top;\n",
       "    }\n",
       "\n",
       "    .dataframe thead th {\n",
       "        text-align: right;\n",
       "    }\n",
       "</style>\n",
       "<table border=\"1\" class=\"dataframe\">\n",
       "  <thead>\n",
       "    <tr style=\"text-align: right;\">\n",
       "      <th></th>\n",
       "      <th>PBE band gap</th>\n",
       "      <th>fea_label</th>\n",
       "      <th>fi</th>\n",
       "      <th>fi_pi</th>\n",
       "    </tr>\n",
       "  </thead>\n",
       "  <tbody>\n",
       "    <tr>\n",
       "      <th>0</th>\n",
       "      <td>-0.284750</td>\n",
       "      <td>μ</td>\n",
       "      <td>0.060178</td>\n",
       "      <td>0.079010</td>\n",
       "    </tr>\n",
       "    <tr>\n",
       "      <th>1</th>\n",
       "      <td>-0.236494</td>\n",
       "      <td>B_Z_radii+</td>\n",
       "      <td>0.064669</td>\n",
       "      <td>0.109018</td>\n",
       "    </tr>\n",
       "    <tr>\n",
       "      <th>2</th>\n",
       "      <td>-0.224959</td>\n",
       "      <td>B_e_affin-</td>\n",
       "      <td>0.030650</td>\n",
       "      <td>0.026432</td>\n",
       "    </tr>\n",
       "    <tr>\n",
       "      <th>3</th>\n",
       "      <td>-0.185901</td>\n",
       "      <td>B_e_affin+</td>\n",
       "      <td>0.044599</td>\n",
       "      <td>0.051350</td>\n",
       "    </tr>\n",
       "    <tr>\n",
       "      <th>4</th>\n",
       "      <td>-0.182799</td>\n",
       "      <td>A_OS</td>\n",
       "      <td>0.025015</td>\n",
       "      <td>0.056173</td>\n",
       "    </tr>\n",
       "    <tr>\n",
       "      <th>5</th>\n",
       "      <td>-0.180455</td>\n",
       "      <td>A_X+</td>\n",
       "      <td>0.054823</td>\n",
       "      <td>0.107013</td>\n",
       "    </tr>\n",
       "    <tr>\n",
       "      <th>6</th>\n",
       "      <td>-0.178673</td>\n",
       "      <td>A_X-</td>\n",
       "      <td>0.023487</td>\n",
       "      <td>0.028415</td>\n",
       "    </tr>\n",
       "    <tr>\n",
       "      <th>7</th>\n",
       "      <td>-0.137359</td>\n",
       "      <td>A_IE-</td>\n",
       "      <td>0.012000</td>\n",
       "      <td>0.010896</td>\n",
       "    </tr>\n",
       "    <tr>\n",
       "      <th>8</th>\n",
       "      <td>-0.132137</td>\n",
       "      <td>B_OS</td>\n",
       "      <td>0.014346</td>\n",
       "      <td>0.009421</td>\n",
       "    </tr>\n",
       "    <tr>\n",
       "      <th>9</th>\n",
       "      <td>-0.132003</td>\n",
       "      <td>stable</td>\n",
       "      <td>0.010008</td>\n",
       "      <td>0.015529</td>\n",
       "    </tr>\n",
       "    <tr>\n",
       "      <th>10</th>\n",
       "      <td>-0.126803</td>\n",
       "      <td>B_X-</td>\n",
       "      <td>0.023492</td>\n",
       "      <td>0.018252</td>\n",
       "    </tr>\n",
       "    <tr>\n",
       "      <th>11</th>\n",
       "      <td>-0.123732</td>\n",
       "      <td>B_IE+</td>\n",
       "      <td>0.038798</td>\n",
       "      <td>0.040489</td>\n",
       "    </tr>\n",
       "    <tr>\n",
       "      <th>12</th>\n",
       "      <td>-0.121276</td>\n",
       "      <td>μĀ</td>\n",
       "      <td>0.009789</td>\n",
       "      <td>0.006568</td>\n",
       "    </tr>\n",
       "    <tr>\n",
       "      <th>13</th>\n",
       "      <td>-0.119406</td>\n",
       "      <td>A_e_affin+</td>\n",
       "      <td>0.020952</td>\n",
       "      <td>0.018559</td>\n",
       "    </tr>\n",
       "    <tr>\n",
       "      <th>14</th>\n",
       "      <td>-0.103324</td>\n",
       "      <td>B'_OS</td>\n",
       "      <td>0.027363</td>\n",
       "      <td>0.025662</td>\n",
       "    </tr>\n",
       "    <tr>\n",
       "      <th>15</th>\n",
       "      <td>-0.103324</td>\n",
       "      <td>B_HOMO-</td>\n",
       "      <td>0.028420</td>\n",
       "      <td>0.027964</td>\n",
       "    </tr>\n",
       "    <tr>\n",
       "      <th>16</th>\n",
       "      <td>-0.095128</td>\n",
       "      <td>A_Z_radii-</td>\n",
       "      <td>0.008423</td>\n",
       "      <td>0.005337</td>\n",
       "    </tr>\n",
       "    <tr>\n",
       "      <th>17</th>\n",
       "      <td>-0.082570</td>\n",
       "      <td>A_HOMO-</td>\n",
       "      <td>0.010217</td>\n",
       "      <td>0.007066</td>\n",
       "    </tr>\n",
       "    <tr>\n",
       "      <th>18</th>\n",
       "      <td>-0.065766</td>\n",
       "      <td>A_HOMO+</td>\n",
       "      <td>0.034545</td>\n",
       "      <td>0.044825</td>\n",
       "    </tr>\n",
       "    <tr>\n",
       "      <th>19</th>\n",
       "      <td>-0.063622</td>\n",
       "      <td>A_IE+</td>\n",
       "      <td>0.024073</td>\n",
       "      <td>0.022965</td>\n",
       "    </tr>\n",
       "    <tr>\n",
       "      <th>20</th>\n",
       "      <td>-0.061848</td>\n",
       "      <td>A_LUMO+</td>\n",
       "      <td>0.032797</td>\n",
       "      <td>0.037294</td>\n",
       "    </tr>\n",
       "    <tr>\n",
       "      <th>21</th>\n",
       "      <td>-0.053706</td>\n",
       "      <td>B_X+</td>\n",
       "      <td>0.061835</td>\n",
       "      <td>0.092664</td>\n",
       "    </tr>\n",
       "    <tr>\n",
       "      <th>22</th>\n",
       "      <td>-0.045328</td>\n",
       "      <td>A_LUMO-</td>\n",
       "      <td>0.018506</td>\n",
       "      <td>0.024260</td>\n",
       "    </tr>\n",
       "    <tr>\n",
       "      <th>23</th>\n",
       "      <td>-0.037650</td>\n",
       "      <td>μ𝐵 ̅</td>\n",
       "      <td>0.026820</td>\n",
       "      <td>0.022220</td>\n",
       "    </tr>\n",
       "    <tr>\n",
       "      <th>24</th>\n",
       "      <td>-0.028214</td>\n",
       "      <td>B_LUMO-</td>\n",
       "      <td>0.022631</td>\n",
       "      <td>0.021184</td>\n",
       "    </tr>\n",
       "    <tr>\n",
       "      <th>25</th>\n",
       "      <td>0.001697</td>\n",
       "      <td>A_e_affin-</td>\n",
       "      <td>0.011134</td>\n",
       "      <td>0.007542</td>\n",
       "    </tr>\n",
       "    <tr>\n",
       "      <th>26</th>\n",
       "      <td>0.023999</td>\n",
       "      <td>A_Z_radii+</td>\n",
       "      <td>0.020042</td>\n",
       "      <td>0.013821</td>\n",
       "    </tr>\n",
       "    <tr>\n",
       "      <th>27</th>\n",
       "      <td>0.027876</td>\n",
       "      <td>B_Z_radii-</td>\n",
       "      <td>0.023547</td>\n",
       "      <td>0.019461</td>\n",
       "    </tr>\n",
       "    <tr>\n",
       "      <th>28</th>\n",
       "      <td>0.051616</td>\n",
       "      <td>B_IE-</td>\n",
       "      <td>0.049685</td>\n",
       "      <td>0.074262</td>\n",
       "    </tr>\n",
       "    <tr>\n",
       "      <th>29</th>\n",
       "      <td>0.060401</td>\n",
       "      <td>A'_OS</td>\n",
       "      <td>0.003773</td>\n",
       "      <td>0.002158</td>\n",
       "    </tr>\n",
       "    <tr>\n",
       "      <th>30</th>\n",
       "      <td>0.089156</td>\n",
       "      <td>B_LUMO+</td>\n",
       "      <td>0.042433</td>\n",
       "      <td>0.040406</td>\n",
       "    </tr>\n",
       "    <tr>\n",
       "      <th>31</th>\n",
       "      <td>0.161645</td>\n",
       "      <td>B_HOMO+</td>\n",
       "      <td>0.075346</td>\n",
       "      <td>0.132344</td>\n",
       "    </tr>\n",
       "    <tr>\n",
       "      <th>32</th>\n",
       "      <td>0.203642</td>\n",
       "      <td>t</td>\n",
       "      <td>0.045601</td>\n",
       "      <td>0.044859</td>\n",
       "    </tr>\n",
       "  </tbody>\n",
       "</table>\n",
       "</div>"
      ],
      "text/plain": [
       "    PBE band gap   fea_label        fi     fi_pi\n",
       "0      -0.284750           μ  0.060178  0.079010\n",
       "1      -0.236494  B_Z_radii+  0.064669  0.109018\n",
       "2      -0.224959  B_e_affin-  0.030650  0.026432\n",
       "3      -0.185901  B_e_affin+  0.044599  0.051350\n",
       "4      -0.182799        A_OS  0.025015  0.056173\n",
       "5      -0.180455        A_X+  0.054823  0.107013\n",
       "6      -0.178673        A_X-  0.023487  0.028415\n",
       "7      -0.137359       A_IE-  0.012000  0.010896\n",
       "8      -0.132137        B_OS  0.014346  0.009421\n",
       "9      -0.132003      stable  0.010008  0.015529\n",
       "10     -0.126803        B_X-  0.023492  0.018252\n",
       "11     -0.123732       B_IE+  0.038798  0.040489\n",
       "12     -0.121276          μĀ  0.009789  0.006568\n",
       "13     -0.119406  A_e_affin+  0.020952  0.018559\n",
       "14     -0.103324       B'_OS  0.027363  0.025662\n",
       "15     -0.103324     B_HOMO-  0.028420  0.027964\n",
       "16     -0.095128  A_Z_radii-  0.008423  0.005337\n",
       "17     -0.082570     A_HOMO-  0.010217  0.007066\n",
       "18     -0.065766     A_HOMO+  0.034545  0.044825\n",
       "19     -0.063622       A_IE+  0.024073  0.022965\n",
       "20     -0.061848     A_LUMO+  0.032797  0.037294\n",
       "21     -0.053706        B_X+  0.061835  0.092664\n",
       "22     -0.045328     A_LUMO-  0.018506  0.024260\n",
       "23     -0.037650        μ𝐵 ̅  0.026820  0.022220\n",
       "24     -0.028214     B_LUMO-  0.022631  0.021184\n",
       "25      0.001697  A_e_affin-  0.011134  0.007542\n",
       "26      0.023999  A_Z_radii+  0.020042  0.013821\n",
       "27      0.027876  B_Z_radii-  0.023547  0.019461\n",
       "28      0.051616       B_IE-  0.049685  0.074262\n",
       "29      0.060401       A'_OS  0.003773  0.002158\n",
       "30      0.089156     B_LUMO+  0.042433  0.040406\n",
       "31      0.161645     B_HOMO+  0.075346  0.132344\n",
       "32      0.203642           t  0.045601  0.044859"
      ]
     },
     "execution_count": 281,
     "metadata": {},
     "output_type": "execute_result"
    }
   ],
   "source": [
    "df_"
   ]
  },
  {
   "cell_type": "code",
   "execution_count": 282,
   "metadata": {},
   "outputs": [
    {
     "data": {
      "text/plain": [
       "Text(0.5, 1.0, 'Permutation importances')"
      ]
     },
     "execution_count": 282,
     "metadata": {},
     "output_type": "execute_result"
    },
    {
     "name": "stderr",
     "output_type": "stream",
     "text": [
      "/Users/artemdembitskiy/opt/anaconda3/lib/python3.8/site-packages/IPython/core/events.py:89: UserWarning: Glyph 119861 (\\N{MATHEMATICAL ITALIC CAPITAL B}) missing from current font.\n",
      "  func(*args, **kwargs)\n",
      "/Users/artemdembitskiy/opt/anaconda3/lib/python3.8/site-packages/IPython/core/pylabtools.py:137: UserWarning: Glyph 119861 (\\N{MATHEMATICAL ITALIC CAPITAL B}) missing from current font.\n",
      "  fig.canvas.print_figure(bytes_io, **kw)\n"
     ]
    },
    {
     "data": {
      "image/png": "[encoded data removed]",
      "text/plain": [
       "<Figure size 1200x900 with 3 Axes>"
      ]
     },
     "metadata": {
      "needs_background": "light"
     },
     "output_type": "display_data"
    }
   ],
   "source": [
    "plt.rcParams.update({'font.size': 6})\n",
    "fig, (ax1, ax2, ax3) = plt.subplots(dpi = 150, figsize = (8, 6), ncols = 3, sharey= True)\n",
    "\n",
    "ax1.barh(df_.fea_label, df_['PBE band gap'])\n",
    "ax1.set_title('Rp')\n",
    "\n",
    "ax2.barh(df_.fea_label, df_.fi)\n",
    "ax2.set_title('Impurity-based importances')\n",
    "\n",
    "\n",
    "ax3.barh(df_.fea_label, df_.fi_pi)\n",
    "ax3.set_title('Permutation importances')\n"
   ]
  },
  {
   "cell_type": "markdown",
   "metadata": {},
   "source": [
    "### Task 1: Forward feature selection\n",
    "\n",
    "- Implement a forward feature selection algorithm\n",
    "\n",
    "- Select top10 features using RF model\n",
    "\n",
    "- Plot  MSE(Eg prediction) vs # of seleted features"
   ]
  },
  {
   "cell_type": "code",
   "execution_count": 283,
   "metadata": {},
   "outputs": [],
   "source": [
    "def MSE(pred, true):\n",
    "    return np.square(pred - true).mean()"
   ]
  },
  {
   "cell_type": "markdown",
   "metadata": {},
   "source": [
    "Note: It should be in a cross-validation loop. But for simplicity, we use a single data split of a train subsample into train and val parts.\n"
   ]
  },
  {
   "cell_type": "code",
   "execution_count": 285,
   "metadata": {},
   "outputs": [
    {
     "name": "stderr",
     "output_type": "stream",
     "text": [
      "100%|██████████| 15/15 [00:22<00:00,  1.53s/it]\n"
     ]
    }
   ],
   "source": [
    "features = X_train.columns\n",
    "\n",
    "best_features = []\n",
    "mse_history = []\n",
    "\n",
    "X_train_, X_val, y_train_, y_val = train_test_split(X_train, y_train, test_size = 0.2, shuffle=True, random_state=42)\n",
    "\n",
    "\n",
    "for k in tqdm(range(15)):\n",
    "    best_score = np.inf\n",
    "    current_best_feature = None\n",
    "    for feature in features:\n",
    "        if feature in best_features:\n",
    "            continue\n",
    "        current_features = best_features.copy()\n",
    "        current_features.append(feature)\n",
    "\n",
    "        X_step = X_train_[current_features].values\n",
    "        if len(current_features) == 1:\n",
    "            X_step = X_step.reshape(-1, 1)\n",
    "        model = RandomForestRegressor(n_estimators=20) # for simplicity we use smaller number of estimators\n",
    "        model.fit(X_step, y_train_)\n",
    "        pred = model.predict(X_val[current_features].values)\n",
    "        score = MSE(pred, y_val) \n",
    "        if score < best_score:\n",
    "            best_score = score\n",
    "            current_best_feature = feature\n",
    "    best_features.append(current_best_feature)\n",
    "    mse_history.append(best_score)"
   ]
  },
  {
   "cell_type": "markdown",
   "metadata": {},
   "source": [
    "Do these features correspond to the most important descriptors?"
   ]
  },
  {
   "cell_type": "code",
   "execution_count": 238,
   "metadata": {},
   "outputs": [
    {
     "data": {
      "text/plain": [
       "['B_LUMO+', 'B_X-', 'A_X+', 'A_LUMO+', 'μ', 'B_X+', 'B_Z_radii+', 'B_OS']"
      ]
     },
     "execution_count": 238,
     "metadata": {},
     "output_type": "execute_result"
    }
   ],
   "source": [
    "best_features[:8]"
   ]
  },
  {
   "cell_type": "code",
   "execution_count": 231,
   "metadata": {},
   "outputs": [
    {
     "data": {
      "text/plain": [
       "Text(0.5, 0, '# features')"
      ]
     },
     "execution_count": 231,
     "metadata": {},
     "output_type": "execute_result"
    },
    {
     "data": {
      "image/png": "[encoded data removed]",
      "text/plain": [
       "<Figure size 900x600 with 1 Axes>"
      ]
     },
     "metadata": {
      "needs_background": "light"
     },
     "output_type": "display_data"
    }
   ],
   "source": [
    "plt.figure(dpi = 150)\n",
    "plt.plot(mse_history)\n",
    "plt.ylabel('MSE')\n",
    "plt.xlabel('# features')"
   ]
  },
  {
   "cell_type": "markdown",
   "metadata": {},
   "source": [
    "### Part 2: Matminer\n",
    "\n",
    "The [matminer package](https://hackingmaterials.lbl.gov/matminer/index.html) is developed for converting atomic structure into features.\n",
    "\n",
    "Attribution: Parts of this notebook are adopted from the \"Review of matminer features\" by Enze Chen and Mark Asta (University of California, Berkeley)\n",
    "\n",
    "source: https://colab.research.google.com/github/enze-chen/mi-book/blob/master/week_2/08/matminer_features_blank.ipynb#scrollTo=c7242cf7\n"
   ]
  },
  {
   "cell_type": "markdown",
   "metadata": {},
   "source": [
    "#### Compositional features"
   ]
  },
  {
   "cell_type": "markdown",
   "metadata": {},
   "source": [
    "\n",
    "\n",
    "We will use elemental features (Magpie) (see the [original paper](https://www.nature.com/articles/npjcompumats201628))\n",
    "\n",
    "We take the property (such as `AtomicWeight` or `Electronegativity`) of all of the constituent elements and calculate its descriptive statistics - average, maximum, minimum, etc. \n",
    "\n"
   ]
  },
  {
   "cell_type": "code",
   "execution_count": 183,
   "metadata": {},
   "outputs": [],
   "source": [
    "from pymatgen.core import Composition\n",
    "from matminer.featurizers.composition import ElementProperty\n",
    "\n",
    "features = [\n",
    "'Number',\n",
    "'MendeleevNumber',\n",
    "'AtomicWeight',\n",
    "'MeltingT', \n",
    "'Column', \n",
    "'Row', \n",
    "'CovalentRadius', \n",
    "'Electronegativity', \n",
    "'NsValence', \n",
    "'NpValence', \n",
    "'NdValence',\n",
    "'NfValence', \n",
    "'NValence', \n",
    "'NsUnfilled', \n",
    "'NpUnfilled',\n",
    "'NdUnfilled', \n",
    "'NfUnfilled', \n",
    "'NUnfilled', \n",
    "'GSvolume_pa',\n",
    "'GSbandgap',\n",
    "'GSmagmom',\n",
    "'SpaceGroupNumber'\n",
    "]\n",
    "\n",
    "# these are the statistical quantities we can compute\n",
    "stats = ['mean']   # we can also add 'minimum', 'maximum', 'range', 'avg_dev', 'mode'\n",
    "\n",
    "featurizer = ElementProperty(data_source='magpie',\n",
    "                             features=features,\n",
    "                             stats=stats)\n",
    "\n"
   ]
  },
  {
   "cell_type": "code",
   "execution_count": 184,
   "metadata": {},
   "outputs": [],
   "source": [
    "data = pd.read_csv('data/eg_double_perovskites.csv')\n",
    "data = data[data.Insulator == 1]\n",
    "\n",
    "def _get_composition(formula):\n",
    "    return Composition(formula)\n",
    "    \n",
    "data['composition'] = data['functional group'].apply(_get_composition)"
   ]
  },
  {
   "cell_type": "code",
   "execution_count": 185,
   "metadata": {},
   "outputs": [
    {
     "data": {
      "text/html": [
       "<div>\n",
       "<style scoped>\n",
       "    .dataframe tbody tr th:only-of-type {\n",
       "        vertical-align: middle;\n",
       "    }\n",
       "\n",
       "    .dataframe tbody tr th {\n",
       "        vertical-align: top;\n",
       "    }\n",
       "\n",
       "    .dataframe thead th {\n",
       "        text-align: right;\n",
       "    }\n",
       "</style>\n",
       "<table border=\"1\" class=\"dataframe\">\n",
       "  <thead>\n",
       "    <tr style=\"text-align: right;\">\n",
       "      <th></th>\n",
       "      <th>functional group</th>\n",
       "      <th>A</th>\n",
       "      <th>A_OS</th>\n",
       "      <th>A'</th>\n",
       "      <th>A'_OS</th>\n",
       "      <th>A_HOMO-</th>\n",
       "      <th>A_HOMO+</th>\n",
       "      <th>A_IE-</th>\n",
       "      <th>A_IE+</th>\n",
       "      <th>A_LUMO-</th>\n",
       "      <th>...</th>\n",
       "      <th>B_e_affin-</th>\n",
       "      <th>B_e_affin+</th>\n",
       "      <th>Insulator</th>\n",
       "      <th>PBE band gap</th>\n",
       "      <th>μ</th>\n",
       "      <th>μĀ</th>\n",
       "      <th>μ𝐵 ̅</th>\n",
       "      <th>stable</th>\n",
       "      <th>t</th>\n",
       "      <th>composition</th>\n",
       "    </tr>\n",
       "  </thead>\n",
       "  <tbody>\n",
       "    <tr>\n",
       "      <th>12</th>\n",
       "      <td>AgCsZrTeO6</td>\n",
       "      <td>Ag</td>\n",
       "      <td>3</td>\n",
       "      <td>Cs</td>\n",
       "      <td>1</td>\n",
       "      <td>1.1480</td>\n",
       "      <td>-3.2570</td>\n",
       "      <td>177.65</td>\n",
       "      <td>553.35</td>\n",
       "      <td>0.0035</td>\n",
       "      <td>...</td>\n",
       "      <td>74.55</td>\n",
       "      <td>115.65</td>\n",
       "      <td>1</td>\n",
       "      <td>1.5453</td>\n",
       "      <td>0.60357</td>\n",
       "      <td>0.23214</td>\n",
       "      <td>0.08929</td>\n",
       "      <td>1</td>\n",
       "      <td>0.93074</td>\n",
       "      <td>(Ag, Cs, Zr, Te, O)</td>\n",
       "    </tr>\n",
       "    <tr>\n",
       "      <th>32</th>\n",
       "      <td>AgNbO3</td>\n",
       "      <td>Ag</td>\n",
       "      <td>1</td>\n",
       "      <td>Ag</td>\n",
       "      <td>1</td>\n",
       "      <td>0.0000</td>\n",
       "      <td>-4.4050</td>\n",
       "      <td>0.00</td>\n",
       "      <td>731.00</td>\n",
       "      <td>0.0000</td>\n",
       "      <td>...</td>\n",
       "      <td>0.00</td>\n",
       "      <td>86.20</td>\n",
       "      <td>1</td>\n",
       "      <td>1.3259</td>\n",
       "      <td>0.45714</td>\n",
       "      <td>0.00000</td>\n",
       "      <td>0.00000</td>\n",
       "      <td>0</td>\n",
       "      <td>1.00173</td>\n",
       "      <td>(Ag, Nb, O)</td>\n",
       "    </tr>\n",
       "    <tr>\n",
       "      <th>36</th>\n",
       "      <td>AgPbWAlO6</td>\n",
       "      <td>Ag</td>\n",
       "      <td>3</td>\n",
       "      <td>Pb</td>\n",
       "      <td>2</td>\n",
       "      <td>0.4545</td>\n",
       "      <td>-3.9505</td>\n",
       "      <td>7.75</td>\n",
       "      <td>723.25</td>\n",
       "      <td>0.0435</td>\n",
       "      <td>...</td>\n",
       "      <td>17.30</td>\n",
       "      <td>61.30</td>\n",
       "      <td>1</td>\n",
       "      <td>2.0298</td>\n",
       "      <td>0.42679</td>\n",
       "      <td>0.09286</td>\n",
       "      <td>0.04464</td>\n",
       "      <td>1</td>\n",
       "      <td>0.97703</td>\n",
       "      <td>(Ag, Pb, W, Al, O)</td>\n",
       "    </tr>\n",
       "    <tr>\n",
       "      <th>49</th>\n",
       "      <td>AgTaO3</td>\n",
       "      <td>Ag</td>\n",
       "      <td>1</td>\n",
       "      <td>Ag</td>\n",
       "      <td>1</td>\n",
       "      <td>0.0000</td>\n",
       "      <td>-4.4050</td>\n",
       "      <td>0.00</td>\n",
       "      <td>731.00</td>\n",
       "      <td>0.0000</td>\n",
       "      <td>...</td>\n",
       "      <td>0.00</td>\n",
       "      <td>31.00</td>\n",
       "      <td>1</td>\n",
       "      <td>1.7301</td>\n",
       "      <td>0.45714</td>\n",
       "      <td>0.00000</td>\n",
       "      <td>0.00000</td>\n",
       "      <td>1</td>\n",
       "      <td>1.00173</td>\n",
       "      <td>(Ag, Ta, O)</td>\n",
       "    </tr>\n",
       "    <tr>\n",
       "      <th>65</th>\n",
       "      <td>AsBO3</td>\n",
       "      <td>As</td>\n",
       "      <td>3</td>\n",
       "      <td>As</td>\n",
       "      <td>3</td>\n",
       "      <td>0.0000</td>\n",
       "      <td>-5.1940</td>\n",
       "      <td>0.00</td>\n",
       "      <td>946.50</td>\n",
       "      <td>0.0000</td>\n",
       "      <td>...</td>\n",
       "      <td>0.00</td>\n",
       "      <td>26.70</td>\n",
       "      <td>1</td>\n",
       "      <td>0.5587</td>\n",
       "      <td>0.19286</td>\n",
       "      <td>0.00000</td>\n",
       "      <td>0.00000</td>\n",
       "      <td>0</td>\n",
       "      <td>1.08395</td>\n",
       "      <td>(As, B, O)</td>\n",
       "    </tr>\n",
       "    <tr>\n",
       "      <th>...</th>\n",
       "      <td>...</td>\n",
       "      <td>...</td>\n",
       "      <td>...</td>\n",
       "      <td>...</td>\n",
       "      <td>...</td>\n",
       "      <td>...</td>\n",
       "      <td>...</td>\n",
       "      <td>...</td>\n",
       "      <td>...</td>\n",
       "      <td>...</td>\n",
       "      <td>...</td>\n",
       "      <td>...</td>\n",
       "      <td>...</td>\n",
       "      <td>...</td>\n",
       "      <td>...</td>\n",
       "      <td>...</td>\n",
       "      <td>...</td>\n",
       "      <td>...</td>\n",
       "      <td>...</td>\n",
       "      <td>...</td>\n",
       "      <td>...</td>\n",
       "    </tr>\n",
       "    <tr>\n",
       "      <th>5100</th>\n",
       "      <td>YScO3</td>\n",
       "      <td>Y</td>\n",
       "      <td>3</td>\n",
       "      <td>Y</td>\n",
       "      <td>3</td>\n",
       "      <td>0.0000</td>\n",
       "      <td>-2.5620</td>\n",
       "      <td>0.00</td>\n",
       "      <td>615.60</td>\n",
       "      <td>0.0000</td>\n",
       "      <td>...</td>\n",
       "      <td>0.00</td>\n",
       "      <td>18.10</td>\n",
       "      <td>1</td>\n",
       "      <td>2.3337</td>\n",
       "      <td>0.53214</td>\n",
       "      <td>0.00000</td>\n",
       "      <td>0.00000</td>\n",
       "      <td>0</td>\n",
       "      <td>0.87358</td>\n",
       "      <td>(Y, Sc, O)</td>\n",
       "    </tr>\n",
       "    <tr>\n",
       "      <th>5101</th>\n",
       "      <td>YSmO3</td>\n",
       "      <td>Y</td>\n",
       "      <td>3</td>\n",
       "      <td>Y</td>\n",
       "      <td>3</td>\n",
       "      <td>0.0000</td>\n",
       "      <td>-2.5620</td>\n",
       "      <td>0.00</td>\n",
       "      <td>615.60</td>\n",
       "      <td>0.0000</td>\n",
       "      <td>...</td>\n",
       "      <td>0.00</td>\n",
       "      <td>15.63</td>\n",
       "      <td>1</td>\n",
       "      <td>0.9720</td>\n",
       "      <td>0.68429</td>\n",
       "      <td>0.00000</td>\n",
       "      <td>0.00000</td>\n",
       "      <td>0</td>\n",
       "      <td>0.79467</td>\n",
       "      <td>(Y, Sm, O)</td>\n",
       "    </tr>\n",
       "    <tr>\n",
       "      <th>5113</th>\n",
       "      <td>YTlVGdO6</td>\n",
       "      <td>Y</td>\n",
       "      <td>3</td>\n",
       "      <td>Tl</td>\n",
       "      <td>1</td>\n",
       "      <td>0.0975</td>\n",
       "      <td>-2.4645</td>\n",
       "      <td>13.15</td>\n",
       "      <td>602.45</td>\n",
       "      <td>0.9355</td>\n",
       "      <td>...</td>\n",
       "      <td>18.74</td>\n",
       "      <td>31.96</td>\n",
       "      <td>1</td>\n",
       "      <td>0.8446</td>\n",
       "      <td>0.52786</td>\n",
       "      <td>0.16071</td>\n",
       "      <td>0.14214</td>\n",
       "      <td>1</td>\n",
       "      <td>0.95041</td>\n",
       "      <td>(Y, Tl, V, Gd, O)</td>\n",
       "    </tr>\n",
       "    <tr>\n",
       "      <th>5126</th>\n",
       "      <td>YYbHfCoO6</td>\n",
       "      <td>Y</td>\n",
       "      <td>3</td>\n",
       "      <td>Yb</td>\n",
       "      <td>2</td>\n",
       "      <td>0.2335</td>\n",
       "      <td>-2.7955</td>\n",
       "      <td>6.10</td>\n",
       "      <td>609.50</td>\n",
       "      <td>0.6660</td>\n",
       "      <td>...</td>\n",
       "      <td>23.40</td>\n",
       "      <td>40.40</td>\n",
       "      <td>1</td>\n",
       "      <td>1.1944</td>\n",
       "      <td>0.47143</td>\n",
       "      <td>0.04643</td>\n",
       "      <td>0.03571</td>\n",
       "      <td>1</td>\n",
       "      <td>0.93194</td>\n",
       "      <td>(Y, Yb, Hf, Co, O)</td>\n",
       "    </tr>\n",
       "    <tr>\n",
       "      <th>5145</th>\n",
       "      <td>ZrBaAl2O6</td>\n",
       "      <td>Zr</td>\n",
       "      <td>4</td>\n",
       "      <td>Ba</td>\n",
       "      <td>2</td>\n",
       "      <td>0.2165</td>\n",
       "      <td>-3.4515</td>\n",
       "      <td>78.55</td>\n",
       "      <td>581.45</td>\n",
       "      <td>0.7410</td>\n",
       "      <td>...</td>\n",
       "      <td>0.00</td>\n",
       "      <td>44.00</td>\n",
       "      <td>1</td>\n",
       "      <td>0.9668</td>\n",
       "      <td>0.38214</td>\n",
       "      <td>0.18357</td>\n",
       "      <td>0.00000</td>\n",
       "      <td>0</td>\n",
       "      <td>1.00603</td>\n",
       "      <td>(Zr, Ba, Al, O)</td>\n",
       "    </tr>\n",
       "  </tbody>\n",
       "</table>\n",
       "<p>1577 rows × 41 columns</p>\n",
       "</div>"
      ],
      "text/plain": [
       "     functional group   A  A_OS  A'  A'_OS  A_HOMO-  A_HOMO+   A_IE-   A_IE+  \\\n",
       "12         AgCsZrTeO6  Ag     3  Cs      1   1.1480  -3.2570  177.65  553.35   \n",
       "32             AgNbO3  Ag     1  Ag      1   0.0000  -4.4050    0.00  731.00   \n",
       "36          AgPbWAlO6  Ag     3  Pb      2   0.4545  -3.9505    7.75  723.25   \n",
       "49             AgTaO3  Ag     1  Ag      1   0.0000  -4.4050    0.00  731.00   \n",
       "65              AsBO3  As     3  As      3   0.0000  -5.1940    0.00  946.50   \n",
       "...               ...  ..   ...  ..    ...      ...      ...     ...     ...   \n",
       "5100            YScO3   Y     3   Y      3   0.0000  -2.5620    0.00  615.60   \n",
       "5101            YSmO3   Y     3   Y      3   0.0000  -2.5620    0.00  615.60   \n",
       "5113         YTlVGdO6   Y     3  Tl      1   0.0975  -2.4645   13.15  602.45   \n",
       "5126        YYbHfCoO6   Y     3  Yb      2   0.2335  -2.7955    6.10  609.50   \n",
       "5145        ZrBaAl2O6  Zr     4  Ba      2   0.2165  -3.4515   78.55  581.45   \n",
       "\n",
       "      A_LUMO-  ...  B_e_affin-  B_e_affin+  Insulator  PBE band gap        μ  \\\n",
       "12     0.0035  ...       74.55      115.65          1        1.5453  0.60357   \n",
       "32     0.0000  ...        0.00       86.20          1        1.3259  0.45714   \n",
       "36     0.0435  ...       17.30       61.30          1        2.0298  0.42679   \n",
       "49     0.0000  ...        0.00       31.00          1        1.7301  0.45714   \n",
       "65     0.0000  ...        0.00       26.70          1        0.5587  0.19286   \n",
       "...       ...  ...         ...         ...        ...           ...      ...   \n",
       "5100   0.0000  ...        0.00       18.10          1        2.3337  0.53214   \n",
       "5101   0.0000  ...        0.00       15.63          1        0.9720  0.68429   \n",
       "5113   0.9355  ...       18.74       31.96          1        0.8446  0.52786   \n",
       "5126   0.6660  ...       23.40       40.40          1        1.1944  0.47143   \n",
       "5145   0.7410  ...        0.00       44.00          1        0.9668  0.38214   \n",
       "\n",
       "           μĀ     μ𝐵 ̅ stable        t          composition  \n",
       "12    0.23214  0.08929      1  0.93074  (Ag, Cs, Zr, Te, O)  \n",
       "32    0.00000  0.00000      0  1.00173          (Ag, Nb, O)  \n",
       "36    0.09286  0.04464      1  0.97703   (Ag, Pb, W, Al, O)  \n",
       "49    0.00000  0.00000      1  1.00173          (Ag, Ta, O)  \n",
       "65    0.00000  0.00000      0  1.08395           (As, B, O)  \n",
       "...       ...      ...    ...      ...                  ...  \n",
       "5100  0.00000  0.00000      0  0.87358           (Y, Sc, O)  \n",
       "5101  0.00000  0.00000      0  0.79467           (Y, Sm, O)  \n",
       "5113  0.16071  0.14214      1  0.95041    (Y, Tl, V, Gd, O)  \n",
       "5126  0.04643  0.03571      1  0.93194   (Y, Yb, Hf, Co, O)  \n",
       "5145  0.18357  0.00000      0  1.00603      (Zr, Ba, Al, O)  \n",
       "\n",
       "[1577 rows x 41 columns]"
      ]
     },
     "execution_count": 185,
     "metadata": {},
     "output_type": "execute_result"
    }
   ],
   "source": []
  },
  {
   "cell_type": "code",
   "execution_count": 186,
   "metadata": {},
   "outputs": [
    {
     "data": {
      "application/vnd.jupyter.widget-view+json": {
       "model_id": "bbbeca396e2c420886cf4fe01409bfc5",
       "version_major": 2,
       "version_minor": 0
      },
      "text/plain": [
       "ElementProperty:   0%|          | 0/1577 [00:00<?, ?it/s]"
      ]
     },
     "metadata": {},
     "output_type": "display_data"
    }
   ],
   "source": [
    "df_features = featurizer.featurize_dataframe(data, col_id='composition')\n",
    "feature_labels = featurizer.feature_labels()"
   ]
  },
  {
   "cell_type": "code",
   "execution_count": 212,
   "metadata": {},
   "outputs": [],
   "source": [
    "data_new = df_features.drop(['functional group', 'A', \"A'\", \"B'\", \"Bi\", 'Insulator', 'composition'], axis = 1)"
   ]
  },
  {
   "cell_type": "code",
   "execution_count": 246,
   "metadata": {},
   "outputs": [],
   "source": [
    "# split data into train and test subsamples\n",
    "X = data_new.drop(['PBE band gap'], axis = 1)\n",
    "y = data_new['PBE band gap']\n",
    "X_train, X_test, y_train, y_test = train_test_split(X, y, test_size = 0.2, shuffle=True, random_state=42)"
   ]
  },
  {
   "cell_type": "code",
   "execution_count": 233,
   "metadata": {},
   "outputs": [
    {
     "data": {
      "text/html": [
       "<style>#sk-container-id-8 {color: black;background-color: white;}#sk-container-id-8 pre{padding: 0;}#sk-container-id-8 div.sk-toggleable {background-color: white;}#sk-container-id-8 label.sk-toggleable__label {cursor: pointer;display: block;width: 100%;margin-bottom: 0;padding: 0.3em;box-sizing: border-box;text-align: center;}#sk-container-id-8 label.sk-toggleable__label-arrow:before {content: \"▸\";float: left;margin-right: 0.25em;color: #696969;}#sk-container-id-8 label.sk-toggleable__label-arrow:hover:before {color: black;}#sk-container-id-8 div.sk-estimator:hover label.sk-toggleable__label-arrow:before {color: black;}#sk-container-id-8 div.sk-toggleable__content {max-height: 0;max-width: 0;overflow: hidden;text-align: left;background-color: #f0f8ff;}#sk-container-id-8 div.sk-toggleable__content pre {margin: 0.2em;color: black;border-radius: 0.25em;background-color: #f0f8ff;}#sk-container-id-8 input.sk-toggleable__control:checked~div.sk-toggleable__content {max-height: 200px;max-width: 100%;overflow: auto;}#sk-container-id-8 input.sk-toggleable__control:checked~label.sk-toggleable__label-arrow:before {content: \"▾\";}#sk-container-id-8 div.sk-estimator input.sk-toggleable__control:checked~label.sk-toggleable__label {background-color: #d4ebff;}#sk-container-id-8 div.sk-label input.sk-toggleable__control:checked~label.sk-toggleable__label {background-color: #d4ebff;}#sk-container-id-8 input.sk-hidden--visually {border: 0;clip: rect(1px 1px 1px 1px);clip: rect(1px, 1px, 1px, 1px);height: 1px;margin: -1px;overflow: hidden;padding: 0;position: absolute;width: 1px;}#sk-container-id-8 div.sk-estimator {font-family: monospace;background-color: #f0f8ff;border: 1px dotted black;border-radius: 0.25em;box-sizing: border-box;margin-bottom: 0.5em;}#sk-container-id-8 div.sk-estimator:hover {background-color: #d4ebff;}#sk-container-id-8 div.sk-parallel-item::after {content: \"\";width: 100%;border-bottom: 1px solid gray;flex-grow: 1;}#sk-container-id-8 div.sk-label:hover label.sk-toggleable__label {background-color: #d4ebff;}#sk-container-id-8 div.sk-serial::before {content: \"\";position: absolute;border-left: 1px solid gray;box-sizing: border-box;top: 0;bottom: 0;left: 50%;z-index: 0;}#sk-container-id-8 div.sk-serial {display: flex;flex-direction: column;align-items: center;background-color: white;padding-right: 0.2em;padding-left: 0.2em;position: relative;}#sk-container-id-8 div.sk-item {position: relative;z-index: 1;}#sk-container-id-8 div.sk-parallel {display: flex;align-items: stretch;justify-content: center;background-color: white;position: relative;}#sk-container-id-8 div.sk-item::before, #sk-container-id-8 div.sk-parallel-item::before {content: \"\";position: absolute;border-left: 1px solid gray;box-sizing: border-box;top: 0;bottom: 0;left: 50%;z-index: -1;}#sk-container-id-8 div.sk-parallel-item {display: flex;flex-direction: column;z-index: 1;position: relative;background-color: white;}#sk-container-id-8 div.sk-parallel-item:first-child::after {align-self: flex-end;width: 50%;}#sk-container-id-8 div.sk-parallel-item:last-child::after {align-self: flex-start;width: 50%;}#sk-container-id-8 div.sk-parallel-item:only-child::after {width: 0;}#sk-container-id-8 div.sk-dashed-wrapped {border: 1px dashed gray;margin: 0 0.4em 0.5em 0.4em;box-sizing: border-box;padding-bottom: 0.4em;background-color: white;}#sk-container-id-8 div.sk-label label {font-family: monospace;font-weight: bold;display: inline-block;line-height: 1.2em;}#sk-container-id-8 div.sk-label-container {text-align: center;}#sk-container-id-8 div.sk-container {/* jupyter's `normalize.less` sets `[hidden] { display: none; }` but bootstrap.min.css set `[hidden] { display: none !important; }` so we also need the `!important` here to be able to override the default hidden behavior on the sphinx rendered scikit-learn.org. See: https://github.com/scikit-learn/scikit-learn/issues/21755 */display: inline-block !important;position: relative;}#sk-container-id-8 div.sk-text-repr-fallback {display: none;}</style><div id=\"sk-container-id-8\" class=\"sk-top-container\"><div class=\"sk-text-repr-fallback\"><pre>RandomForestRegressor(n_estimators=400, random_state=42)</pre><b>In a Jupyter environment, please rerun this cell to show the HTML representation or trust the notebook. <br />On GitHub, the HTML representation is unable to render, please try loading this page with nbviewer.org.</b></div><div class=\"sk-container\" hidden><div class=\"sk-item\"><div class=\"sk-estimator sk-toggleable\"><input class=\"sk-toggleable__control sk-hidden--visually\" id=\"sk-estimator-id-8\" type=\"checkbox\" checked><label for=\"sk-estimator-id-8\" class=\"sk-toggleable__label sk-toggleable__label-arrow\">RandomForestRegressor</label><div class=\"sk-toggleable__content\"><pre>RandomForestRegressor(n_estimators=400, random_state=42)</pre></div></div></div></div></div>"
      ],
      "text/plain": [
       "RandomForestRegressor(n_estimators=400, random_state=42)"
      ]
     },
     "execution_count": 233,
     "metadata": {},
     "output_type": "execute_result"
    }
   ],
   "source": [
    "model = RandomForestRegressor(n_estimators=400, random_state=42)\n",
    "model.fit(X_train, y_train)"
   ]
  },
  {
   "cell_type": "code",
   "execution_count": 234,
   "metadata": {},
   "outputs": [
    {
     "data": {
      "text/plain": [
       "0.13484815386687032"
      ]
     },
     "execution_count": 234,
     "metadata": {},
     "output_type": "execute_result"
    }
   ],
   "source": [
    "preds = model.predict(X_test)\n",
    "MSE(preds, y_test)"
   ]
  },
  {
   "cell_type": "code",
   "execution_count": 240,
   "metadata": {},
   "outputs": [],
   "source": [
    "data = pd.read_csv('data/eg_double_perovskites.csv')\n",
    "data = data[data.Insulator == 1]\n",
    "data = data.drop(['functional group', 'A', \"A'\", \"B'\", \"Bi\", 'Insulator'], axis = 1)\n",
    "X = data.drop(['PBE band gap'], axis = 1)\n",
    "y = data['PBE band gap']\n",
    "X_train, X_test, y_train, y_test = train_test_split(X, y, test_size = 0.2, shuffle=True, random_state=42)"
   ]
  },
  {
   "cell_type": "code",
   "execution_count": 241,
   "metadata": {},
   "outputs": [
    {
     "data": {
      "text/html": [
       "<style>#sk-container-id-10 {color: black;background-color: white;}#sk-container-id-10 pre{padding: 0;}#sk-container-id-10 div.sk-toggleable {background-color: white;}#sk-container-id-10 label.sk-toggleable__label {cursor: pointer;display: block;width: 100%;margin-bottom: 0;padding: 0.3em;box-sizing: border-box;text-align: center;}#sk-container-id-10 label.sk-toggleable__label-arrow:before {content: \"▸\";float: left;margin-right: 0.25em;color: #696969;}#sk-container-id-10 label.sk-toggleable__label-arrow:hover:before {color: black;}#sk-container-id-10 div.sk-estimator:hover label.sk-toggleable__label-arrow:before {color: black;}#sk-container-id-10 div.sk-toggleable__content {max-height: 0;max-width: 0;overflow: hidden;text-align: left;background-color: #f0f8ff;}#sk-container-id-10 div.sk-toggleable__content pre {margin: 0.2em;color: black;border-radius: 0.25em;background-color: #f0f8ff;}#sk-container-id-10 input.sk-toggleable__control:checked~div.sk-toggleable__content {max-height: 200px;max-width: 100%;overflow: auto;}#sk-container-id-10 input.sk-toggleable__control:checked~label.sk-toggleable__label-arrow:before {content: \"▾\";}#sk-container-id-10 div.sk-estimator input.sk-toggleable__control:checked~label.sk-toggleable__label {background-color: #d4ebff;}#sk-container-id-10 div.sk-label input.sk-toggleable__control:checked~label.sk-toggleable__label {background-color: #d4ebff;}#sk-container-id-10 input.sk-hidden--visually {border: 0;clip: rect(1px 1px 1px 1px);clip: rect(1px, 1px, 1px, 1px);height: 1px;margin: -1px;overflow: hidden;padding: 0;position: absolute;width: 1px;}#sk-container-id-10 div.sk-estimator {font-family: monospace;background-color: #f0f8ff;border: 1px dotted black;border-radius: 0.25em;box-sizing: border-box;margin-bottom: 0.5em;}#sk-container-id-10 div.sk-estimator:hover {background-color: #d4ebff;}#sk-container-id-10 div.sk-parallel-item::after {content: \"\";width: 100%;border-bottom: 1px solid gray;flex-grow: 1;}#sk-container-id-10 div.sk-label:hover label.sk-toggleable__label {background-color: #d4ebff;}#sk-container-id-10 div.sk-serial::before {content: \"\";position: absolute;border-left: 1px solid gray;box-sizing: border-box;top: 0;bottom: 0;left: 50%;z-index: 0;}#sk-container-id-10 div.sk-serial {display: flex;flex-direction: column;align-items: center;background-color: white;padding-right: 0.2em;padding-left: 0.2em;position: relative;}#sk-container-id-10 div.sk-item {position: relative;z-index: 1;}#sk-container-id-10 div.sk-parallel {display: flex;align-items: stretch;justify-content: center;background-color: white;position: relative;}#sk-container-id-10 div.sk-item::before, #sk-container-id-10 div.sk-parallel-item::before {content: \"\";position: absolute;border-left: 1px solid gray;box-sizing: border-box;top: 0;bottom: 0;left: 50%;z-index: -1;}#sk-container-id-10 div.sk-parallel-item {display: flex;flex-direction: column;z-index: 1;position: relative;background-color: white;}#sk-container-id-10 div.sk-parallel-item:first-child::after {align-self: flex-end;width: 50%;}#sk-container-id-10 div.sk-parallel-item:last-child::after {align-self: flex-start;width: 50%;}#sk-container-id-10 div.sk-parallel-item:only-child::after {width: 0;}#sk-container-id-10 div.sk-dashed-wrapped {border: 1px dashed gray;margin: 0 0.4em 0.5em 0.4em;box-sizing: border-box;padding-bottom: 0.4em;background-color: white;}#sk-container-id-10 div.sk-label label {font-family: monospace;font-weight: bold;display: inline-block;line-height: 1.2em;}#sk-container-id-10 div.sk-label-container {text-align: center;}#sk-container-id-10 div.sk-container {/* jupyter's `normalize.less` sets `[hidden] { display: none; }` but bootstrap.min.css set `[hidden] { display: none !important; }` so we also need the `!important` here to be able to override the default hidden behavior on the sphinx rendered scikit-learn.org. See: https://github.com/scikit-learn/scikit-learn/issues/21755 */display: inline-block !important;position: relative;}#sk-container-id-10 div.sk-text-repr-fallback {display: none;}</style><div id=\"sk-container-id-10\" class=\"sk-top-container\"><div class=\"sk-text-repr-fallback\"><pre>RandomForestRegressor(n_estimators=20, random_state=42)</pre><b>In a Jupyter environment, please rerun this cell to show the HTML representation or trust the notebook. <br />On GitHub, the HTML representation is unable to render, please try loading this page with nbviewer.org.</b></div><div class=\"sk-container\" hidden><div class=\"sk-item\"><div class=\"sk-estimator sk-toggleable\"><input class=\"sk-toggleable__control sk-hidden--visually\" id=\"sk-estimator-id-10\" type=\"checkbox\" checked><label for=\"sk-estimator-id-10\" class=\"sk-toggleable__label sk-toggleable__label-arrow\">RandomForestRegressor</label><div class=\"sk-toggleable__content\"><pre>RandomForestRegressor(n_estimators=20, random_state=42)</pre></div></div></div></div></div>"
      ],
      "text/plain": [
       "RandomForestRegressor(n_estimators=20, random_state=42)"
      ]
     },
     "execution_count": 241,
     "metadata": {},
     "output_type": "execute_result"
    }
   ],
   "source": [
    "model = RandomForestRegressor(n_estimators=20, random_state=42)\n",
    "model.fit(X_train[best_features[:8]], y_train)"
   ]
  },
  {
   "cell_type": "code",
   "execution_count": 243,
   "metadata": {},
   "outputs": [
    {
     "data": {
      "text/plain": [
       "0.12798800614659833"
      ]
     },
     "execution_count": 243,
     "metadata": {},
     "output_type": "execute_result"
    }
   ],
   "source": [
    "preds = model.predict(X_test[best_features[:8]])\n",
    "MSE(preds, y_test)"
   ]
  },
  {
   "cell_type": "markdown",
   "metadata": {},
   "source": [
    "The inclusion of gross level elemental features does not increase the score. Let's see if one of the included features is more important than the original one."
   ]
  },
  {
   "cell_type": "code",
   "execution_count": 247,
   "metadata": {},
   "outputs": [
    {
     "name": "stderr",
     "output_type": "stream",
     "text": [
      "100%|██████████| 15/15 [00:37<00:00,  2.50s/it]\n"
     ]
    }
   ],
   "source": [
    "features = X_train.columns\n",
    "\n",
    "best_features = []\n",
    "mse_history = []\n",
    "\n",
    "X_train_, X_val, y_train_, y_val = train_test_split(X_train, y_train, test_size = 0.2, shuffle=True, random_state=42)\n",
    "\n",
    "\n",
    "for k in tqdm(range(15)):\n",
    "    best_score = np.inf\n",
    "    current_best_feature = None\n",
    "    for feature in features:\n",
    "        if feature in best_features:\n",
    "            continue\n",
    "        current_features = best_features.copy()\n",
    "        current_features.append(feature)\n",
    "\n",
    "        X_step = X_train_[current_features].values\n",
    "        if len(current_features) == 1:\n",
    "            X_step = X_step.reshape(-1, 1)\n",
    "        model = RandomForestRegressor(n_estimators=20) \n",
    "        model.fit(X_step, y_train_)\n",
    "        pred = model.predict(X_val[current_features].values)\n",
    "        score = MSE(pred, y_val) \n",
    "        if score < best_score:\n",
    "            best_score = score\n",
    "            current_best_feature = feature\n",
    "    best_features.append(current_best_feature)\n",
    "    mse_history.append(best_score)"
   ]
  },
  {
   "cell_type": "code",
   "execution_count": 249,
   "metadata": {},
   "outputs": [
    {
     "data": {
      "text/plain": [
       "['B_e_affin+',\n",
       " 'MagpieData mean Column',\n",
       " \"A'_OS\",\n",
       " 'MagpieData mean GSbandgap',\n",
       " 'A_X-',\n",
       " 'A_X+',\n",
       " 'B_e_affin-',\n",
       " 'MagpieData mean NdValence',\n",
       " 'MagpieData mean NValence',\n",
       " 'B_IE+',\n",
       " 'MagpieData mean NfUnfilled',\n",
       " 'μĀ',\n",
       " \"B'_OS\",\n",
       " 'stable',\n",
       " 'MagpieData mean GSmagmom']"
      ]
     },
     "execution_count": 249,
     "metadata": {},
     "output_type": "execute_result"
    }
   ],
   "source": [
    "best_features"
   ]
  },
  {
   "cell_type": "code",
   "execution_count": 250,
   "metadata": {},
   "outputs": [
    {
     "data": {
      "text/plain": [
       "Text(0.5, 0, '# features')"
      ]
     },
     "execution_count": 250,
     "metadata": {},
     "output_type": "execute_result"
    },
    {
     "data": {
      "image/png": "[encoded data removed]",
      "text/plain": [
       "<Figure size 900x600 with 1 Axes>"
      ]
     },
     "metadata": {
      "needs_background": "light"
     },
     "output_type": "display_data"
    }
   ],
   "source": [
    "plt.figure(dpi = 150)\n",
    "plt.plot(mse_history)\n",
    "plt.ylabel('MSE')\n",
    "plt.xlabel('# features')"
   ]
  },
  {
   "cell_type": "code",
   "execution_count": 253,
   "metadata": {},
   "outputs": [
    {
     "data": {
      "text/plain": [
       "[0.42199494699209716,\n",
       " 0.31524349676574764,\n",
       " 0.23035883248157485,\n",
       " 0.21409697544815764,\n",
       " 0.20806412439409108,\n",
       " 0.17954770616821872,\n",
       " 0.16130255951432387,\n",
       " 0.1512205699487407,\n",
       " 0.14602748996161635,\n",
       " 0.1355080180112045,\n",
       " 0.12582259020042655,\n",
       " 0.1166204022098812]"
      ]
     },
     "execution_count": 253,
     "metadata": {},
     "output_type": "execute_result"
    }
   ],
   "source": [
    "mse_history[:12]"
   ]
  },
  {
   "cell_type": "code",
   "execution_count": 255,
   "metadata": {},
   "outputs": [
    {
     "data": {
      "text/html": [
       "<style>#sk-container-id-12 {color: black;background-color: white;}#sk-container-id-12 pre{padding: 0;}#sk-container-id-12 div.sk-toggleable {background-color: white;}#sk-container-id-12 label.sk-toggleable__label {cursor: pointer;display: block;width: 100%;margin-bottom: 0;padding: 0.3em;box-sizing: border-box;text-align: center;}#sk-container-id-12 label.sk-toggleable__label-arrow:before {content: \"▸\";float: left;margin-right: 0.25em;color: #696969;}#sk-container-id-12 label.sk-toggleable__label-arrow:hover:before {color: black;}#sk-container-id-12 div.sk-estimator:hover label.sk-toggleable__label-arrow:before {color: black;}#sk-container-id-12 div.sk-toggleable__content {max-height: 0;max-width: 0;overflow: hidden;text-align: left;background-color: #f0f8ff;}#sk-container-id-12 div.sk-toggleable__content pre {margin: 0.2em;color: black;border-radius: 0.25em;background-color: #f0f8ff;}#sk-container-id-12 input.sk-toggleable__control:checked~div.sk-toggleable__content {max-height: 200px;max-width: 100%;overflow: auto;}#sk-container-id-12 input.sk-toggleable__control:checked~label.sk-toggleable__label-arrow:before {content: \"▾\";}#sk-container-id-12 div.sk-estimator input.sk-toggleable__control:checked~label.sk-toggleable__label {background-color: #d4ebff;}#sk-container-id-12 div.sk-label input.sk-toggleable__control:checked~label.sk-toggleable__label {background-color: #d4ebff;}#sk-container-id-12 input.sk-hidden--visually {border: 0;clip: rect(1px 1px 1px 1px);clip: rect(1px, 1px, 1px, 1px);height: 1px;margin: -1px;overflow: hidden;padding: 0;position: absolute;width: 1px;}#sk-container-id-12 div.sk-estimator {font-family: monospace;background-color: #f0f8ff;border: 1px dotted black;border-radius: 0.25em;box-sizing: border-box;margin-bottom: 0.5em;}#sk-container-id-12 div.sk-estimator:hover {background-color: #d4ebff;}#sk-container-id-12 div.sk-parallel-item::after {content: \"\";width: 100%;border-bottom: 1px solid gray;flex-grow: 1;}#sk-container-id-12 div.sk-label:hover label.sk-toggleable__label {background-color: #d4ebff;}#sk-container-id-12 div.sk-serial::before {content: \"\";position: absolute;border-left: 1px solid gray;box-sizing: border-box;top: 0;bottom: 0;left: 50%;z-index: 0;}#sk-container-id-12 div.sk-serial {display: flex;flex-direction: column;align-items: center;background-color: white;padding-right: 0.2em;padding-left: 0.2em;position: relative;}#sk-container-id-12 div.sk-item {position: relative;z-index: 1;}#sk-container-id-12 div.sk-parallel {display: flex;align-items: stretch;justify-content: center;background-color: white;position: relative;}#sk-container-id-12 div.sk-item::before, #sk-container-id-12 div.sk-parallel-item::before {content: \"\";position: absolute;border-left: 1px solid gray;box-sizing: border-box;top: 0;bottom: 0;left: 50%;z-index: -1;}#sk-container-id-12 div.sk-parallel-item {display: flex;flex-direction: column;z-index: 1;position: relative;background-color: white;}#sk-container-id-12 div.sk-parallel-item:first-child::after {align-self: flex-end;width: 50%;}#sk-container-id-12 div.sk-parallel-item:last-child::after {align-self: flex-start;width: 50%;}#sk-container-id-12 div.sk-parallel-item:only-child::after {width: 0;}#sk-container-id-12 div.sk-dashed-wrapped {border: 1px dashed gray;margin: 0 0.4em 0.5em 0.4em;box-sizing: border-box;padding-bottom: 0.4em;background-color: white;}#sk-container-id-12 div.sk-label label {font-family: monospace;font-weight: bold;display: inline-block;line-height: 1.2em;}#sk-container-id-12 div.sk-label-container {text-align: center;}#sk-container-id-12 div.sk-container {/* jupyter's `normalize.less` sets `[hidden] { display: none; }` but bootstrap.min.css set `[hidden] { display: none !important; }` so we also need the `!important` here to be able to override the default hidden behavior on the sphinx rendered scikit-learn.org. See: https://github.com/scikit-learn/scikit-learn/issues/21755 */display: inline-block !important;position: relative;}#sk-container-id-12 div.sk-text-repr-fallback {display: none;}</style><div id=\"sk-container-id-12\" class=\"sk-top-container\"><div class=\"sk-text-repr-fallback\"><pre>RandomForestRegressor(n_estimators=20, random_state=42)</pre><b>In a Jupyter environment, please rerun this cell to show the HTML representation or trust the notebook. <br />On GitHub, the HTML representation is unable to render, please try loading this page with nbviewer.org.</b></div><div class=\"sk-container\" hidden><div class=\"sk-item\"><div class=\"sk-estimator sk-toggleable\"><input class=\"sk-toggleable__control sk-hidden--visually\" id=\"sk-estimator-id-12\" type=\"checkbox\" checked><label for=\"sk-estimator-id-12\" class=\"sk-toggleable__label sk-toggleable__label-arrow\">RandomForestRegressor</label><div class=\"sk-toggleable__content\"><pre>RandomForestRegressor(n_estimators=20, random_state=42)</pre></div></div></div></div></div>"
      ],
      "text/plain": [
       "RandomForestRegressor(n_estimators=20, random_state=42)"
      ]
     },
     "execution_count": 255,
     "metadata": {},
     "output_type": "execute_result"
    }
   ],
   "source": [
    "model = RandomForestRegressor(n_estimators=20, random_state=42)\n",
    "model.fit(X_train[best_features[:12]], y_train)"
   ]
  },
  {
   "cell_type": "code",
   "execution_count": 257,
   "metadata": {},
   "outputs": [],
   "source": [
    "preds = model.predict(X_test[best_features[:12]])"
   ]
  },
  {
   "cell_type": "code",
   "execution_count": 258,
   "metadata": {},
   "outputs": [
    {
     "data": {
      "text/plain": [
       "0.14694838576700964"
      ]
     },
     "execution_count": 258,
     "metadata": {},
     "output_type": "execute_result"
    }
   ],
   "source": [
    "MSE(preds, y_test)"
   ]
  },
  {
   "cell_type": "markdown",
   "metadata": {},
   "source": [
    "#### Some structural features"
   ]
  },
  {
   "cell_type": "code",
   "execution_count": 300,
   "metadata": {},
   "outputs": [
    {
     "data": {
      "text/plain": [
       "{'density': 3.5724738210211786,\n",
       " 'vpa': 20.183425052734915,\n",
       " 'packing fraction': 0.47416820462238135}"
      ]
     },
     "execution_count": 300,
     "metadata": {},
     "output_type": "execute_result"
    }
   ],
   "source": [
    "from matminer.featurizers.structure import DensityFeatures\n",
    "from pymatgen.core import Structure\n",
    "st = Structure.from_file('data/LiBr.cif')\n",
    "\n",
    "featurizer = DensityFeatures()\n",
    "\n",
    "dict(zip(featurizer.feature_labels(), featurizer.featurize(st)))"
   ]
  },
  {
   "cell_type": "markdown",
   "metadata": {},
   "source": [
    "#### Presets in matminer\n",
    "Adopted from matminer [examples](https://github.com/hackingmaterials/matminer_examples/blob/main/matminer_examples/machine_learning-nb/voronoi-ward-prb-2017.ipynb)\n",
    "\n",
    "\n",
    "Here we will try to predict formation energy of crystal structures using both elemental and geometrical descriptors. The geometrical properties are collected using Voronoi partitioning as implemnted in Ward et al.."
   ]
  },
  {
   "cell_type": "code",
   "execution_count": 301,
   "metadata": {},
   "outputs": [],
   "source": [
    "from matminer.datasets import load_dataset\n",
    "from matminer.featurizers.base import MultipleFeaturizer\n",
    "from matminer.featurizers.composition import ElementProperty, Stoichiometry, ValenceOrbital, IonProperty\n",
    "from matminer.featurizers.structure import (\n",
    "                                                SiteStatsFingerprint,\n",
    "                                                StructuralHeterogeneity,\n",
    "                                                ChemicalOrdering,\n",
    "                                                StructureComposition,\n",
    "                                                MaximumPackingEfficiency\n",
    "                                                )\n",
    "from matminer.featurizers.conversions import DictToObject\n",
    "from sklearn.model_selection import ShuffleSplit\n",
    "from sklearn.pipeline import Pipeline\n",
    "from sklearn.impute import SimpleImputer\n",
    "from scipy import stats\n",
    "from tqdm import tqdm_notebook as tqdm"
   ]
  },
  {
   "cell_type": "code",
   "execution_count": 303,
   "metadata": {},
   "outputs": [],
   "source": [
    "# create featurizer\n",
    "featurizer = MultipleFeaturizer([\n",
    "    SiteStatsFingerprint.from_preset(\"CoordinationNumber_ward-prb-2017\"),\n",
    "    StructuralHeterogeneity(),\n",
    "    ChemicalOrdering(),\n",
    "    MaximumPackingEfficiency(),\n",
    "    SiteStatsFingerprint.from_preset(\"LocalPropertyDifference_ward-prb-2017\"),\n",
    "    StructureComposition(Stoichiometry()),\n",
    "    StructureComposition(ElementProperty.from_preset(\"magpie\")),\n",
    "    StructureComposition(ValenceOrbital(props=['frac'])),\n",
    "    StructureComposition(IonProperty(fast=True))\n",
    "])"
   ]
  },
  {
   "cell_type": "code",
   "execution_count": 304,
   "metadata": {},
   "outputs": [],
   "source": [
    "# load data\n",
    "data = load_dataset(\"flla\")\n"
   ]
  },
  {
   "cell_type": "code",
   "execution_count": 305,
   "metadata": {},
   "outputs": [
    {
     "data": {
      "application/vnd.jupyter.widget-view+json": {
       "model_id": "65d9df1eca9948daa4dbb2250665ac66",
       "version_major": 2,
       "version_minor": 0
      },
      "text/plain": [
       "DictToObject:   0%|          | 0/3938 [00:00<?, ?it/s]"
      ]
     },
     "metadata": {},
     "output_type": "display_data"
    }
   ],
   "source": [
    "dto = DictToObject(target_col_id='structure', overwrite_data=True)\n",
    "data = dto.featurize_dataframe(data, 'structure')"
   ]
  },
  {
   "cell_type": "code",
   "execution_count": 307,
   "metadata": {},
   "outputs": [],
   "source": [
    "data_samll = data.sample(500)"
   ]
  },
  {
   "cell_type": "code",
   "execution_count": 308,
   "metadata": {},
   "outputs": [
    {
     "data": {
      "application/vnd.jupyter.widget-view+json": {
       "model_id": "48ad6bd5b1e94c4ba13e0e22739bb188",
       "version_major": 2,
       "version_minor": 0
      },
      "text/plain": [
       "MultipleFeaturizer:   0%|          | 0/500 [00:00<?, ?it/s]"
      ]
     },
     "metadata": {},
     "output_type": "display_data"
    }
   ],
   "source": [
    "X = featurizer.featurize_many(data_samll['structure'], ignore_errors=True)"
   ]
  },
  {
   "cell_type": "code",
   "execution_count": 319,
   "metadata": {},
   "outputs": [],
   "source": [
    "X = np.array(X)\n",
    "y = data_samll['formation_energy_per_atom']"
   ]
  },
  {
   "cell_type": "code",
   "execution_count": 317,
   "metadata": {},
   "outputs": [
    {
     "name": "stdout",
     "output_type": "stream",
     "text": [
      "Number failed: 15/500\n"
     ]
    }
   ],
   "source": [
    "import pandas as pd\n",
    "failed = np.any(pd.isnull(X), axis=1)\n",
    "print('Number failed: {}/{}'.format(np.sum(failed), len(failed)))"
   ]
  },
  {
   "cell_type": "markdown",
   "metadata": {},
   "source": [
    "### Task 2: Fit the model\n",
    "\n",
    "- Perform grid search to optimize hyperparameters of your model\n",
    "\n",
    "- Fit model on training dataset \n",
    "\n",
    "- Evaluate feature importances\n",
    "\n",
    "- Report test scores"
   ]
  },
  {
   "cell_type": "code",
   "execution_count": 312,
   "metadata": {},
   "outputs": [],
   "source": [
    "from sklearn.kernel_ridge import KernelRidge\n",
    "\n",
    "model = Pipeline([\n",
    "    ('imputer', SimpleImputer()), # For the failed structures\n",
    "    ('imputer', StandardScaler()), \n",
    "    ('model', KernelRidge(kernel=\"rbf\"))\n",
    "])"
   ]
  },
  {
   "cell_type": "markdown",
   "metadata": {},
   "source": [
    "### Task 3: Your own featurizer\n",
    "\n",
    "- Collect vanadium phosphates from MP data base\n",
    "\n",
    "- Write your own featurizer to predict formation_energy_per_atom\n",
    "\n",
    "- Featurizer should include \n",
    "    - geometrical features\n",
    "\n",
    "    - elemental features\n",
    "\n",
    "- Featurize collected structures\n",
    "- Fit your favorite regression model\n",
    "- Study feature importances\n",
    "\n"
   ]
  },
  {
   "cell_type": "code",
   "execution_count": 291,
   "metadata": {},
   "outputs": [],
   "source": [
    "class StructureFeaturizer:\n",
    "\n",
    "    \"\"\"Featurizer of pymatgen's crystal structure\n",
    "    \n",
    "    Params:\n",
    "    ------\n",
    "    st: pymatgen's Structure object\n",
    "\n",
    "    \"\"\"\n",
    "\n",
    "    def __init__(self, st):\n",
    "        self.st = st\n",
    "\n",
    "\n",
    "    ### your code ###\n",
    "\n",
    "    \n",
    "    def featurize(self):\n",
    "\n",
    "        \"\"\"\n",
    "        This method calculates features of a crystal structure\n",
    "        stored in self.st\n",
    "        \"\"\"\n",
    "\n",
    "        features = {}\n",
    "\n",
    "        return features\n",
    "        "
   ]
  }
 ],
 "metadata": {
  "kernelspec": {
   "display_name": "base",
   "language": "python",
   "name": "python3"
  },
  "language_info": {
   "codemirror_mode": {
    "name": "ipython",
    "version": 3
   },
   "file_extension": ".py",
   "mimetype": "text/x-python",
   "name": "python",
   "nbconvert_exporter": "python",
   "pygments_lexer": "ipython3",
   "version": "3.8.8"
  }
 },
 "nbformat": 4,
 "nbformat_minor": 2
}
