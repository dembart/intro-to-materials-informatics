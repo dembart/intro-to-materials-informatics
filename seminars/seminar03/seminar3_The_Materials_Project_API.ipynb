{
  "cells": [
    {
      "cell_type": "markdown",
      "metadata": {
        "id": "IyoBRbOsOR_s"
      },
      "source": [
        "### Seminar #3. The Materials Project API\n",
        "\n",
        "#### Goals\n",
        "- Overview of the Materials Project database\n",
        "- Learn how to use the Materials Project API\n",
        "- Learn how to manipulate the collected data\n",
        "- Learn how to calculate phase diagrams with pymatgen\n",
        "- Learn how to calculate eleectrochemical stability window\n",
        "\n",
        "\n",
        "#### Resources\n",
        "[MP API: Getting started](https://docs.materialsproject.org/downloading-data/using-the-api/getting-started)"
      ]
    },
    {
      "cell_type": "markdown",
      "metadata": {
        "id": "ivlnsxDWhO1m"
      },
      "source": [
        "#### Before the seminar let's have a look at the Materials Project's [website](https://next-gen.materialsproject.org/materials/mp-1960#thermodynamic_stability)"
      ]
    },
    {
      "cell_type": "markdown",
      "metadata": {
        "id": "ZNxo-N9eOlap"
      },
      "source": [
        "Install mp_api"
      ]
    },
    {
      "cell_type": "code",
      "execution_count": null,
      "metadata": {
        "id": "-_M_3-sGOgiZ"
      },
      "outputs": [],
      "source": [
        "!pip install mp_api"
      ]
    },
    {
      "cell_type": "markdown",
      "metadata": {
        "id": "omIbrbygOn8n"
      },
      "source": [
        "Alternatively"
      ]
    },
    {
      "cell_type": "code",
      "execution_count": null,
      "metadata": {
        "id": "N-RLRGYVOiUv"
      },
      "outputs": [],
      "source": [
        "!git clone https://github.com/materialsproject/api\n",
        "!cd api\n",
        "!pip install -e ."
      ]
    },
    {
      "cell_type": "markdown",
      "metadata": {
        "id": "x-8gmnoQKPGC"
      },
      "source": [
        "## Part 1. Intro + Formation energy"
      ]
    },
    {
      "cell_type": "code",
      "execution_count": 3,
      "metadata": {
        "id": "_5a8l7_2OuUd"
      },
      "outputs": [],
      "source": [
        "# immports\n",
        "import os\n",
        "import numpy as np\n",
        "import pandas as pd\n",
        "import matplotlib.pyplot as plt\n",
        "from mp_api.client import MPRester"
      ]
    },
    {
      "cell_type": "markdown",
      "metadata": {
        "id": "yJY2KL5uOwwb"
      },
      "source": [
        "We will use the construction below for query the data. Using Python's ```with``` is recommended for session management. You need your api_key. Visit this [page](https://next-gen.materialsproject.org/api#api-key) to get it."
      ]
    },
    {
      "cell_type": "code",
      "execution_count": 4,
      "metadata": {
        "id": "wW1Tcy_4OzPk"
      },
      "outputs": [
        {
          "name": "stderr",
          "output_type": "stream",
          "text": [
            "Problem loading MPContribs client: __init__() got an unexpected keyword argument 'session'\n"
          ]
        }
      ],
      "source": [
        "api_key = 'your_api_key'\n",
        "api_key = 'HbSHn48X1CSvBzRa4DOX5E9rhb5Tcc03'\n",
        "with MPRester(api_key) as mpr:\n",
        "    # do stuff\n",
        "    pass\n"
      ]
    },
    {
      "cell_type": "markdown",
      "metadata": {
        "id": "QvbRNsw-O3eo"
      },
      "source": [
        "Query data by the mp_id"
      ]
    },
    {
      "cell_type": "code",
      "execution_count": null,
      "metadata": {
        "id": "FJX9MLGEO1qO"
      },
      "outputs": [],
      "source": [
        "with MPRester(api_key) as mpr:\n",
        "    docs = mpr.materials.summary.search(\n",
        "        material_ids=[\"mp-19017\", \"mp-13\", \"mp-22526\"]\n",
        "    )"
      ]
    },
    {
      "cell_type": "markdown",
      "metadata": {
        "id": "gvweGwGIPcw3"
      },
      "source": [
        "Three entries were collected"
      ]
    },
    {
      "cell_type": "code",
      "execution_count": null,
      "metadata": {
        "id": "39MaIuloPnJb"
      },
      "outputs": [],
      "source": [
        "len(docs)"
      ]
    },
    {
      "cell_type": "markdown",
      "metadata": {
        "id": "VE-F1aBrPJ28"
      },
      "source": [
        "Let's take a look at the fields that have been collected"
      ]
    },
    {
      "cell_type": "code",
      "execution_count": null,
      "metadata": {
        "id": "EFvO9n2gO7HU"
      },
      "outputs": [],
      "source": [
        "docs[0].__dict__.keys()"
      ]
    },
    {
      "cell_type": "code",
      "execution_count": null,
      "metadata": {
        "id": "pBCkxUfaPxZ-"
      },
      "outputs": [],
      "source": [
        "doc = docs[2]\n",
        "doc.nsites == doc.__dict__['nsites']"
      ]
    },
    {
      "cell_type": "code",
      "execution_count": null,
      "metadata": {
        "id": "aQoxuv26P-cl"
      },
      "outputs": [],
      "source": [
        "st = doc.structure"
      ]
    },
    {
      "cell_type": "code",
      "execution_count": null,
      "metadata": {
        "id": "3mmskL6xQzXu"
      },
      "outputs": [],
      "source": [
        "st"
      ]
    },
    {
      "cell_type": "markdown",
      "metadata": {
        "id": "9ur3jlXjWupr"
      },
      "source": [
        "You can save the structures and download them as follows"
      ]
    },
    {
      "cell_type": "code",
      "execution_count": null,
      "metadata": {
        "id": "5zCeSgS9W1qn"
      },
      "outputs": [],
      "source": [
        "import os\n",
        "os.makedirs('cifs', exist_ok = True)\n",
        "for doc in docs:\n",
        "    st = doc.structure\n",
        "    mp_id = doc.material_id\n",
        "    st.to(f'cifs/{mp_id}.cif')"
      ]
    },
    {
      "cell_type": "code",
      "execution_count": null,
      "metadata": {
        "id": "OKsdjyXBXHP3"
      },
      "outputs": [],
      "source": [
        "!zip -r cifs.zip cifs"
      ]
    },
    {
      "cell_type": "code",
      "execution_count": null,
      "metadata": {
        "id": "35xIKeQmRNTo"
      },
      "outputs": [],
      "source": [
        "from google.colab import files\n",
        "files.download('cifs.zip')"
      ]
    },
    {
      "cell_type": "markdown",
      "metadata": {
        "id": "RzILY8QyS4_o"
      },
      "source": [
        "The Materials Project uses corrections to recalculate the total energy. It is done \"to better model energies across diverse chemical spaces\".\n",
        "\n",
        "\n",
        "Have a look at the [documentaion](https://docs.materialsproject.org/methodology/materials-methodology/thermodynamic-stability/thermodynamic-stability)"
      ]
    },
    {
      "cell_type": "code",
      "execution_count": null,
      "metadata": {
        "id": "hE_WWk-IRfTO"
      },
      "outputs": [],
      "source": [
        "doc.energy_per_atom, doc.uncorrected_energy_per_atom"
      ]
    },
    {
      "cell_type": "markdown",
      "metadata": {
        "id": "iWmdYQzg18bI"
      },
      "source": [
        "We can collect a data corresponding to the materials that match our desired properties by passing the specific keywords to the ```search``` method."
      ]
    },
    {
      "cell_type": "code",
      "execution_count": null,
      "metadata": {
        "id": "bl6Jw2tK2KAM"
      },
      "outputs": [],
      "source": [
        "with MPRester(api_key) as mpr:\n",
        "    docs = mpr.materials.summary.search(\n",
        "                              fields = [\n",
        "                                        'structure',\n",
        "                                        'material_id',\n",
        "                                        'nsites',\n",
        "                                        'elements',\n",
        "                                        'nelements',\n",
        "                                        #'composition',\n",
        "                                        #'composition_reduced',\n",
        "                                        'formula_pretty',\n",
        "                                        'chemsys',\n",
        "                                        #'volume',\n",
        "                                        #'density',\n",
        "                                        #'density_atomic',\n",
        "                                        #'symmetry',\n",
        "                                        #'last_updated',\n",
        "                                        'energy_above_hull',\n",
        "                                        'is_stable',\n",
        "                                        'band_gap',\n",
        "                                        'cbm',\n",
        "                                        'vbm',\n",
        "                                        'efermi',\n",
        "                                        # this is not all possbile fields\n",
        "                                        ],\n",
        "                              exclude_elements = [\n",
        "                                        # there is a limit of 15 characters for this query\n",
        "                                                    'U'\n",
        "                                                       ],\n",
        "                              volume = (0, 100),\n",
        "                              is_metal = False,\n",
        "                              energy_above_hull = (0, 0.01),\n",
        "                              band_gap = (3.0, 100.0),\n",
        "                              possible_species = ['Mg2+'],\n",
        ")"
      ]
    },
    {
      "cell_type": "markdown",
      "metadata": {
        "id": "kD71WIzmVWs_"
      },
      "source": [
        "Query data from the Na-P-S system and its subsystems"
      ]
    },
    {
      "cell_type": "code",
      "execution_count": null,
      "metadata": {
        "id": "YgKxrLIqSfWn"
      },
      "outputs": [],
      "source": [
        "# create list with the chemical systems of interest\n",
        "import itertools\n",
        "elements = ['Na', 'P', 'S']\n",
        "\n",
        "chemsys_list = []\n",
        "for i in range(1, len(elements)+1):\n",
        "    els = [list(x) for x in itertools.combinations(elements, i)]\n",
        "    chemsys_list.extend(els)\n"
      ]
    },
    {
      "cell_type": "code",
      "execution_count": null,
      "metadata": {
        "id": "Zleu6binTZKL"
      },
      "outputs": [],
      "source": [
        "chemsys_list = ['-'.join(chemsys) for chemsys in chemsys_list]"
      ]
    },
    {
      "cell_type": "code",
      "execution_count": null,
      "metadata": {
        "id": "dBDfDuRDVN9g"
      },
      "outputs": [],
      "source": [
        "chemsys_list"
      ]
    },
    {
      "cell_type": "code",
      "execution_count": null,
      "metadata": {
        "id": "_sfY6xyJVbjH"
      },
      "outputs": [],
      "source": [
        "from mp_api.client import MPRester\n",
        "\n",
        "docs = []\n",
        "\n",
        "with MPRester(api_key) as mpr:\n",
        "    for chemsys in chemsys_list:\n",
        "        print(chemsys)\n",
        "        docs.extend(\n",
        "                    mpr.materials.summary.search(\n",
        "                                                chemsys= chemsys,\n",
        "                                                fields=[\n",
        "                                                        \"material_id\",\n",
        "                                                        \"band_gap\",\n",
        "                                                        \"chemsys\",\n",
        "                                                        \"energy_per_atom\",\n",
        "                                                        \"uncorrected_energy_per_atom\",\n",
        "                                                        \"structure\",\n",
        "                                                        \"composition\",\n",
        "                                                        \"formula_pretty\",\n",
        "                                                        \"nsites\",\n",
        "                                                        \"e_total\", # this is not the total energy! it is the dielectric tensor\n",
        "                                                        \"formation_energy_per_atom\",\n",
        "                                                        \"energy_above_hull\",\n",
        "                                                        ]\n",
        "                                                ,\n",
        "                                                )\n",
        "                    )"
      ]
    },
    {
      "cell_type": "code",
      "execution_count": null,
      "metadata": {
        "id": "GvalVbTras8I"
      },
      "outputs": [],
      "source": [
        "len(docs)"
      ]
    },
    {
      "cell_type": "code",
      "execution_count": null,
      "metadata": {
        "id": "UQN6zluOXoRM"
      },
      "outputs": [],
      "source": [
        "docs[0]"
      ]
    },
    {
      "cell_type": "markdown",
      "metadata": {
        "id": "8hTJWCuDTvyq"
      },
      "source": [
        "#### Task 1: DataFrame\n",
        "Convert collected docs to the pandas DataFrame"
      ]
    },
    {
      "cell_type": "code",
      "execution_count": null,
      "metadata": {
        "id": "H9Y_I7bfTu6L"
      },
      "outputs": [],
      "source": [
        "table = pd.DataFrame()\n"
      ]
    },
    {
      "cell_type": "code",
      "execution_count": null,
      "metadata": {
        "id": "zuF9bauNUm91"
      },
      "outputs": [],
      "source": [
        "table[table.chemsys == 'P']"
      ]
    },
    {
      "cell_type": "markdown",
      "metadata": {
        "id": "m0Z4uIjkX7ja"
      },
      "source": [
        "### Formation energy\n",
        "\n",
        "Have a look at this [page](https://docs.materialsproject.org/methodology/materials-methodology/thermodynamic-stability/phase-diagrams-pds).\n",
        "\n",
        "\n",
        "\"Formation energy is the energy change upon reacting to form a phase of interest from its constituent components\"\n",
        "\n",
        "$ΔE_{F} = E - ∑^{N}_{i}n_{i}μ_{i}$, where\n",
        "- $E$ is the total energy of the system\n",
        "- $N$ is the number of components in the system\n",
        "- $\\mu$ is the total energy of a component $i$\n",
        "- $n$ is the total number of moles of a component $i$\n"
      ]
    },
    {
      "cell_type": "markdown",
      "metadata": {
        "id": "7OE9ci4dZ05E"
      },
      "source": [
        "### Task 2: Groupby\n",
        "\n",
        "Group your table by 'formula_pretty', keeping only the structure with minimum energy for a given composition.\n",
        "\n",
        "Hint: It's a one-liner"
      ]
    },
    {
      "cell_type": "code",
      "execution_count": null,
      "metadata": {
        "id": "dlhnC5gnX6DR"
      },
      "outputs": [],
      "source": [
        "# table_grouped = "
      ]
    },
    {
      "cell_type": "markdown",
      "metadata": {
        "id": "AUK6el5NPqZj"
      },
      "source": [
        "### Task 3: Formation energy\n",
        "\n",
        "Calculate the formation energy per atom for each structure in the grouped dataframe"
      ]
    },
    {
      "cell_type": "code",
      "execution_count": null,
      "metadata": {
        "id": "jhEawdAZNYvG"
      },
      "outputs": [],
      "source": [
        "terminal_elements_energies = {\n",
        "    'Na': table_grouped[table_grouped.formula_pretty == 'Na'].energy_per_atom.values[0],\n",
        "    'P': table_grouped[table_grouped.formula_pretty == 'P'].energy_per_atom.values[0],\n",
        "    'S': table_grouped[table_grouped.formula_pretty == 'S'].energy_per_atom.values[0],\n",
        "}\n",
        "\n",
        "terminal_elements_energies"
      ]
    },
    {
      "cell_type": "code",
      "execution_count": null,
      "metadata": {
        "id": "wXk9atwetSqe"
      },
      "outputs": [],
      "source": [
        "\n",
        "\n",
        "def calculate_formation_energy(structure, energy_per_atom, terminal_elements_energies):\n",
        "\n",
        "    \"\"\"\n",
        "    This function calculates the formation energy of a given structure\n",
        "\n",
        "    Params\n",
        "    ------\n",
        "\n",
        "    structure: pymatgen's Structure object\n",
        "        system for which the formation energy is calculated\n",
        "\n",
        "    energy_per_atom: float\n",
        "        the calculated total energy of the system\n",
        "        divided by number of atoms in the structure\n",
        "\n",
        "    terminal_elements_energies: dictionary\n",
        "        dictionary with elements and corresponding total energies, e.g. {'Li', -3.3, 'O': -9.1}\n",
        "\n",
        "\n",
        "    Returns\n",
        "    -------\n",
        "\n",
        "    formation energy of the given system\n",
        "\n",
        "    \"\"\"\n",
        "    return e_formation\n",
        "\n",
        "formation_energy = []\n",
        "for st, epa in zip(table_grouped.structure, table_grouped.energy_per_atom):\n",
        "    formation_energy.append(calculate_formation_energy(st, epa, terminal_elements_energies))\n",
        "\n"
      ]
    },
    {
      "cell_type": "code",
      "execution_count": null,
      "metadata": {
        "id": "NLqMgJRwUZ-H"
      },
      "outputs": [],
      "source": [
        "table_grouped['formation_energy_per_atom_custom'] = formation_energy\n",
        "table_grouped[['formula_pretty', 'nsites', 'energy_per_atom', 'formation_energy_per_atom', 'formation_energy_per_atom_custom', 'energy_above_hull']][table_grouped.chemsys == 'Na-P-S']"
      ]
    },
    {
      "cell_type": "markdown",
      "metadata": {
        "id": "Mf9icx02YMMU"
      },
      "source": [
        "As you can see, the calculated formation energies differ from that of the materials projects database. Again, this is due to the corrections used in the MP. Where can we get this corrections?\n",
        "\n",
        "[Anion and GGA/GGA+U mixing](https://docs.materialsproject.org/methodology/materials-methodology/thermodynamic-stability/thermodynamic-stability/anion-and-gga-gga+u-mixing)\n",
        "\n",
        "In the case of simple systems the corrected and uncorrected formation energies are the same. Keep it in mind when comparing your own data (i.e. VASP calculations) with the MP data."
      ]
    },
    {
      "cell_type": "code",
      "execution_count": null,
      "metadata": {
        "id": "0bQFR9MBXDN8"
      },
      "outputs": [],
      "source": [
        "table_grouped['formation_energy_per_atom_custom'] = formation_energy\n",
        "table_grouped[['formula_pretty', 'formation_energy_per_atom', 'formation_energy_per_atom_custom']][table_grouped.chemsys == 'Na-P']"
      ]
    },
    {
      "cell_type": "markdown",
      "metadata": {
        "id": "MESBCoMxZmXH"
      },
      "source": [
        "We can get more details on corrections and the calculation scheme using ```mpr.get_entries_in_chemsys``` to query \"entries\""
      ]
    },
    {
      "cell_type": "code",
      "execution_count": null,
      "metadata": {
        "id": "HshL_dbWpurY"
      },
      "outputs": [],
      "source": [
        "with MPRester(api_key) as mpr:\n",
        "    entries = mpr.get_entries_in_chemsys(elements=[\"Na\", \"P\", \"S\"],\n",
        "                                         additional_criteria={\"thermo_types\": [\"GGA_GGA+U_R2SCAN\"]}\n",
        "                                         )"
      ]
    },
    {
      "cell_type": "code",
      "execution_count": null,
      "metadata": {
        "id": "0S77GSXhqZk8"
      },
      "outputs": [],
      "source": [
        "entries[87].energy, entries[87].correction"
      ]
    },
    {
      "cell_type": "code",
      "execution_count": null,
      "metadata": {
        "id": "bwk5tngnpzhr"
      },
      "outputs": [],
      "source": [
        "entries[87].as_dict()"
      ]
    },
    {
      "cell_type": "markdown",
      "metadata": {
        "id": "x0RY2oD9ih8N"
      },
      "source": [
        "## Part 2. Phase diagrams"
      ]
    },
    {
      "cell_type": "markdown",
      "metadata": {
        "id": "gNX3H2UYfKb5"
      },
      "source": [
        "- We already know how to calculate the formation energy of a system. What about its stability in the presence of competing phases?\n",
        "\n",
        "- In order to assess the thermodynamic stability of the phases present in a given chemical system under given conditions, a phase diagram is used.\n",
        "\n",
        "- We will use Pymatgen for constructing phase diagrams\n",
        "\n",
        "\n",
        "\n",
        "![bg](https://docs.materialsproject.org/~gitbook/image?url=https%3A%2F%2F2369879881-files.gitbook.io%2F%7E%2Ffiles%2Fv0%2Fb%2Fgitbook-x-prod.appspot.com%2Fo%2Fspaces%252F-MhdHkeirg8PPHDHWitE%252Fuploads%252FUUwwBplE1nvT2luYq6YE%252F10853_2022_6915_Fig1_HTML.webp%3Falt%3Dmedia%26token%3D3b882c43-23f3-487b-b8e1-13e35235021d&width=768&dpr=2&quality=100&sign=f9ceca5&sv=1)\n",
        "\n"
      ]
    },
    {
      "cell_type": "markdown",
      "metadata": {},
      "source": [
        "![bg](https://media.geeksforgeeks.org/wp-content/uploads/20240720163903/Convex-Hull.jpg)"
      ]
    },
    {
      "cell_type": "markdown",
      "metadata": {},
      "source": [
        "\"The convex hull is the smallest convex set that encloses all the points, forming a convex polygon\"\n",
        "\n",
        "[Source](https://www.geeksforgeeks.org/convex-hull-algorithm/)"
      ]
    },
    {
      "cell_type": "code",
      "execution_count": null,
      "metadata": {
        "id": "O0cMDnMhfAer"
      },
      "outputs": [],
      "source": [
        "import pandas as pd\n",
        "from pymatgen.analysis.phase_diagram import PhaseDiagram, PDPlotter\n",
        "from pymatgen.entries.compatibility import MaterialsProjectCompatibility\n",
        "\n",
        "# collect the data\n",
        "with MPRester(api_key) as mpr:\n",
        "    unprocessed_entries = mpr.get_entries_in_chemsys(elements=[\"Na\", \"P\"],\n",
        "                                         additional_criteria={\"thermo_types\": [\"GGA_GGA+U_R2SCAN\"]}\n",
        "                                        )\n",
        "\n",
        "# create the phase diagram\n",
        "diagram = PhaseDiagram(unprocessed_entries)\n",
        "\n",
        "# calcualte formation energy using Pymatgen\n",
        "formation_energies = []\n",
        "for entry in unprocessed_entries:\n",
        "    formation_energies.append(diagram.get_form_energy_per_atom(entry))\n",
        "\n",
        "#compat = MaterialsProjectCompatibility()\n",
        "#processed_entries = compat.process_entries(unprocessed_entries)  # filter and add energy corrections\n"
      ]
    },
    {
      "cell_type": "code",
      "execution_count": null,
      "metadata": {
        "id": "4YE8iIKqnmrK"
      },
      "outputs": [],
      "source": [
        "len(unprocessed_entries)"
      ]
    },
    {
      "cell_type": "code",
      "execution_count": null,
      "metadata": {
        "id": "Ri3WfifambhL"
      },
      "outputs": [],
      "source": [
        "plotter = PDPlotter(diagram, show_unstable=True)\n",
        "plotter.show()"
      ]
    },
    {
      "cell_type": "code",
      "execution_count": null,
      "metadata": {
        "id": "DI5QU0PpaCnT"
      },
      "outputs": [],
      "source": [
        "stable_entries = diagram.stable_entries\n",
        "\n",
        "diagram.get_e_above_hull(unprocessed_entries[6])"
      ]
    },
    {
      "cell_type": "code",
      "execution_count": null,
      "metadata": {
        "id": "rQWoDMVEqNwD"
      },
      "outputs": [],
      "source": [
        "import pandas as pd\n",
        "from pymatgen.analysis.phase_diagram import PhaseDiagram, PDPlotter\n",
        "from pymatgen.entries.compatibility import MaterialsProjectCompatibility\n",
        "\n",
        "diagram = PhaseDiagram(entries)\n",
        "formation_energies = []\n",
        "for entry in entries:\n",
        "    formation_energies.append(diagram.get_form_energy_per_atom(entry))\n",
        "\n",
        "\n",
        "with MPRester(api_key) as mpr:\n",
        "    unprocessed_entries = mpr.get_entries_in_chemsys(\n",
        "                                                    elements=[\"Na\", \"S\", \"P\"],\n",
        "                                                    additional_criteria={\"thermo_types\": [\"GGA_GGA+U\"]}\n",
        "\n",
        "                                                     )\n",
        "compat = MaterialsProjectCompatibility()\n",
        "#processed_entries = compat.process_entries(unprocessed_entries)  # filter and add energy corrections\n",
        "diagram = PhaseDiagram(unprocessed_entries)\n",
        "\n",
        "\n"
      ]
    },
    {
      "cell_type": "code",
      "execution_count": null,
      "metadata": {
        "id": "g9Z5uDRHqRcN"
      },
      "outputs": [],
      "source": [
        "plotter = PDPlotter(diagram, show_unstable=False)\n",
        "plotter.show()"
      ]
    },
    {
      "cell_type": "code",
      "execution_count": null,
      "metadata": {
        "id": "FjA3mENXaoGw"
      },
      "outputs": [],
      "source": [
        "import pandas as pd\n",
        "from pymatgen.analysis.phase_diagram import PhaseDiagram, PDPlotter\n",
        "from pymatgen.entries.compatibility import MaterialsProjectCompatibility\n",
        "\n",
        "diagram = PhaseDiagram(entries)\n",
        "formation_energies = []\n",
        "for entry in entries:\n",
        "    formation_energies.append(diagram.get_form_energy_per_atom(entry))\n",
        "\n",
        "\n",
        "with MPRester(api_key) as mpr:\n",
        "    unprocessed_entries = mpr.get_entries_in_chemsys(\n",
        "                                                    elements=[\"Na\", \"Sn\", \"Ge\", \"P\"],\n",
        "                                                    additional_criteria={\"thermo_types\": [\"GGA_GGA+U\"]}\n",
        "\n",
        "                                                     )\n",
        "#compat = MaterialsProjectCompatibility()\n",
        "#processed_entries = compat.process_entries(unprocessed_entries)  # filter and add energy corrections\n",
        "diagram = PhaseDiagram(unprocessed_entries)\n"
      ]
    },
    {
      "cell_type": "code",
      "execution_count": null,
      "metadata": {
        "id": "aw7B5fQ3auHo"
      },
      "outputs": [],
      "source": [
        "plotter = PDPlotter(diagram, show_unstable=False)\n",
        "plotter.show()"
      ]
    },
    {
      "cell_type": "markdown",
      "metadata": {},
      "source": [
        "### Task 4: Local environment\n",
        "\n",
        "- Collect stable Li, Na, K-based phosphates\n",
        "- Calculate average X-O distance for the collected compounds (X = Li, Na, K)\n",
        "\n",
        "- Calculate effective coordination number of X in the collected crystals\n"
      ]
    },
    {
      "cell_type": "code",
      "execution_count": 74,
      "metadata": {},
      "outputs": [
        {
          "data": {
            "application/vnd.jupyter.widget-view+json": {
              "model_id": "1a42dd7a52d24b6e8eb9dc1dd88ca13f",
              "version_major": 2,
              "version_minor": 0
            },
            "text/plain": [
              "Retrieving SummaryDoc documents:   0%|          | 0/3 [00:00<?, ?it/s]"
            ]
          },
          "metadata": {},
          "output_type": "display_data"
        }
      ],
      "source": [
        "with MPRester(api_key) as mpr:\n",
        "    docs = mpr.materials.summary.search(\n",
        "                              fields = [\n",
        "                                        'structure',\n",
        "                                        'material_id',                            \n",
        "                                        'formula_pretty',\n",
        "                                        'chemsys',\n",
        "                                        'band_gap',\n",
        "                                        ],\n",
        "                              #volume = (0, 200),\n",
        "                              is_stable = True,\n",
        "                              chemsys = ['K-P-O']\n",
        ")"
      ]
    },
    {
      "cell_type": "code",
      "execution_count": 75,
      "metadata": {},
      "outputs": [],
      "source": [
        "def _effective_coordination_number(areas):\n",
        "    return np.square(np.array(areas).sum()) / np.square(areas).sum()\n",
        "    "
      ]
    },
    {
      "cell_type": "code",
      "execution_count": 76,
      "metadata": {},
      "outputs": [],
      "source": [
        "from pymatgen.analysis.local_env import VoronoiNN\n",
        "\n",
        "CN = []\n",
        "average_distance = []\n",
        "\n",
        "for doc in docs:\n",
        "\n",
        "    # get structure\n",
        "    st = doc.structure\n",
        "\n",
        "    # create calculator\n",
        "    calc = VoronoiNN()\n",
        "\n",
        "    # itetrate over the sites\n",
        "    for i in range(len(st)):\n",
        "\n",
        "        # if element sitting at the curent site != 'K'\n",
        "        if str(st.sites[i].specie) != 'K':\n",
        "            continue\n",
        "            \n",
        "        # else collect features related to the Voronoi polyhedron \n",
        "        # constructed around the site\n",
        "        poly_data = calc.get_voronoi_polyhedra(st, i)\n",
        "        \n",
        "        # features we want to collect\n",
        "        areas = []\n",
        "        distances = []\n",
        "        for nn in poly_data.keys():\n",
        "            areas.append(poly_data[nn]['area']) # area of each face is added to the list\n",
        "            distances.append(poly_data[nn]['face_dist'] * 2) # multiple by 2 to get bond distance\n",
        "        \n",
        "        CN.append(_effective_coordination_number(areas)) # append effective CN\n",
        "        average_distance.append(np.mean(distances))\n",
        "        \n"
      ]
    },
    {
      "cell_type": "code",
      "execution_count": 69,
      "metadata": {},
      "outputs": [
        {
          "data": {
            "text/plain": [
              "(6.125781784788985, 2.9731320626308335)"
            ]
          },
          "execution_count": 69,
          "metadata": {},
          "output_type": "execute_result"
        }
      ],
      "source": [
        "np.mean(CN), np.mean(average_distance) # Li"
      ]
    },
    {
      "cell_type": "code",
      "execution_count": 73,
      "metadata": {},
      "outputs": [
        {
          "data": {
            "text/plain": [
              "(7.6790668500140935, 3.1695589807488913)"
            ]
          },
          "execution_count": 73,
          "metadata": {},
          "output_type": "execute_result"
        }
      ],
      "source": [
        "np.mean(CN), np.mean(average_distance) # Na"
      ]
    },
    {
      "cell_type": "code",
      "execution_count": 77,
      "metadata": {},
      "outputs": [
        {
          "data": {
            "text/plain": [
              "(9.948639560746765, 3.4212910916824675)"
            ]
          },
          "execution_count": 77,
          "metadata": {},
          "output_type": "execute_result"
        }
      ],
      "source": [
        "np.mean(CN), np.mean(average_distance) # K"
      ]
    },
    {
      "cell_type": "markdown",
      "metadata": {
        "id": "JLAzI64k9Fiv"
      },
      "source": [
        "## Part 3. Electrochemical stability of a solid electrolyte\n",
        "\n",
        "\"The electrochemical window (EW) of a substance is the electrode electric potential range between which the substance is neither oxidized nor reduced.\" ([link](https://en.wikipedia.org/wiki/Electrochemical_window))"
      ]
    },
    {
      "cell_type": "code",
      "execution_count": null,
      "metadata": {
        "id": "5mQ1ths49LWW"
      },
      "outputs": [],
      "source": [
        "# query entries\n",
        "chemsys = 'Na-P-S'\n",
        "\n",
        "with MPRester(api_key = api_key) as mp_rester:\n",
        "\n",
        "    entry = mp_rester.get_entry_by_material_id('mp-28782')[0] # Na3PS4\n",
        "    entries = mp_rester.get_entries_in_chemsys(chemsys, compatible_only=True)"
      ]
    },
    {
      "cell_type": "code",
      "execution_count": null,
      "metadata": {
        "id": "9hb8K9e9Wu-R"
      },
      "outputs": [],
      "source": [
        "from pymatgen.core import Element\n",
        "import re\n",
        "\n",
        "# construct phase diagram\n",
        "ref_element = 'Na'\n",
        "phase_diagram = PhaseDiagram([entry] + entries)\n",
        "Na_entries = [e for e in entries if e.composition.reduced_formula == ref_element]\n",
        "uNa0 = min(Na_entries, key=lambda e: e.energy_per_atom).energy_per_atom\n",
        "el_profile = phase_diagram.get_element_profile(Element(ref_element), entry.composition)\n",
        "\n",
        "# plot profile\n",
        "fig, ax = plt.subplots(dpi = 150)\n",
        "\n",
        "tol = 1e-3\n",
        "limits = []\n",
        "for i, d in enumerate(el_profile):\n",
        "\n",
        "\n",
        "\n",
        "    v = -(d[\"chempot\"] - uNa0)\n",
        "    print(i, d['reaction'], v)\n",
        "\n",
        "    if i != 0:\n",
        "        ax.plot([x2, x2], [y1, d[\"evolution\"] / 2.0], \"k\", linewidth=2)\n",
        "        print(x2)\n",
        "    x1 = v\n",
        "    y1 = d[\"evolution\"] / 2.0\n",
        "    if abs(d['evolution']) < tol:\n",
        "        limits.append(v)\n",
        "        limits.append(-(el_profile[i + 1]['chempot'] - uNa0))\n",
        "\n",
        "    if i != len(el_profile) - 1:\n",
        "        x2 = -(el_profile[i + 1][\"chempot\"] - uNa0)\n",
        "    else:\n",
        "        x2 = 5.0\n",
        "\n",
        "    if i in [k for k in range(len(el_profile))]:\n",
        "        products = [\n",
        "            re.sub(r\"(\\d+)\", r\"$_{\\1}$\", p.reduced_formula)\n",
        "            for p in d[\"reaction\"].products\n",
        "            if p.reduced_formula != ref_element\n",
        "        ]\n",
        "\n",
        "        shift = 0.05\n",
        "\n",
        "        ax.annotate(\n",
        "            \", \".join(products), xy=(v + shift, y1 + shift), fontsize=8, color='k'\n",
        "        )\n",
        "\n",
        "        ax.plot([x1, x2], [y1, y1], color='darkred', linewidth=2)\n",
        "    else:\n",
        "        ax.plot([x1, x2], [y1, y1], \"k\", linewidth = 2)\n",
        "\n",
        "\n",
        "ax.set_xlabel(\"Potential vs Na/Na+, eV\")\n",
        "ax.set_ylabel(\"Na uptake per f.u.\")\n",
        "\n",
        "plt.tight_layout()\n"
      ]
    },
    {
      "cell_type": "code",
      "execution_count": null,
      "metadata": {
        "id": "jVnhoe7ZFGL7"
      },
      "outputs": [],
      "source": [
        "limits"
      ]
    },
    {
      "cell_type": "markdown",
      "metadata": {
        "id": "PcVA5az53Ftf"
      },
      "source": [
        "## Part 4. Screening of solid electrolytes for K-ion solid state batteries\n",
        "\n",
        "A solid electrolyte should be:\n",
        "\n",
        "- electronic insulator\n",
        "- good ionic conductor\n",
        "\n",
        "- stable vs. metal anode\n",
        "\n",
        "Task:\n",
        "\n",
        "- Collect mp_ids, chemical systems and band gap values for the stable K-ion containing structures with:\n",
        "    - Eg > 2.0\n",
        "    - Volume < 200 Å^3\n",
        "    - < 4 elements\n",
        "- Calculate electrochemical windows for the collected materials\n",
        "- Collect data in the pandas DataFrame\n",
        "\n",
        "- Identify the most promising candidates for the next stage of the screening"
      ]
    },
    {
      "cell_type": "code",
      "execution_count": null,
      "metadata": {
        "id": "xqXgx2md4i8o"
      },
      "outputs": [],
      "source": [
        "with MPRester(api_key) as mpr:\n",
        "    docs = mpr.materials.summary.search(\n",
        "                              fields = [\n",
        "                                        'material_id',\n",
        "                                        'chemsys',\n",
        "                                        'band_gap',\n",
        "                                        ],\n",
        "                              volume = (0, 200),\n",
        "                              is_stable = True,\n",
        "                              band_gap = (2.0, 1000.0),\n",
        "                              possible_species = ['K+'],\n",
        "                              exclude_elements = ['Pb'],\n",
        "                              num_elements= (1, 4),\n",
        ")"
      ]
    },
    {
      "cell_type": "code",
      "execution_count": null,
      "metadata": {
        "id": "YJmayb72554U"
      },
      "outputs": [],
      "source": [
        "keys = [\n",
        "\"material_id\",\n",
        "\"band_gap\",\n",
        "\"chemsys\",\n",
        "]\n",
        "\n",
        "table = pd.DataFrame()\n",
        "\n",
        "for key in keys:\n",
        "    data = []\n",
        "    for doc in docs:\n",
        "        data.append(doc.__dict__[key])\n",
        "    table[key] = data"
      ]
    },
    {
      "cell_type": "code",
      "execution_count": null,
      "metadata": {
        "id": "dLs3YBht5rLd"
      },
      "outputs": [],
      "source": [
        "table"
      ]
    },
    {
      "cell_type": "code",
      "execution_count": null,
      "metadata": {
        "id": "Gd1kFIFZ62M9"
      },
      "outputs": [],
      "source": [
        "from pymatgen.core import Element\n",
        "\n",
        "def elchem_window(entry, entries, ref_element = 'K', tol = 1e-3):\n",
        "\n",
        "    # construct phase diagram\n",
        "    phase_diagram = PhaseDiagram([entry] + entries)\n",
        "    ref_element_entries = [e for e in entries if e.composition.reduced_formula == ref_element]\n",
        "    u0 = min(ref_element_entries, key=lambda e: e.energy_per_atom).energy_per_atom\n",
        "    el_profile = phase_diagram.get_element_profile(Element(ref_element), entry.composition)\n",
        "    limits = [None, None]\n",
        "    for i, d in enumerate(el_profile):\n",
        "        voltage = -(d[\"chempot\"] - u0)\n",
        "        evolution =  d[\"evolution\"]\n",
        "        if abs(evolution) < tol:\n",
        "            print(d['reaction'], voltage)\n",
        "            limits[0] = voltage\n",
        "            limits[1] = float(-(el_profile[i+1]['chempot'] - u0))\n",
        "    return limits"
      ]
    },
    {
      "cell_type": "code",
      "execution_count": null,
      "metadata": {
        "id": "sIVaBaqU7ikg"
      },
      "outputs": [],
      "source": [
        "mp_ids, reduction_limits, oxidation_limits = [], [], []\n",
        "\n",
        "with MPRester(api_key = api_key) as mp_rester:\n",
        "    for i, doc in enumerate(docs):\n",
        "        mp_id = str(doc.material_id)\n",
        "        chemsys = doc.chemsys.split('-')\n",
        "        mp_ids.append(mp_id)\n",
        "        entry = mp_rester.get_entry_by_material_id(mp_id)[0]\n",
        "        entries = mp_rester.get_entries_in_chemsys(chemsys, compatible_only=True)\n",
        "        limits = elchem_window(entry, entries, ref_element = 'K')\n",
        "        reduction_limits.append(limits[0])\n",
        "        oxidation_limits.append(limits[1])\n",
        "        break"
      ]
    },
    {
      "cell_type": "markdown",
      "metadata": {
        "id": "Gbjl96aHzgpa"
      },
      "source": [
        "## Part 5. Other data \n",
        "\n"
      ]
    },
    {
      "cell_type": "markdown",
      "metadata": {
        "id": "Bi6RqeNjdams"
      },
      "source": [
        "### Density of states"
      ]
    },
    {
      "cell_type": "code",
      "execution_count": null,
      "metadata": {
        "id": "SFmz9aXydcc9"
      },
      "outputs": [],
      "source": [
        "from mp_api.client import MPRester\n",
        "\n",
        "with MPRester(api_key) as mpr:\n",
        "    dos = mpr.get_dos_by_material_id(\"mp-149\")"
      ]
    },
    {
      "cell_type": "code",
      "execution_count": null,
      "metadata": {
        "id": "cUqip4x-d7n9"
      },
      "outputs": [],
      "source": [
        "dos.as_dict()['densities'].keys()"
      ]
    },
    {
      "cell_type": "code",
      "execution_count": null,
      "metadata": {
        "id": "eBF7XDTfdgAv"
      },
      "outputs": [],
      "source": [
        "fig, ax = plt.subplots(dpi = 150)\n",
        "\n",
        "energies = dos.energies\n",
        "density_up = dos.as_dict()['densities']['1']\n",
        "\n",
        "efermi = dos.efermi\n",
        "ax.plot(energies, density_up, label = 'Total DOS')\n",
        "ax.set_xlabel('Energy, eV')\n",
        "ax.set_ylabel('Density, states/eV')\n",
        "ax.vlines(efermi, min(density_up), max(density_up), color = 'k', linestyle = '--', label = 'Fermi level')\n",
        "ax.legend()\n"
      ]
    },
    {
      "cell_type": "markdown",
      "metadata": {
        "id": "Ztdp0HfGbuI5"
      },
      "source": [
        "### Charge density"
      ]
    },
    {
      "cell_type": "code",
      "execution_count": null,
      "metadata": {
        "id": "bC3ABzdVbvrF"
      },
      "outputs": [],
      "source": [
        "from mp_api.client import MPRester\n",
        "\n",
        "with MPRester(api_key) as mpr:\n",
        "    chgcar = mpr.get_charge_density_from_material_id(\"mp-149\")\n",
        "data = (chgcar.data['total'] - chgcar.data['diff']) / 2"
      ]
    },
    {
      "cell_type": "code",
      "execution_count": null,
      "metadata": {
        "id": "n0LZMQH0e4UM"
      },
      "outputs": [],
      "source": [
        "coords = np.argwhere(chgcar.data['total'])"
      ]
    },
    {
      "cell_type": "code",
      "execution_count": null,
      "metadata": {
        "id": "vIi2ODYlfpaG"
      },
      "outputs": [],
      "source": [
        "x, y, z = coords[0, :], coords[1, :], coords[:, 2]\n",
        "vol = data.reshape(-1,)"
      ]
    },
    {
      "cell_type": "code",
      "execution_count": null,
      "metadata": {
        "id": "lMsulEnGgKBP"
      },
      "outputs": [],
      "source": [
        "import numpy as np\n",
        "from numpy import cos, pi\n",
        "from skimage.measure import marching_cubes\n",
        "import matplotlib.pyplot as plt\n",
        "from mpl_toolkits.mplot3d import Axes3D\n",
        "\n",
        "iso_val = 10\n",
        "verts, faces, _, _ = marching_cubes(data, iso_val, spacing=(0.1, 0.1, 0.1))\n",
        "\n",
        "fig = plt.figure()\n",
        "ax = fig.add_subplot(111, projection='3d')\n",
        "ax.plot_trisurf(verts[:, 0], verts[:,1], faces, verts[:, 2], cmap='Spectral',\n",
        "                lw=1)\n",
        "plt.show()"
      ]
    },
    {
      "cell_type": "code",
      "execution_count": null,
      "metadata": {
        "id": "yqXwm3STf1V8"
      },
      "outputs": [],
      "source": []
    },
    {
      "cell_type": "markdown",
      "metadata": {
        "id": "5m4hWhIm-hc1"
      },
      "source": [
        "### Phonons band structure"
      ]
    },
    {
      "cell_type": "code",
      "execution_count": null,
      "metadata": {
        "id": "j0aDCB5s-ghc"
      },
      "outputs": [],
      "source": [
        "from mp_api.client import MPRester\n",
        "\n",
        "with MPRester(api_key) as mpr:\n",
        "    ph_bs = mpr.get_phonon_bandstructure_by_material_id(\"mp-149\")"
      ]
    },
    {
      "cell_type": "code",
      "execution_count": null,
      "metadata": {
        "id": "_YEyJ7sz_Fdf"
      },
      "outputs": [],
      "source": [
        "ph_bs.as_dict().keys()"
      ]
    },
    {
      "cell_type": "code",
      "execution_count": null,
      "metadata": {
        "id": "5UzbtRCu_Z16"
      },
      "outputs": [],
      "source": [
        "# ph_bs.eigendisplacements"
      ]
    },
    {
      "cell_type": "code",
      "execution_count": null,
      "metadata": {
        "id": "cYfsSVkB-z8Z"
      },
      "outputs": [],
      "source": [
        "\n",
        "for q, band in zip(ph_bs.qpoints, ph_bs.bands):\n",
        "    plt.plot(band)\n",
        "\n"
      ]
    },
    {
      "cell_type": "markdown",
      "metadata": {
        "id": "KsvwKMuR-okR"
      },
      "source": [
        "### Phonon density of states"
      ]
    },
    {
      "cell_type": "code",
      "execution_count": null,
      "metadata": {
        "id": "FcK3FcYY-p4p"
      },
      "outputs": [],
      "source": [
        "from mp_api.client import MPRester\n",
        "from emmet.core.electronic_structure import BSPathType\n",
        "\n",
        "with MPRester(api_key) as mpr:\n",
        "    ph_dos = mpr.get_phonon_dos_by_material_id(\"mp-149\")"
      ]
    },
    {
      "cell_type": "code",
      "execution_count": null,
      "metadata": {
        "id": "sbaI2LZffBYq"
      },
      "outputs": [],
      "source": [
        "plt.plot(ph_dos.frequencies, ph_dos.densities)"
      ]
    }
  ],
  "metadata": {
    "colab": {
      "provenance": []
    },
    "kernelspec": {
      "display_name": "Python 3",
      "name": "python3"
    },
    "language_info": {
      "codemirror_mode": {
        "name": "ipython",
        "version": 3
      },
      "file_extension": ".py",
      "mimetype": "text/x-python",
      "name": "python",
      "nbconvert_exporter": "python",
      "pygments_lexer": "ipython3",
      "version": "3.8.8"
    }
  },
  "nbformat": 4,
  "nbformat_minor": 0
}
