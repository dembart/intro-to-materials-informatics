{
  "cells": [
    {
      "cell_type": "markdown",
      "id": "iaPPbv84edGN",
      "metadata": {
        "id": "iaPPbv84edGN"
      },
      "source": [
        "### Seminar 8: Intro to graph neural networks (GNNs)\n",
        "\n",
        "Goals/Agenda\n",
        "\n",
        "- Construct periodic graphs\n",
        "- Reproduce [CGCNN](https://arxiv.org/abs/1710.10324) model  from scratch\n",
        "\n",
        "- Train regression model for prediction of formation energy of crystal structures"
      ]
    },
    {
      "cell_type": "markdown",
      "id": "UH5ocvYYegwB",
      "metadata": {
        "id": "UH5ocvYYegwB"
      },
      "source": [
        "### First of all enable GPU acceleration\n",
        "Go Runtime->Change runtime type->T4 GPU"
      ]
    },
    {
      "cell_type": "code",
      "execution_count": 1,
      "id": "9lyJ6_lOeisC",
      "metadata": {
        "colab": {
          "base_uri": "https://localhost:8080/"
        },
        "id": "9lyJ6_lOeisC",
        "outputId": "f2028d85-b365-4b76-db5d-6e2eedecb6ac"
      },
      "outputs": [
        {
          "name": "stdout",
          "output_type": "stream",
          "text": [
            "Looking in links: https://data.pyg.org/whl/torch-2.8.0+cu126.html\n",
            "Collecting torch-scatter\n",
            "  Downloading https://data.pyg.org/whl/torch-2.8.0%2Bcu126/torch_scatter-2.1.2%2Bpt28cu126-cp312-cp312-linux_x86_64.whl (10.9 MB)\n",
            "\u001b[2K     \u001b[90m━━━━━━━━━━━━━━━━━━━━━━━━━━━━━━━━━━━━━━━━\u001b[0m \u001b[32m10.9/10.9 MB\u001b[0m \u001b[31m43.8 MB/s\u001b[0m eta \u001b[36m0:00:00\u001b[0m\n",
            "\u001b[?25hInstalling collected packages: torch-scatter\n",
            "Successfully installed torch-scatter-2.1.2+pt28cu126\n",
            "Looking in links: https://data.pyg.org/whl/torch-2.8.0+cu126.html\n",
            "Collecting torch-sparse\n",
            "  Downloading https://data.pyg.org/whl/torch-2.8.0%2Bcu126/torch_sparse-0.6.18%2Bpt28cu126-cp312-cp312-linux_x86_64.whl (5.2 MB)\n",
            "\u001b[2K     \u001b[90m━━━━━━━━━━━━━━━━━━━━━━━━━━━━━━━━━━━━━━━━\u001b[0m \u001b[32m5.2/5.2 MB\u001b[0m \u001b[31m71.2 MB/s\u001b[0m eta \u001b[36m0:00:00\u001b[0m\n",
            "\u001b[?25hRequirement already satisfied: scipy in /usr/local/lib/python3.12/dist-packages (from torch-sparse) (1.16.2)\n",
            "Requirement already satisfied: numpy<2.6,>=1.25.2 in /usr/local/lib/python3.12/dist-packages (from scipy->torch-sparse) (2.0.2)\n",
            "Installing collected packages: torch-sparse\n",
            "Successfully installed torch-sparse-0.6.18+pt28cu126\n",
            "Looking in links: https://data.pyg.org/whl/torch-2.8.0+cu126.html\n",
            "Collecting torch-cluster\n",
            "  Downloading https://data.pyg.org/whl/torch-2.8.0%2Bcu126/torch_cluster-1.6.3%2Bpt28cu126-cp312-cp312-linux_x86_64.whl (3.3 MB)\n",
            "\u001b[2K     \u001b[90m━━━━━━━━━━━━━━━━━━━━━━━━━━━━━━━━━━━━━━━━\u001b[0m \u001b[32m3.3/3.3 MB\u001b[0m \u001b[31m49.2 MB/s\u001b[0m eta \u001b[36m0:00:00\u001b[0m\n",
            "\u001b[?25hRequirement already satisfied: scipy in /usr/local/lib/python3.12/dist-packages (from torch-cluster) (1.16.2)\n",
            "Requirement already satisfied: numpy<2.6,>=1.25.2 in /usr/local/lib/python3.12/dist-packages (from scipy->torch-cluster) (2.0.2)\n",
            "Installing collected packages: torch-cluster\n",
            "Successfully installed torch-cluster-1.6.3+pt28cu126\n",
            "Looking in links: https://data.pyg.org/whl/torch-2.8.0+cu126.html\n",
            "Collecting torch-spline-conv\n",
            "  Downloading https://data.pyg.org/whl/torch-2.8.0%2Bcu126/torch_spline_conv-1.2.2%2Bpt28cu126-cp312-cp312-linux_x86_64.whl (1.1 MB)\n",
            "\u001b[2K     \u001b[90m━━━━━━━━━━━━━━━━━━━━━━━━━━━━━━━━━━━━━━━━\u001b[0m \u001b[32m1.1/1.1 MB\u001b[0m \u001b[31m20.3 MB/s\u001b[0m eta \u001b[36m0:00:00\u001b[0m\n",
            "\u001b[?25hInstalling collected packages: torch-spline-conv\n",
            "Successfully installed torch-spline-conv-1.2.2+pt28cu126\n",
            "Collecting torch-geometric\n",
            "  Downloading torch_geometric-2.6.1-py3-none-any.whl.metadata (63 kB)\n",
            "\u001b[2K     \u001b[90m━━━━━━━━━━━━━━━━━━━━━━━━━━━━━━━━━━━━━━━━\u001b[0m \u001b[32m63.1/63.1 kB\u001b[0m \u001b[31m3.6 MB/s\u001b[0m eta \u001b[36m0:00:00\u001b[0m\n",
            "\u001b[?25hRequirement already satisfied: aiohttp in /usr/local/lib/python3.12/dist-packages (from torch-geometric) (3.12.15)\n",
            "Requirement already satisfied: fsspec in /usr/local/lib/python3.12/dist-packages (from torch-geometric) (2025.3.0)\n",
            "Requirement already satisfied: jinja2 in /usr/local/lib/python3.12/dist-packages (from torch-geometric) (3.1.6)\n",
            "Requirement already satisfied: numpy in /usr/local/lib/python3.12/dist-packages (from torch-geometric) (2.0.2)\n",
            "Requirement already satisfied: psutil>=5.8.0 in /usr/local/lib/python3.12/dist-packages (from torch-geometric) (5.9.5)\n",
            "Requirement already satisfied: pyparsing in /usr/local/lib/python3.12/dist-packages (from torch-geometric) (3.2.4)\n",
            "Requirement already satisfied: requests in /usr/local/lib/python3.12/dist-packages (from torch-geometric) (2.32.4)\n",
            "Requirement already satisfied: tqdm in /usr/local/lib/python3.12/dist-packages (from torch-geometric) (4.67.1)\n",
            "Requirement already satisfied: aiohappyeyeballs>=2.5.0 in /usr/local/lib/python3.12/dist-packages (from aiohttp->torch-geometric) (2.6.1)\n",
            "Requirement already satisfied: aiosignal>=1.4.0 in /usr/local/lib/python3.12/dist-packages (from aiohttp->torch-geometric) (1.4.0)\n",
            "Requirement already satisfied: attrs>=17.3.0 in /usr/local/lib/python3.12/dist-packages (from aiohttp->torch-geometric) (25.3.0)\n",
            "Requirement already satisfied: frozenlist>=1.1.1 in /usr/local/lib/python3.12/dist-packages (from aiohttp->torch-geometric) (1.7.0)\n",
            "Requirement already satisfied: multidict<7.0,>=4.5 in /usr/local/lib/python3.12/dist-packages (from aiohttp->torch-geometric) (6.6.4)\n",
            "Requirement already satisfied: propcache>=0.2.0 in /usr/local/lib/python3.12/dist-packages (from aiohttp->torch-geometric) (0.3.2)\n",
            "Requirement already satisfied: yarl<2.0,>=1.17.0 in /usr/local/lib/python3.12/dist-packages (from aiohttp->torch-geometric) (1.20.1)\n",
            "Requirement already satisfied: MarkupSafe>=2.0 in /usr/local/lib/python3.12/dist-packages (from jinja2->torch-geometric) (3.0.2)\n",
            "Requirement already satisfied: charset_normalizer<4,>=2 in /usr/local/lib/python3.12/dist-packages (from requests->torch-geometric) (3.4.3)\n",
            "Requirement already satisfied: idna<4,>=2.5 in /usr/local/lib/python3.12/dist-packages (from requests->torch-geometric) (3.10)\n",
            "Requirement already satisfied: urllib3<3,>=1.21.1 in /usr/local/lib/python3.12/dist-packages (from requests->torch-geometric) (2.5.0)\n",
            "Requirement already satisfied: certifi>=2017.4.17 in /usr/local/lib/python3.12/dist-packages (from requests->torch-geometric) (2025.8.3)\n",
            "Requirement already satisfied: typing-extensions>=4.2 in /usr/local/lib/python3.12/dist-packages (from aiosignal>=1.4.0->aiohttp->torch-geometric) (4.15.0)\n",
            "Downloading torch_geometric-2.6.1-py3-none-any.whl (1.1 MB)\n",
            "\u001b[2K   \u001b[90m━━━━━━━━━━━━━━━━━━━━━━━━━━━━━━━━━━━━━━━━\u001b[0m \u001b[32m1.1/1.1 MB\u001b[0m \u001b[31m31.0 MB/s\u001b[0m eta \u001b[36m0:00:00\u001b[0m\n",
            "\u001b[?25hInstalling collected packages: torch-geometric\n",
            "Successfully installed torch-geometric-2.6.1\n"
          ]
        }
      ],
      "source": [
        "# install torch-geometric, torch-scatter, etc\n",
        "# https://gist.github.com/ameya98/b193856171d11d37ada46458f60e73e7\n",
        "\n",
        "import torch\n",
        "\n",
        "def format_pytorch_version(version):\n",
        "  return version.split('+')[0]\n",
        "\n",
        "TORCH_version = torch.__version__\n",
        "TORCH = format_pytorch_version(TORCH_version)\n",
        "\n",
        "def format_cuda_version(version):\n",
        "  return 'cu' + version.replace('.', '')\n",
        "\n",
        "CUDA_version = torch.version.cuda\n",
        "CUDA = format_cuda_version(CUDA_version)\n",
        "\n",
        "!pip install torch-scatter -f https://data.pyg.org/whl/torch-{TORCH}+{CUDA}.html\n",
        "!pip install torch-sparse -f https://data.pyg.org/whl/torch-{TORCH}+{CUDA}.html\n",
        "!pip install torch-cluster -f https://data.pyg.org/whl/torch-{TORCH}+{CUDA}.html\n",
        "!pip install torch-spline-conv -f https://data.pyg.org/whl/torch-{TORCH}+{CUDA}.html\n",
        "!pip install torch-geometric"
      ]
    },
    {
      "cell_type": "code",
      "execution_count": 2,
      "id": "FixedUWJekOi",
      "metadata": {
        "colab": {
          "base_uri": "https://localhost:8080/"
        },
        "id": "FixedUWJekOi",
        "outputId": "d9f9a715-bc8f-402f-85a4-f04125f6e948"
      },
      "outputs": [
        {
          "data": {
            "text/plain": [
              "True"
            ]
          },
          "execution_count": 2,
          "metadata": {},
          "output_type": "execute_result"
        }
      ],
      "source": [
        "torch.cuda.is_available()"
      ]
    },
    {
      "cell_type": "code",
      "execution_count": 3,
      "id": "chxg4xvPhkIW",
      "metadata": {
        "colab": {
          "base_uri": "https://localhost:8080/"
        },
        "id": "chxg4xvPhkIW",
        "outputId": "8694ab68-ca33-4e67-fae9-687cba781595"
      },
      "outputs": [
        {
          "name": "stdout",
          "output_type": "stream",
          "text": [
            "Collecting vesin\n",
            "  Downloading vesin-0.3.8-py3-none-manylinux2014_x86_64.manylinux_2_17_x86_64.whl.metadata (4.2 kB)\n",
            "Requirement already satisfied: numpy in /usr/local/lib/python3.12/dist-packages (from vesin) (2.0.2)\n",
            "Downloading vesin-0.3.8-py3-none-manylinux2014_x86_64.manylinux_2_17_x86_64.whl (56 kB)\n",
            "\u001b[?25l   \u001b[90m━━━━━━━━━━━━━━━━━━━━━━━━━━━━━━━━━━━━━━━━\u001b[0m \u001b[32m0.0/56.3 kB\u001b[0m \u001b[31m?\u001b[0m eta \u001b[36m-:--:--\u001b[0m\r\u001b[2K   \u001b[90m━━━━━━━━━━━━━━━━━━━━━━━━━━━━━━━━━━━━━━━━\u001b[0m \u001b[32m56.3/56.3 kB\u001b[0m \u001b[31m2.8 MB/s\u001b[0m eta \u001b[36m0:00:00\u001b[0m\n",
            "\u001b[?25hInstalling collected packages: vesin\n",
            "Successfully installed vesin-0.3.8\n",
            "Collecting ase\n",
            "  Downloading ase-3.26.0-py3-none-any.whl.metadata (4.1 kB)\n",
            "Requirement already satisfied: numpy>=1.19.5 in /usr/local/lib/python3.12/dist-packages (from ase) (2.0.2)\n",
            "Requirement already satisfied: scipy>=1.6.0 in /usr/local/lib/python3.12/dist-packages (from ase) (1.16.2)\n",
            "Requirement already satisfied: matplotlib>=3.3.4 in /usr/local/lib/python3.12/dist-packages (from ase) (3.10.0)\n",
            "Requirement already satisfied: contourpy>=1.0.1 in /usr/local/lib/python3.12/dist-packages (from matplotlib>=3.3.4->ase) (1.3.3)\n",
            "Requirement already satisfied: cycler>=0.10 in /usr/local/lib/python3.12/dist-packages (from matplotlib>=3.3.4->ase) (0.12.1)\n",
            "Requirement already satisfied: fonttools>=4.22.0 in /usr/local/lib/python3.12/dist-packages (from matplotlib>=3.3.4->ase) (4.60.0)\n",
            "Requirement already satisfied: kiwisolver>=1.3.1 in /usr/local/lib/python3.12/dist-packages (from matplotlib>=3.3.4->ase) (1.4.9)\n",
            "Requirement already satisfied: packaging>=20.0 in /usr/local/lib/python3.12/dist-packages (from matplotlib>=3.3.4->ase) (25.0)\n",
            "Requirement already satisfied: pillow>=8 in /usr/local/lib/python3.12/dist-packages (from matplotlib>=3.3.4->ase) (11.3.0)\n",
            "Requirement already satisfied: pyparsing>=2.3.1 in /usr/local/lib/python3.12/dist-packages (from matplotlib>=3.3.4->ase) (3.2.4)\n",
            "Requirement already satisfied: python-dateutil>=2.7 in /usr/local/lib/python3.12/dist-packages (from matplotlib>=3.3.4->ase) (2.9.0.post0)\n",
            "Requirement already satisfied: six>=1.5 in /usr/local/lib/python3.12/dist-packages (from python-dateutil>=2.7->matplotlib>=3.3.4->ase) (1.17.0)\n",
            "Downloading ase-3.26.0-py3-none-any.whl (2.9 MB)\n",
            "\u001b[2K   \u001b[90m━━━━━━━━━━━━━━━━━━━━━━━━━━━━━━━━━━━━━━━━\u001b[0m \u001b[32m2.9/2.9 MB\u001b[0m \u001b[31m42.8 MB/s\u001b[0m eta \u001b[36m0:00:00\u001b[0m\n",
            "\u001b[?25hInstalling collected packages: ase\n",
            "Successfully installed ase-3.26.0\n"
          ]
        }
      ],
      "source": [
        "!pip install vesin\n",
        "!pip install ase"
      ]
    },
    {
      "cell_type": "markdown",
      "id": "_vTad-0zlcqe",
      "metadata": {
        "id": "_vTad-0zlcqe"
      },
      "source": [
        "## Prepare data\n",
        "\n",
        "We will work with a sample of the MPF2021 [dataset](https://figshare.com/articles/dataset/MPF_2021_2_8/19470599)."
      ]
    },
    {
      "cell_type": "code",
      "execution_count": 4,
      "id": "hXU06BMGDlkN",
      "metadata": {
        "colab": {
          "base_uri": "https://localhost:8080/"
        },
        "id": "hXU06BMGDlkN",
        "outputId": "7f311ff0-853e-49ae-b1fd-8edf71bd595e"
      },
      "outputs": [
        {
          "name": "stdout",
          "output_type": "stream",
          "text": [
            "--2025-09-28 16:05:34--  https://raw.githubusercontent.com/dembart/intro-to-materials-informatics/refs/heads/main/data/seminar08/MPF.2021.2.8.cleaned.sample.xyz.zip\n",
            "Resolving raw.githubusercontent.com (raw.githubusercontent.com)... 185.199.108.133, 185.199.109.133, 185.199.110.133, ...\n",
            "Connecting to raw.githubusercontent.com (raw.githubusercontent.com)|185.199.108.133|:443... connected.\n",
            "HTTP request sent, awaiting response... 200 OK\n",
            "Length: 7523054 (7.2M) [application/zip]\n",
            "Saving to: ‘./data/MPF.2021.2.8.cleaned.sample.xyz.zip’\n",
            "\n",
            "./data/MPF.2021.2.8 100%[===================>]   7.17M  --.-KB/s    in 0.07s   \n",
            "\n",
            "2025-09-28 16:05:34 (99.5 MB/s) - ‘./data/MPF.2021.2.8.cleaned.sample.xyz.zip’ saved [7523054/7523054]\n",
            "\n"
          ]
        }
      ],
      "source": [
        "# download files\n",
        "!mkdir data\n",
        "!wget -O./data/MPF.2021.2.8.cleaned.sample.xyz.zip https://raw.githubusercontent.com/dembart/intro-to-materials-informatics/refs/heads/main/data/seminar08/MPF.2021.2.8.cleaned.sample.xyz.zip"
      ]
    },
    {
      "cell_type": "code",
      "execution_count": 5,
      "id": "vOPc_5KFepeX",
      "metadata": {
        "colab": {
          "base_uri": "https://localhost:8080/"
        },
        "id": "vOPc_5KFepeX",
        "outputId": "0cd3cad0-efab-4bb6-a4f0-2f4e68ab5c0d"
      },
      "outputs": [
        {
          "name": "stdout",
          "output_type": "stream",
          "text": [
            "Archive:  data/MPF.2021.2.8.cleaned.sample.xyz.zip\n",
            "  inflating: data/MPF.2021.2.8.cleaned.sample.xyz  \n",
            "  inflating: data/__MACOSX/._MPF.2021.2.8.cleaned.sample.xyz  \n"
          ]
        }
      ],
      "source": [
        "!unzip data/MPF.2021.2.8.cleaned.sample.xyz.zip -d data/"
      ]
    },
    {
      "cell_type": "code",
      "execution_count": 6,
      "id": "fwLXD-dJhszf",
      "metadata": {
        "id": "fwLXD-dJhszf"
      },
      "outputs": [],
      "source": [
        "from ase.io import read\n",
        "\n",
        "atoms_list = read('data/MPF.2021.2.8.cleaned.sample.xyz', index = ':')"
      ]
    },
    {
      "cell_type": "code",
      "execution_count": 7,
      "id": "z6qHIw_ujmGC",
      "metadata": {
        "colab": {
          "base_uri": "https://localhost:8080/"
        },
        "id": "z6qHIw_ujmGC",
        "outputId": "23bb6c70-3535-4a0b-897e-4e1a025d0cb6"
      },
      "outputs": [
        {
          "data": {
            "text/plain": [
              "{'energy_per_atom': np.float64(-6.5307305935),\n",
              " 'forces': array([[ 0.        ,  0.        ,  0.        ],\n",
              "        [ 0.        ,  0.        ,  0.        ],\n",
              "        [-0.00185993,  0.00445237,  0.00483463],\n",
              "        [ 0.00185993, -0.00445237, -0.00483463],\n",
              "        [ 0.00185993, -0.00445237, -0.00483463],\n",
              "        [-0.00185993,  0.00445237,  0.00483463],\n",
              "        [-0.00177286,  0.00064558,  0.00460832],\n",
              "        [ 0.00177286, -0.00064558, -0.00460832],\n",
              "        [-0.00049551,  0.00478455,  0.00128802],\n",
              "        [ 0.00049551, -0.00478455, -0.00128802],\n",
              "        [ 0.00177444,  0.00804087, -0.00461243],\n",
              "        [-0.00258777, -0.0060939 ,  0.00672656],\n",
              "        [ 0.        ,  0.        ,  0.        ],\n",
              "        [ 0.        ,  0.        ,  0.        ],\n",
              "        [-0.00177444, -0.00804087,  0.00461243],\n",
              "        [ 0.00258777,  0.0060939 , -0.00672656],\n",
              "        [ 0.00215947, -0.00353071, -0.00561325],\n",
              "        [-0.00215947,  0.00353071,  0.00561325],\n",
              "        [-0.00157775,  0.00541562,  0.00410116],\n",
              "        [ 0.00157775, -0.00541562, -0.00410116]]),\n",
              " 'id': 'mp-16914-1-3'}"
            ]
          },
          "execution_count": 7,
          "metadata": {},
          "output_type": "execute_result"
        }
      ],
      "source": [
        "atoms_list[-1].info"
      ]
    },
    {
      "cell_type": "code",
      "execution_count": 8,
      "id": "BieuxS_zhxRz",
      "metadata": {
        "colab": {
          "base_uri": "https://localhost:8080/",
          "height": 242
        },
        "id": "BieuxS_zhxRz",
        "outputId": "00ac2dbb-013b-47ec-990c-6dbbd37523f1"
      },
      "outputs": [
        {
          "data": {
            "text/plain": [
              "<BarContainer object of 87 artists>"
            ]
          },
          "execution_count": 8,
          "metadata": {},
          "output_type": "execute_result"
        },
        {
          "data": {
            "image/png": "[encoded data removed]",
            "text/plain": [
              "<Figure size 4800x900 with 1 Axes>"
            ]
          },
          "metadata": {},
          "output_type": "display_data"
        }
      ],
      "source": [
        "# brief overview of the dataset\n",
        "import numpy as np\n",
        "import pandas as pd\n",
        "import matplotlib.pyplot as plt\n",
        "\n",
        "elements = {}\n",
        "numbers = []\n",
        "\n",
        "for atoms in atoms_list:\n",
        "    for s in np.unique(atoms.symbols):\n",
        "        if s not in list(elements.keys()):\n",
        "            elements.update({s: 1})\n",
        "        else:\n",
        "            elements[s] += 1\n",
        "\n",
        "    for n in np.unique(atoms.numbers):\n",
        "        if n not in numbers:\n",
        "            numbers.append(n)\n",
        "\n",
        "\n",
        "\n",
        "df = pd.DataFrame(data = elements, index = ['count']).T\n",
        "df = df.sort_values(by = 'count', ascending=False).reset_index()\n",
        "\n",
        "plt.rcParams.update({'font.size':8})\n",
        "plt.figure(dpi = 300, figsize = (16, 3))\n",
        "plt.bar(df['index'].values, df['count'])\n"
      ]
    },
    {
      "cell_type": "code",
      "execution_count": 9,
      "id": "zOzZXLcrzkEh",
      "metadata": {
        "colab": {
          "base_uri": "https://localhost:8080/"
        },
        "id": "zOzZXLcrzkEh",
        "outputId": "6a855e84-13f4-4945-b745-819157a87a1c"
      },
      "outputs": [
        {
          "data": {
            "text/plain": [
              "np.int64(94)"
            ]
          },
          "execution_count": 9,
          "metadata": {},
          "output_type": "execute_result"
        }
      ],
      "source": [
        "max(numbers) # the maximum number is 94"
      ]
    },
    {
      "cell_type": "code",
      "execution_count": 10,
      "id": "h11iFUThl-xi",
      "metadata": {
        "colab": {
          "base_uri": "https://localhost:8080/"
        },
        "id": "h11iFUThl-xi",
        "outputId": "f147f7d5-4d49-4e56-ead4-3d538d41d185"
      },
      "outputs": [
        {
          "data": {
            "text/plain": [
              "87"
            ]
          },
          "execution_count": 10,
          "metadata": {},
          "output_type": "execute_result"
        }
      ],
      "source": [
        "len(elements.keys()) # there are 87 different elements"
      ]
    },
    {
      "cell_type": "code",
      "execution_count": 11,
      "id": "OXmo_CBSjqbj",
      "metadata": {
        "colab": {
          "base_uri": "https://localhost:8080/",
          "height": 469
        },
        "id": "OXmo_CBSjqbj",
        "outputId": "a69c60db-a1a4-4933-e1c4-f2eb602be65a"
      },
      "outputs": [
        {
          "data": {
            "text/plain": [
              "Text(0.5, 0, 'Count, eV/atom')"
            ]
          },
          "execution_count": 11,
          "metadata": {},
          "output_type": "execute_result"
        },
        {
          "data": {
            "image/png": "[encoded data removed]",
            "text/plain": [
              "<Figure size 450x450 with 1 Axes>"
            ]
          },
          "metadata": {},
          "output_type": "display_data"
        }
      ],
      "source": [
        "energies = [atoms.info['energy_per_atom'] for atoms in atoms_list]\n",
        "\n",
        "plt.figure(dpi = 150, figsize = (3, 3))\n",
        "_ = plt.hist(energies, bins = 100)\n",
        "plt.xlabel('Energy, eV/atom')\n",
        "plt.xlabel('Count, eV/atom')"
      ]
    },
    {
      "cell_type": "code",
      "execution_count": 12,
      "id": "WBVfBZgplngk",
      "metadata": {
        "id": "WBVfBZgplngk"
      },
      "outputs": [],
      "source": [
        "import torch\n",
        "import numpy as np\n",
        "from vesin import NeighborList\n",
        "from torch_geometric.data import Data\n",
        "from ase.io import read\n",
        "\n",
        "# this function:\n",
        "# 1. collects nearest neighbors\n",
        "# 2. prepares torch-geometrc Data object with required attributes\n",
        "#    (edge_index, edge_length, atomic_numbers, etc)\n",
        "\n",
        "\n",
        "def atoms2data(atoms,\n",
        "               r_cut=None,\n",
        "               energy_key=None,\n",
        "               n_max_neighbors=None,\n",
        "               node_featurizer=None,\n",
        "               edge_featurizer=None,\n",
        "               ):\n",
        "\n",
        "    # we use vesin library to collect neighbors of each atom\n",
        "    calculator = NeighborList(cutoff=r_cut, full_list=True)\n",
        "    i, j, ij_length, offset, ij_vector = calculator.compute(\n",
        "        points=atoms.positions,\n",
        "        box=atoms.cell,\n",
        "        periodic=True in atoms.pbc,\n",
        "        quantities=\"ijdSD\" # source, target, edge length, offset vector, and edge vector\n",
        "    )\n",
        "\n",
        "    # truncate list of neighbors if needed\n",
        "    # CGCNN original paper uses 12 neighbors\n",
        "    if n_max_neighbors is not None:\n",
        "        filtered_indices = []\n",
        "        for atom_idx in np.unique(i):\n",
        "            mask = (i == atom_idx)\n",
        "            indices = np.where(mask)[0]\n",
        "            sorted_indices = indices[np.argsort(ij_length[mask])]\n",
        "            filtered_indices.extend(sorted_indices[:n_max_neighbors])\n",
        "        i = i[filtered_indices]\n",
        "        j = j[filtered_indices]\n",
        "        ij_length = ij_length[filtered_indices]\n",
        "        offset = offset[filtered_indices]\n",
        "        ij_vector = ij_vector[filtered_indices]\n",
        "\n",
        "    # convert to torch objects and prepare a torch_geometric Data object\n",
        "    ij = torch.stack([torch.LongTensor(i), torch.LongTensor(j)])\n",
        "    data = Data(\n",
        "        edge_index=ij,\n",
        "        edge_vector=torch.tensor(ij_vector, dtype=torch.float32),\n",
        "        edge_length=torch.tensor(ij_length, dtype=torch.float32),\n",
        "        positions=torch.tensor(atoms.positions, dtype=torch.float32),\n",
        "        offset=torch.tensor(offset, dtype=torch.float32),\n",
        "        numbers=torch.LongTensor(atoms.get_atomic_numbers()),\n",
        "        energy=None if energy_key is None else torch.tensor(atoms.info[energy_key], dtype=torch.float32),\n",
        "    )\n",
        "\n",
        "    # optional attributes to compute\n",
        "    if node_featurizer is not None:\n",
        "        data.node_attr = node_featurizer(data)\n",
        "    if edge_featurizer is not None:\n",
        "        data.edge_attr = edge_featurizer(data)\n",
        "    return data"
      ]
    },
    {
      "cell_type": "code",
      "execution_count": 13,
      "id": "CZi8hNeOluQL",
      "metadata": {
        "id": "CZi8hNeOluQL"
      },
      "outputs": [],
      "source": [
        "from sklearn.model_selection import train_test_split\n",
        "\n",
        "atoms_train, atoms_test = train_test_split(atoms_list, test_size = 0.1)\n",
        "atoms_train, atoms_val = train_test_split(atoms_train, test_size = 0.1)"
      ]
    },
    {
      "cell_type": "code",
      "execution_count": 14,
      "id": "941ZXJQ9mE_4",
      "metadata": {
        "id": "941ZXJQ9mE_4"
      },
      "outputs": [],
      "source": [
        "r_cut = 6.0\n",
        "energy_key='energy_per_atom'\n",
        "n_max_neighbors=12\n",
        "\n",
        "# create train/val/test data\n",
        "train_data = [atoms2data(atoms, r_cut=r_cut, n_max_neighbors=n_max_neighbors, energy_key=energy_key) for atoms in atoms_train]\n",
        "val_data = [atoms2data(atoms, r_cut=r_cut, n_max_neighbors=n_max_neighbors, energy_key=energy_key) for atoms in atoms_val]\n",
        "test_data = [atoms2data(atoms, r_cut=r_cut, n_max_neighbors=n_max_neighbors, energy_key=energy_key) for atoms in atoms_test]"
      ]
    },
    {
      "cell_type": "code",
      "execution_count": 15,
      "id": "ZUbkU3-nm-gj",
      "metadata": {
        "colab": {
          "base_uri": "https://localhost:8080/"
        },
        "id": "ZUbkU3-nm-gj",
        "outputId": "2b1635ee-f445-472e-e5ab-62c6e9bc6d23"
      },
      "outputs": [
        {
          "data": {
            "text/plain": [
              "Data(edge_index=[2, 288], edge_vector=[288, 3], edge_length=[288], positions=[24, 3], offset=[288, 3], numbers=[24], energy=-6.835033893585205)"
            ]
          },
          "execution_count": 15,
          "metadata": {},
          "output_type": "execute_result"
        }
      ],
      "source": [
        "train_data[0]"
      ]
    },
    {
      "cell_type": "code",
      "execution_count": 16,
      "id": "MpIyo-tP-TDQ",
      "metadata": {
        "colab": {
          "base_uri": "https://localhost:8080/"
        },
        "id": "MpIyo-tP-TDQ",
        "outputId": "edbb53ae-7613-42df-82b9-1decfc912ffa"
      },
      "outputs": [
        {
          "data": {
            "text/plain": [
              "(6828, 759, 843, 8430)"
            ]
          },
          "execution_count": 16,
          "metadata": {},
          "output_type": "execute_result"
        }
      ],
      "source": [
        "len(train_data), len(val_data), len(test_data), len(atoms_list)"
      ]
    },
    {
      "cell_type": "markdown",
      "id": "kSSk1ivLnOx0",
      "metadata": {
        "id": "kSSk1ivLnOx0"
      },
      "source": [
        "# Build a model"
      ]
    },
    {
      "cell_type": "markdown",
      "id": "KMNrlbtVnrs2",
      "metadata": {
        "id": "KMNrlbtVnrs2"
      },
      "source": [
        "CGCNN model uses a graph convolution operation where node features are updated via message-passing by aggregating information from neighboring nodes and associated edge features.\n",
        "\n",
        "The steps below are the common mechanism of a message passing:\n",
        "\n",
        "- Message computation: Create messages from neighbors\n",
        "\n",
        "- Aggregation: Combine messages from all neighbors\n",
        "\n",
        "- Update: Update node features using aggregated messages\n",
        "\n",
        "\n",
        "**Message is given by the following formula:**\n",
        "\n",
        "$$z_{(i,j)k}^{(t)} = v_i^{(t)} \\oplus v_j^{(t)} \\oplus u_{(i,j)k}$$\n",
        "\n",
        "Where:\n",
        "\n",
        "- $v$ is node attributes\n",
        "\n",
        "- $u$ is edge attributes\n",
        "\n",
        "- $\\oplus$ represents concatenation operation\n",
        "\n",
        "\n",
        "**Node update is given by the following formula**:\n",
        "\n",
        "$$v_i^{(t+1)} = v_i^{(t)} + \\sum_{j,k} \\sigma \\left( z_{(i,j)k}^{(t)} W_f^{(t)} + b_f^{(t)} \\right) \\circ g \\left( z_{(i,j)k}^{(t)} W_s^{(t)} + b_s^{(t)} \\right)$$\n",
        "\n",
        "Where:\n",
        "\n",
        "\n",
        "\n",
        "- $\\sigma$ is an activation function\n",
        "\n",
        "- $g$ is another activation function\n",
        "\n",
        "- $\\circ$ denotes element-wise multiplication\n",
        "\n",
        "- The superscript $(t)$ indicates the number of a layer\n",
        "\n",
        "- Subscripts $i,j,k$ index nodes/edges in a graph structure"
      ]
    },
    {
      "cell_type": "markdown",
      "id": "8fQtkvavqCUY",
      "metadata": {
        "id": "8fQtkvavqCUY"
      },
      "source": [
        "### Node attributes\n",
        "\n",
        "In the original paper, CGCNN uses some element-based features as node attributes (electronegativity, etc). We will use one-hot encoding as implemented in `torch.nn.Embedding` layer. Will see it later.\n"
      ]
    },
    {
      "cell_type": "code",
      "execution_count": 17,
      "id": "ad1FjXaVwrgV",
      "metadata": {
        "colab": {
          "base_uri": "https://localhost:8080/"
        },
        "id": "ad1FjXaVwrgV",
        "outputId": "c1012647-8d59-480e-d320-b12c20430f03"
      },
      "outputs": [
        {
          "data": {
            "text/plain": [
              "torch.Size([24, 95])"
            ]
          },
          "execution_count": 17,
          "metadata": {},
          "output_type": "execute_result"
        }
      ],
      "source": [
        "import torch.nn.functional as F\n",
        "\n",
        "one_hot = F.one_hot(train_data[0].numbers, num_classes=max(numbers) + 1)\n",
        "one_hot.shape # there are 20 atoms and each has 1 x 94 feature\n"
      ]
    },
    {
      "cell_type": "markdown",
      "id": "wZnncCJ7qEOg",
      "metadata": {
        "id": "wZnncCJ7qEOg"
      },
      "source": [
        "### Edge attributes\n",
        "\n",
        "Each edge is converted into a feature of a fixed length using the gaussian filter as shown below."
      ]
    },
    {
      "cell_type": "code",
      "execution_count": 18,
      "id": "N3c2IqrMq2da",
      "metadata": {
        "colab": {
          "base_uri": "https://localhost:8080/"
        },
        "id": "N3c2IqrMq2da",
        "outputId": "fe375959-cfe7-4370-c1b0-1e8318c93a1c"
      },
      "outputs": [
        {
          "data": {
            "text/plain": [
              "torch.Size([288, 64])"
            ]
          },
          "execution_count": 18,
          "metadata": {},
          "output_type": "execute_result"
        }
      ],
      "source": [
        "import torch.nn as nn\n",
        "\n",
        "class GaussianFilter(nn.Module):\n",
        "\n",
        "    def __init__(self, r_min=1.0, r_max=6.0, num_edge_features=64):\n",
        "\n",
        "        super(GaussianFilter, self).__init__()\n",
        "        self.r_min = r_min\n",
        "        self.r_max = r_max\n",
        "        self.num_edge_features = num_edge_features\n",
        "        _filter = torch.linspace(r_min, r_max, num_edge_features)\n",
        "        step = (r_max - r_min) / num_edge_features\n",
        "        self.register_buffer(\"_filter\", _filter)\n",
        "        self.register_buffer(\"step\", torch.tensor(step))\n",
        "\n",
        "    def forward(self, edge_length):\n",
        "\n",
        "        if not isinstance(edge_length, torch.Tensor):\n",
        "            edge_length = torch.tensor(edge_length, dtype=torch.float32)\n",
        "        edge_length = edge_length.to(self._filter.device)\n",
        "        diff = edge_length[:, None] - self._filter\n",
        "        out = torch.exp(-0.5 * torch.square(diff / self.step))\n",
        "        return out\n",
        "\n",
        "\n",
        "featurizer = GaussianFilter()\n",
        "\n",
        "# there are 240 edges, each has a 1 x 64 feature\n",
        "featurizer(train_data[0].edge_length).shape\n"
      ]
    },
    {
      "cell_type": "markdown",
      "id": "L-O0YNWCqNL3",
      "metadata": {
        "id": "L-O0YNWCqNL3"
      },
      "source": [
        "### Graph convolution"
      ]
    },
    {
      "cell_type": "code",
      "execution_count": 19,
      "id": "VyG71hWlt3Ro",
      "metadata": {
        "id": "VyG71hWlt3Ro"
      },
      "outputs": [],
      "source": [
        "import torch\n",
        "from torch_scatter import scatter, scatter_add\n",
        "\n",
        "\n",
        "class GraphConvLayer(nn.Module):\n",
        "\n",
        "    def __init__(self, node_fea_len, edge_fea_len):\n",
        "\n",
        "        \"\"\"\n",
        "        Simple convolution layer from CGCNN paper\n",
        "\n",
        "        Params\n",
        "        ------\n",
        "\n",
        "        node_fea_len: int\n",
        "            length of the node feature\n",
        "        edge_fea_len: int\n",
        "            length of the edge feature\n",
        "\n",
        "        \"\"\"\n",
        "        super(GraphConvLayer, self).__init__()\n",
        "\n",
        "        # size of input feature z is 2 * node_fea_len + edge_fea_len\n",
        "        self.lin_f = nn.Linear(2 * node_fea_len + edge_fea_len, node_fea_len)\n",
        "        self.lin_s = nn.Linear(2 * node_fea_len + edge_fea_len, node_fea_len)\n",
        "\n",
        "        # normalization of the node features\n",
        "        self.norm = nn.BatchNorm1d(node_fea_len)\n",
        "\n",
        "\n",
        "    def forward(self, node_attrs, edge_index, edge_attrs):\n",
        "\n",
        "        # soure and target nodes of the edge\n",
        "        source, target = edge_index\n",
        "\n",
        "        # features of the source nodes\n",
        "        x_i = node_attrs[source]\n",
        "\n",
        "        # features of the target nodes\n",
        "        x_j = node_attrs[target]\n",
        "\n",
        "        # concatenation of the source, target, and edge features\n",
        "        z = torch.cat([x_i, x_j, edge_attrs], dim=-1).float()\n",
        "\n",
        "        # convolution\n",
        "        gate = torch.sigmoid(self.lin_f(z))\n",
        "        message = nn.functional.leaky_relu(self.lin_s(z), negative_slope=0.01)\n",
        "        z = gate * message\n",
        "\n",
        "        # aggregation of the messages -> sum up all the messages comming to the souce node\n",
        "        # see image below to get an idea of scatter_add operation\n",
        "        total_message = scatter_add(z, source, dim = 0)\n",
        "\n",
        "        # node features update\n",
        "        out = node_attrs + self.norm(total_message)\n",
        "\n",
        "        return out\n"
      ]
    },
    {
      "cell_type": "markdown",
      "id": "HJinkmHFvJl7",
      "metadata": {
        "id": "HJinkmHFvJl7"
      },
      "source": [
        "## An illustration of how scatter_add works\n",
        "\n",
        "<img src=\"https://raw.githubusercontent.com/rusty1s/pytorch_scatter/master/docs/source/_figures/add.svg?sanitize=true\"\n",
        "     alt=\"Scatter Add Operation\"\n",
        "     width=\"500\"\n",
        "     style=\"display: block; margin: 0 auto;\">"
      ]
    },
    {
      "cell_type": "markdown",
      "id": "YaZ1EcEEqVMq",
      "metadata": {
        "id": "YaZ1EcEEqVMq"
      },
      "source": [
        "## Full model"
      ]
    },
    {
      "cell_type": "code",
      "execution_count": 20,
      "id": "j9k4zMB05u_k",
      "metadata": {
        "id": "j9k4zMB05u_k"
      },
      "outputs": [],
      "source": [
        "class ConvGNN(nn.Module):\n",
        "    def __init__(self, orig_node_fea_len, edge_fea_len, node_fea_len=64, h_fea_len=128, reduce='mean'):\n",
        "        super(ConvGNN, self).__init__()\n",
        "\n",
        "        self.reduce = reduce\n",
        "        self.embedding = nn.Embedding(orig_node_fea_len, node_fea_len)\n",
        "        self.filter = GaussianFilter(num_edge_features=edge_fea_len)\n",
        "\n",
        "        self.norm = nn.BatchNorm1d(node_fea_len)\n",
        "        self.conv1 = GraphConvLayer(node_fea_len, edge_fea_len)\n",
        "        self.conv2 = GraphConvLayer(node_fea_len, edge_fea_len)\n",
        "        self.conv3 = GraphConvLayer(node_fea_len, edge_fea_len)\n",
        "\n",
        "        self.linear = nn.Linear(node_fea_len, h_fea_len)\n",
        "        self.linear2 = nn.Linear(h_fea_len, 1)\n",
        "\n",
        "        # you can add dropout for regularization\n",
        "\n",
        "    def forward(self, batch):\n",
        "\n",
        "        # embedding -> norm ->conv->conv->conv->linear->activation->linear->scatter\n",
        "\n",
        "        atomic_embeddings = self.embedding(batch['numbers'])\n",
        "        atomic_embeddings = self.norm(atomic_embeddings)\n",
        "\n",
        "        batch['edge_attrs'] = self.filter(batch['edge_length'])\n",
        "\n",
        "        # message-passing\n",
        "        atomic_embeddings = self.conv1(atomic_embeddings, batch['edge_index'], batch['edge_attrs'])\n",
        "        atomic_embeddings = self.conv2(atomic_embeddings, batch['edge_index'], batch['edge_attrs'])\n",
        "        atomic_embeddings = self.conv3(atomic_embeddings, batch['edge_index'], batch['edge_attrs'])\n",
        "\n",
        "        #\n",
        "        atomic_embeddings = nn.functional.softplus(self.linear(atomic_embeddings))\n",
        "\n",
        "        # linear output for regression\n",
        "        atomic_energies = self.linear2(atomic_embeddings)\n",
        "\n",
        "        # final prediction\n",
        "        out = scatter(atomic_energies, batch['batch'], dim=0, reduce=self.reduce)\n",
        "        return out"
      ]
    },
    {
      "cell_type": "code",
      "execution_count": 21,
      "id": "Fp9HwcUyyKof",
      "metadata": {
        "id": "Fp9HwcUyyKof"
      },
      "outputs": [],
      "source": [
        "model = ConvGNN(\n",
        "    orig_node_fea_len=max(numbers) + 1,\n",
        "    edge_fea_len=64,\n",
        "    node_fea_len=64,\n",
        "    h_fea_len=128,\n",
        ")"
      ]
    },
    {
      "cell_type": "markdown",
      "id": "pGvZNmiEFVeZ",
      "metadata": {
        "id": "pGvZNmiEFVeZ"
      },
      "source": [
        "For Data and DataLaders objects we employ [PyTorch Geometric](https://pytorch-geometric.readthedocs.io/en/2.6.0/index.html)—a library built specifically for deep learning on graph-structured data. One of its key features is the DataLoader, which simplifies the complex process of batching graphs. This operation is significantly more challenging than batching conventional data types like images or tabular data."
      ]
    },
    {
      "cell_type": "code",
      "execution_count": 22,
      "id": "MXL_pxaGyjzB",
      "metadata": {
        "colab": {
          "base_uri": "https://localhost:8080/"
        },
        "id": "MXL_pxaGyjzB",
        "outputId": "d3a7e13d-bf0e-43d2-a58f-ac4bff68ae64"
      },
      "outputs": [
        {
          "name": "stderr",
          "output_type": "stream",
          "text": [
            "/usr/local/lib/python3.12/dist-packages/torch_geometric/data/storage.py:452: UserWarning: Unable to accurately infer 'num_nodes' from the attribute set '{'edge_length', 'edge_vector', 'edge_index', 'offset', 'positions', 'energy', 'numbers'}'. Please explicitly set 'num_nodes' as an attribute of 'data' to suppress this warning\n",
            "  warnings.warn(\n"
          ]
        }
      ],
      "source": [
        "import torch_geometric\n",
        "\n",
        "train_loader = torch_geometric.loader.DataLoader(train_data,\n",
        "                                                 batch_size=256,\n",
        "                                                 shuffle=True)\n",
        "\n",
        "val_loader = torch_geometric.loader.DataLoader(val_data,\n",
        "                                                 batch_size=256,\n",
        "                                                 shuffle=False)\n",
        "\n",
        "batch = next(iter(train_loader))\n",
        "\n"
      ]
    },
    {
      "cell_type": "code",
      "execution_count": 23,
      "id": "ULLdsvj-zKN5",
      "metadata": {
        "colab": {
          "base_uri": "https://localhost:8080/"
        },
        "id": "ULLdsvj-zKN5",
        "outputId": "ee0b4aba-ff87-4d90-ff7d-32b0f8d34711"
      },
      "outputs": [
        {
          "name": "stdout",
          "output_type": "stream",
          "text": [
            "tensor([[-0.1398],\n",
            "        [ 0.1923],\n",
            "        [-0.0658],\n",
            "        [-0.2511],\n",
            "        [-0.0634],\n",
            "        [-0.1748],\n",
            "        [-0.1094],\n",
            "        [-0.3757],\n",
            "        [-0.1452],\n",
            "        [-0.3194],\n",
            "        [ 0.3017],\n",
            "        [-0.1885],\n",
            "        [-0.2486],\n",
            "        [ 0.2199],\n",
            "        [ 0.0912],\n",
            "        [-0.2341],\n",
            "        [-0.4525],\n",
            "        [-0.4396],\n",
            "        [-0.2428],\n",
            "        [-0.0854],\n",
            "        [-0.5524],\n",
            "        [ 0.0350],\n",
            "        [-0.4306],\n",
            "        [-0.1801],\n",
            "        [-0.2362],\n",
            "        [-0.4105],\n",
            "        [-0.1462],\n",
            "        [-0.2470],\n",
            "        [-0.2618],\n",
            "        [-0.3242],\n",
            "        [ 0.2425],\n",
            "        [-0.1938],\n",
            "        [-0.2288],\n",
            "        [-0.0780],\n",
            "        [-0.3663],\n",
            "        [ 0.1317],\n",
            "        [-0.2383],\n",
            "        [-0.4911],\n",
            "        [-0.5390],\n",
            "        [-0.4724],\n",
            "        [-0.3605],\n",
            "        [-0.2995],\n",
            "        [-0.0873],\n",
            "        [ 0.0341],\n",
            "        [-0.3335],\n",
            "        [ 0.2652],\n",
            "        [-0.1308],\n",
            "        [-0.5683],\n",
            "        [-0.1123],\n",
            "        [-0.3513],\n",
            "        [-0.1454],\n",
            "        [-0.1665],\n",
            "        [-0.0063],\n",
            "        [-0.2838],\n",
            "        [-0.2357],\n",
            "        [-0.4013],\n",
            "        [-0.0778],\n",
            "        [-0.0420],\n",
            "        [-0.3719],\n",
            "        [-0.3031],\n",
            "        [-0.1527],\n",
            "        [-0.2087],\n",
            "        [-0.2036],\n",
            "        [-0.3447],\n",
            "        [-0.2399],\n",
            "        [-0.0050],\n",
            "        [-0.4614],\n",
            "        [-0.2352],\n",
            "        [-0.1584],\n",
            "        [-0.1891],\n",
            "        [-0.0765],\n",
            "        [-0.1799],\n",
            "        [-0.3242],\n",
            "        [-0.3137],\n",
            "        [-0.3101],\n",
            "        [ 0.1302],\n",
            "        [-0.3466],\n",
            "        [ 0.4644],\n",
            "        [-0.1976],\n",
            "        [-0.2052],\n",
            "        [-0.1248],\n",
            "        [-0.0724],\n",
            "        [-0.3735],\n",
            "        [-0.1192],\n",
            "        [-0.2737],\n",
            "        [-0.2508],\n",
            "        [ 0.0881],\n",
            "        [-0.0505],\n",
            "        [-0.2271],\n",
            "        [-0.2307],\n",
            "        [ 0.1970],\n",
            "        [-0.4865],\n",
            "        [-0.1107],\n",
            "        [-0.3340],\n",
            "        [-0.1832],\n",
            "        [-0.3847],\n",
            "        [-0.0235],\n",
            "        [-0.1335],\n",
            "        [ 0.0609],\n",
            "        [-0.1143],\n",
            "        [-0.3090],\n",
            "        [-0.1255],\n",
            "        [-0.3010],\n",
            "        [-0.2883],\n",
            "        [-0.2883],\n",
            "        [-0.2192],\n",
            "        [ 0.1304],\n",
            "        [ 0.0590],\n",
            "        [-0.1756],\n",
            "        [-0.3473],\n",
            "        [-0.0354],\n",
            "        [-0.3182],\n",
            "        [-0.5161],\n",
            "        [-0.2534],\n",
            "        [-0.0766],\n",
            "        [ 0.1098],\n",
            "        [-0.2481],\n",
            "        [-0.4145],\n",
            "        [ 0.2515],\n",
            "        [-0.2464],\n",
            "        [-0.3440],\n",
            "        [-0.0726],\n",
            "        [ 0.0213],\n",
            "        [-0.1646],\n",
            "        [-0.3907],\n",
            "        [-0.4447],\n",
            "        [-0.3588],\n",
            "        [-0.3589],\n",
            "        [-0.2484],\n",
            "        [-0.0407],\n",
            "        [-0.3132],\n",
            "        [-0.1800],\n",
            "        [-0.1522],\n",
            "        [-0.1011],\n",
            "        [-0.4441],\n",
            "        [-0.2896],\n",
            "        [-0.2693],\n",
            "        [-0.0090],\n",
            "        [-0.3122],\n",
            "        [-0.1705],\n",
            "        [-0.2993],\n",
            "        [-0.4999],\n",
            "        [ 0.0997],\n",
            "        [ 0.1047],\n",
            "        [-0.3188],\n",
            "        [ 0.0700],\n",
            "        [ 0.0402],\n",
            "        [-0.4374],\n",
            "        [-0.1775],\n",
            "        [ 0.1556],\n",
            "        [-0.3793],\n",
            "        [-0.1425],\n",
            "        [ 0.1728],\n",
            "        [-0.2048],\n",
            "        [-0.0753],\n",
            "        [-0.3340],\n",
            "        [-0.1951],\n",
            "        [-0.2457],\n",
            "        [ 0.0088],\n",
            "        [-0.0208],\n",
            "        [-0.4368],\n",
            "        [-0.1096],\n",
            "        [-0.3410],\n",
            "        [-0.2688],\n",
            "        [-0.1764],\n",
            "        [-0.1552],\n",
            "        [-0.1602],\n",
            "        [-0.0380],\n",
            "        [-0.1926],\n",
            "        [-0.6147],\n",
            "        [-0.4032],\n",
            "        [-0.4688],\n",
            "        [-0.2148],\n",
            "        [ 0.1818],\n",
            "        [-0.3735],\n",
            "        [-0.3412],\n",
            "        [-0.1584],\n",
            "        [-0.0728],\n",
            "        [-0.1921],\n",
            "        [-0.2992],\n",
            "        [-0.2355],\n",
            "        [ 0.2212],\n",
            "        [-0.3228],\n",
            "        [-0.3026],\n",
            "        [ 0.1908],\n",
            "        [-0.2429],\n",
            "        [-0.1064],\n",
            "        [-0.2041],\n",
            "        [-0.0354],\n",
            "        [-0.1462],\n",
            "        [-0.1241],\n",
            "        [-0.3088],\n",
            "        [ 0.0296],\n",
            "        [-0.2700],\n",
            "        [ 0.1326],\n",
            "        [-0.0342],\n",
            "        [-0.4182],\n",
            "        [-0.2451],\n",
            "        [-0.3314],\n",
            "        [ 0.0326],\n",
            "        [-0.0869],\n",
            "        [ 0.0864],\n",
            "        [-0.3145],\n",
            "        [-0.2326],\n",
            "        [-0.2955],\n",
            "        [-0.2828],\n",
            "        [-0.2204],\n",
            "        [-0.2524],\n",
            "        [-0.1795],\n",
            "        [-0.3791],\n",
            "        [-0.3085],\n",
            "        [-0.2082],\n",
            "        [ 0.0298],\n",
            "        [-0.4353],\n",
            "        [-0.2840],\n",
            "        [-0.2126],\n",
            "        [-0.0176],\n",
            "        [-0.4023],\n",
            "        [-0.3428],\n",
            "        [-0.2406],\n",
            "        [-0.2866],\n",
            "        [-0.3480],\n",
            "        [-0.0820],\n",
            "        [-0.1024],\n",
            "        [-0.4310],\n",
            "        [-0.1439],\n",
            "        [-0.2477],\n",
            "        [-0.4562],\n",
            "        [-0.3609],\n",
            "        [-0.5371],\n",
            "        [-0.2878],\n",
            "        [-0.3917],\n",
            "        [-0.3307],\n",
            "        [-0.2951],\n",
            "        [-0.2423],\n",
            "        [-0.1316],\n",
            "        [-0.3328],\n",
            "        [-0.3311],\n",
            "        [-0.2060],\n",
            "        [-0.1574],\n",
            "        [-0.0047],\n",
            "        [-0.2369],\n",
            "        [-0.2333],\n",
            "        [-0.2462],\n",
            "        [-0.2135],\n",
            "        [-0.1531],\n",
            "        [-0.1226],\n",
            "        [ 0.0824],\n",
            "        [-0.2854],\n",
            "        [-0.2631],\n",
            "        [-0.4227],\n",
            "        [-0.2411],\n",
            "        [-0.2293],\n",
            "        [-0.1568],\n",
            "        [-0.1150],\n",
            "        [-0.2074]])\n"
          ]
        }
      ],
      "source": [
        "with torch.no_grad():\n",
        "    print(model(batch))"
      ]
    },
    {
      "cell_type": "markdown",
      "id": "xfA0lNqSz6JN",
      "metadata": {
        "id": "xfA0lNqSz6JN"
      },
      "source": [
        "## Train the model"
      ]
    },
    {
      "cell_type": "code",
      "execution_count": 24,
      "id": "vSjIXwFy0I6o",
      "metadata": {
        "id": "vSjIXwFy0I6o"
      },
      "outputs": [],
      "source": [
        "device = 'cuda'"
      ]
    },
    {
      "cell_type": "code",
      "execution_count": 25,
      "id": "qVCjIEosz9kF",
      "metadata": {
        "colab": {
          "base_uri": "https://localhost:8080/"
        },
        "id": "qVCjIEosz9kF",
        "outputId": "ac3404b2-bdf3-40fc-8c40-0992c8d3d983"
      },
      "outputs": [
        {
          "data": {
            "text/plain": [
              "MSELoss()"
            ]
          },
          "execution_count": 25,
          "metadata": {},
          "output_type": "execute_result"
        }
      ],
      "source": [
        "optimizer = torch.optim.Adam(model.parameters(), lr=0.0001)\n",
        "criterion = torch.nn.MSELoss()\n",
        "\n",
        "criterion.to(device)\n"
      ]
    },
    {
      "cell_type": "code",
      "execution_count": 26,
      "id": "Bisop6V20Mms",
      "metadata": {
        "id": "Bisop6V20Mms"
      },
      "outputs": [],
      "source": [
        "def train(\n",
        "        model,\n",
        "        iterator,\n",
        "        optimizer,\n",
        "        criterion,\n",
        "        epoch=0,\n",
        "        device=\"cpu\",\n",
        "    ):\n",
        "\n",
        "        print(f\"epoch {epoch}\")\n",
        "\n",
        "        epoch_loss = 0\n",
        "\n",
        "        model.train()\n",
        "\n",
        "        for i, batch in enumerate(iterator):\n",
        "            optimizer.zero_grad()\n",
        "\n",
        "            ys = batch.energy.squeeze().to(device)\n",
        "\n",
        "            predictions = model(batch.to(device)).squeeze()\n",
        "\n",
        "            loss = criterion(predictions.float(), ys.float())\n",
        "            loss.backward()\n",
        "\n",
        "            optimizer.step()\n",
        "\n",
        "            batch_loss = loss.item()\n",
        "            epoch_loss += batch_loss\n",
        "\n",
        "        return epoch_loss / len(iterator)"
      ]
    },
    {
      "cell_type": "code",
      "execution_count": 27,
      "id": "BsFe-yQI0OlD",
      "metadata": {
        "id": "BsFe-yQI0OlD"
      },
      "outputs": [],
      "source": [
        "def save_checkpoint(model, epoch, current_loss, min_loss, path = '.'):\n",
        "\n",
        "    if current_loss < min_loss:\n",
        "        torch.save(model, path + '/best_model.pt')\n",
        "    else:\n",
        "        pass"
      ]
    },
    {
      "cell_type": "code",
      "execution_count": 28,
      "id": "58swCDcl0XDe",
      "metadata": {
        "id": "58swCDcl0XDe"
      },
      "outputs": [],
      "source": [
        "def evaluate(model,\n",
        "             iterator,\n",
        "             criterion,\n",
        "             epoch=0,\n",
        "             device=\"cpu\",\n",
        "             logger=None,\n",
        "            ):\n",
        "\n",
        "    print(f\"epoch {epoch} evaluation\")\n",
        "\n",
        "    epoch_loss = 0\n",
        "\n",
        "    model.eval()\n",
        "\n",
        "    with torch.no_grad():\n",
        "        for i, batch in enumerate(iterator):\n",
        "            ys = batch.energy.squeeze().to(device)\n",
        "            predictions = model(batch.to(device)).squeeze()\n",
        "\n",
        "            loss = criterion(predictions.float(), ys.to(device).float())\n",
        "\n",
        "            epoch_loss += loss.item()\n",
        "\n",
        "            #print(f'batch_{i}_error' + ' ' + str(loss.item()))\n",
        "\n",
        "    overall_loss = epoch_loss / len(iterator)\n",
        "\n",
        "    print(f\"epoch loss {overall_loss}\")\n",
        "    print(\n",
        "        \"========================================================================================================\"\n",
        "    )\n",
        "\n",
        "    return overall_loss"
      ]
    },
    {
      "cell_type": "code",
      "execution_count": 28,
      "id": "VhDdsxSR59Qg",
      "metadata": {
        "id": "VhDdsxSR59Qg"
      },
      "outputs": [],
      "source": []
    },
    {
      "cell_type": "code",
      "execution_count": 29,
      "id": "XfQlEYWR0Zbg",
      "metadata": {
        "colab": {
          "base_uri": "https://localhost:8080/"
        },
        "id": "XfQlEYWR0Zbg",
        "outputId": "2805319a-2eae-4d1b-ed78-eeb503cdca59"
      },
      "outputs": [
        {
          "name": "stdout",
          "output_type": "stream",
          "text": [
            "Start training model\n",
            "epoch 0\n",
            "epoch 0 evaluation\n",
            "epoch loss 28.848562876383465\n",
            "========================================================================================================\n",
            "epoch 1\n",
            "epoch 1 evaluation\n",
            "epoch loss 20.536605834960938\n",
            "========================================================================================================\n",
            "epoch 2\n",
            "epoch 2 evaluation\n",
            "epoch loss 13.163652737935385\n",
            "========================================================================================================\n",
            "epoch 3\n",
            "epoch 3 evaluation\n",
            "epoch loss 7.332134087880452\n",
            "========================================================================================================\n",
            "epoch 4\n",
            "epoch 4 evaluation\n",
            "epoch loss 3.463097254435221\n",
            "========================================================================================================\n",
            "epoch 5\n",
            "epoch 5 evaluation\n",
            "epoch loss 1.7173749208450317\n",
            "========================================================================================================\n",
            "epoch 6\n",
            "epoch 6 evaluation\n",
            "epoch loss 1.1305476824442546\n",
            "========================================================================================================\n",
            "epoch 7\n",
            "epoch 7 evaluation\n",
            "epoch loss 0.8634067972501119\n",
            "========================================================================================================\n",
            "epoch 8\n",
            "epoch 8 evaluation\n",
            "epoch loss 0.7023980617523193\n",
            "========================================================================================================\n",
            "epoch 9\n",
            "epoch 9 evaluation\n",
            "epoch loss 0.6317344109217325\n",
            "========================================================================================================\n",
            "epoch 10\n",
            "epoch 10 evaluation\n",
            "epoch loss 0.5572714408238729\n",
            "========================================================================================================\n",
            "epoch 11\n",
            "epoch 11 evaluation\n",
            "epoch loss 0.5162293612957001\n",
            "========================================================================================================\n",
            "epoch 12\n",
            "epoch 12 evaluation\n",
            "epoch loss 0.4778810242811839\n",
            "========================================================================================================\n",
            "epoch 13\n",
            "epoch 13 evaluation\n",
            "epoch loss 0.4487311045328776\n",
            "========================================================================================================\n",
            "epoch 14\n",
            "epoch 14 evaluation\n",
            "epoch loss 0.4310399889945984\n",
            "========================================================================================================\n",
            "epoch 15\n",
            "epoch 15 evaluation\n",
            "epoch loss 0.40725316603978473\n",
            "========================================================================================================\n",
            "epoch 16\n",
            "epoch 16 evaluation\n",
            "epoch loss 0.3932310740152995\n",
            "========================================================================================================\n",
            "epoch 17\n",
            "epoch 17 evaluation\n",
            "epoch loss 0.3662482301394145\n",
            "========================================================================================================\n",
            "epoch 18\n",
            "epoch 18 evaluation\n",
            "epoch loss 0.3706882695357005\n",
            "========================================================================================================\n",
            "epoch 19\n",
            "epoch 19 evaluation\n",
            "epoch loss 0.3552625775337219\n",
            "========================================================================================================\n",
            "epoch 20\n",
            "epoch 20 evaluation\n",
            "epoch loss 0.3391246696313222\n",
            "========================================================================================================\n",
            "epoch 21\n",
            "epoch 21 evaluation\n",
            "epoch loss 0.32566556334495544\n",
            "========================================================================================================\n",
            "epoch 22\n",
            "epoch 22 evaluation\n",
            "epoch loss 0.32378949721654254\n",
            "========================================================================================================\n",
            "epoch 23\n",
            "epoch 23 evaluation\n",
            "epoch loss 0.3314724067846934\n",
            "========================================================================================================\n",
            "epoch 24\n",
            "epoch 24 evaluation\n",
            "epoch loss 0.31529470284779865\n",
            "========================================================================================================\n",
            "epoch 25\n",
            "epoch 25 evaluation\n",
            "epoch loss 0.305124968290329\n",
            "========================================================================================================\n",
            "epoch 26\n",
            "epoch 26 evaluation\n",
            "epoch loss 0.30557021498680115\n",
            "========================================================================================================\n",
            "epoch 27\n",
            "epoch 27 evaluation\n",
            "epoch loss 0.29288320740063983\n",
            "========================================================================================================\n",
            "epoch 28\n",
            "epoch 28 evaluation\n",
            "epoch loss 0.28912732005119324\n",
            "========================================================================================================\n",
            "epoch 29\n",
            "epoch 29 evaluation\n",
            "epoch loss 0.29361648360888165\n",
            "========================================================================================================\n",
            "epoch 30\n",
            "epoch 30 evaluation\n",
            "epoch loss 0.2799246311187744\n",
            "========================================================================================================\n",
            "epoch 31\n",
            "epoch 31 evaluation\n",
            "epoch loss 0.2799676756064097\n",
            "========================================================================================================\n",
            "epoch 32\n",
            "epoch 32 evaluation\n",
            "epoch loss 0.27558836837609607\n",
            "========================================================================================================\n",
            "epoch 33\n",
            "epoch 33 evaluation\n",
            "epoch loss 0.2726290573676427\n",
            "========================================================================================================\n",
            "epoch 34\n",
            "epoch 34 evaluation\n",
            "epoch loss 0.2637743254502614\n",
            "========================================================================================================\n",
            "epoch 35\n",
            "epoch 35 evaluation\n",
            "epoch loss 0.25999557971954346\n",
            "========================================================================================================\n",
            "epoch 36\n",
            "epoch 36 evaluation\n",
            "epoch loss 0.26107410589853924\n",
            "========================================================================================================\n",
            "epoch 37\n",
            "epoch 37 evaluation\n",
            "epoch loss 0.2530870238939921\n",
            "========================================================================================================\n",
            "epoch 38\n",
            "epoch 38 evaluation\n",
            "epoch loss 0.25153574844201404\n",
            "========================================================================================================\n",
            "epoch 39\n",
            "epoch 39 evaluation\n",
            "epoch loss 0.25032230218251544\n",
            "========================================================================================================\n",
            "epoch 40\n",
            "epoch 40 evaluation\n",
            "epoch loss 0.24478449920813242\n",
            "========================================================================================================\n",
            "epoch 41\n",
            "epoch 41 evaluation\n",
            "epoch loss 0.2606451412041982\n",
            "========================================================================================================\n",
            "epoch 42\n",
            "epoch 42 evaluation\n",
            "epoch loss 0.2436912606159846\n",
            "========================================================================================================\n",
            "epoch 43\n",
            "epoch 43 evaluation\n",
            "epoch loss 0.2378708024819692\n",
            "========================================================================================================\n",
            "epoch 44\n",
            "epoch 44 evaluation\n",
            "epoch loss 0.2333604246377945\n",
            "========================================================================================================\n",
            "epoch 45\n",
            "epoch 45 evaluation\n",
            "epoch loss 0.23850856721401215\n",
            "========================================================================================================\n",
            "epoch 46\n",
            "epoch 46 evaluation\n",
            "epoch loss 0.2326698104540507\n",
            "========================================================================================================\n",
            "epoch 47\n",
            "epoch 47 evaluation\n",
            "epoch loss 0.2304670363664627\n",
            "========================================================================================================\n",
            "epoch 48\n",
            "epoch 48 evaluation\n",
            "epoch loss 0.2318238615989685\n",
            "========================================================================================================\n",
            "epoch 49\n",
            "epoch 49 evaluation\n",
            "epoch loss 0.22991658747196198\n",
            "========================================================================================================\n",
            "epoch 50\n",
            "epoch 50 evaluation\n",
            "epoch loss 0.23827641705671945\n",
            "========================================================================================================\n",
            "epoch 51\n",
            "epoch 51 evaluation\n",
            "epoch loss 0.21933333575725555\n",
            "========================================================================================================\n",
            "epoch 52\n",
            "epoch 52 evaluation\n",
            "epoch loss 0.22176832954088846\n",
            "========================================================================================================\n",
            "epoch 53\n",
            "epoch 53 evaluation\n",
            "epoch loss 0.2294797251621882\n",
            "========================================================================================================\n",
            "epoch 54\n",
            "epoch 54 evaluation\n",
            "epoch loss 0.21789942185084024\n",
            "========================================================================================================\n",
            "epoch 55\n",
            "epoch 55 evaluation\n",
            "epoch loss 0.2327828655640284\n",
            "========================================================================================================\n",
            "epoch 56\n",
            "epoch 56 evaluation\n",
            "epoch loss 0.21568130950133005\n",
            "========================================================================================================\n",
            "epoch 57\n",
            "epoch 57 evaluation\n",
            "epoch loss 0.22627694408098856\n",
            "========================================================================================================\n",
            "epoch 58\n",
            "epoch 58 evaluation\n",
            "epoch loss 0.22507462898890176\n",
            "========================================================================================================\n",
            "epoch 59\n",
            "epoch 59 evaluation\n",
            "epoch loss 0.23031232754389444\n",
            "========================================================================================================\n",
            "epoch 60\n",
            "epoch 60 evaluation\n",
            "epoch loss 0.21183083951473236\n",
            "========================================================================================================\n",
            "epoch 61\n",
            "epoch 61 evaluation\n",
            "epoch loss 0.21637400488058725\n",
            "========================================================================================================\n",
            "epoch 62\n",
            "epoch 62 evaluation\n",
            "epoch loss 0.21206896007061005\n",
            "========================================================================================================\n",
            "epoch 63\n",
            "epoch 63 evaluation\n",
            "epoch loss 0.2164818743864695\n",
            "========================================================================================================\n",
            "epoch 64\n",
            "epoch 64 evaluation\n",
            "epoch loss 0.207688902815183\n",
            "========================================================================================================\n",
            "epoch 65\n",
            "epoch 65 evaluation\n",
            "epoch loss 0.21126505235830942\n",
            "========================================================================================================\n",
            "epoch 66\n",
            "epoch 66 evaluation\n",
            "epoch loss 0.20196740329265594\n",
            "========================================================================================================\n",
            "epoch 67\n",
            "epoch 67 evaluation\n",
            "epoch loss 0.20427618424097696\n",
            "========================================================================================================\n",
            "epoch 68\n",
            "epoch 68 evaluation\n",
            "epoch loss 0.21196313699086508\n",
            "========================================================================================================\n",
            "epoch 69\n",
            "epoch 69 evaluation\n",
            "epoch loss 0.20038031538327536\n",
            "========================================================================================================\n",
            "epoch 70\n",
            "epoch 70 evaluation\n",
            "epoch loss 0.20900338888168335\n",
            "========================================================================================================\n",
            "epoch 71\n",
            "epoch 71 evaluation\n",
            "epoch loss 0.2020492603381475\n",
            "========================================================================================================\n",
            "epoch 72\n",
            "epoch 72 evaluation\n",
            "epoch loss 0.19807951152324677\n",
            "========================================================================================================\n",
            "epoch 73\n",
            "epoch 73 evaluation\n",
            "epoch loss 0.20384814341862997\n",
            "========================================================================================================\n",
            "epoch 74\n",
            "epoch 74 evaluation\n",
            "epoch loss 0.1966105947891871\n",
            "========================================================================================================\n",
            "epoch 75\n",
            "epoch 75 evaluation\n",
            "epoch loss 0.196676696340243\n",
            "========================================================================================================\n",
            "epoch 76\n",
            "epoch 76 evaluation\n",
            "epoch loss 0.19794592261314392\n",
            "========================================================================================================\n",
            "epoch 77\n",
            "epoch 77 evaluation\n",
            "epoch loss 0.202315221230189\n",
            "========================================================================================================\n",
            "epoch 78\n",
            "epoch 78 evaluation\n",
            "epoch loss 0.20145690441131592\n",
            "========================================================================================================\n",
            "epoch 79\n",
            "epoch 79 evaluation\n",
            "epoch loss 0.19239049156506857\n",
            "========================================================================================================\n",
            "epoch 80\n",
            "epoch 80 evaluation\n",
            "epoch loss 0.196391299366951\n",
            "========================================================================================================\n",
            "epoch 81\n",
            "epoch 81 evaluation\n",
            "epoch loss 0.19749834140141806\n",
            "========================================================================================================\n",
            "epoch 82\n",
            "epoch 82 evaluation\n",
            "epoch loss 0.20014511545499167\n",
            "========================================================================================================\n",
            "epoch 83\n",
            "epoch 83 evaluation\n",
            "epoch loss 0.23245926201343536\n",
            "========================================================================================================\n",
            "epoch 84\n",
            "epoch 84 evaluation\n",
            "epoch loss 0.2024242877960205\n",
            "========================================================================================================\n",
            "epoch 85\n",
            "epoch 85 evaluation\n",
            "epoch loss 0.18915863831837973\n",
            "========================================================================================================\n",
            "epoch 86\n",
            "epoch 86 evaluation\n",
            "epoch loss 0.18814670046170553\n",
            "========================================================================================================\n",
            "epoch 87\n",
            "epoch 87 evaluation\n",
            "epoch loss 0.1955189605553945\n",
            "========================================================================================================\n",
            "epoch 88\n",
            "epoch 88 evaluation\n",
            "epoch loss 0.19327892859776816\n",
            "========================================================================================================\n",
            "epoch 89\n",
            "epoch 89 evaluation\n",
            "epoch loss 0.19693650801976523\n",
            "========================================================================================================\n",
            "epoch 90\n",
            "epoch 90 evaluation\n",
            "epoch loss 0.18654927611351013\n",
            "========================================================================================================\n",
            "epoch 91\n",
            "epoch 91 evaluation\n",
            "epoch loss 0.18625079095363617\n",
            "========================================================================================================\n",
            "epoch 92\n",
            "epoch 92 evaluation\n",
            "epoch loss 0.19108359018961588\n",
            "========================================================================================================\n",
            "epoch 93\n",
            "epoch 93 evaluation\n",
            "epoch loss 0.19832837084929147\n",
            "========================================================================================================\n",
            "epoch 94\n",
            "epoch 94 evaluation\n",
            "epoch loss 0.19567374885082245\n",
            "========================================================================================================\n",
            "epoch 95\n",
            "epoch 95 evaluation\n",
            "epoch loss 0.19365912675857544\n",
            "========================================================================================================\n",
            "epoch 96\n",
            "epoch 96 evaluation\n",
            "epoch loss 0.18805453181266785\n",
            "========================================================================================================\n",
            "epoch 97\n",
            "epoch 97 evaluation\n",
            "epoch loss 0.18585744500160217\n",
            "========================================================================================================\n",
            "epoch 98\n",
            "epoch 98 evaluation\n",
            "epoch loss 0.18528113762537637\n",
            "========================================================================================================\n",
            "epoch 99\n",
            "epoch 99 evaluation\n",
            "epoch loss 0.18757999936739603\n",
            "========================================================================================================\n",
            "CPU times: user 2min 38s, sys: 780 ms, total: 2min 39s\n",
            "Wall time: 2min 42s\n"
          ]
        }
      ],
      "source": [
        "%%time\n",
        "loss = []\n",
        "loss_eval = []\n",
        "\n",
        "print(f'Start training model')\n",
        "n_epochs = 100\n",
        "\n",
        "model.to(device)\n",
        "for i in range(n_epochs):\n",
        "    loss.append(train(model, train_loader, optimizer, criterion, epoch=i, device=device))\n",
        "    loss_eval.append(evaluate(model, val_loader, criterion, epoch=i, device=device))\n",
        "\n",
        "    # implement here best model saving"
      ]
    },
    {
      "cell_type": "code",
      "execution_count": 31,
      "id": "Yg5fSE9e31Kf",
      "metadata": {
        "colab": {
          "base_uri": "https://localhost:8080/",
          "height": 444
        },
        "id": "Yg5fSE9e31Kf",
        "outputId": "7d99116c-b0fb-4afd-a264-d93352300d27"
      },
      "outputs": [
        {
          "data": {
            "image/png": "[encoded data removed]",
            "text/plain": [
              "<Figure size 640x480 with 1 Axes>"
            ]
          },
          "metadata": {},
          "output_type": "display_data"
        }
      ],
      "source": [
        "x_train = range(len(loss))\n",
        "x_val = range(len(loss_eval))\n",
        "\n",
        "plt.plot(x_train, loss, label='train')\n",
        "plt.plot(x_val, loss_eval, label='val')\n",
        "\n",
        "plt.grid(alpha=0.1)\n",
        "plt.legend()\n",
        "plt.title('Train and val loss')\n",
        "\n",
        "plt.ylim(0, 1)\n",
        "plt.show()\n"
      ]
    },
    {
      "cell_type": "code",
      "execution_count": 32,
      "id": "7ff55708-5678-4cb4-bed6-bb61cc2172f9",
      "metadata": {
        "colab": {
          "base_uri": "https://localhost:8080/"
        },
        "id": "7ff55708-5678-4cb4-bed6-bb61cc2172f9",
        "outputId": "93c846ba-5b01-4560-9958-3ba086e5f7d1"
      },
      "outputs": [
        {
          "data": {
            "text/plain": [
              "89153"
            ]
          },
          "execution_count": 32,
          "metadata": {},
          "output_type": "execute_result"
        }
      ],
      "source": [
        "# get size of the model\n",
        "total_size = 0\n",
        "for p in model.parameters():\n",
        "    size = 1\n",
        "    for s in p.size():\n",
        "        size *= s\n",
        "    total_size += size\n",
        "total_size"
      ]
    },
    {
      "cell_type": "code",
      "execution_count": 33,
      "id": "e74e4651-c0bf-421d-a40c-f99d49acd57c",
      "metadata": {
        "id": "e74e4651-c0bf-421d-a40c-f99d49acd57c"
      },
      "outputs": [],
      "source": [
        "test_loader = torch_geometric.loader.DataLoader(test_data,\n",
        "                                                 batch_size=256,\n",
        "                                                 shuffle=False)\n",
        "\n",
        "model.eval()\n",
        "\n",
        "preds = []\n",
        "targets = []\n",
        "with torch.no_grad():\n",
        "    for i, batch in enumerate(test_loader):\n",
        "        ys = batch.energy.squeeze().to(device)\n",
        "        predictions = model(batch.to(device)).squeeze()\n",
        "        targets.extend(ys)\n",
        "        preds.extend(predictions)"
      ]
    },
    {
      "cell_type": "code",
      "execution_count": 34,
      "id": "3ad68a05-5baa-4283-87fb-5796b75dc4af",
      "metadata": {
        "colab": {
          "base_uri": "https://localhost:8080/",
          "height": 729
        },
        "id": "3ad68a05-5baa-4283-87fb-5796b75dc4af",
        "outputId": "7bb308d5-b860-4720-8879-50616a965bbd"
      },
      "outputs": [
        {
          "data": {
            "text/plain": [
              "[<matplotlib.lines.Line2D at 0x79b1ac546c90>]"
            ]
          },
          "execution_count": 34,
          "metadata": {},
          "output_type": "execute_result"
        },
        {
          "data": {
            "image/png": "[encoded data removed]",
            "text/plain": [
              "<Figure size 800x800 with 1 Axes>"
            ]
          },
          "metadata": {},
          "output_type": "display_data"
        }
      ],
      "source": [
        "import matplotlib.pyplot as plt\n",
        "\n",
        "plt.figure(dpi = 200, figsize = (4, 4))\n",
        "plt.scatter(torch.tensor(targets).numpy(), torch.tensor(preds).numpy(), alpha = 0.2)\n",
        "plt.plot(torch.tensor(targets).numpy(), torch.tensor(targets).numpy())"
      ]
    },
    {
      "cell_type": "code",
      "execution_count": 35,
      "id": "b76e2ceb-7406-4626-be27-27609b14da0d",
      "metadata": {
        "colab": {
          "base_uri": "https://localhost:8080/"
        },
        "id": "b76e2ceb-7406-4626-be27-27609b14da0d",
        "outputId": "9c88de8f-9d88-4f3b-d409-c5d682ee9339"
      },
      "outputs": [
        {
          "data": {
            "text/plain": [
              "0.9440768957138062"
            ]
          },
          "execution_count": 35,
          "metadata": {},
          "output_type": "execute_result"
        }
      ],
      "source": [
        "import numpy as np\n",
        "from sklearn.metrics import r2_score\n",
        "\n",
        "r2_score(torch.tensor(targets).numpy(), torch.tensor(preds).numpy())\n"
      ]
    },
    {
      "cell_type": "code",
      "execution_count": 36,
      "id": "04f436d3-e5dc-41a4-abdc-4178bc2ae648",
      "metadata": {
        "colab": {
          "base_uri": "https://localhost:8080/"
        },
        "id": "04f436d3-e5dc-41a4-abdc-4178bc2ae648",
        "outputId": "7cce1450-25ea-4479-884c-95a51b232962"
      },
      "outputs": [
        {
          "data": {
            "text/plain": [
              "np.float32(0.38922206)"
            ]
          },
          "execution_count": 36,
          "metadata": {},
          "output_type": "execute_result"
        }
      ],
      "source": [
        "# RMSE, eV/atom\n",
        "np.sqrt((abs(torch.tensor(targets).numpy() - torch.tensor(preds).numpy())**2).mean())"
      ]
    },
    {
      "cell_type": "code",
      "execution_count": 37,
      "id": "-5r2nQlD_3Dr",
      "metadata": {
        "colab": {
          "base_uri": "https://localhost:8080/"
        },
        "id": "-5r2nQlD_3Dr",
        "outputId": "e9bf7df3-4c70-40f1-ca74-97e3dad2b389"
      },
      "outputs": [
        {
          "data": {
            "text/plain": [
              "np.float32(0.2348379)"
            ]
          },
          "execution_count": 37,
          "metadata": {},
          "output_type": "execute_result"
        }
      ],
      "source": [
        "# MAE, eV/atom\n",
        "abs(torch.tensor(targets).numpy() - torch.tensor(preds).numpy()).mean()"
      ]
    }
  ],
  "metadata": {
    "accelerator": "GPU",
    "colab": {
      "gpuType": "T4",
      "provenance": []
    },
    "kernelspec": {
      "display_name": "pyg",
      "language": "python",
      "name": "pyg"
    },
    "language_info": {
      "codemirror_mode": {
        "name": "ipython",
        "version": 3
      },
      "file_extension": ".py",
      "mimetype": "text/x-python",
      "name": "python",
      "nbconvert_exporter": "python",
      "pygments_lexer": "ipython3",
      "version": "3.10.14"
    }
  },
  "nbformat": 4,
  "nbformat_minor": 5
}
