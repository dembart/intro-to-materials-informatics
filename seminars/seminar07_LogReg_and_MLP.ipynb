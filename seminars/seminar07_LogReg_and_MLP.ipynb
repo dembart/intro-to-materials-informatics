{
  "cells": [
    {
      "cell_type": "markdown",
      "metadata": {
        "id": "9jKMTDHnUTel"
      },
      "source": [
        "### Seminar 7: Intro to Neural Networks\n",
        "\n",
        "Goals/Agenda\n",
        "- Intro to PyTorch\n",
        "- Linearly separable and non-separable classes\n",
        "- Computation graph and backprop\n",
        "- Logistic regression\n",
        "- Perceptron\n",
        "- MLP\n",
        "- Training loop\n",
        "- Dataloader\n",
        "- CUDA acceleration"
      ]
    },
    {
      "cell_type": "markdown",
      "metadata": {
        "id": "-di1XbxFUTem"
      },
      "source": [
        "### Intro to PyTorch\n",
        "\n",
        "First of all enable GPU in colab:\n",
        "\n",
        "- Runtime-> Change runtime type->T4 GPU"
      ]
    },
    {
      "cell_type": "markdown",
      "metadata": {
        "id": "umw9AKhnUTem"
      },
      "source": [
        "### Attribution\n",
        "Parts of this notebook are adapted from:\n",
        "- [Introduction to PyTorch tutorial by Phillip Lippe](https://uvadlc-notebooks.readthedocs.io/en/latest/tutorial_notebooks/tutorial2/Introduction_to_PyTorch.html)\n",
        "\n",
        "- [A Gentle Introduction to torch.autograd](https://docs.pytorch.org/tutorials/beginner/blitz/autograd_tutorial.html)\n",
        "\n"
      ]
    },
    {
      "cell_type": "markdown",
      "metadata": {
        "id": "MMTsqpRZUTem"
      },
      "source": [
        "In PyTorch we operate with tensor objects. These  are equivalent to array object in numpy, but optimized for accelerated calculations on GPU (will discuss it later)."
      ]
    },
    {
      "cell_type": "code",
      "execution_count": 76,
      "metadata": {
        "id": "ntsIpy4RUTem",
        "outputId": "a78ed331-5e2e-450b-dfaf-fa3a2fb0d0c7",
        "colab": {
          "base_uri": "https://localhost:8080/"
        }
      },
      "outputs": [
        {
          "output_type": "stream",
          "name": "stdout",
          "text": [
            "tensor([3.0000, 2.1000, 3.0000]) torch.Size([3])\n"
          ]
        }
      ],
      "source": [
        "import torch\n",
        "\n",
        "# we can create a tensor from a list\n",
        "a = torch.tensor([3.0, 2.1, 3.0])\n",
        "print(a, a.shape)"
      ]
    },
    {
      "cell_type": "code",
      "execution_count": 77,
      "metadata": {
        "id": "EhPvHyfrUTen",
        "outputId": "525bfec7-1552-425e-b8f7-0d9e7cd58a95",
        "colab": {
          "base_uri": "https://localhost:8080/"
        }
      },
      "outputs": [
        {
          "output_type": "stream",
          "name": "stdout",
          "text": [
            "tensor([[ 3.0000,  2.1000,  3.0000],\n",
            "        [ 0.7000, -1.2000, 37.0000]]) torch.Size([2, 3])\n"
          ]
        }
      ],
      "source": [
        "# or a nested list\n",
        "a = torch.tensor([[3.0, 2.1, 3.0], [0.7, -1.2, 37]])\n",
        "print(a, a.shape)"
      ]
    },
    {
      "cell_type": "code",
      "execution_count": 78,
      "metadata": {
        "id": "pEyaCEVcUTen",
        "outputId": "7f167b74-f3a1-4d2d-b071-7ae1d995e370",
        "colab": {
          "base_uri": "https://localhost:8080/"
        }
      },
      "outputs": [
        {
          "output_type": "stream",
          "name": "stdout",
          "text": [
            "tensor([[1., 1., 1., 1.],\n",
            "        [1., 1., 1., 1.],\n",
            "        [1., 1., 1., 1.]]) torch.Size([3, 4])\n"
          ]
        }
      ],
      "source": [
        "# or create arrays using torch factory method\n",
        "a = torch.ones(3, 4) # a 2D tensor of shape 3 x 4 filled with ones\n",
        "print(a, a.shape)"
      ]
    },
    {
      "cell_type": "code",
      "execution_count": 79,
      "metadata": {
        "id": "-YFPGuMzUTeo",
        "outputId": "09df4a23-a33b-4054-cf59-790db1e3bf63",
        "colab": {
          "base_uri": "https://localhost:8080/"
        }
      },
      "outputs": [
        {
          "output_type": "stream",
          "name": "stdout",
          "text": [
            "tensor([1, 3, 5, 7, 9]) torch.Size([5])\n"
          ]
        }
      ],
      "source": [
        "a = torch.arange(1, 10, 2) # 1D tensor with values from 1 to 10 with step of 2\n",
        "print(a, a.shape)"
      ]
    },
    {
      "cell_type": "markdown",
      "metadata": {
        "id": "cdrONV8cUTeo"
      },
      "source": [
        "### Broadcasting"
      ]
    },
    {
      "cell_type": "code",
      "execution_count": 80,
      "metadata": {
        "id": "OSTV-1m7UTeo",
        "outputId": "f9a9ccf8-b588-4325-c5cd-59509224cff7",
        "colab": {
          "base_uri": "https://localhost:8080/"
        }
      },
      "outputs": [
        {
          "output_type": "stream",
          "name": "stdout",
          "text": [
            "tensor([3, 4, 5, 6, 7, 8, 9])\n",
            "tensor([2, 3, 4, 5, 6, 7, 8])\n"
          ]
        }
      ],
      "source": [
        "a = torch.tensor([-1])\n",
        "b = torch.arange(3, 10, 1)\n",
        "print(b)\n",
        "print(a + b)"
      ]
    },
    {
      "cell_type": "code",
      "execution_count": 81,
      "metadata": {
        "id": "oU2TdnLPUTeo",
        "outputId": "69ac451c-d13b-4979-e9e0-08154a152c24",
        "colab": {
          "base_uri": "https://localhost:8080/"
        }
      },
      "outputs": [
        {
          "output_type": "stream",
          "name": "stdout",
          "text": [
            "tensor([ 6,  8, 10, 12, 14, 16, 18])\n"
          ]
        }
      ],
      "source": [
        "a = torch.arange(3, 10, 1)\n",
        "b = torch.arange(3, 10, 1)\n",
        "\n",
        "print(a + b)"
      ]
    },
    {
      "cell_type": "code",
      "execution_count": 82,
      "metadata": {
        "id": "n293BQseUTeo",
        "outputId": "6412d428-27b5-4f8a-f5c6-7ea733426e24",
        "colab": {
          "base_uri": "https://localhost:8080/"
        }
      },
      "outputs": [
        {
          "output_type": "stream",
          "name": "stdout",
          "text": [
            "tensor([[ 6,  7,  8,  9, 10, 11, 12],\n",
            "        [ 7,  8,  9, 10, 11, 12, 13],\n",
            "        [ 8,  9, 10, 11, 12, 13, 14],\n",
            "        [ 9, 10, 11, 12, 13, 14, 15],\n",
            "        [10, 11, 12, 13, 14, 15, 16],\n",
            "        [11, 12, 13, 14, 15, 16, 17],\n",
            "        [12, 13, 14, 15, 16, 17, 18]])\n"
          ]
        }
      ],
      "source": [
        "a = torch.arange(3, 10, 1).reshape(-1, 1) # be careful with dimensions\n",
        "b = torch.arange(3, 10, 1)\n",
        "\n",
        "print(a + b)"
      ]
    },
    {
      "cell_type": "code",
      "execution_count": 83,
      "metadata": {
        "id": "FQD5YA68UTeo"
      },
      "outputs": [],
      "source": [
        "a = torch.rand(3, 10) # 2D tensor with random values between 0 and 1\n",
        "b = torch.rand(10, 2)"
      ]
    },
    {
      "cell_type": "code",
      "execution_count": 84,
      "metadata": {
        "id": "mBHdKcdAUTeo",
        "outputId": "45b7af4f-9592-4ba2-aeaa-a4f6ff532d64",
        "colab": {
          "base_uri": "https://localhost:8080/"
        }
      },
      "outputs": [
        {
          "output_type": "stream",
          "name": "stdout",
          "text": [
            "tensor([[1.9196, 1.7407],\n",
            "        [2.6429, 2.0949],\n",
            "        [2.8761, 2.5857]])\n"
          ]
        }
      ],
      "source": [
        "# matrix product\n",
        "c = torch.matmul(a, b) # 3 x 2\n",
        "print(c)"
      ]
    },
    {
      "cell_type": "markdown",
      "metadata": {
        "id": "AFEAycrvUTeo"
      },
      "source": [
        "### Torch to numpy and vice versa"
      ]
    },
    {
      "cell_type": "code",
      "execution_count": 85,
      "metadata": {
        "id": "WCW3rc5XUTeo"
      },
      "outputs": [],
      "source": [
        "import numpy as np\n",
        "\n",
        "a = np.array([0.0, 42.0])\n",
        "t = torch.from_numpy(a)"
      ]
    },
    {
      "cell_type": "code",
      "execution_count": 86,
      "metadata": {
        "id": "jBplZjNZUTep"
      },
      "outputs": [],
      "source": [
        "t = torch.rand(4, 9)\n",
        "a = t.numpy()"
      ]
    },
    {
      "cell_type": "code",
      "execution_count": 87,
      "metadata": {
        "id": "CJt-Q1z9UTep",
        "outputId": "75006a28-8eb4-4f10-bc00-5f2b487e2c56",
        "colab": {
          "base_uri": "https://localhost:8080/"
        }
      },
      "outputs": [
        {
          "output_type": "execute_result",
          "data": {
            "text/plain": [
              "(4, 9)"
            ]
          },
          "metadata": {},
          "execution_count": 87
        }
      ],
      "source": [
        "a.shape"
      ]
    },
    {
      "cell_type": "markdown",
      "metadata": {
        "id": "fY7HzHDhUTep"
      },
      "source": [
        "### Computation graph"
      ]
    },
    {
      "cell_type": "markdown",
      "metadata": {
        "id": "ZlrsNbLwUTep"
      },
      "source": [
        "#### Toy example\n",
        "\n",
        "- Assume we have some neural network model with parameters $a$ and $b$.\n",
        "\n",
        "- The error function is given by $Q = 3a^3 - b^2$\n",
        "\n",
        "\n",
        "\n",
        "- We want to minimize a loss function $Q$ with respect to $a$ and $b$.\n",
        "\n",
        "The gradients are calculated as follows:\n",
        "\n",
        "$$\\frac{\\partial Q}{\\partial a} = 9a^2$$\n",
        "\n",
        "$$\\frac{\\partial Q}{\\partial b} = -2b$$\n",
        "\n",
        "Gradient descent update:\n",
        "$$a = a - \\alpha \\cdot \\frac{\\partial Q}{\\partial a}$$\n",
        "$$b = b - \\alpha \\cdot \\frac{\\partial Q}{\\partial b}$$\n"
      ]
    },
    {
      "cell_type": "markdown",
      "metadata": {
        "id": "Z-2OBBNwUTep"
      },
      "source": [
        "We can calcucalate gradient manually as follows:"
      ]
    },
    {
      "cell_type": "code",
      "execution_count": 88,
      "metadata": {
        "id": "T35aoPRfUTep"
      },
      "outputs": [],
      "source": [
        "a = torch.tensor([2., 3.])\n",
        "b = torch.tensor([6., 4.])\n",
        "Q = 3 * a ** 3 - b ** 2"
      ]
    },
    {
      "cell_type": "code",
      "execution_count": 89,
      "metadata": {
        "id": "dhTAYskwUTep"
      },
      "outputs": [],
      "source": [
        "dQ_da = 9 * a ** 2\n",
        "dQ_db = -2 * b"
      ]
    },
    {
      "cell_type": "markdown",
      "metadata": {
        "id": "NoAub1HWUTep"
      },
      "source": [
        "We can also accomplish this using automatic differentiation implemented in the `torch.autograd` system.\n",
        "\n",
        "We create two tensors a and b with `requires_grad=True`. This tells autograd to track all operations performed on them."
      ]
    },
    {
      "cell_type": "code",
      "execution_count": 90,
      "metadata": {
        "id": "SCoihwHgUTep"
      },
      "outputs": [],
      "source": [
        "a = torch.tensor([2., 3.], requires_grad=True)\n",
        "b = torch.tensor([6., 4.], requires_grad=True)\n",
        "Q = 3 * a ** 3 - b ** 2"
      ]
    },
    {
      "cell_type": "code",
      "execution_count": 91,
      "metadata": {
        "id": "zCSlpXjBUTep",
        "outputId": "81ed41e7-9ac1-4ade-fff5-bc6523e2a191",
        "colab": {
          "base_uri": "https://localhost:8080/"
        }
      },
      "outputs": [
        {
          "output_type": "execute_result",
          "data": {
            "text/plain": [
              "(True, True)"
            ]
          },
          "metadata": {},
          "execution_count": 91
        }
      ],
      "source": [
        "a.requires_grad, b.requires_grad"
      ]
    },
    {
      "cell_type": "markdown",
      "metadata": {
        "id": "5cQw17yeUTep"
      },
      "source": [
        "When `requires_grad=True`, `autograd` keeps a record of data (tensors) & all executed\n",
        "operations (along with the resulting new tensors) in a directed acyclic\n",
        "graph (DAG) consisting of\n",
        "[Function](https://pytorch.org/docs/stable/autograd.html#torch.autograd.Function)\n",
        "objects.\n",
        "\n",
        "- In this DAG, leaves are the input tensors, roots are the output\n",
        "tensors. By tracing this graph from roots to leaves, you can\n",
        "automatically compute the gradients using the chain rule.\n",
        "\n",
        "In a forward pass, autograd does two things simultaneously:\n",
        "\n",
        "-   run the requested operation to compute a resulting tensor, and\n",
        "-   maintain the operation's *gradient function* in the DAG.\n",
        "\n",
        "Source: [A Gentle Introduction to torch.autograd](https://docs.pytorch.org/tutorials/beginner/blitz/autograd_tutorial.html)\n",
        "\n"
      ]
    },
    {
      "cell_type": "markdown",
      "metadata": {
        "id": "NMm7qXAUUTep"
      },
      "source": [
        "### Backpropagation"
      ]
    },
    {
      "cell_type": "markdown",
      "metadata": {
        "id": "elMYCpr7UTep"
      },
      "source": [
        "After the forward pass we can compute gradients using `.backward()` method.\n",
        "\n",
        "\n",
        "The backward pass kicks off when `.backward()` is called on the DAG\n",
        "root. `autograd` then:\n",
        "\n",
        "-   computes the gradients from each `.grad_fn`,\n",
        "-   accumulates them in the respective tensor's `.grad` attribute, and\n",
        "-   using the chain rule, propagates all the way to the leaf tensors.\n",
        "\n",
        "Below is a visual representation of the DAG in our example. In the\n",
        "graph, the arrows are in the direction of the forward pass. The nodes\n",
        "represent the backward functions of each operation in the forward pass.\n",
        "The leaf nodes in blue represent our leaf tensors `a` and `b`.\n",
        "\n",
        "![](https://pytorch.org/tutorials/_static/img/dag_autograd.png)\n",
        "\n",
        "Source: [A Gentle Introduction to torch.autograd](https://docs.pytorch.org/tutorials/beginner/blitz/autograd_tutorial.html)\n"
      ]
    },
    {
      "cell_type": "code",
      "execution_count": 92,
      "metadata": {
        "id": "vAEX3-D_UTeq"
      },
      "outputs": [],
      "source": [
        "external_grad = torch.ones_like(Q)\n",
        "Q.backward(gradient=external_grad)"
      ]
    },
    {
      "cell_type": "markdown",
      "metadata": {
        "id": "GezByGrpUTeq"
      },
      "source": [
        "When we call `.backward()` on `Q`, autograd calculates these gradients\n",
        "and stores them in the respective tensors\\' `.grad` attribute.\n",
        "We need to explicitly pass a `gradient` argument in `Q.backward()`\n",
        "because it is a vector.\n",
        "\n",
        "When we have a vector-valued function `Q` (a vector) and we want to compute the gradients of the components of `Q` with respect to the input tensors, `a` and `b`, we must provide a gradient argument to the backward method. This gradient argument is a tensor of the same shape as `Q` and it represents the weights in the linear combination of the components of `Q` for which we want to compute the gradients.\n",
        "\n",
        "In particular, if we set gradient to a tensor of ones, we are computing the gradient of the sum of the elements of `Q` (because the derivative of the sum is the same as the derivative of each element multiplied by 1 and then summed).\n",
        "\n",
        "Alternatively, if we first sum the vector `Q` to a scalar and then call backward (without any arguments because now it's a scalar), we get the same result.\n",
        "\n",
        "So, the two are equivalent:\n",
        "\n",
        "- `Q.backward(gradient=torch.ones_like(Q))`\n",
        "\n",
        "- `Q.sum().backward()`\n",
        "\n"
      ]
    },
    {
      "cell_type": "code",
      "execution_count": 93,
      "metadata": {
        "id": "1Hippsl_UTeq",
        "outputId": "3381606e-d0ee-45b6-c29c-d40f2916a7e4",
        "colab": {
          "base_uri": "https://localhost:8080/"
        }
      },
      "outputs": [
        {
          "output_type": "stream",
          "name": "stdout",
          "text": [
            "tensor([True, True])\n",
            "tensor([True, True])\n"
          ]
        }
      ],
      "source": [
        "# manual vs. autograd\n",
        "print(dQ_da == a.grad)\n",
        "print(dQ_db == b.grad)"
      ]
    },
    {
      "cell_type": "code",
      "execution_count": 94,
      "metadata": {
        "id": "Z8CQCbT8UTeq"
      },
      "outputs": [],
      "source": [
        "a = torch.tensor([2., 3.], requires_grad=True)\n",
        "b = torch.tensor([6., 4.], requires_grad=True)\n",
        "Q = 3 * a ** 3 - b ** 2\n",
        "Q = Q.sum()"
      ]
    },
    {
      "cell_type": "code",
      "execution_count": 95,
      "metadata": {
        "id": "3k1LaU7GUTeq"
      },
      "outputs": [],
      "source": [
        "Q.backward()"
      ]
    },
    {
      "cell_type": "code",
      "execution_count": 96,
      "metadata": {
        "id": "-IHLyA7PUTeq",
        "outputId": "14c2cd72-4824-4c21-b2a8-ea3350eb2240",
        "colab": {
          "base_uri": "https://localhost:8080/"
        }
      },
      "outputs": [
        {
          "output_type": "stream",
          "name": "stdout",
          "text": [
            "tensor([True, True])\n",
            "tensor([True, True])\n"
          ]
        }
      ],
      "source": [
        "# manual vs. autograd\n",
        "print(dQ_da == a.grad)\n",
        "print(dQ_db == b.grad)"
      ]
    },
    {
      "cell_type": "markdown",
      "metadata": {
        "id": "vMn6aRI-UTeq"
      },
      "source": [
        "\n",
        "Exclusion from the DAG\n",
        "----------------------\n",
        "\n",
        "`torch.autograd` tracks operations on all tensors which have their\n",
        "`requires_grad` flag set to `True`. For tensors that don't require\n",
        "gradients, setting this attribute to `False` excludes it from the\n",
        "gradient computation DAG.\n",
        "\n",
        "The output tensor of an operation will require gradients even if only a\n",
        "single input tensor has `requires_grad=True`."
      ]
    },
    {
      "cell_type": "markdown",
      "metadata": {
        "id": "nmqYJNW7UTeq"
      },
      "source": [
        "### Still unclear? Let's walk through another example"
      ]
    },
    {
      "cell_type": "markdown",
      "metadata": {
        "id": "dap2_5c2UTeq"
      },
      "source": [
        "### Linearly Separable Classes\n",
        "Below is a toy example with two groups of samples corresponding to points lying below or above the line.\n"
      ]
    },
    {
      "cell_type": "code",
      "execution_count": 97,
      "metadata": {
        "id": "bEprm0goUTeq"
      },
      "outputs": [],
      "source": [
        "import torch\n",
        "import pandas as pd\n",
        "import matplotlib.pyplot as plt\n",
        "plt.rcParams.update({'font.size': 10})"
      ]
    },
    {
      "cell_type": "code",
      "source": [
        "# download files\n",
        "!mkdir data\n",
        "!wget -O./data/linearly_separable_classes.csv https://raw.githubusercontent.com/dembart/intro-to-materials-informatics/refs/heads/main/data/seminar07/linearly_separable_classes.csv"
      ],
      "metadata": {
        "colab": {
          "base_uri": "https://localhost:8080/"
        },
        "id": "EaiVJev7U0L5",
        "outputId": "bf0a0d3b-c8ab-4cd9-f81e-d6f328277f5b"
      },
      "execution_count": 98,
      "outputs": [
        {
          "output_type": "stream",
          "name": "stdout",
          "text": [
            "mkdir: cannot create directory ‘data’: File exists\n",
            "--2025-09-28 13:05:13--  https://raw.githubusercontent.com/dembart/intro-to-materials-informatics/refs/heads/main/data/seminar07/linearly_separable_classes.csv\n",
            "Resolving raw.githubusercontent.com (raw.githubusercontent.com)... 185.199.108.133, 185.199.109.133, 185.199.110.133, ...\n",
            "Connecting to raw.githubusercontent.com (raw.githubusercontent.com)|185.199.108.133|:443... connected.\n",
            "HTTP request sent, awaiting response... 200 OK\n",
            "Length: 845 [text/plain]\n",
            "Saving to: ‘./data/linearly_separable_classes.csv’\n",
            "\n",
            "./data/linearly_sep 100%[===================>]     845  --.-KB/s    in 0s      \n",
            "\n",
            "2025-09-28 13:05:14 (64.4 MB/s) - ‘./data/linearly_separable_classes.csv’ saved [845/845]\n",
            "\n"
          ]
        }
      ]
    },
    {
      "cell_type": "code",
      "execution_count": 99,
      "metadata": {
        "id": "i9EtifLQUTew"
      },
      "outputs": [],
      "source": [
        "data = pd.read_csv('data/linearly_separable_classes.csv')\n",
        "\n",
        "x = torch.tensor(data[['f1', 'f2']].values, dtype=torch.float64)\n",
        "y = torch.tensor(data['label'].values, dtype=torch.float64)"
      ]
    },
    {
      "cell_type": "code",
      "execution_count": 100,
      "metadata": {
        "id": "SmAl-LwWUTew",
        "outputId": "a0e65b18-c091-4ace-d152-796d3637554b",
        "colab": {
          "base_uri": "https://localhost:8080/",
          "height": 473
        }
      },
      "outputs": [
        {
          "output_type": "execute_result",
          "data": {
            "text/plain": [
              "Text(0, 0.5, 'x2')"
            ]
          },
          "metadata": {},
          "execution_count": 100
        },
        {
          "output_type": "display_data",
          "data": {
            "text/plain": [
              "<Figure size 450x450 with 1 Axes>"
            ],
            "image/png": "[encoded data removed]"
          },
          "metadata": {}
        }
      ],
      "source": [
        "plt.figure(dpi = 150, figsize = (3, 3))\n",
        "plt.scatter(x[:, 0], x[:, 1], c = y)\n",
        "plt.xlabel('x1')\n",
        "plt.ylabel('x2')"
      ]
    },
    {
      "cell_type": "markdown",
      "metadata": {
        "id": "zeoJrDgsUTew"
      },
      "source": [
        "The classes are linearly separable. We first perform a linear transformation of the input:\n",
        "\n",
        "$$z = x W + b$$\n",
        "\n",
        "Then apply a non-linear transformation that maps $z$ to probability (i.e., value between 0 or 1) of a sample (f1, f2) corresponding to class 1.\n",
        "\n",
        "\n",
        "One possible option is to use a logistic function (also called a sigmoid function):\n",
        "\n",
        "\n",
        "$$f(z) = \\frac{1}{1 + \\exp\\left(-z\\right)}$$\n",
        "\n",
        "<center><img src=\"https://upload.wikimedia.org/wikipedia/commons/thumb/8/88/Logistic-curve.svg/1920px-Logistic-curve.svg.png\" height=\"300\"></center>\n",
        "\n",
        "After that, we will use the 0.5 threshold to make a decision.\n",
        "\n",
        "\n",
        "$$\n",
        "t(z) =\n",
        "\\begin{cases}\n",
        "1 & \\text{if } z \\geq 0 \\\\\n",
        "0 & \\text{if } z < 0\n",
        "\\end{cases}\n",
        "$$\n"
      ]
    },
    {
      "cell_type": "markdown",
      "metadata": {
        "id": "klJg1WAnUTex"
      },
      "source": [
        "To find the parameters of the model ($W$ and $b$) we need to define a cost function which we will minimize. This cost function is called binary cross-entropy loss.\n",
        "\n",
        "$$\n",
        "J(\\mathbf{y}, \\mathbf{\\hat{y}}) = -\\frac{1}{m} \\sum_{i=1}^{m} \\left[ y_i \\log(\\hat{y}_i) + (1 - y_i) \\log(1 - \\hat{y}_i) \\right]\n",
        "$$"
      ]
    },
    {
      "cell_type": "code",
      "execution_count": 101,
      "metadata": {
        "id": "-vVWkCztUTex"
      },
      "outputs": [],
      "source": [
        "def affine_transform(x, W, b):\n",
        "    return torch.matmul(x, W) + b\n",
        "\n",
        "def logistic_func(z):\n",
        "    return 1/(1 + torch.exp(-z))\n",
        "\n",
        "def cross_entropy_with_logits(y, z, epsilon = 1e-9):\n",
        "    y_pred = logistic_func(z)\n",
        "    y_pred = torch.clamp(y_pred, epsilon, 1 - epsilon) # to deal with numerical instability\n",
        "    return -torch.mean(y * torch.log(y_pred) + (1 - y) * torch.log(1 - y_pred))"
      ]
    },
    {
      "cell_type": "code",
      "execution_count": 102,
      "metadata": {
        "id": "v0rdOk9QUTex"
      },
      "outputs": [],
      "source": [
        "W = torch.rand(x.shape[-1], dtype=torch.float64, requires_grad=True)\n",
        "b = torch.rand(1, dtype=torch.float64, requires_grad=True)\n",
        "z = affine_transform(x, W, b)\n",
        "\n",
        "loss = cross_entropy_with_logits(y, affine_transform(x, W, b))"
      ]
    },
    {
      "cell_type": "markdown",
      "metadata": {
        "id": "It573maaUTex"
      },
      "source": [
        "This code defines the following **computational graph**:\n",
        "\n",
        "![](https://pytorch.org/tutorials/_static/img/basics/comp-graph.png)\n",
        "\n",
        "We need to be able to compute the gradients of loss\n",
        "function with respect to those variables. In order to do that, we set\n",
        "the `requires_grad` property of those tensors.\n"
      ]
    },
    {
      "cell_type": "code",
      "execution_count": 103,
      "metadata": {
        "id": "1x0VwPDwUTex",
        "outputId": "d30c7f56-4333-4ae4-9649-1e5a5f1b6091",
        "colab": {
          "base_uri": "https://localhost:8080/"
        }
      },
      "outputs": [
        {
          "output_type": "stream",
          "name": "stdout",
          "text": [
            "Gradient function for z = <AddBackward0 object at 0x7c7f74f72f20>\n",
            "Gradient function for loss = <NegBackward0 object at 0x7c7f74f72f20>\n"
          ]
        }
      ],
      "source": [
        "print(f\"Gradient function for z = {z.grad_fn}\")\n",
        "print(f\"Gradient function for loss = {loss.grad_fn}\")"
      ]
    },
    {
      "cell_type": "code",
      "execution_count": 104,
      "metadata": {
        "id": "a10eNlZpUTex"
      },
      "outputs": [],
      "source": [
        "loss_history = []\n",
        "lr = 0.1\n",
        "n_epochs = 500\n",
        "\n",
        "# scale features\n",
        "x = (x - x.mean(dim=0)) / x.std(dim=0)\n",
        "\n",
        "for i in range(n_epochs):\n",
        "\n",
        "    # get logits\n",
        "    z = affine_transform(x, W, b)\n",
        "\n",
        "    # calculate loss\n",
        "    loss = cross_entropy_with_logits(y, z)\n",
        "\n",
        "    # backward propagation\n",
        "    loss.backward()\n",
        "\n",
        "    with torch.no_grad():\n",
        "\n",
        "        # update weights\n",
        "        W -= lr * W.grad\n",
        "        b -= lr * b.grad\n",
        "\n",
        "        # zero gradients before the next iteration\n",
        "        W.grad.zero_()\n",
        "        b.grad.zero_()\n",
        "\n",
        "    loss_history.append(loss.item())"
      ]
    },
    {
      "cell_type": "code",
      "execution_count": 105,
      "metadata": {
        "id": "2oXuXjdeUTex",
        "outputId": "2a0ff65a-777f-496b-c8be-cb3240c54fdd",
        "colab": {
          "base_uri": "https://localhost:8080/",
          "height": 466
        }
      },
      "outputs": [
        {
          "output_type": "execute_result",
          "data": {
            "text/plain": [
              "Text(0, 0.5, 'Loss')"
            ]
          },
          "metadata": {},
          "execution_count": 105
        },
        {
          "output_type": "display_data",
          "data": {
            "text/plain": [
              "<Figure size 640x480 with 1 Axes>"
            ],
            "image/png": "[encoded data removed]"
          },
          "metadata": {}
        }
      ],
      "source": [
        "plt.plot(loss_history)\n",
        "plt.xlabel('Epoch')\n",
        "plt.ylabel('Loss')"
      ]
    },
    {
      "cell_type": "code",
      "execution_count": 106,
      "metadata": {
        "id": "yudywt6iUTex",
        "outputId": "9a3c35df-ad0e-498a-8a6e-5d97807f5b55",
        "colab": {
          "base_uri": "https://localhost:8080/"
        }
      },
      "outputs": [
        {
          "output_type": "execute_result",
          "data": {
            "text/plain": [
              "tensor(1.)"
            ]
          },
          "metadata": {},
          "execution_count": 106
        }
      ],
      "source": [
        "def accuracy(labels, preds):\n",
        "    return (labels == preds).sum()/len(labels)\n",
        "\n",
        "tr = 0.5\n",
        "accuracy(y, torch.where(logistic_func(z) > tr, 1, 0))"
      ]
    },
    {
      "cell_type": "code",
      "execution_count": 107,
      "metadata": {
        "id": "tR6kx-bsUTex",
        "outputId": "ef77068c-1eb1-4cbe-9983-2d9c5f5fde32",
        "colab": {
          "base_uri": "https://localhost:8080/"
        }
      },
      "outputs": [
        {
          "output_type": "stream",
          "name": "stdout",
          "text": [
            "tensor([-2.4600,  3.5750], dtype=torch.float64, requires_grad=True) tensor([0.0393], dtype=torch.float64, requires_grad=True)\n"
          ]
        }
      ],
      "source": [
        "# Final weights\n",
        "print(W, b)"
      ]
    },
    {
      "cell_type": "markdown",
      "metadata": {
        "id": "d1X0PoMYUTex"
      },
      "source": [
        "The fit accuracy is 100%."
      ]
    },
    {
      "cell_type": "markdown",
      "metadata": {
        "id": "6-z9QeRoUTex"
      },
      "source": [
        "### Task 1: Plot a decision boundary for the obtained model\n",
        "Hint: The boundary is where `y_pred=0.5` , which occurs when `z = 0`"
      ]
    },
    {
      "cell_type": "code",
      "execution_count": 108,
      "metadata": {
        "id": "D1uUjCHbUTey",
        "outputId": "e59ab2ed-235f-4a2f-b3dc-51d366cad06c",
        "colab": {
          "base_uri": "https://localhost:8080/",
          "height": 447
        }
      },
      "outputs": [
        {
          "output_type": "execute_result",
          "data": {
            "text/plain": [
              "<matplotlib.collections.PathCollection at 0x7c7f74f74770>"
            ]
          },
          "metadata": {},
          "execution_count": 108
        },
        {
          "output_type": "display_data",
          "data": {
            "text/plain": [
              "<Figure size 640x480 with 1 Axes>"
            ],
            "image/png": "[encoded data removed]"
          },
          "metadata": {}
        }
      ],
      "source": [
        "plt.scatter(*x.T, c = torch.where(logistic_func(z) > tr, 1, 0))\n",
        "\n",
        "### your code ###"
      ]
    },
    {
      "cell_type": "markdown",
      "metadata": {
        "id": "TjddNGJHUTey"
      },
      "source": [
        "### Linearly non-separable classes\n"
      ]
    },
    {
      "cell_type": "code",
      "execution_count": 109,
      "metadata": {
        "id": "48u83vqvUTey",
        "outputId": "0f7159c9-14f3-4b3f-db43-e6c12723f24a",
        "colab": {
          "base_uri": "https://localhost:8080/",
          "height": 476
        }
      },
      "outputs": [
        {
          "output_type": "execute_result",
          "data": {
            "text/plain": [
              "Text(0, 0.5, 'f2')"
            ]
          },
          "metadata": {},
          "execution_count": 109
        },
        {
          "output_type": "display_data",
          "data": {
            "text/plain": [
              "<Figure size 450x450 with 1 Axes>"
            ],
            "image/png": "[encoded data removed]"
          },
          "metadata": {}
        }
      ],
      "source": [
        "from sklearn.datasets import make_circles\n",
        "\n",
        "x, labels = make_circles(n_samples=1000, noise = 0.2, factor = 0.3)\n",
        "\n",
        "x = torch.from_numpy(x)\n",
        "y = torch.from_numpy(labels)\n",
        "\n",
        "plt.figure(dpi = 150, figsize = (3, 3))\n",
        "plt.scatter(*x.T, c = labels, s = 10)\n",
        "plt.xlabel('f1')\n",
        "plt.ylabel('f2')"
      ]
    },
    {
      "cell_type": "code",
      "execution_count": 110,
      "metadata": {
        "id": "lvpw0nPrUTey"
      },
      "outputs": [],
      "source": [
        "W = torch.rand(x.shape[-1], dtype=torch.float64, requires_grad=True)\n",
        "b = torch.rand(1, dtype=torch.float64, requires_grad=True)\n",
        "z = affine_transform(x, W, b)\n",
        "\n",
        "loss = cross_entropy_with_logits(y, affine_transform(x, W, b))"
      ]
    },
    {
      "cell_type": "code",
      "execution_count": 111,
      "metadata": {
        "id": "6nNzwS19UTey"
      },
      "outputs": [],
      "source": [
        "loss_history = []\n",
        "lr = 0.1\n",
        "n_epochs = 500\n",
        "\n",
        "# scale features\n",
        "x = (x - x.mean(dim=0)) / x.std(dim=0)\n",
        "\n",
        "for i in range(n_epochs):\n",
        "\n",
        "    # get logits\n",
        "    z = affine_transform(x, W, b)\n",
        "\n",
        "    # calculate loss\n",
        "    loss = cross_entropy_with_logits(y, z)\n",
        "\n",
        "    # backward propagation\n",
        "    loss.backward()\n",
        "\n",
        "    with torch.no_grad():\n",
        "\n",
        "        # update weights\n",
        "        W -= lr * W.grad\n",
        "        b -= lr * b.grad\n",
        "\n",
        "        # zero gradients before the next iteration\n",
        "        W.grad.zero_()\n",
        "        b.grad.zero_()\n",
        "\n",
        "    loss_history.append(loss.item())"
      ]
    },
    {
      "cell_type": "code",
      "execution_count": 112,
      "metadata": {
        "id": "6rXbipCIUTey",
        "outputId": "b16b2e30-f3a9-4af3-9a41-c4bf7359950b",
        "colab": {
          "base_uri": "https://localhost:8080/",
          "height": 466
        }
      },
      "outputs": [
        {
          "output_type": "execute_result",
          "data": {
            "text/plain": [
              "Text(0, 0.5, 'Loss')"
            ]
          },
          "metadata": {},
          "execution_count": 112
        },
        {
          "output_type": "display_data",
          "data": {
            "text/plain": [
              "<Figure size 640x480 with 1 Axes>"
            ],
            "image/png": "[encoded data removed]"
          },
          "metadata": {}
        }
      ],
      "source": [
        "plt.plot(loss_history)\n",
        "plt.xlabel('Epoch')\n",
        "plt.ylabel('Loss')"
      ]
    },
    {
      "cell_type": "code",
      "execution_count": 113,
      "metadata": {
        "id": "x6eVKgrfUTey",
        "outputId": "99423102-9cfb-487d-e5c1-c5ba098892c0",
        "colab": {
          "base_uri": "https://localhost:8080/"
        }
      },
      "outputs": [
        {
          "output_type": "execute_result",
          "data": {
            "text/plain": [
              "tensor(0.5160)"
            ]
          },
          "metadata": {},
          "execution_count": 113
        }
      ],
      "source": [
        "tr = 0.5\n",
        "accuracy(y, torch.where(logistic_func(z) > tr, 1, 0))"
      ]
    },
    {
      "cell_type": "markdown",
      "metadata": {
        "id": "xH20Ex5xUTey"
      },
      "source": [
        "Logistic Regression fails for this task, achieving an accuracy of approximately 50% - equivalent to random guessing or a coin flip."
      ]
    },
    {
      "cell_type": "code",
      "execution_count": 114,
      "metadata": {
        "id": "opXr2jfnUTey",
        "outputId": "7552093a-e418-4b9f-8146-c2bd6bc9f471",
        "colab": {
          "base_uri": "https://localhost:8080/",
          "height": 447
        }
      },
      "outputs": [
        {
          "output_type": "execute_result",
          "data": {
            "text/plain": [
              "<matplotlib.collections.PathCollection at 0x7c7f54643e90>"
            ]
          },
          "metadata": {},
          "execution_count": 114
        },
        {
          "output_type": "display_data",
          "data": {
            "text/plain": [
              "<Figure size 640x480 with 1 Axes>"
            ],
            "image/png": "[encoded data removed]"
          },
          "metadata": {}
        }
      ],
      "source": [
        "plt.scatter(*x.T, c = torch.where(logistic_func(z) > tr, 1, 0))"
      ]
    },
    {
      "cell_type": "markdown",
      "metadata": {
        "id": "4PYQFzlRUTey"
      },
      "source": [
        "### Multilayer perceptron"
      ]
    },
    {
      "cell_type": "code",
      "execution_count": 115,
      "metadata": {
        "id": "J-vFOOTLUTey"
      },
      "outputs": [],
      "source": [
        "from torch import nn\n",
        "from torch.optim import SGD\n",
        "import torch.nn.functional as F\n",
        "from sklearn.model_selection import train_test_split\n",
        "from sklearn.preprocessing import StandardScaler"
      ]
    },
    {
      "cell_type": "markdown",
      "metadata": {
        "id": "2JsiORSRUTey"
      },
      "source": [
        "PyTorch is a highly flexible and modular library that enables us to create custom classes using its modules and parameters as needed.\n",
        "\n",
        "Our MLP class inherits from nn.Module to leverage PyTorch's built-in functionality, including methods like `parameters()`, `to(device)`, and automatic backpropagation."
      ]
    },
    {
      "cell_type": "code",
      "execution_count": 116,
      "metadata": {
        "id": "dNhNgQ7BUTez"
      },
      "outputs": [],
      "source": [
        "class MLP(nn.Module):\n",
        "\n",
        "    def __init__(self, input_dim, hidden_dim = 64, out_dim=1):\n",
        "        super().__init__()\n",
        "\n",
        "        # input layer\n",
        "        self.in_fc = nn.Linear(input_dim,hidden_dim)\n",
        "\n",
        "        # hidden layer\n",
        "        self.hidden_fc = nn.Linear(hidden_dim, hidden_dim)\n",
        "\n",
        "        # output layer\n",
        "        self.out_fc = nn.Linear(hidden_dim, out_dim)\n",
        "\n",
        "    def forward(self,x):\n",
        "        x = self.in_fc(x)\n",
        "        x = F.relu(x) # non-linear transformation\n",
        "        x = self.hidden_fc(x)\n",
        "        x = F.relu(x) # non-linear transformation\n",
        "        x = self.out_fc(x)\n",
        "        #x = F.sigmoid(x) # non-linear transformation to probabilities\n",
        "        return x"
      ]
    },
    {
      "cell_type": "code",
      "execution_count": 117,
      "metadata": {
        "id": "lalnrlX5UTez",
        "outputId": "b92727df-9feb-4563-8679-9afd04e73eaa",
        "colab": {
          "base_uri": "https://localhost:8080/"
        }
      },
      "outputs": [
        {
          "output_type": "stream",
          "name": "stdout",
          "text": [
            "Epoch 0, Loss: 0.6894, Accuracy: 0.4900\n",
            "Epoch 250, Loss: 0.5983, Accuracy: 0.8000\n",
            "Epoch 500, Loss: 0.4852, Accuracy: 0.9500\n",
            "Epoch 750, Loss: 0.3543, Accuracy: 0.9500\n",
            "Epoch 1000, Loss: 0.2505, Accuracy: 0.9600\n",
            "Epoch 1250, Loss: 0.1884, Accuracy: 0.9500\n",
            "Epoch 1500, Loss: 0.1539, Accuracy: 0.9500\n",
            "Epoch 1750, Loss: 0.1340, Accuracy: 0.9500\n",
            "Epoch 2000, Loss: 0.1219, Accuracy: 0.9500\n",
            "Epoch 2250, Loss: 0.1139, Accuracy: 0.9500\n",
            "Epoch 2500, Loss: 0.1084, Accuracy: 0.9500\n",
            "Epoch 2750, Loss: 0.1044, Accuracy: 0.9500\n",
            "Epoch 3000, Loss: 0.1015, Accuracy: 0.9500\n",
            "Epoch 3250, Loss: 0.0993, Accuracy: 0.9500\n",
            "Epoch 3500, Loss: 0.0975, Accuracy: 0.9500\n",
            "Epoch 3750, Loss: 0.0962, Accuracy: 0.9500\n",
            "Epoch 4000, Loss: 0.0950, Accuracy: 0.9500\n",
            "Epoch 4250, Loss: 0.0941, Accuracy: 0.9500\n",
            "Epoch 4500, Loss: 0.0933, Accuracy: 0.9500\n",
            "Epoch 4750, Loss: 0.0927, Accuracy: 0.9500\n"
          ]
        }
      ],
      "source": [
        "# create model\n",
        "model = MLP(input_dim=x.shape[1])\n",
        "\n",
        "# define loss function\n",
        "criterion = nn.BCEWithLogitsLoss()\n",
        "\n",
        "# define optimizer and connect it to model parameters\n",
        "optim = SGD(model.parameters(), lr = 1e-2)\n",
        "\n",
        "x = x.to(torch.float32)\n",
        "y = y.to(torch.float32)\n",
        "\n",
        "# split data into train/val/test\n",
        "X_train, X_test, y_train, y_test = train_test_split(x, y, test_size=0.1, random_state=42)\n",
        "X_train, X_val, y_train, y_val = train_test_split(x, y, test_size=0.1, random_state=42)\n",
        "\n",
        "\n",
        "\n",
        "lr = 1e-3\n",
        "n_epochs = 5000\n",
        "loss_history_train = []\n",
        "loss_history_val = []\n",
        "\n",
        "mean = X_train.mean(dim = 0)\n",
        "std = X_train.std(dim = 0)\n",
        "\n",
        "# scale features\n",
        "X_train_scaled = (X_train - mean) / std\n",
        "X_val_scaled = (X_val - mean) / std\n",
        "X_test_scaled = (X_test - mean) / std\n",
        "\n",
        "for epoch in range(n_epochs):\n",
        "\n",
        "    # set model in a training regime\n",
        "    model.train()\n",
        "\n",
        "    # clear gradients from the previous step\n",
        "    optim.zero_grad()\n",
        "\n",
        "    # forward pass\n",
        "    logits = model(X_train_scaled).flatten()\n",
        "    loss = criterion(logits, y_train)\n",
        "\n",
        "    # backward pass\n",
        "    loss.backward()\n",
        "\n",
        "    # update model parameters\n",
        "    optim.step()\n",
        "\n",
        "    loss_history_train.append(loss.item())\n",
        "\n",
        "    # evaluate model\n",
        "    model.eval()\n",
        "    with torch.no_grad():\n",
        "        logits = model(X_val_scaled).flatten()\n",
        "        predictions = (logits.sigmoid() > 0.5).float()\n",
        "        accuracy = (predictions.flatten() == y_val).float().mean()\n",
        "        loss_history_val.append(criterion(logits, y_val).item())\n",
        "    if epoch % 250 == 0:\n",
        "        print(f'Epoch {epoch}, Loss: {loss.item():.4f}, Accuracy: {accuracy.item():.4f}')"
      ]
    },
    {
      "cell_type": "code",
      "execution_count": 118,
      "metadata": {
        "id": "C2-x1brCUTez",
        "outputId": "71385178-f6bb-40c4-e8f3-1135a91a3e19",
        "colab": {
          "base_uri": "https://localhost:8080/",
          "height": 447
        }
      },
      "outputs": [
        {
          "output_type": "execute_result",
          "data": {
            "text/plain": [
              "<matplotlib.legend.Legend at 0x7c7f74f7d160>"
            ]
          },
          "metadata": {},
          "execution_count": 118
        },
        {
          "output_type": "display_data",
          "data": {
            "text/plain": [
              "<Figure size 640x480 with 1 Axes>"
            ],
            "image/png": "[encoded data removed]"
          },
          "metadata": {}
        }
      ],
      "source": [
        "plt.plot(loss_history_train, label = 'train')\n",
        "plt.plot(loss_history_val, label = 'val')\n",
        "plt.legend()"
      ]
    },
    {
      "cell_type": "code",
      "execution_count": 119,
      "metadata": {
        "id": "iHoJwHkmUTez"
      },
      "outputs": [],
      "source": [
        "with torch.no_grad():\n",
        "    model.eval()\n",
        "    y_preds = model(X_test_scaled).sigmoid()\n",
        "    predictions = (y_preds > 0.5).float()"
      ]
    },
    {
      "cell_type": "code",
      "execution_count": 120,
      "metadata": {
        "id": "tg0lFQyyUTez",
        "outputId": "893f2dd5-cc1d-4114-a2ae-56098caf6670",
        "colab": {
          "base_uri": "https://localhost:8080/",
          "height": 445
        }
      },
      "outputs": [
        {
          "output_type": "execute_result",
          "data": {
            "text/plain": [
              "<matplotlib.legend.Legend at 0x7c7f54566180>"
            ]
          },
          "metadata": {},
          "execution_count": 120
        },
        {
          "output_type": "display_data",
          "data": {
            "text/plain": [
              "<Figure size 450x450 with 1 Axes>"
            ],
            "image/png": "[encoded data removed]"
          },
          "metadata": {}
        }
      ],
      "source": [
        "plt.figure(dpi = 150, figsize = (3, 3))\n",
        "plt.scatter(*X_test.T, c = y_test, marker='s', s = 5, label = 'True')\n",
        "plt.scatter(*X_test.T, c = predictions, marker = '+', alpha = 0.8, label = 'Pred')\n",
        "plt.legend(fontsize = 6)"
      ]
    },
    {
      "cell_type": "markdown",
      "metadata": {
        "id": "VQCENUu9UTez"
      },
      "source": [
        "### Datasets, Dataloaders, Batching, and GPU Acceleration\n",
        "\n",
        "1) GPU Acceleration with CUDA\n",
        "\n",
        "PyTorch is optimized to perform calculations on NVIDIA GPUs using the CUDA platform. This enables significant acceleration for complex models and large datasets.\n",
        "\n",
        "> \"CUDA (Compute Unified Device Architecture) is a parallel computing platform and programming model that allows software to use specific types of graphics processing units (GPUs) for general-purpose processing. This significantly boosts performance, making it essential for scientific and high-performance computing.\" - adapted from [Wiki](https://en.wikipedia.org/wiki/CUDA)\n",
        "\n",
        "2) The Need for Batches\n",
        "\n",
        "In our previous examples, we used the entire training dataset to perform a single gradient descent step. However, this is inefficient and often impossible for real-world problems, which involve huge datasets. Using the full dataset for each update is computationally expensive, and the data may not even fit into the computer's memory. To solve this, we use batches - a non-overlapping pieces of a dataset.\n",
        "\n",
        "3) The Dataset and DataLoader in PyTorch\n",
        "\n",
        "PyTorch provides Dataset and DataLoader classes to handle these challenges. It efficiently manages large datasets by splitting them into batches, making the training process both manageable and efficient."
      ]
    },
    {
      "cell_type": "code",
      "execution_count": 121,
      "metadata": {
        "id": "sV75SqQJUTez",
        "outputId": "f65cf26b-0ee3-4387-86a5-8272a082e865",
        "colab": {
          "base_uri": "https://localhost:8080/"
        }
      },
      "outputs": [
        {
          "output_type": "execute_result",
          "data": {
            "text/plain": [
              "(tensor([-1.4252,  0.4115]), tensor(0.))"
            ]
          },
          "metadata": {},
          "execution_count": 121
        }
      ],
      "source": [
        "from torch.utils.data import Dataset\n",
        "from torch.utils.data import DataLoader\n",
        "\n",
        "\n",
        "class CustomDataset(Dataset):\n",
        "    def __init__(self, X, y):\n",
        "\n",
        "        self.y = y # labels\n",
        "        self.X = X # features\n",
        "\n",
        "    def __len__(self):\n",
        "        return len(self.y)\n",
        "\n",
        "    def __getitem__(self, idx):\n",
        "\n",
        "        x_sample = self.X[idx] # one sample\n",
        "        y_sample = self.y[idx] # one sample\n",
        "\n",
        "        return x_sample, y_sample\n",
        "\n",
        "\n",
        "train_dataset = CustomDataset(X_train, y_train)\n",
        "val_dataset = CustomDataset(X_val, y_val)\n",
        "test_dataset = CustomDataset(X_test, y_test)\n",
        "\n",
        "# ask for a sample with idx = 130\n",
        "train_dataset.__getitem__(130)"
      ]
    },
    {
      "cell_type": "code",
      "execution_count": 122,
      "metadata": {
        "id": "LP4QVP02UTez",
        "outputId": "77b1337a-5d63-4a87-cb8c-d5c9664ee86e",
        "colab": {
          "base_uri": "https://localhost:8080/"
        }
      },
      "outputs": [
        {
          "output_type": "stream",
          "name": "stdout",
          "text": [
            "tensor([[-0.6177, -2.0570],\n",
            "        [ 1.4981, -0.4240],\n",
            "        [-0.1563,  1.2674],\n",
            "        [-1.8755,  0.8736],\n",
            "        [ 0.2596, -0.2957],\n",
            "        [ 1.5724, -0.8960],\n",
            "        [ 0.1666, -0.3328],\n",
            "        [-0.9561, -0.4940],\n",
            "        [ 0.4372, -1.0690],\n",
            "        [ 0.4506, -0.7536],\n",
            "        [-0.2679,  0.4417],\n",
            "        [-0.1301, -0.2272],\n",
            "        [ 0.3200, -0.6708],\n",
            "        [-0.4335,  1.7553],\n",
            "        [-0.4940,  0.0235],\n",
            "        [ 1.4054,  1.3054],\n",
            "        [ 0.2767,  0.0793],\n",
            "        [ 0.5474, -1.2605],\n",
            "        [ 1.7739, -0.3985],\n",
            "        [ 1.1138, -0.5089],\n",
            "        [ 2.0303,  0.2952],\n",
            "        [ 0.4772, -0.5119],\n",
            "        [ 0.2720, -0.5924],\n",
            "        [-0.0208,  1.1107],\n",
            "        [-0.2125,  0.5448],\n",
            "        [ 0.5669, -0.5818],\n",
            "        [ 0.3734, -0.0533],\n",
            "        [-1.2410,  0.3345],\n",
            "        [-0.5849, -0.0126],\n",
            "        [-0.4911,  0.4792],\n",
            "        [-0.8241, -0.3434],\n",
            "        [-0.3936,  2.3385],\n",
            "        [ 0.2886, -1.0200],\n",
            "        [ 2.4298, -0.9146],\n",
            "        [-0.8479,  0.2459],\n",
            "        [ 1.9681,  0.2392],\n",
            "        [-0.0453,  0.4589],\n",
            "        [ 0.2017,  0.4990],\n",
            "        [-0.9975,  0.2499],\n",
            "        [-1.2954, -1.2678],\n",
            "        [ 2.1709,  0.5630],\n",
            "        [ 0.6010,  1.6194],\n",
            "        [-0.0411,  0.4435],\n",
            "        [ 0.0178, -1.9279],\n",
            "        [ 1.8564,  0.4427],\n",
            "        [-0.4192, -0.1098],\n",
            "        [-1.8168,  0.5414],\n",
            "        [ 1.4929, -1.2485],\n",
            "        [ 0.1026, -0.4053],\n",
            "        [ 0.1574, -0.1454],\n",
            "        [-0.3588,  0.1314],\n",
            "        [-0.4833, -0.1408],\n",
            "        [-1.9540,  0.1029],\n",
            "        [-0.1047,  0.2601],\n",
            "        [-0.8244, -0.1902],\n",
            "        [ 0.2795,  0.0762],\n",
            "        [-1.6976, -0.9387],\n",
            "        [-0.5447, -0.1579],\n",
            "        [-0.1765, -0.6015],\n",
            "        [-0.7094,  0.1739],\n",
            "        [ 0.0962,  0.2876],\n",
            "        [-0.3406, -1.3612],\n",
            "        [ 0.2752,  1.7679],\n",
            "        [ 0.4910, -0.2046],\n",
            "        [ 0.2502,  0.9164],\n",
            "        [-0.0882,  0.4601],\n",
            "        [-0.1870, -0.6792],\n",
            "        [-1.3019,  1.1684],\n",
            "        [ 0.0592,  0.4611],\n",
            "        [ 1.6720,  1.2889],\n",
            "        [ 0.8513, -0.7680],\n",
            "        [ 1.1234, -0.8604],\n",
            "        [ 1.1265, -1.2772],\n",
            "        [ 0.7880, -1.7388],\n",
            "        [-0.3854, -0.8638],\n",
            "        [-0.3334, -0.1962],\n",
            "        [-0.5756,  0.4077],\n",
            "        [ 0.1907, -2.1048],\n",
            "        [-0.2974, -2.1158],\n",
            "        [-0.5226, -0.4418],\n",
            "        [ 0.2358,  1.9340],\n",
            "        [ 0.2412,  1.1207],\n",
            "        [ 1.6324, -0.5662],\n",
            "        [-0.3322,  0.5762],\n",
            "        [ 1.2363,  1.9575],\n",
            "        [ 0.3085,  0.2960],\n",
            "        [-0.5488, -0.4779],\n",
            "        [-1.4591, -0.6781],\n",
            "        [-0.1327,  0.4836],\n",
            "        [-2.0018, -0.2470],\n",
            "        [-0.8303,  0.0620],\n",
            "        [ 0.1667,  0.0114],\n",
            "        [-1.4683,  0.9290],\n",
            "        [-0.8902, -0.8751],\n",
            "        [ 0.0780, -0.2916],\n",
            "        [-0.8120, -1.9608],\n",
            "        [ 1.8562, -0.0401],\n",
            "        [ 0.4182,  1.7196],\n",
            "        [ 1.8669, -0.6051],\n",
            "        [-0.4177,  0.0957],\n",
            "        [-0.4619,  1.6745],\n",
            "        [ 1.5494,  0.1408],\n",
            "        [-1.4316, -0.7502],\n",
            "        [-0.6451, -0.1187],\n",
            "        [ 1.1375, -0.4387],\n",
            "        [ 0.7501,  1.0245],\n",
            "        [ 0.2573,  0.3347],\n",
            "        [-0.9369,  1.1524],\n",
            "        [-0.4595, -0.3400],\n",
            "        [-0.4383,  0.0211],\n",
            "        [ 0.5548, -0.4359],\n",
            "        [-0.8849, -1.1404],\n",
            "        [-1.5015,  1.3668],\n",
            "        [-0.7630,  0.9174],\n",
            "        [ 0.1892, -0.7156],\n",
            "        [ 1.0250,  0.3099],\n",
            "        [-0.6337, -1.8751],\n",
            "        [-0.3609, -0.1375],\n",
            "        [ 1.0128,  0.3554],\n",
            "        [-0.1264, -0.2921],\n",
            "        [ 0.0967, -1.0373],\n",
            "        [-1.0599,  0.9125],\n",
            "        [ 1.5072, -0.5571],\n",
            "        [ 0.6716,  1.3941],\n",
            "        [-0.1264, -0.5272],\n",
            "        [-0.6155,  0.4451],\n",
            "        [-2.1459,  0.5197],\n",
            "        [ 0.2220, -1.6271],\n",
            "        [ 1.9081, -1.2331],\n",
            "        [-0.5326,  0.4316],\n",
            "        [-1.6528,  0.1922],\n",
            "        [-1.5881,  0.6200],\n",
            "        [-0.8030, -0.0795],\n",
            "        [ 1.4502, -1.4751],\n",
            "        [ 0.4797,  0.3399],\n",
            "        [-1.2823,  1.3550],\n",
            "        [-0.7996,  0.1395],\n",
            "        [ 0.0566, -0.2703],\n",
            "        [-0.1745,  0.7286],\n",
            "        [ 0.0478,  0.9160],\n",
            "        [ 0.2664,  0.7268],\n",
            "        [-1.7264, -0.6454],\n",
            "        [-0.8532, -0.3118],\n",
            "        [-0.8579,  0.2438],\n",
            "        [-0.1592,  1.0009],\n",
            "        [-0.5069,  0.1664],\n",
            "        [ 1.7774, -0.2208],\n",
            "        [-1.7979,  0.0119],\n",
            "        [-1.3721, -0.7052],\n",
            "        [ 1.6728, -0.5997],\n",
            "        [ 0.0468,  0.2071],\n",
            "        [ 0.0475,  1.5043],\n",
            "        [ 0.8788, -0.6726],\n",
            "        [ 0.8983, -0.5602],\n",
            "        [-0.5541,  0.6630],\n",
            "        [-0.0381,  1.5412],\n",
            "        [ 1.6108,  0.7412],\n",
            "        [ 1.8738, -0.5482],\n",
            "        [-1.2623, -1.4982],\n",
            "        [-1.7137,  0.7429],\n",
            "        [ 1.9708, -1.0635],\n",
            "        [-0.2455,  0.0921],\n",
            "        [ 0.0191,  0.3032],\n",
            "        [ 0.1488, -0.0161],\n",
            "        [-0.4570, -0.2138],\n",
            "        [ 2.0377,  0.0956],\n",
            "        [ 1.1181, -1.3590],\n",
            "        [ 1.8982, -0.8270],\n",
            "        [-0.4699,  0.4741],\n",
            "        [-1.0035,  2.0835],\n",
            "        [-0.1355,  0.7245],\n",
            "        [ 0.0597,  1.8521],\n",
            "        [ 1.0187,  0.1822],\n",
            "        [ 0.4317, -1.6287],\n",
            "        [ 0.0779, -0.4828],\n",
            "        [ 0.7332,  0.8706],\n",
            "        [ 0.6554, -1.6895],\n",
            "        [ 0.1716,  0.4284],\n",
            "        [-1.3532, -0.8674],\n",
            "        [-0.2141, -0.5241],\n",
            "        [-1.2414, -1.0265],\n",
            "        [-1.6237,  1.0222],\n",
            "        [-1.6909, -0.6254],\n",
            "        [ 0.1156,  0.2051],\n",
            "        [-0.0365, -0.3709],\n",
            "        [-0.7752, -0.7547],\n",
            "        [ 0.4251, -0.3923],\n",
            "        [ 2.0240, -0.1996],\n",
            "        [ 1.7052,  0.7666],\n",
            "        [ 0.1103,  0.1418],\n",
            "        [-0.3878, -1.6626],\n",
            "        [-1.1562,  1.1517],\n",
            "        [-0.7558,  0.1014],\n",
            "        [ 0.6302, -0.0048],\n",
            "        [-1.0180, -0.0221],\n",
            "        [ 0.7103,  0.2531],\n",
            "        [ 0.0459, -0.9257],\n",
            "        [-0.0065, -0.3984],\n",
            "        [-0.0516, -0.5063],\n",
            "        [ 1.5633, -0.2046],\n",
            "        [ 0.6860,  0.4677],\n",
            "        [-0.7084, -0.3644],\n",
            "        [-0.7772,  1.3712],\n",
            "        [ 0.4664,  0.2194],\n",
            "        [-0.3926, -0.1963],\n",
            "        [-1.2922, -0.5929],\n",
            "        [ 0.0677,  1.9087],\n",
            "        [ 0.9638, -1.5626],\n",
            "        [-1.3942, -1.7385],\n",
            "        [-1.4353,  1.3574],\n",
            "        [ 0.3306, -0.5599],\n",
            "        [-0.7577,  1.0893],\n",
            "        [ 0.4913,  1.6483],\n",
            "        [-1.5162, -0.3439],\n",
            "        [ 0.3721,  0.7223],\n",
            "        [ 1.3115,  1.5082],\n",
            "        [ 0.1227, -1.9943],\n",
            "        [ 0.1722, -1.8584],\n",
            "        [-0.6888,  0.2485],\n",
            "        [ 1.0027,  1.8609],\n",
            "        [-0.4673,  1.5318],\n",
            "        [-1.8032,  1.1524],\n",
            "        [-0.8069,  1.5061],\n",
            "        [-1.7224, -0.3802],\n",
            "        [-0.3767, -0.9956],\n",
            "        [ 1.1182, -1.6677],\n",
            "        [ 1.0020,  1.4006],\n",
            "        [ 1.9428,  0.6366],\n",
            "        [-0.3979, -0.1261],\n",
            "        [-0.3539, -1.6921],\n",
            "        [-0.1692, -0.5416],\n",
            "        [ 0.4124, -0.1876],\n",
            "        [ 0.4360,  1.4926],\n",
            "        [ 0.4104, -0.2698],\n",
            "        [ 2.1305, -0.5980],\n",
            "        [ 1.2255, -1.6377],\n",
            "        [ 0.5791,  0.9560],\n",
            "        [ 0.1736,  1.7856],\n",
            "        [ 0.5207, -0.7998],\n",
            "        [ 0.4174, -0.6889],\n",
            "        [ 0.2220,  0.2153],\n",
            "        [ 0.3077, -1.3895],\n",
            "        [-1.0917,  0.6636],\n",
            "        [-0.4522,  0.9557],\n",
            "        [ 0.2803,  1.1877],\n",
            "        [ 0.2080,  0.3861],\n",
            "        [-0.1811, -0.3758],\n",
            "        [-0.0755,  0.0411],\n",
            "        [ 1.1474,  1.2789],\n",
            "        [-0.3035, -0.4477],\n",
            "        [-1.0599, -2.0388],\n",
            "        [ 0.3290, -2.0563],\n",
            "        [ 1.6077, -1.5057],\n",
            "        [ 1.2407, -1.4902],\n",
            "        [-0.5224,  0.7147],\n",
            "        [-1.6285,  1.5330]])\n",
            "tensor([0., 0., 0., 0., 1., 0., 1., 1., 0., 1., 1., 1., 1., 0., 1., 0., 1., 0.,\n",
            "        0., 1., 0., 1., 1., 1., 1., 1., 1., 0., 1., 1., 1., 0., 1., 0., 1., 0.,\n",
            "        1., 1., 1., 0., 0., 0., 1., 0., 0., 1., 0., 0., 1., 1., 1., 1., 0., 1.,\n",
            "        1., 1., 0., 1., 1., 1., 1., 0., 0., 1., 1., 1., 1., 0., 1., 0., 1., 0.,\n",
            "        0., 0., 1., 1., 1., 0., 0., 1., 0., 1., 0., 1., 0., 1., 1., 0., 1., 0.,\n",
            "        1., 1., 0., 1., 1., 0., 0., 0., 0., 1., 0., 0., 0., 1., 1., 0., 1., 0.,\n",
            "        1., 1., 1., 0., 0., 1., 1., 1., 0., 1., 1., 1., 1., 0., 0., 0., 1., 1.,\n",
            "        0., 0., 0., 1., 0., 0., 1., 0., 1., 0., 1., 1., 1., 1., 1., 0., 1., 1.,\n",
            "        1., 1., 0., 0., 0., 0., 1., 0., 0., 1., 1., 0., 0., 0., 0., 0., 0., 1.,\n",
            "        1., 1., 1., 0., 0., 0., 1., 0., 1., 0., 1., 0., 1., 1., 0., 1., 1., 1.,\n",
            "        0., 0., 0., 1., 1., 0., 1., 0., 0., 1., 0., 0., 1., 1., 1., 1., 1., 1.,\n",
            "        1., 0., 1., 1., 0., 1., 1., 0., 0., 0., 0., 0., 1., 1., 0., 0., 1., 0.,\n",
            "        0., 0., 1., 0., 0., 0., 0., 0., 1., 0., 0., 0., 1., 0., 1., 1., 0., 1.,\n",
            "        0., 0., 1., 0., 1., 1., 1., 0., 1., 1., 1., 1., 1., 1., 0., 1., 0., 0.,\n",
            "        0., 0., 1., 0.])\n"
          ]
        }
      ],
      "source": [
        "train_loader = DataLoader(train_dataset, batch_size=256, shuffle=True) # we randomly shuffle samples during training\n",
        "val_loader = DataLoader(val_dataset, batch_size=256, shuffle=False)\n",
        "test_loader = DataLoader(test_dataset, batch_size=256, shuffle=False)\n",
        "\n",
        "\n",
        "for (X_batch, y_batch) in train_loader:\n",
        "    break\n",
        "\n",
        "print(X_batch)\n",
        "print(y_batch)"
      ]
    },
    {
      "cell_type": "code",
      "execution_count": 123,
      "metadata": {
        "id": "4ZYPUq7IUTez",
        "outputId": "695082a5-c456-4eb2-af54-bb5875eb63ae",
        "colab": {
          "base_uri": "https://localhost:8080/"
        }
      },
      "outputs": [
        {
          "output_type": "stream",
          "name": "stderr",
          "text": [
            "  0%|          | 6/2500 [00:00<00:42, 58.80it/s]"
          ]
        },
        {
          "output_type": "stream",
          "name": "stdout",
          "text": [
            "Epoch 0, Loss train: 0.6796, Loss val: 0.6839\n"
          ]
        },
        {
          "output_type": "stream",
          "name": "stderr",
          "text": [
            " 11%|█         | 268/2500 [00:03<00:23, 93.46it/s]"
          ]
        },
        {
          "output_type": "stream",
          "name": "stdout",
          "text": [
            "Epoch 250, Loss train: 0.2283, Loss val: 0.2195\n"
          ]
        },
        {
          "output_type": "stream",
          "name": "stderr",
          "text": [
            " 21%|██        | 519/2500 [00:06<00:20, 95.67it/s]"
          ]
        },
        {
          "output_type": "stream",
          "name": "stdout",
          "text": [
            "Epoch 500, Loss train: 0.1195, Loss val: 0.0914\n"
          ]
        },
        {
          "output_type": "stream",
          "name": "stderr",
          "text": [
            " 30%|███       | 761/2500 [00:09<00:17, 98.23it/s]"
          ]
        },
        {
          "output_type": "stream",
          "name": "stdout",
          "text": [
            "Epoch 750, Loss train: 0.1042, Loss val: 0.0968\n"
          ]
        },
        {
          "output_type": "stream",
          "name": "stderr",
          "text": [
            " 41%|████      | 1014/2500 [00:11<00:17, 83.14it/s]"
          ]
        },
        {
          "output_type": "stream",
          "name": "stdout",
          "text": [
            "Epoch 1000, Loss train: 0.0975, Loss val: 0.0875\n"
          ]
        },
        {
          "output_type": "stream",
          "name": "stderr",
          "text": [
            " 50%|█████     | 1261/2500 [00:15<00:13, 90.19it/s]"
          ]
        },
        {
          "output_type": "stream",
          "name": "stdout",
          "text": [
            "Epoch 1250, Loss train: 0.0906, Loss val: 0.0551\n"
          ]
        },
        {
          "output_type": "stream",
          "name": "stderr",
          "text": [
            " 61%|██████    | 1515/2500 [00:18<00:10, 94.90it/s]"
          ]
        },
        {
          "output_type": "stream",
          "name": "stdout",
          "text": [
            "Epoch 1500, Loss train: 0.0900, Loss val: 0.0639\n"
          ]
        },
        {
          "output_type": "stream",
          "name": "stderr",
          "text": [
            " 71%|███████   | 1764/2500 [00:20<00:07, 97.50it/s]"
          ]
        },
        {
          "output_type": "stream",
          "name": "stdout",
          "text": [
            "Epoch 1750, Loss train: 0.0903, Loss val: 0.0769\n"
          ]
        },
        {
          "output_type": "stream",
          "name": "stderr",
          "text": [
            " 81%|████████  | 2013/2500 [00:23<00:04, 99.21it/s]"
          ]
        },
        {
          "output_type": "stream",
          "name": "stdout",
          "text": [
            "Epoch 2000, Loss train: 0.0956, Loss val: 0.1297\n"
          ]
        },
        {
          "output_type": "stream",
          "name": "stderr",
          "text": [
            " 91%|█████████ | 2263/2500 [00:26<00:03, 69.06it/s]"
          ]
        },
        {
          "output_type": "stream",
          "name": "stdout",
          "text": [
            "Epoch 2250, Loss train: 0.0885, Loss val: 0.0767\n"
          ]
        },
        {
          "output_type": "stream",
          "name": "stderr",
          "text": [
            "100%|██████████| 2500/2500 [00:29<00:00, 85.14it/s]\n"
          ]
        }
      ],
      "source": [
        "from tqdm import tqdm\n",
        "\n",
        "# create model\n",
        "model = MLP(input_dim=x.shape[1])\n",
        "\n",
        "# define loss function\n",
        "criterion = nn.BCEWithLogitsLoss()\n",
        "\n",
        "# define optimizer and connect it to model parameters\n",
        "optim = SGD(model.parameters(), lr = 1e-2)\n",
        "\n",
        "lr = 1e-3\n",
        "n_epochs = 2500\n",
        "loss_history_train = []\n",
        "loss_history_val = []\n",
        "\n",
        "best_score = torch.inf\n",
        "\n",
        "for epoch in tqdm(range(n_epochs)):\n",
        "\n",
        "    loss_step = 0\n",
        "    for (X_batch, y_batch) in train_loader:\n",
        "\n",
        "        # set model in a training regime\n",
        "        model.train()\n",
        "\n",
        "        # clear gradients from the previous step\n",
        "        optim.zero_grad()\n",
        "\n",
        "        # forward pass\n",
        "        logits = model(X_batch).flatten()\n",
        "        loss = criterion(logits, y_batch)\n",
        "\n",
        "        # backward pass\n",
        "        loss.backward()\n",
        "\n",
        "        # update model parameters\n",
        "        optim.step()\n",
        "\n",
        "        loss_step += loss.item()\n",
        "\n",
        "    loss_history_train.append(loss_step/len(train_loader))\n",
        "\n",
        "    loss_step = 0\n",
        "    for (X_batch, y_batch) in val_loader:\n",
        "        # evaluate model\n",
        "        model.eval()\n",
        "        with torch.no_grad():\n",
        "            logits = model(X_batch).flatten()\n",
        "            predictions = (logits.sigmoid() > 0.5).float()\n",
        "            accuracy = (predictions.flatten() == y_batch).float().mean()\n",
        "\n",
        "        loss_step += loss.item()\n",
        "\n",
        "    loss_history_val.append(loss_step/len(val_loader))\n",
        "\n",
        "    # save best model using validation loss\n",
        "    if loss_history_val[-1] <= best_score:\n",
        "        best_score = loss_history_val[-1]\n",
        "        torch.save(model, 'best_model.pt')\n",
        "\n",
        "    if epoch % 250 == 0:\n",
        "        print(f'Epoch {epoch}, Loss train: {loss_history_train[-1]:.4f}, Loss val: {loss_history_val[-1]:.4f}')"
      ]
    },
    {
      "cell_type": "code",
      "execution_count": 124,
      "metadata": {
        "id": "VP9zyHEbUTez"
      },
      "outputs": [],
      "source": [
        "model = torch.load('best_model.pt', weights_only=False)\n",
        "# use this model to get test metrics"
      ]
    },
    {
      "cell_type": "code",
      "execution_count": 125,
      "metadata": {
        "id": "gJayXTewUTe0",
        "outputId": "ba261376-a854-41f7-e439-0bdab0f84039",
        "colab": {
          "base_uri": "https://localhost:8080/",
          "height": 447
        }
      },
      "outputs": [
        {
          "output_type": "execute_result",
          "data": {
            "text/plain": [
              "<matplotlib.legend.Legend at 0x7c7f74dc6990>"
            ]
          },
          "metadata": {},
          "execution_count": 125
        },
        {
          "output_type": "display_data",
          "data": {
            "text/plain": [
              "<Figure size 640x480 with 1 Axes>"
            ],
            "image/png": "[encoded data removed]"
          },
          "metadata": {}
        }
      ],
      "source": [
        "plt.plot(loss_history_train, label = 'train')\n",
        "plt.plot(loss_history_val, label = 'val', alpha = 0.5)\n",
        "plt.legend()"
      ]
    },
    {
      "cell_type": "markdown",
      "metadata": {
        "id": "GP3W0_hiUTe0"
      },
      "source": [
        "### CUDA acceleration\n",
        "\n",
        "We can do computations on GPU. For that we need to move tensors on CUDA device using `.to('cuda')`. By default, torch uses 'cpu'.\n",
        "\n",
        "The example below is adapted from [Introduction to PyTorch tutorial by Phillip Lippe](https://uvadlc-notebooks.readthedocs.io/en/latest/tutorial_notebooks/tutorial2/Introduction_to_PyTorch.html)."
      ]
    },
    {
      "cell_type": "code",
      "source": [
        "import time\n",
        "\n",
        "a = torch.randn(5000, 5000)\n",
        "\n",
        "## CPU version\n",
        "start_time = time.time()\n",
        "_ = torch.matmul(a, a)\n",
        "end_time = time.time()\n",
        "print(f\"CPU time: {(end_time - start_time):6.5f}s\")\n",
        "\n",
        "\n",
        "## GPU version\n",
        "device = 'cuda'\n",
        "\n",
        "a = a.to(device)\n",
        "\n",
        "_ = torch.matmul(a, a)  # First operation to 'burn in' GPU\n",
        "# CUDA is asynchronous, so we need to use different timing functions\n",
        "start = torch.cuda.Event(enable_timing=True)\n",
        "end = torch.cuda.Event(enable_timing=True)\n",
        "start.record()\n",
        "_ = torch.matmul(a, a)\n",
        "end.record()\n",
        "torch.cuda.synchronize()  # Waits for everything to finish running on the GPU\n",
        "print(f\"GPU time: {0.001 * start.elapsed_time(end):6.5f}s\")  # Milliseconds to seconds"
      ],
      "metadata": {
        "colab": {
          "base_uri": "https://localhost:8080/"
        },
        "id": "n2YBm_FUYwcl",
        "outputId": "7ee6f6b2-953d-4609-fa60-fc894673152a"
      },
      "execution_count": 126,
      "outputs": [
        {
          "output_type": "stream",
          "name": "stdout",
          "text": [
            "CPU time: 1.96837s\n",
            "GPU time: 0.08762s\n"
          ]
        }
      ]
    },
    {
      "cell_type": "markdown",
      "source": [
        "> Note: When `.to(device)` is applied to a tensor, it returns a new tensor. In the case of modules (e.g., model or criterion), the method modifies the module in place. Therefore, you need to reassign the variable when changing the device of a tensor, but you don't need to do this for modules.\n",
        "```python\n",
        "\n",
        "# in the case of a tensor\n",
        "t = t.to(device)\n",
        "\n",
        "# in the case of a module\n",
        "model.to(device)\n",
        "```"
      ],
      "metadata": {
        "id": "mVLlmuclaPL4"
      }
    },
    {
      "cell_type": "markdown",
      "metadata": {
        "id": "71NJdi4TUTe0"
      },
      "source": [
        "### Task 2: Train your MLP model for metal/insulator classification\n",
        "\n",
        "- Split data into train/val/text\n",
        "- Prepare DataLoader\n",
        "- Train MLP\n",
        "- Save model with the lowest validation loss\n",
        "\n",
        "- Report accuracy on a test split"
      ]
    },
    {
      "cell_type": "code",
      "execution_count": null,
      "metadata": {
        "id": "43ut6RrpUTe0"
      },
      "outputs": [],
      "source": [
        "# download files\n",
        "!mkdir data\n",
        "!wget -O./data/eg_double_perovskites.csv https://raw.githubusercontent.com/dembart/intro-to-materials-informatics/refs/heads/main/data/seminar05/eg_double_perovskites.csv"
      ]
    },
    {
      "cell_type": "code",
      "execution_count": null,
      "metadata": {
        "id": "VTJadch5UTe0"
      },
      "outputs": [],
      "source": [
        "df = pd.read_csv('data/eg_double_perovskites.csv')\n",
        "df = df[df.columns[df.dtypes != 'object']]\n",
        "df = df.drop(columns = ['PBE band gap']) # we exclude band gap from features"
      ]
    },
    {
      "cell_type": "code",
      "execution_count": null,
      "metadata": {
        "id": "jpUvTHFxUTe0"
      },
      "outputs": [],
      "source": [
        "class CustomDataset(Dataset):\n",
        "    def __init__(self, data):\n",
        "\n",
        "        X = data.drop(columns = ['Insulator'])\n",
        "        self.y = data['Insulator'].values # labels\n",
        "        self.X = X.values # features\n",
        "\n",
        "    def __len__(self):\n",
        "        return len(self.y)\n",
        "\n",
        "    def __getitem__(self, idx):\n",
        "\n",
        "        x_sample = self.X[idx] # one sample\n",
        "        y_sample = self.y[idx] # one sample\n",
        "\n",
        "        return x_sample, y_sample"
      ]
    },
    {
      "cell_type": "code",
      "execution_count": null,
      "metadata": {
        "id": "sEbuqOIGUTe0"
      },
      "outputs": [],
      "source": [
        "### Your code ###"
      ]
    },
    {
      "cell_type": "code",
      "execution_count": null,
      "metadata": {
        "id": "SuhvSM5rUTe0"
      },
      "outputs": [],
      "source": []
    },
    {
      "cell_type": "code",
      "execution_count": null,
      "metadata": {
        "id": "7e6bVAIjUTe0"
      },
      "outputs": [],
      "source": []
    },
    {
      "cell_type": "code",
      "execution_count": null,
      "metadata": {
        "id": "7AK2iUsfUTe0"
      },
      "outputs": [],
      "source": []
    },
    {
      "cell_type": "code",
      "execution_count": null,
      "metadata": {
        "id": "Xeo03zdUUTe0"
      },
      "outputs": [],
      "source": []
    },
    {
      "cell_type": "code",
      "execution_count": null,
      "metadata": {
        "id": "Ezac4dPyUTe0"
      },
      "outputs": [],
      "source": []
    },
    {
      "cell_type": "code",
      "execution_count": null,
      "metadata": {
        "id": "fUMfE9FWUTe0"
      },
      "outputs": [],
      "source": []
    },
    {
      "cell_type": "code",
      "execution_count": null,
      "metadata": {
        "id": "eKKadK7VUTe0"
      },
      "outputs": [],
      "source": []
    },
    {
      "cell_type": "code",
      "execution_count": null,
      "metadata": {
        "id": "UxhgcvbfUTe0"
      },
      "outputs": [],
      "source": []
    },
    {
      "cell_type": "code",
      "execution_count": null,
      "metadata": {
        "id": "GPst-RnyUTe1"
      },
      "outputs": [],
      "source": []
    },
    {
      "cell_type": "code",
      "execution_count": null,
      "metadata": {
        "id": "-_oJ2zOeUTe1"
      },
      "outputs": [],
      "source": []
    },
    {
      "cell_type": "markdown",
      "metadata": {
        "id": "7ZMYpHsxUTe1"
      },
      "source": []
    },
    {
      "cell_type": "markdown",
      "metadata": {
        "id": "gw052uAoUTe1"
      },
      "source": []
    },
    {
      "cell_type": "markdown",
      "metadata": {
        "id": "p_cEvG5JUTe1"
      },
      "source": []
    },
    {
      "cell_type": "markdown",
      "metadata": {
        "id": "zUSUV93cUTe1"
      },
      "source": [
        "### Code for toy example generation"
      ]
    },
    {
      "cell_type": "code",
      "execution_count": null,
      "metadata": {
        "id": "za8Uf5LRUTe1"
      },
      "outputs": [],
      "source": [
        "torch.manual_seed(42)"
      ]
    },
    {
      "cell_type": "code",
      "execution_count": null,
      "metadata": {
        "id": "VJTcKV-HUTe1"
      },
      "outputs": [],
      "source": [
        "import torch\n",
        "import matplotlib.pyplot as plt\n",
        "\n",
        "def line(x, W, b):\n",
        "    return x * W + b\n",
        "\n",
        "\n",
        "\n",
        "f1 = torch.linspace(0, 20, 20)\n",
        "\n",
        "W = 50.3\n",
        "b = 35.0\n",
        "plt.figure(dpi = 300, figsize = (3, 3))\n",
        "plt.plot(f1, line(f1, W, b), color = 'k', label = 'decision boundary', linewidth = 0.5, linestyle = '--')\n",
        "\n",
        "torch.manual_seed(41)\n",
        "f2_class_above = line(f1, W, b) + 500 * abs(torch.rand(len(f1)))\n",
        "torch.manual_seed(41)\n",
        "f2_class_below = line(f1, W, b) - 500 * abs(torch.rand(len(f1)))\n",
        "\n",
        "plt.scatter(f1, f2_class_above, label = 'Class: 0')\n",
        "plt.scatter(f1, f2_class_below, label = 'Class: 1')\n",
        "\n",
        "plt.xlabel('f2')\n",
        "plt.ylabel('f1')\n",
        "plt.scatter(5, 750, color = 'r', marker = 'x', label = 'New sample')\n",
        "plt.legend(fontsize = 7, frameon=False)\n",
        "\n",
        "\n",
        "\n",
        "import pandas as pd\n",
        "\n",
        "df = pd.DataFrame()\n",
        "df['f1'] = f1\n",
        "df['f2'] = f2_class_above\n",
        "df['label'] = 1\n",
        "\n",
        "df2 = pd.DataFrame()\n",
        "df2['f1'] = f1\n",
        "df2['f2'] = f2_class_below\n",
        "df2['label'] = 0\n",
        "\n",
        "\n",
        "table = pd.concat([df, df2])\n",
        "#table.sample(frac=1).to_csv('data/linearly_separable_classes.csv', index = False)\n"
      ]
    },
    {
      "cell_type": "code",
      "execution_count": null,
      "metadata": {
        "id": "otMRnfrjUTe1"
      },
      "outputs": [],
      "source": [
        "from sklearn.datasets import make_circles\n",
        "\n",
        "X, labels = make_circles(n_samples=1000, noise = 0.2, factor = 0.3)\n",
        "\n",
        "plt.figure(dpi = 300, figsize = (3, 3))\n",
        "plt.scatter(*X.T, c = labels, s = 10)\n",
        "plt.xlabel('f1')\n",
        "plt.ylabel('f2')\n"
      ]
    },
    {
      "cell_type": "code",
      "execution_count": null,
      "metadata": {
        "id": "ZGmHi26AUTe1"
      },
      "outputs": [],
      "source": [
        "from sklearn.linear_model import LogisticRegression\n",
        "\n",
        "model = LogisticRegression()\n",
        "model.fit(X, labels.reshape(-1, 1))\n",
        "y_preds = model.predict(X)"
      ]
    },
    {
      "cell_type": "code",
      "execution_count": null,
      "metadata": {
        "id": "o5Du8DVnUTe1"
      },
      "outputs": [],
      "source": [
        "from sklearn.neural_network import MLPClassifier\n",
        "\n",
        "clf = MLPClassifier(solver='lbfgs', alpha=1e-3,\n",
        "                    hidden_layer_sizes=(4, 2), random_state=1)\n",
        "\n",
        "clf.fit(X, labels.reshape(-1, 1))\n",
        "preds = clf.predict(X)"
      ]
    },
    {
      "cell_type": "code",
      "execution_count": null,
      "metadata": {
        "id": "_U7eQSZLUTe1"
      },
      "outputs": [],
      "source": [
        "plt.scatter(*X.T, c = preds)"
      ]
    },
    {
      "cell_type": "code",
      "execution_count": null,
      "metadata": {
        "id": "COY1PRvaUTe1"
      },
      "outputs": [],
      "source": [
        "\n",
        "\n",
        "fix, (ax1, ax2) = plt.subplots(dpi = 300, figsize = (6, 3), ncols = 2)\n",
        "\n",
        "ax1.scatter(*X.T, c = labels, s = 10)\n",
        "ax1.set_xlabel('f1')\n",
        "ax1.set_ylabel('f2')\n",
        "ax1.set_title(\"True\")\n",
        "ax2.scatter(*X.T, c = preds, s = 10)\n",
        "ax2.set_xlabel('f1')\n",
        "ax2.set_ylabel('f2')\n",
        "ax2.set_title(\"MLP prediction\")\n",
        "plt.tight_layout()"
      ]
    },
    {
      "cell_type": "code",
      "execution_count": null,
      "metadata": {
        "id": "5PS0JXc7UTe1"
      },
      "outputs": [],
      "source": [
        "import numpy as np\n",
        "(preds == labels).sum() / len(preds)"
      ]
    }
  ],
  "metadata": {
    "kernelspec": {
      "display_name": "Python 3",
      "name": "python3"
    },
    "language_info": {
      "codemirror_mode": {
        "name": "ipython",
        "version": 3
      },
      "file_extension": ".py",
      "mimetype": "text/x-python",
      "name": "python",
      "nbconvert_exporter": "python",
      "pygments_lexer": "ipython3",
      "version": "3.10.5"
    },
    "colab": {
      "provenance": [],
      "gpuType": "T4"
    },
    "accelerator": "GPU"
  },
  "nbformat": 4,
  "nbformat_minor": 0
}