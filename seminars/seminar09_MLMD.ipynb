{
  "cells": [
    {
      "cell_type": "markdown",
      "metadata": {
        "id": "Jm0z2xP-WYz9"
      },
      "source": [
        "### Seminar 8: Molecular simulations with machine learning potentials\n",
        "\n",
        "Agenda\n",
        "\n",
        "- Calculating forces and energies\n",
        "- ASE calculators and optimizers\n",
        "- Using universal interatomic potentials\n",
        "- Thermal expansion\n",
        "- Li-ion diffusion"
      ]
    },
    {
      "cell_type": "markdown",
      "source": [
        "### Note: Turn on GPU support\n",
        "\n",
        "Runtime -> Change runtime type -> T4 GPU"
      ],
      "metadata": {
        "id": "lI0aE3X5YFJy"
      }
    },
    {
      "cell_type": "markdown",
      "metadata": {
        "id": "82bQosDfYB-u"
      },
      "source": [
        "### Part 1: ASE's calculators and optimizers. Fitting the Lennard-Jones pair potential example\n",
        "\n",
        "<img src=\"https://upload.wikimedia.org/wikipedia/commons/thumb/e/e7/Graph_of_Lennard-Jones_potential.png/1920px-Graph_of_Lennard-Jones_potential.png\" width=320 height=200 />\n",
        "\n",
        "\n",
        "<img src=\"https://wikimedia.org/api/rest_v1/media/math/render/svg/82d16f77cae964a5c4c52fb89165dd5d596ee03f\" width=320 height=200 />\n",
        "\n",
        "\n"
      ]
    },
    {
      "cell_type": "markdown",
      "metadata": {
        "id": "LbqGkoa2gKYv"
      },
      "source": [
        "There are calculators in ASE. These are used to calculate energies, forces, and stress tensors for a given atomic structure at the given level of theory.  "
      ]
    },
    {
      "cell_type": "code",
      "source": [
        "!pip install ase"
      ],
      "metadata": {
        "colab": {
          "base_uri": "https://localhost:8080/"
        },
        "id": "ROEhrKyrSWfs",
        "outputId": "855ed88f-ced8-4b7d-fda2-828a20736c04"
      },
      "execution_count": 1,
      "outputs": [
        {
          "output_type": "stream",
          "name": "stdout",
          "text": [
            "Requirement already satisfied: ase in /usr/local/lib/python3.12/dist-packages (3.26.0)\n",
            "Requirement already satisfied: numpy>=1.19.5 in /usr/local/lib/python3.12/dist-packages (from ase) (1.26.4)\n",
            "Requirement already satisfied: scipy>=1.6.0 in /usr/local/lib/python3.12/dist-packages (from ase) (1.16.2)\n",
            "Requirement already satisfied: matplotlib>=3.3.4 in /usr/local/lib/python3.12/dist-packages (from ase) (3.10.0)\n",
            "Requirement already satisfied: contourpy>=1.0.1 in /usr/local/lib/python3.12/dist-packages (from matplotlib>=3.3.4->ase) (1.3.3)\n",
            "Requirement already satisfied: cycler>=0.10 in /usr/local/lib/python3.12/dist-packages (from matplotlib>=3.3.4->ase) (0.12.1)\n",
            "Requirement already satisfied: fonttools>=4.22.0 in /usr/local/lib/python3.12/dist-packages (from matplotlib>=3.3.4->ase) (4.60.1)\n",
            "Requirement already satisfied: kiwisolver>=1.3.1 in /usr/local/lib/python3.12/dist-packages (from matplotlib>=3.3.4->ase) (1.4.9)\n",
            "Requirement already satisfied: packaging>=20.0 in /usr/local/lib/python3.12/dist-packages (from matplotlib>=3.3.4->ase) (25.0)\n",
            "Requirement already satisfied: pillow>=8 in /usr/local/lib/python3.12/dist-packages (from matplotlib>=3.3.4->ase) (11.3.0)\n",
            "Requirement already satisfied: pyparsing>=2.3.1 in /usr/local/lib/python3.12/dist-packages (from matplotlib>=3.3.4->ase) (3.2.5)\n",
            "Requirement already satisfied: python-dateutil>=2.7 in /usr/local/lib/python3.12/dist-packages (from matplotlib>=3.3.4->ase) (2.9.0.post0)\n",
            "Requirement already satisfied: six>=1.5 in /usr/local/lib/python3.12/dist-packages (from python-dateutil>=2.7->matplotlib>=3.3.4->ase) (1.17.0)\n"
          ]
        }
      ]
    },
    {
      "cell_type": "code",
      "execution_count": 3,
      "metadata": {
        "id": "ZU7taaDMYIr5"
      },
      "outputs": [],
      "source": [
        "import numpy as np\n",
        "import matplotlib.pyplot as plt\n",
        "from ase.io import read, write\n",
        "from ase.calculators.lj import LennardJones # importing LennardJones calculator"
      ]
    },
    {
      "cell_type": "markdown",
      "source": [
        "We will work with the argon_energies.xyz dataset. The dataset contains several structures of bulk Ar and their energies. The physical quantities are calculated with the density functional theory.\n",
        "\n",
        "data source: https://kitchingroup.cheme.cmu.edu/blog/2017/11/19/Training-the-ASE-Lennard-Jones-potential-to-DFT-calculations/"
      ],
      "metadata": {
        "id": "nDXbX7xqUQ2k"
      }
    },
    {
      "cell_type": "code",
      "source": [
        "!mkdir data\n",
        "!wget -O./data/argon_energies.xyz https://raw.githubusercontent.com/dembart/intro-to-materials-informatics/refs/heads/main/data/seminar09/argon_energies.xyz\n",
        "!wget -O \"./data/Li10Ge(PS6)2_mp.cif\" \"https://raw.githubusercontent.com/dembart/intro-to-materials-informatics/refs/heads/main/data/seminar09/Li10Ge(PS6)2_mp.cif\""
      ],
      "metadata": {
        "colab": {
          "base_uri": "https://localhost:8080/"
        },
        "id": "wT5QmqSI9972",
        "outputId": "d625fafe-65a4-42df-c43e-54c08e0d097a"
      },
      "execution_count": 49,
      "outputs": [
        {
          "output_type": "stream",
          "name": "stdout",
          "text": [
            "mkdir: cannot create directory ‘data’: File exists\n",
            "--2025-10-20 09:40:00--  https://raw.githubusercontent.com/dembart/intro-to-materials-informatics/refs/heads/main/data/seminar09/argon_energies.xyz\n",
            "Resolving raw.githubusercontent.com (raw.githubusercontent.com)... 185.199.110.133, 185.199.109.133, 185.199.108.133, ...\n",
            "Connecting to raw.githubusercontent.com (raw.githubusercontent.com)|185.199.110.133|:443... connected.\n",
            "HTTP request sent, awaiting response... 200 OK\n",
            "Length: 29429 (29K) [text/plain]\n",
            "Saving to: ‘./data/argon_energies.xyz’\n",
            "\n",
            "./data/argon_energi 100%[===================>]  28.74K  --.-KB/s    in 0.001s  \n",
            "\n",
            "2025-10-20 09:40:00 (35.1 MB/s) - ‘./data/argon_energies.xyz’ saved [29429/29429]\n",
            "\n",
            "--2025-10-20 09:40:00--  https://raw.githubusercontent.com/dembart/intro-to-materials-informatics/refs/heads/main/data/seminar09/Li10Ge(PS6)2_mp.cif\n",
            "Resolving raw.githubusercontent.com (raw.githubusercontent.com)... 185.199.108.133, 185.199.109.133, 185.199.110.133, ...\n",
            "Connecting to raw.githubusercontent.com (raw.githubusercontent.com)|185.199.108.133|:443... connected.\n",
            "HTTP request sent, awaiting response... 200 OK\n",
            "Length: 3449 (3.4K) [text/plain]\n",
            "Saving to: ‘./data/Li10Ge(PS6)2_mp.cif’\n",
            "\n",
            "./data/Li10Ge(PS6)2 100%[===================>]   3.37K  --.-KB/s    in 0s      \n",
            "\n",
            "2025-10-20 09:40:00 (63.3 MB/s) - ‘./data/Li10Ge(PS6)2_mp.cif’ saved [3449/3449]\n",
            "\n"
          ]
        }
      ]
    },
    {
      "cell_type": "code",
      "source": [
        "atoms_list = read('data/argon_energies.xyz', index = ':')"
      ],
      "metadata": {
        "id": "5GOq38ozUWsR"
      },
      "execution_count": 5,
      "outputs": []
    },
    {
      "cell_type": "code",
      "execution_count": 6,
      "metadata": {
        "id": "LAz7uMNKjk21",
        "colab": {
          "base_uri": "https://localhost:8080/"
        },
        "outputId": "7c734a2a-17b4-43e3-f077-1c8b32ac1020"
      },
      "outputs": [
        {
          "output_type": "execute_result",
          "data": {
            "text/plain": [
              "Atoms(symbols='Ar2', pbc=True, cell=[[0.0, 5.39, 5.39], [5.39, 0.0, 5.39], [5.39, 5.39, 0.0]])"
            ]
          },
          "metadata": {},
          "execution_count": 6
        }
      ],
      "source": [
        "atoms = atoms_list[-1]\n",
        "atoms"
      ]
    },
    {
      "cell_type": "code",
      "source": [
        "# Define parameters of the potential\n",
        "epsilon, sigma = .5, 5.0\n",
        "\n",
        "# Define calculator for the atoms object\n",
        "atoms.calc = LennardJones(sigma = sigma, epsilon = epsilon, rcut = 10.0, )"
      ],
      "metadata": {
        "id": "JT6uwWNDX_MW"
      },
      "execution_count": 7,
      "outputs": []
    },
    {
      "cell_type": "markdown",
      "source": [
        "You can check out the LJ calculator class here: https://ase-lib.org/_modules/ase/calculators/lj.html"
      ],
      "metadata": {
        "id": "usV5ZMqcroY2"
      }
    },
    {
      "cell_type": "code",
      "source": [
        "# calculate potential energy of the structure\n",
        "atoms.get_potential_energy()"
      ],
      "metadata": {
        "colab": {
          "base_uri": "https://localhost:8080/"
        },
        "id": "HmBMRL5XrZlv",
        "outputId": "6fc27b89-2128-44fe-ade9-69203125f406"
      },
      "execution_count": 8,
      "outputs": [
        {
          "output_type": "execute_result",
          "data": {
            "text/plain": [
              "3.4819694565085935"
            ]
          },
          "metadata": {},
          "execution_count": 8
        }
      ]
    },
    {
      "cell_type": "code",
      "source": [
        "# calculate forces acting on atoms in the structure\n",
        "atoms.get_forces()"
      ],
      "metadata": {
        "colab": {
          "base_uri": "https://localhost:8080/"
        },
        "id": "yElgORCyXryu",
        "outputId": "6e7faab4-32bc-41b3-a0e8-4ffda43e9e66"
      },
      "execution_count": 9,
      "outputs": [
        {
          "output_type": "execute_result",
          "data": {
            "text/plain": [
              "array([[-0.17251716,  0.35628568, -0.97630565],\n",
              "       [ 0.17251716, -0.35628568,  0.97630565]])"
            ]
          },
          "metadata": {},
          "execution_count": 9
        }
      ]
    },
    {
      "cell_type": "markdown",
      "metadata": {
        "id": "dEZElAkAlUCW"
      },
      "source": [
        "There are a number of different optimizers available in ASE to optimize an objective function. In the case of crystal structure we want to minimize the forces acting on each atom."
      ]
    },
    {
      "cell_type": "code",
      "execution_count": 10,
      "metadata": {
        "id": "sJfp0mYplK-y"
      },
      "outputs": [],
      "source": [
        "from ase.optimize import BFGS"
      ]
    },
    {
      "cell_type": "markdown",
      "metadata": {
        "id": "4qmXTIy5ll8s"
      },
      "source": [
        "Let's optimize our crystal structure"
      ]
    },
    {
      "cell_type": "markdown",
      "metadata": {
        "id": "grdUf0d4sjnh"
      },
      "source": [
        "The optimizer adjusts the atomic coordinates to minimize the forces acting on the atoms (energy of the system). Doesn't this remind you of loss minimization to find the best fit in linear regression? The weights in the case of minimizing the forces are the (x, y, z) coordinates of the atoms."
      ]
    },
    {
      "cell_type": "code",
      "execution_count": 11,
      "metadata": {
        "colab": {
          "base_uri": "https://localhost:8080/"
        },
        "id": "pEG-smhBoI8m",
        "outputId": "16f23425-4bc6-483e-b819-9097396e10d2"
      },
      "outputs": [
        {
          "output_type": "stream",
          "name": "stdout",
          "text": [
            "      Step     Time          Energy          fmax\n",
            "BFGS:    0 08:57:54        3.481969        1.053506\n",
            "BFGS:    1 08:57:55        3.464118        0.132667\n",
            "BFGS:    2 08:57:55        3.463835        0.002711\n",
            "BFGS:    3 08:57:55        3.463835        0.000085\n"
          ]
        },
        {
          "output_type": "execute_result",
          "data": {
            "text/plain": [
              "True"
            ]
          },
          "metadata": {},
          "execution_count": 11
        }
      ],
      "source": [
        "optim = BFGS(atoms)\n",
        "optim.run(fmax = 0.001)"
      ]
    },
    {
      "cell_type": "code",
      "source": [
        "# let's slightly disturb our structure\n",
        "atoms.positions += np.random.normal(loc = 0, scale = 0.5, size = (len(atoms), 3))"
      ],
      "metadata": {
        "id": "h-cX7cw0YTPw"
      },
      "execution_count": 12,
      "outputs": []
    },
    {
      "cell_type": "code",
      "source": [
        "optim = BFGS(atoms)\n",
        "optim.run(fmax = 0.001)"
      ],
      "metadata": {
        "colab": {
          "base_uri": "https://localhost:8080/"
        },
        "id": "gCE6bOoyYTTI",
        "outputId": "a8034ef1-a70f-4ad4-dca9-5653abc5867f"
      },
      "execution_count": 13,
      "outputs": [
        {
          "output_type": "stream",
          "name": "stdout",
          "text": [
            "      Step     Time          Energy          fmax\n",
            "BFGS:    0 08:57:56       36.945414       63.562251\n",
            "BFGS:    1 08:57:56       26.967440       64.150262\n",
            "BFGS:    2 08:57:56       13.148101       31.266407\n",
            "BFGS:    3 08:57:56        7.160590       13.217767\n",
            "BFGS:    4 08:57:56        4.381619        7.434972\n",
            "BFGS:    5 08:57:56        4.493475        9.121864\n",
            "BFGS:    6 08:57:56        3.709709        3.943384\n",
            "BFGS:    7 08:57:56        3.627620        3.160236\n",
            "BFGS:    8 08:57:56        3.564688        2.480192\n",
            "BFGS:    9 08:57:56        3.531160        2.060002\n",
            "BFGS:   10 08:57:56        3.489390        1.243946\n",
            "BFGS:   11 08:57:56        3.472918        0.740627\n",
            "BFGS:   12 08:57:56        3.464087        0.125455\n",
            "BFGS:   13 08:57:56        3.463857        0.037104\n",
            "BFGS:   14 08:57:56        3.463835        0.003621\n",
            "BFGS:   15 08:57:56        3.463835        0.000569\n"
          ]
        },
        {
          "output_type": "execute_result",
          "data": {
            "text/plain": [
              "True"
            ]
          },
          "metadata": {},
          "execution_count": 13
        }
      ]
    },
    {
      "cell_type": "code",
      "source": [
        "# two different polymorphs\n",
        "atoms1, atoms2 = atoms_list[0], atoms_list[-1]\n",
        "\n",
        "atoms1.calc = LennardJones(sigma = sigma, epsilon = epsilon, rcut = 10.0)\n",
        "atoms2.calc = LennardJones(sigma = sigma, epsilon = epsilon, rcut = 10.0)\n",
        "\n",
        "\n",
        "energy_difference = atoms1.get_potential_energy()/len(atoms2) - atoms1.get_potential_energy()/len(atoms1)\n",
        "energy_difference # eV/atom"
      ],
      "metadata": {
        "colab": {
          "base_uri": "https://localhost:8080/"
        },
        "id": "zzKkTv-3U6Id",
        "outputId": "3b41f1fe-5309-48e9-d936-a91499de49a1"
      },
      "execution_count": 16,
      "outputs": [
        {
          "output_type": "execute_result",
          "data": {
            "text/plain": [
              "-42.068344175135316"
            ]
          },
          "metadata": {},
          "execution_count": 16
        }
      ]
    },
    {
      "cell_type": "markdown",
      "metadata": {
        "id": "KqAnc2VUoXbF"
      },
      "source": [
        "Is this energy difference feasible? Let's compare with the density functional theory calculated energies"
      ]
    },
    {
      "cell_type": "code",
      "execution_count": 17,
      "metadata": {
        "id": "GJFP9XhljwTZ",
        "colab": {
          "base_uri": "https://localhost:8080/"
        },
        "outputId": "15a8fe78-9f09-4feb-e183-d9fb1c20091f"
      },
      "outputs": [
        {
          "output_type": "execute_result",
          "data": {
            "text/plain": [
              "-0.026433055000000004"
            ]
          },
          "metadata": {},
          "execution_count": 17
        }
      ],
      "source": [
        "energy1 = atoms1.info['relative_total_energy']\n",
        "energy2 = atoms2.info['relative_total_energy']\n",
        "energy1/len(atoms1) - energy2/len(atoms2)"
      ]
    },
    {
      "cell_type": "code",
      "execution_count": 18,
      "metadata": {
        "colab": {
          "base_uri": "https://localhost:8080/",
          "height": 466
        },
        "id": "RJ7Jhg_lcC98",
        "outputId": "908d18d3-048f-418e-c3d2-7c93633281e0"
      },
      "outputs": [
        {
          "output_type": "execute_result",
          "data": {
            "text/plain": [
              "Text(0.5, 0, 'Energy')"
            ]
          },
          "metadata": {},
          "execution_count": 18
        },
        {
          "output_type": "display_data",
          "data": {
            "text/plain": [
              "<Figure size 640x480 with 1 Axes>"
            ],
            "image/png": "[encoded data removed]"
          },
          "metadata": {}
        }
      ],
      "source": [
        "energies = [atoms.info['relative_total_energy'] for atoms in atoms_list]\n",
        "plt.hist(energies, 20)\n",
        "plt.xlabel('Energy')"
      ]
    },
    {
      "cell_type": "code",
      "source": [
        "for atoms in atoms_list:\n",
        "    atoms.calc = LennardJones(sigma = sigma, epsilon = epsilon, rcut = 10.0, )\n",
        "predicted_energies = [atoms.get_potential_energy() for atoms in atoms_list]"
      ],
      "metadata": {
        "id": "SCzDp08dXa6d"
      },
      "execution_count": 19,
      "outputs": []
    },
    {
      "cell_type": "code",
      "source": [
        "plt.scatter(energies, predicted_energies)\n",
        "plt.xlabel('DFT')\n",
        "plt.ylabel('LJ')"
      ],
      "metadata": {
        "colab": {
          "base_uri": "https://localhost:8080/",
          "height": 466
        },
        "id": "SyItv36JXy9P",
        "outputId": "7d488816-bf34-4c2f-d537-ecb030a933ce"
      },
      "execution_count": 20,
      "outputs": [
        {
          "output_type": "execute_result",
          "data": {
            "text/plain": [
              "Text(0, 0.5, 'LJ')"
            ]
          },
          "metadata": {},
          "execution_count": 20
        },
        {
          "output_type": "display_data",
          "data": {
            "text/plain": [
              "<Figure size 640x480 with 1 Axes>"
            ],
            "image/png": "[encoded data removed]"
          },
          "metadata": {}
        }
      ]
    },
    {
      "cell_type": "markdown",
      "metadata": {
        "id": "Ze4tLagtpAS2"
      },
      "source": [
        "As you see the energies are far away from the calculated with LJ potential. This is due to the epsilon and sigma parameters. Let's find the best parameters that fits the DFT data. For this we will minimize the mean squared error of energy predictions with our LJ potential compared to the DFT data."
      ]
    },
    {
      "cell_type": "code",
      "source": [
        "import numpy as np\n",
        "from scipy.optimize import fmin\n",
        "from ase.calculators.lj import LennardJones\n",
        "\n",
        "# original code source: https://kitchingroup.cheme.cmu.edu/blog/2017/11/19/Training-the-ASE-Lennard-Jones-potential-to-DFT-calculations/\n",
        "\n",
        "def my_lj(params):\n",
        "    \"\"\"\n",
        "    This function returns potential energy predictions\n",
        "    for a given set of LJ pair potential parameters.\n",
        "    \"\"\"\n",
        "    global configurations\n",
        "    epsilon, sigma = params\n",
        "\n",
        "    # Ensure parameters stay positive and reasonable\n",
        "    epsilon = max(epsilon, 1e-6)\n",
        "    sigma = max(sigma, 1e-6)\n",
        "\n",
        "    calc = LennardJones(sigma=sigma, epsilon=epsilon)\n",
        "    predictions = []\n",
        "    for atoms in configurations:\n",
        "        atoms.calc = calc\n",
        "        try:\n",
        "            energy = atoms.get_potential_energy()\n",
        "            predictions.append(energy)\n",
        "        except:\n",
        "            # Return large loss if calculation fails\n",
        "            return np.full(len(configurations), 1e10)\n",
        "\n",
        "    return np.array(predictions)\n",
        "\n",
        "def loss(target, prediction):\n",
        "    \"\"\"\n",
        "    Mean squared error loss function\n",
        "    \"\"\"\n",
        "    return np.square(prediction - target).mean()\n",
        "\n",
        "def callback(params):\n",
        "    \"\"\"\n",
        "    Used to save history of the training\n",
        "    \"\"\"\n",
        "    steps.append(params)\n",
        "\n",
        "def objective(params):\n",
        "    \"\"\"\n",
        "    Objective function we want to minimize\n",
        "    \"\"\"\n",
        "    global targets\n",
        "    predictions = my_lj(params)\n",
        "    return loss(targets, predictions)\n",
        "\n",
        "# Your data\n",
        "configurations = atoms_list\n",
        "targets = np.array([atoms.info['relative_total_energy'] for atoms in atoms_list])\n",
        "steps = []\n",
        "\n",
        "# Optimize with bounds by using a constrained method\n",
        "LJ_pars = fmin(objective, x0=[0.5, 5.0], callback=callback, ftol=1e-6, disp=True)\n",
        "print(LJ_pars)"
      ],
      "metadata": {
        "colab": {
          "base_uri": "https://localhost:8080/"
        },
        "id": "p3kS-kSERnCz",
        "outputId": "4bb0a10f-3719-45b2-c1a0-fdf76e717cf6"
      },
      "execution_count": 21,
      "outputs": [
        {
          "output_type": "stream",
          "name": "stdout",
          "text": [
            "Optimization terminated successfully.\n",
            "         Current function value: 0.000141\n",
            "         Iterations: 113\n",
            "         Function evaluations: 214\n",
            "[0.00592838 3.73316798]\n"
          ]
        }
      ]
    },
    {
      "cell_type": "code",
      "execution_count": 24,
      "metadata": {
        "id": "NoY0Mav0YBaT"
      },
      "outputs": [],
      "source": [
        "loss_history = []\n",
        "for step in steps: # iterate over parameters at each optimization step\n",
        "    loss_history.append(loss(targets, my_lj(step)))"
      ]
    },
    {
      "cell_type": "code",
      "execution_count": 25,
      "metadata": {
        "colab": {
          "base_uri": "https://localhost:8080/",
          "height": 664
        },
        "id": "S3kuhm5IjQCE",
        "outputId": "62ba850f-c182-4896-e291-02a13ee423b9"
      },
      "outputs": [
        {
          "output_type": "display_data",
          "data": {
            "text/plain": [
              "<Figure size 960x720 with 1 Axes>"
            ],
            "image/png": "[encoded data removed]"
          },
          "metadata": {}
        }
      ],
      "source": [
        "plt.figure(dpi = 150)\n",
        "plt.plot(loss_history)\n",
        "plt.ylabel('MSE')\n",
        "plt.xlabel('Iteration')\n",
        "plt.yscale('log')"
      ]
    },
    {
      "cell_type": "markdown",
      "metadata": {
        "id": "1uWV_JcuqyGN"
      },
      "source": [
        "Now we have a much better fit to the DFT data."
      ]
    },
    {
      "cell_type": "code",
      "execution_count": 26,
      "metadata": {
        "colab": {
          "base_uri": "https://localhost:8080/",
          "height": 473
        },
        "id": "VvXJKv2PqFUT",
        "outputId": "af874c38-c7d5-4b09-c9fa-758882a8831c"
      },
      "outputs": [
        {
          "output_type": "execute_result",
          "data": {
            "text/plain": [
              "Text(0.5, 0, 'DFT energy')"
            ]
          },
          "metadata": {},
          "execution_count": 26
        },
        {
          "output_type": "display_data",
          "data": {
            "text/plain": [
              "<Figure size 450x450 with 1 Axes>"
            ],
            "image/png": "[encoded data removed]"
          },
          "metadata": {}
        }
      ],
      "source": [
        "fig, ax = plt.subplots(dpi = 150, figsize = (3, 3))\n",
        "\n",
        "ax.scatter(targets, my_lj(LJ_pars))\n",
        "ax.plot(targets, targets)\n",
        "ax.set_ylabel('predicted energy')\n",
        "ax.set_xlabel('DFT energy')"
      ]
    },
    {
      "cell_type": "markdown",
      "metadata": {
        "id": "5kWpccdyXD6r"
      },
      "source": [
        "- Now you have the intuition behind interatomic potential fitting.\n",
        "\n",
        "- Today we will use the SevenNet universal interatomic potential trained on the MPtrj dataset - a dataset of crystal structure configurations from the Materials project database with calculated energies, forces, and stress tensors using density functional theory.\n",
        "\n",
        "- In other words, someone did the same thing we did, but instead of fitting the LJ potential with two parameters to several different structures, the graph neural network with ~800K parameters (weights) was fitted to the ~1,000,000 energies, ~10,000,000 forces, and stress tensors.\n",
        "\n",
        "- Here, the term \"universal\" means that this potential is intended to accurately predict energies and forces for crystal structures from a wide range of chemical systems."
      ]
    },
    {
      "cell_type": "markdown",
      "source": [
        "The `sevennet` library provides the SevenNetCalculator compatible with the ASE library, which allows using the ASE functionality for running molecular dynamics simulations and optimizing crystal structures"
      ],
      "metadata": {
        "id": "k701d0tt4bcs"
      }
    },
    {
      "cell_type": "code",
      "execution_count": 27,
      "metadata": {
        "id": "qL_OqJSQW2i7",
        "colab": {
          "base_uri": "https://localhost:8080/"
        },
        "outputId": "6e9d1259-e39b-401a-fbbb-2fb4eb79e9b3"
      },
      "outputs": [
        {
          "output_type": "stream",
          "name": "stdout",
          "text": [
            "Requirement already satisfied: sevenn in /usr/local/lib/python3.12/dist-packages (0.11.2.post1)\n",
            "Requirement already satisfied: ase in /usr/local/lib/python3.12/dist-packages (from sevenn) (3.26.0)\n",
            "Requirement already satisfied: braceexpand in /usr/local/lib/python3.12/dist-packages (from sevenn) (0.1.7)\n",
            "Requirement already satisfied: pyyaml in /usr/local/lib/python3.12/dist-packages (from sevenn) (6.0.3)\n",
            "Requirement already satisfied: e3nn>=0.5.0 in /usr/local/lib/python3.12/dist-packages (from sevenn) (0.5.8)\n",
            "Requirement already satisfied: tqdm in /usr/local/lib/python3.12/dist-packages (from sevenn) (4.67.1)\n",
            "Requirement already satisfied: scikit-learn in /usr/local/lib/python3.12/dist-packages (from sevenn) (1.6.1)\n",
            "Requirement already satisfied: torch_geometric>=2.5.0 in /usr/local/lib/python3.12/dist-packages (from sevenn) (2.7.0)\n",
            "Requirement already satisfied: numpy in /usr/local/lib/python3.12/dist-packages (from sevenn) (1.26.4)\n",
            "Requirement already satisfied: matscipy in /usr/local/lib/python3.12/dist-packages (from sevenn) (1.1.1)\n",
            "Requirement already satisfied: pandas in /usr/local/lib/python3.12/dist-packages (from sevenn) (2.2.2)\n",
            "Requirement already satisfied: requests in /usr/local/lib/python3.12/dist-packages (from sevenn) (2.32.4)\n",
            "Requirement already satisfied: setuptools>=61.0 in /usr/local/lib/python3.12/dist-packages (from sevenn) (75.2.0)\n",
            "Requirement already satisfied: sympy in /usr/local/lib/python3.12/dist-packages (from e3nn>=0.5.0->sevenn) (1.13.3)\n",
            "Requirement already satisfied: scipy in /usr/local/lib/python3.12/dist-packages (from e3nn>=0.5.0->sevenn) (1.16.2)\n",
            "Requirement already satisfied: torch>=1.8.0 in /usr/local/lib/python3.12/dist-packages (from e3nn>=0.5.0->sevenn) (2.8.0+cu126)\n",
            "Requirement already satisfied: opt_einsum_fx>=0.1.4 in /usr/local/lib/python3.12/dist-packages (from e3nn>=0.5.0->sevenn) (0.1.4)\n",
            "Requirement already satisfied: aiohttp in /usr/local/lib/python3.12/dist-packages (from torch_geometric>=2.5.0->sevenn) (3.13.0)\n",
            "Requirement already satisfied: fsspec in /usr/local/lib/python3.12/dist-packages (from torch_geometric>=2.5.0->sevenn) (2025.3.0)\n",
            "Requirement already satisfied: jinja2 in /usr/local/lib/python3.12/dist-packages (from torch_geometric>=2.5.0->sevenn) (3.1.6)\n",
            "Requirement already satisfied: psutil>=5.8.0 in /usr/local/lib/python3.12/dist-packages (from torch_geometric>=2.5.0->sevenn) (5.9.5)\n",
            "Requirement already satisfied: pyparsing in /usr/local/lib/python3.12/dist-packages (from torch_geometric>=2.5.0->sevenn) (3.2.5)\n",
            "Requirement already satisfied: xxhash in /usr/local/lib/python3.12/dist-packages (from torch_geometric>=2.5.0->sevenn) (3.6.0)\n",
            "Requirement already satisfied: matplotlib>=3.3.4 in /usr/local/lib/python3.12/dist-packages (from ase->sevenn) (3.10.0)\n",
            "Requirement already satisfied: packaging in /usr/local/lib/python3.12/dist-packages (from matscipy->sevenn) (25.0)\n",
            "Requirement already satisfied: python-dateutil>=2.8.2 in /usr/local/lib/python3.12/dist-packages (from pandas->sevenn) (2.9.0.post0)\n",
            "Requirement already satisfied: pytz>=2020.1 in /usr/local/lib/python3.12/dist-packages (from pandas->sevenn) (2025.2)\n",
            "Requirement already satisfied: tzdata>=2022.7 in /usr/local/lib/python3.12/dist-packages (from pandas->sevenn) (2025.2)\n",
            "Requirement already satisfied: charset_normalizer<4,>=2 in /usr/local/lib/python3.12/dist-packages (from requests->sevenn) (3.4.4)\n",
            "Requirement already satisfied: idna<4,>=2.5 in /usr/local/lib/python3.12/dist-packages (from requests->sevenn) (3.11)\n",
            "Requirement already satisfied: urllib3<3,>=1.21.1 in /usr/local/lib/python3.12/dist-packages (from requests->sevenn) (2.5.0)\n",
            "Requirement already satisfied: certifi>=2017.4.17 in /usr/local/lib/python3.12/dist-packages (from requests->sevenn) (2025.10.5)\n",
            "Requirement already satisfied: joblib>=1.2.0 in /usr/local/lib/python3.12/dist-packages (from scikit-learn->sevenn) (1.5.2)\n",
            "Requirement already satisfied: threadpoolctl>=3.1.0 in /usr/local/lib/python3.12/dist-packages (from scikit-learn->sevenn) (3.6.0)\n",
            "Requirement already satisfied: contourpy>=1.0.1 in /usr/local/lib/python3.12/dist-packages (from matplotlib>=3.3.4->ase->sevenn) (1.3.3)\n",
            "Requirement already satisfied: cycler>=0.10 in /usr/local/lib/python3.12/dist-packages (from matplotlib>=3.3.4->ase->sevenn) (0.12.1)\n",
            "Requirement already satisfied: fonttools>=4.22.0 in /usr/local/lib/python3.12/dist-packages (from matplotlib>=3.3.4->ase->sevenn) (4.60.1)\n",
            "Requirement already satisfied: kiwisolver>=1.3.1 in /usr/local/lib/python3.12/dist-packages (from matplotlib>=3.3.4->ase->sevenn) (1.4.9)\n",
            "Requirement already satisfied: pillow>=8 in /usr/local/lib/python3.12/dist-packages (from matplotlib>=3.3.4->ase->sevenn) (11.3.0)\n",
            "Requirement already satisfied: opt-einsum in /usr/local/lib/python3.12/dist-packages (from opt_einsum_fx>=0.1.4->e3nn>=0.5.0->sevenn) (3.4.0)\n",
            "Requirement already satisfied: six>=1.5 in /usr/local/lib/python3.12/dist-packages (from python-dateutil>=2.8.2->pandas->sevenn) (1.17.0)\n",
            "Requirement already satisfied: filelock in /usr/local/lib/python3.12/dist-packages (from torch>=1.8.0->e3nn>=0.5.0->sevenn) (3.20.0)\n",
            "Requirement already satisfied: typing-extensions>=4.10.0 in /usr/local/lib/python3.12/dist-packages (from torch>=1.8.0->e3nn>=0.5.0->sevenn) (4.15.0)\n",
            "Requirement already satisfied: networkx in /usr/local/lib/python3.12/dist-packages (from torch>=1.8.0->e3nn>=0.5.0->sevenn) (3.5)\n",
            "Requirement already satisfied: nvidia-cuda-nvrtc-cu12==12.6.77 in /usr/local/lib/python3.12/dist-packages (from torch>=1.8.0->e3nn>=0.5.0->sevenn) (12.6.77)\n",
            "Requirement already satisfied: nvidia-cuda-runtime-cu12==12.6.77 in /usr/local/lib/python3.12/dist-packages (from torch>=1.8.0->e3nn>=0.5.0->sevenn) (12.6.77)\n",
            "Requirement already satisfied: nvidia-cuda-cupti-cu12==12.6.80 in /usr/local/lib/python3.12/dist-packages (from torch>=1.8.0->e3nn>=0.5.0->sevenn) (12.6.80)\n",
            "Requirement already satisfied: nvidia-cudnn-cu12==9.10.2.21 in /usr/local/lib/python3.12/dist-packages (from torch>=1.8.0->e3nn>=0.5.0->sevenn) (9.10.2.21)\n",
            "Requirement already satisfied: nvidia-cublas-cu12==12.6.4.1 in /usr/local/lib/python3.12/dist-packages (from torch>=1.8.0->e3nn>=0.5.0->sevenn) (12.6.4.1)\n",
            "Requirement already satisfied: nvidia-cufft-cu12==11.3.0.4 in /usr/local/lib/python3.12/dist-packages (from torch>=1.8.0->e3nn>=0.5.0->sevenn) (11.3.0.4)\n",
            "Requirement already satisfied: nvidia-curand-cu12==10.3.7.77 in /usr/local/lib/python3.12/dist-packages (from torch>=1.8.0->e3nn>=0.5.0->sevenn) (10.3.7.77)\n",
            "Requirement already satisfied: nvidia-cusolver-cu12==11.7.1.2 in /usr/local/lib/python3.12/dist-packages (from torch>=1.8.0->e3nn>=0.5.0->sevenn) (11.7.1.2)\n",
            "Requirement already satisfied: nvidia-cusparse-cu12==12.5.4.2 in /usr/local/lib/python3.12/dist-packages (from torch>=1.8.0->e3nn>=0.5.0->sevenn) (12.5.4.2)\n",
            "Requirement already satisfied: nvidia-cusparselt-cu12==0.7.1 in /usr/local/lib/python3.12/dist-packages (from torch>=1.8.0->e3nn>=0.5.0->sevenn) (0.7.1)\n",
            "Requirement already satisfied: nvidia-nccl-cu12==2.27.3 in /usr/local/lib/python3.12/dist-packages (from torch>=1.8.0->e3nn>=0.5.0->sevenn) (2.27.3)\n",
            "Requirement already satisfied: nvidia-nvtx-cu12==12.6.77 in /usr/local/lib/python3.12/dist-packages (from torch>=1.8.0->e3nn>=0.5.0->sevenn) (12.6.77)\n",
            "Requirement already satisfied: nvidia-nvjitlink-cu12==12.6.85 in /usr/local/lib/python3.12/dist-packages (from torch>=1.8.0->e3nn>=0.5.0->sevenn) (12.6.85)\n",
            "Requirement already satisfied: nvidia-cufile-cu12==1.11.1.6 in /usr/local/lib/python3.12/dist-packages (from torch>=1.8.0->e3nn>=0.5.0->sevenn) (1.11.1.6)\n",
            "Requirement already satisfied: triton==3.4.0 in /usr/local/lib/python3.12/dist-packages (from torch>=1.8.0->e3nn>=0.5.0->sevenn) (3.4.0)\n",
            "Requirement already satisfied: mpmath<1.4,>=1.1.0 in /usr/local/lib/python3.12/dist-packages (from sympy->e3nn>=0.5.0->sevenn) (1.3.0)\n",
            "Requirement already satisfied: aiohappyeyeballs>=2.5.0 in /usr/local/lib/python3.12/dist-packages (from aiohttp->torch_geometric>=2.5.0->sevenn) (2.6.1)\n",
            "Requirement already satisfied: aiosignal>=1.4.0 in /usr/local/lib/python3.12/dist-packages (from aiohttp->torch_geometric>=2.5.0->sevenn) (1.4.0)\n",
            "Requirement already satisfied: attrs>=17.3.0 in /usr/local/lib/python3.12/dist-packages (from aiohttp->torch_geometric>=2.5.0->sevenn) (25.4.0)\n",
            "Requirement already satisfied: frozenlist>=1.1.1 in /usr/local/lib/python3.12/dist-packages (from aiohttp->torch_geometric>=2.5.0->sevenn) (1.8.0)\n",
            "Requirement already satisfied: multidict<7.0,>=4.5 in /usr/local/lib/python3.12/dist-packages (from aiohttp->torch_geometric>=2.5.0->sevenn) (6.7.0)\n",
            "Requirement already satisfied: propcache>=0.2.0 in /usr/local/lib/python3.12/dist-packages (from aiohttp->torch_geometric>=2.5.0->sevenn) (0.4.1)\n",
            "Requirement already satisfied: yarl<2.0,>=1.17.0 in /usr/local/lib/python3.12/dist-packages (from aiohttp->torch_geometric>=2.5.0->sevenn) (1.22.0)\n",
            "Requirement already satisfied: MarkupSafe>=2.0 in /usr/local/lib/python3.12/dist-packages (from jinja2->torch_geometric>=2.5.0->sevenn) (3.0.3)\n"
          ]
        }
      ],
      "source": [
        "# install SevenNet library\n",
        "!pip install sevenn"
      ]
    },
    {
      "cell_type": "code",
      "execution_count": 29,
      "metadata": {
        "id": "Qzo5JeCUWXjQ"
      },
      "outputs": [],
      "source": [
        "import numpy as np\n",
        "from ase.io import read, write\n",
        "from ase.optimize import FIRE\n",
        "from ase.md.npt import NPT\n",
        "from ase.units import fs\n",
        "from ase.build import make_supercell\n",
        "from sevenn.sevennet_calculator import SevenNetCalculator"
      ]
    },
    {
      "cell_type": "code",
      "execution_count": 30,
      "metadata": {
        "id": "arhUsS0KFkqJ"
      },
      "outputs": [],
      "source": [
        "sevennet_0_cal = SevenNetCalculator(\"7net-0\", device='cuda') # we use cuda device, i.e. GPU, for a faster calculations\n"
      ]
    },
    {
      "cell_type": "code",
      "execution_count": 45,
      "metadata": {
        "id": "ZIqd2bGjCUO4",
        "colab": {
          "base_uri": "https://localhost:8080/"
        },
        "outputId": "1ad603c6-b170-4f9c-8661-03dc053075c1"
      },
      "outputs": [
        {
          "output_type": "stream",
          "name": "stdout",
          "text": [
            "200\n"
          ]
        }
      ],
      "source": [
        "# Li10Ge(PS6)2, LGPS for a shorter notation, is known for its fast Li-ion conductivity\n",
        "atoms = read('data/Li10Ge(PS6)2_mp.cif')\n",
        "\n",
        "P = [\n",
        "    [1, 0, 0],\n",
        "    [0, 2, 0],\n",
        "    [0, 0, 2]\n",
        "]\n",
        "# create supercell for better statistics\n",
        "supercell = make_supercell(atoms, P)\n",
        "print(len(supercell))"
      ]
    },
    {
      "cell_type": "code",
      "execution_count": 32,
      "metadata": {
        "colab": {
          "base_uri": "https://localhost:8080/"
        },
        "id": "5wft7-41B5_N",
        "outputId": "fce51354-ff29-4e16-a344-4a9629e033c0"
      },
      "outputs": [
        {
          "output_type": "stream",
          "name": "stdout",
          "text": [
            "-863.3062133789062\n"
          ]
        }
      ],
      "source": [
        "# set calculator\n",
        "supercell.calc = sevennet_0_cal\n",
        "print(supercell.get_potential_energy())"
      ]
    },
    {
      "cell_type": "code",
      "execution_count": 33,
      "metadata": {
        "id": "lGH38LGuGPh3"
      },
      "outputs": [],
      "source": [
        "# optimize crystal structure\n",
        "# FIRE is the method for optimizing an objective function.\n",
        "# Newtonian dynamics with added friction https://wiki.fysik.dtu.dk/ase/ase/optimize.html\n",
        "optim = FIRE(supercell)"
      ]
    },
    {
      "cell_type": "code",
      "execution_count": 34,
      "metadata": {
        "colab": {
          "base_uri": "https://localhost:8080/"
        },
        "id": "dkNBjHI4CaJB",
        "outputId": "d6b1fa1d-1d12-4856-d658-49858609b87f"
      },
      "outputs": [
        {
          "output_type": "stream",
          "name": "stdout",
          "text": [
            "      Step     Time          Energy          fmax\n",
            "FIRE:    0 09:11:25     -863.306213        0.079664\n",
            "FIRE:    1 09:11:26     -863.311035        0.077805\n",
            "FIRE:    2 09:11:26     -863.319214        0.073962\n",
            "FIRE:    3 09:11:26     -863.328613        0.067916\n",
            "FIRE:    4 09:11:26     -863.338501        0.059606\n",
            "FIRE:    5 09:11:27     -863.349182        0.055367\n",
            "FIRE:    6 09:11:27     -863.360352        0.047197\n",
            "FIRE:    7 09:11:27     -863.370911        0.038270\n",
            "FIRE:    8 09:11:27     -863.380310        0.031638\n",
            "FIRE:    9 09:11:27     -863.388428        0.035686\n",
            "FIRE:   10 09:11:27     -863.396118        0.029277\n",
            "FIRE:   11 09:11:27     -863.402954        0.043747\n",
            "FIRE:   12 09:11:27     -863.409668        0.052494\n",
            "FIRE:   13 09:11:28     -863.418213        0.041407\n",
            "FIRE:   14 09:11:28     -863.426758        0.027490\n",
            "FIRE:   15 09:11:28     -863.435852        0.027884\n",
            "FIRE:   16 09:11:28     -863.443420        0.031513\n",
            "FIRE:   17 09:11:28     -863.449585        0.032258\n",
            "FIRE:   18 09:11:28     -863.453369        0.030345\n",
            "FIRE:   19 09:11:28     -863.453064        0.047379\n",
            "FIRE:   20 09:11:28     -863.454590        0.019382\n",
            "FIRE:   21 09:11:28     -863.455505        0.026976\n",
            "FIRE:   22 09:11:29     -863.455688        0.023370\n",
            "FIRE:   23 09:11:29     -863.455933        0.016779\n",
            "FIRE:   24 09:11:29     -863.456299        0.010860\n",
            "FIRE:   25 09:11:29     -863.456543        0.011700\n",
            "FIRE:   26 09:11:29     -863.456848        0.012171\n",
            "FIRE:   27 09:11:29     -863.457214        0.012153\n",
            "FIRE:   28 09:11:29     -863.457642        0.011285\n",
            "FIRE:   29 09:11:29     -863.458008        0.009683\n"
          ]
        },
        {
          "output_type": "execute_result",
          "data": {
            "text/plain": [
              "True"
            ]
          },
          "metadata": {},
          "execution_count": 34
        }
      ],
      "source": [
        "optim.run(fmax = 0.01)"
      ]
    },
    {
      "cell_type": "code",
      "execution_count": 35,
      "metadata": {
        "id": "jXt3FnLhJ0J7"
      },
      "outputs": [],
      "source": [
        "from ase.md.velocitydistribution import MaxwellBoltzmannDistribution"
      ]
    },
    {
      "cell_type": "code",
      "execution_count": 36,
      "metadata": {
        "id": "UavfhrG3J1cf"
      },
      "outputs": [],
      "source": [
        "MaxwellBoltzmannDistribution(supercell, temperature_K = 1000) # create a distribution of velocities"
      ]
    },
    {
      "cell_type": "code",
      "execution_count": 37,
      "metadata": {
        "id": "r4VJOSp_B2qP",
        "colab": {
          "base_uri": "https://localhost:8080/"
        },
        "outputId": "fffb4e29-430c-4e4c-9938-b7ce80847385"
      },
      "outputs": [
        {
          "output_type": "stream",
          "name": "stderr",
          "text": [
            "WARNING: NPT: Setting the center-of-mass momentum to zero (was -11.2444 -11.9963 -19.8772)\n"
          ]
        }
      ],
      "source": [
        "# define the ensemble and thermostat\n",
        "T = 1000\n",
        "thermo = NPT(supercell,\n",
        "             temperature_K = T,\n",
        "             timestep = 2 * fs, # convert to fs\n",
        "             trajectory=f'data/md_{T}.traj',\n",
        "             loginterval = 10, # save configurations with the given interval between the steps\n",
        "             logfile=f'data/md_{T}.log',\n",
        "             ttime = 40 * fs,\n",
        "             pfactor = (75 * fs)**2 * 0.6,\n",
        "             externalstress = 0,\n",
        "             )"
      ]
    },
    {
      "cell_type": "code",
      "execution_count": 38,
      "metadata": {
        "id": "ElvmsFrXB1Af",
        "colab": {
          "base_uri": "https://localhost:8080/"
        },
        "outputId": "1a48996b-14af-46e8-90c3-5890455396ce"
      },
      "outputs": [
        {
          "output_type": "execute_result",
          "data": {
            "text/plain": [
              "True"
            ]
          },
          "metadata": {},
          "execution_count": 38
        }
      ],
      "source": [
        "# run MD simulation for 10,000 steps\n",
        "thermo.run(10000) # takes ~15 minutes"
      ]
    },
    {
      "cell_type": "code",
      "source": [
        "# if you don't want to wait\n",
        "!wget -O./data/md_1000.traj https://raw.githubusercontent.com/dembart/intro-to-materials-informatics/refs/heads/main/data/seminar09/md_1000.traj"
      ],
      "metadata": {
        "colab": {
          "base_uri": "https://localhost:8080/"
        },
        "id": "5DGdKAXS--XM",
        "outputId": "9308b9be-c95c-4a38-8849-fb502dffbb54"
      },
      "execution_count": 46,
      "outputs": [
        {
          "output_type": "stream",
          "name": "stdout",
          "text": [
            "--2025-10-20 09:38:42--  https://raw.githubusercontent.com/dembart/intro-to-materials-informatics/refs/heads/main/data/seminar09/md_1000.traj\n",
            "Resolving raw.githubusercontent.com (raw.githubusercontent.com)... 185.199.110.133, 185.199.108.133, 185.199.111.133, ...\n",
            "Connecting to raw.githubusercontent.com (raw.githubusercontent.com)|185.199.110.133|:443... connected.\n",
            "HTTP request sent, awaiting response... 200 OK\n",
            "Length: 16700804 (16M) [application/octet-stream]\n",
            "Saving to: ‘./data/md_1000.traj’\n",
            "\n",
            "./data/md_1000.traj 100%[===================>]  15.93M  --.-KB/s    in 0.06s   \n",
            "\n",
            "2025-10-20 09:38:42 (269 MB/s) - ‘./data/md_1000.traj’ saved [16700804/16700804]\n",
            "\n"
          ]
        }
      ]
    },
    {
      "cell_type": "code",
      "execution_count": 48,
      "metadata": {
        "id": "TSfgymnbKPlJ"
      },
      "outputs": [],
      "source": [
        "# read saved trajectory\n",
        "traj = read('data/md_1000.traj', index = ':')"
      ]
    },
    {
      "cell_type": "markdown",
      "source": [
        "###Task 1: V vs. time\n",
        " Plot volume of the supercell vs. time. Has it converged?"
      ],
      "metadata": {
        "id": "KTHftMXZch8o"
      }
    },
    {
      "cell_type": "code",
      "execution_count": 41,
      "metadata": {
        "colab": {
          "base_uri": "https://localhost:8080/",
          "height": 536
        },
        "id": "lgH7K-VrM6v6",
        "outputId": "7810dabc-2fcb-43a9-a3f3-a45ff3dc2fde"
      },
      "outputs": [
        {
          "output_type": "stream",
          "name": "stderr",
          "text": [
            "<>:3: SyntaxWarning: invalid escape sequence '\\A'\n",
            "<>:3: SyntaxWarning: invalid escape sequence '\\A'\n",
            "/tmp/ipython-input-1042622521.py:3: SyntaxWarning: invalid escape sequence '\\A'\n",
            "  plt.ylabel('Volume, $\\AA^3$')\n"
          ]
        },
        {
          "output_type": "execute_result",
          "data": {
            "text/plain": [
              "Text(0, 0.5, 'Volume, $\\\\AA^3$')"
            ]
          },
          "metadata": {},
          "execution_count": 41
        },
        {
          "output_type": "display_data",
          "data": {
            "text/plain": [
              "<Figure size 640x480 with 1 Axes>"
            ],
            "image/png": "[encoded data removed]"
          },
          "metadata": {}
        }
      ],
      "source": [
        "plt.xlabel('time, ps')\n",
        "plt.ylabel('Volume, $\\AA^3$')"
      ]
    },
    {
      "cell_type": "markdown",
      "source": [
        "### Task 2. MSD\n",
        "\n",
        "Write a function that calculates the mean squared displacement at each timestep for a given atomic type.\n",
        "\n"
      ],
      "metadata": {
        "id": "MxhDJFj6czRg"
      }
    },
    {
      "cell_type": "markdown",
      "source": [
        "The mean squared displacement measures the average squared distance particles travel over time:\n",
        "\n",
        "$$MSD(\\tau) = \\langle |\\mathbf{r}(t+\\tau) - \\mathbf{r}(t)|^2 \\rangle$$\n",
        "\n",
        "For normal diffusion, this follows:\n",
        "$$MSD(\\tau) = 2dD\\tau$$, where\n",
        "\n",
        "- $d$ - dimensionality of diffusion\n",
        "- $D$ - diffusion coefficient"
      ],
      "metadata": {
        "id": "5FZQf07y6CrT"
      }
    },
    {
      "cell_type": "code",
      "source": [
        "def classical_msd(trajectory, specie):\n",
        "\n",
        "    \"\"\"\n",
        "    Calclate classical mean squared displacement\n",
        "    for a given specie\n",
        "\n",
        "    Params:\n",
        "    ------\n",
        "    trajectory: list of ase's Atoms objects\n",
        "        simulation trajectory\n",
        "\n",
        "    specie: str\n",
        "        atomic symbol\n",
        "    \"\"\"\n",
        "\n",
        "\n",
        "    ### your code ###\n",
        "    pass"
      ],
      "metadata": {
        "id": "eeUFuTp1dumV"
      },
      "execution_count": null,
      "outputs": []
    },
    {
      "cell_type": "markdown",
      "source": [
        "### Task 3: MSD(element) vs. time\n",
        "\n",
        "Plot MSD for each chemical element in the LGPS structure"
      ],
      "metadata": {
        "id": "cu01Hh9Fdwbh"
      }
    },
    {
      "cell_type": "code",
      "execution_count": null,
      "metadata": {
        "colab": {
          "base_uri": "https://localhost:8080/",
          "height": 447
        },
        "id": "aEinJkO9UjEQ",
        "outputId": "ec3c783d-c1ba-4e70-815b-e342d34935d4"
      },
      "outputs": [
        {
          "data": {
            "text/plain": [
              "[<matplotlib.lines.Line2D at 0x7a5a444dfb50>]"
            ]
          },
          "execution_count": 98,
          "metadata": {},
          "output_type": "execute_result"
        },
        {
          "data": {
            "image/png": "[encoded data removed]",
            "text/plain": [
              "<Figure size 640x480 with 1 Axes>"
            ]
          },
          "metadata": {},
          "output_type": "display_data"
        }
      ],
      "source": []
    },
    {
      "cell_type": "markdown",
      "source": [
        "### Task 4: Slope\n",
        "\n",
        "Fit the line to the linear region of the MSD(t) curve calculated for Li ions"
      ],
      "metadata": {
        "id": "kVK4wcVGeEmL"
      }
    },
    {
      "cell_type": "code",
      "source": [
        "# your code"
      ],
      "metadata": {
        "id": "fQ59bGgKef2p"
      },
      "execution_count": null,
      "outputs": []
    },
    {
      "cell_type": "code",
      "execution_count": null,
      "metadata": {
        "id": "_efyTPL_U1xJ"
      },
      "outputs": [],
      "source": [
        "def _diffusion_coefficient(slope, dim = 3):\n",
        "\n",
        "    \"\"\"\n",
        "    slope = [A ^ 2 / ps]\n",
        "    d = [cm ^ 2 / s]\n",
        "    \"\"\"\n",
        "    d = 1 / (2 * dim) * slope * (1e-16) / (1e-12)\n",
        "    return d"
      ]
    },
    {
      "cell_type": "markdown",
      "source": [
        "### Task 5. Arrhenius equation\n",
        "\n",
        "$D = D_0\\exp(-E_a/kT)$\n",
        "\n",
        "- Run several MD simulations at different temperatures (T=600, 800, 1000)\n",
        "\n",
        "- Fit the line to each of the MSD curves calculated for Li ion\n",
        "- Calculate D(T)\n",
        "- Fit the line to the log10(D) vs. 1/T\n",
        "- Extract $D_0$ and $E_a$\n",
        "- Compare calculated values with the literature data\n",
        "\n",
        "literature data: https://ceder.berkeley.edu/publications/YiFei_Lithium_Conductor.pdf\n"
      ],
      "metadata": {
        "id": "mn9prvptepqP"
      }
    }
  ],
  "metadata": {
    "accelerator": "GPU",
    "colab": {
      "gpuType": "T4",
      "provenance": []
    },
    "kernelspec": {
      "display_name": "Python 3",
      "name": "python3"
    },
    "language_info": {
      "codemirror_mode": {
        "name": "ipython",
        "version": 3
      },
      "file_extension": ".py",
      "mimetype": "text/x-python",
      "name": "python",
      "nbconvert_exporter": "python",
      "pygments_lexer": "ipython3",
      "version": "3.9.6"
    }
  },
  "nbformat": 4,
  "nbformat_minor": 0
}