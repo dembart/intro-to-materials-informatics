{
 "cells": [
  {
   "cell_type": "markdown",
   "metadata": {},
   "source": [
    "### Seminar #1: Python crash course\n"
   ]
  },
  {
   "cell_type": "markdown",
   "metadata": {},
   "source": [
    "\n",
    "#### Resources used to create this notebook\n",
    "- python basics: https://www.w3schools.com/python/default.asp  \n",
    "\n",
    "- numpy, scipy: https://harvard-iacs.github.io/2018-CS109A/labs/lab-1/student/\n",
    "\n",
    "- [numpy beginner's guide](https://numpy.org/doc/stable/user/absolute_beginners.html)"
   ]
  },
  {
   "cell_type": "markdown",
   "metadata": {},
   "source": [
    "\n",
    "#### Goals\n",
    "\n",
    "Learning outcomes\n",
    "\n",
    "- manipulate data types in Python\n",
    "- vectorisation in Python\n",
    "- read/write data with pandas\n",
    "- plotting with matplotlib\n",
    "- curve fit with scipy\n",
    "\n",
    "#### Agenda\n",
    "- python coding basics\n",
    "\n",
    "    - data types\n",
    "    - loops\n",
    "    - if/else\n",
    "    - objects and methods\n",
    "    - functions\n",
    "- intro to numpy\n",
    "    - vectorization\n",
    "    - lists vs. numpy arrays\n",
    "- intro to pandas\n",
    "    - read .csv\n",
    "    - dataframe\n",
    "- matplotlib\n",
    "    - plotting data\n",
    "- scipy\n",
    "    - curve_fit\n",
    "    - linear regression\n",
    "\n"
   ]
  },
  {
   "cell_type": "markdown",
   "metadata": {},
   "source": [
    "### Spoiler\n",
    "- By the end of this seminar you will be able to understand/reproduce/modify the following code"
   ]
  },
  {
   "cell_type": "code",
   "execution_count": null,
   "metadata": {},
   "outputs": [],
   "source": [
    "import pandas as pd\n",
    "import numpy as np\n",
    "from scipy.optimize import curve_fit   \n",
    "import matplotlib.pyplot as plt\n",
    "\n",
    "# toy example data, contains two columns - 'x' and 'y'\n",
    "# y is a measured response to a change in x\n",
    "data = pd.read_csv('data/measured_data.csv') \n",
    "\n",
    "plt.rcParams.update({'font.size': 10})\n",
    "fig, (ax1, ax2) = plt.subplots(dpi = 300, figsize = (6, 3), ncols = 2)\n",
    "\n",
    "x = data['x']\n",
    "y = data['y']\n",
    "\n",
    "ax1.scatter(x, y, marker = 'o', label = 'measured', s = 3, alpha = 0.5)\n",
    "\n",
    "\n",
    "\n",
    "def parabola(x, a0, a1, a2):\n",
    "    return a0 + a1 * x + a2 * x**2\n",
    "\n",
    "popt, pcov = curve_fit(parabola, x, y)\n",
    "\n",
    "y_fit = parabola(x, *popt)\n",
    "ax1.plot(x, y_fit, label = 'fit')\n",
    "\n",
    "_ = ax2.hist(y - y_fit, bins = 20)\n",
    "\n",
    "ax2.set_xlabel('Err')\n",
    "ax2.set_ylabel('Count')\n",
    "\n",
    "std = (y - y_fit).std()\n",
    "\n",
    "ax1.fill_between(x, y_fit - std, y_fit + std, alpha = 0.25, color = 'darkred', label = '1 sigma')\n",
    "ax1.set_xlabel('x')\n",
    "ax1.set_ylabel('y')\n",
    "ax1.legend()\n",
    "plt.tight_layout()\n"
   ]
  },
  {
   "cell_type": "markdown",
   "metadata": {},
   "source": [
    "#### Why learning python?\n",
    "- the most popular programming language in science\n",
    "\n",
    "- huge community\n",
    "- open-source solutions for almost every problem\n",
    "- simple syntax\n",
    "- automation (as any programming language)"
   ]
  },
  {
   "cell_type": "markdown",
   "metadata": {},
   "source": [
    "### Python basics"
   ]
  },
  {
   "cell_type": "markdown",
   "metadata": {},
   "source": [
    "##### Variables and operators\n",
    "\n",
    "Variables\n",
    "- Variables are containers for storing data values\n",
    "\n",
    "- Variables are created when you assign a data to it\n",
    "\n",
    "- Variable name must start with a letter or the underscore character\n",
    "\n",
    "- Comment line starts with # \n",
    "\n",
    "- Comment line is not executed\n",
    "\n",
    "\n",
    "\n",
    "\n",
    "\n",
    "Operators\n",
    "- Operators are used to perform operations with variables\n",
    "- \"+\"\n",
    "- \"-\" \n",
    "- '*'\n",
    "- \"/\" \n",
    "- \"//\" \n",
    "- \"%\" \n",
    "- \"!=\"\n",
    "- \"==\"\n",
    "- \"**\"\n",
    "- \">\", \"<\"\n",
    "- ..."
   ]
  },
  {
   "cell_type": "code",
   "execution_count": 6,
   "metadata": {},
   "outputs": [],
   "source": [
    "# coment line \n",
    "# not executed\n",
    "# because it starts with #\n",
    "\n",
    "\n",
    "var = 1     # integer\n",
    "var_ = '1'  # string\n",
    "_var = 1.0  # float\n",
    "var1 = 1e0  # float\n",
    "var_1 = 1/1 # float #DA integer in older versions of Python\n",
    "_1vAr_ = 1\n",
    "_VaR1__________ = 1\n"
   ]
  },
  {
   "cell_type": "markdown",
   "metadata": {},
   "source": [
    "If you do not follow the rules, the interpreter will throw an error."
   ]
  },
  {
   "cell_type": "code",
   "execution_count": null,
   "metadata": {},
   "outputs": [],
   "source": [
    "1var = 1 "
   ]
  },
  {
   "cell_type": "markdown",
   "metadata": {},
   "source": [
    "- Variable naming is up to you\n",
    "\n",
    "- But it's recommended to follow the [PEP8](https://peps.python.org/pep-0008/) style guide\n"
   ]
  },
  {
   "cell_type": "markdown",
   "metadata": {},
   "source": [
    "#### Built-in data types"
   ]
  },
  {
   "cell_type": "markdown",
   "metadata": {},
   "source": [
    "\n",
    "- Text Type:\tstr\n",
    "\n",
    "- Numeric Types:\tint, float, complex\n",
    "- Sequence Types:\tlist, tuple, range\n",
    "- Mapping Type:\tdict\n",
    "- Set Types:\tset, frozenset\n",
    "- Boolean Type:\tbool\n",
    "- Binary Types:\tbytes, bytearray, memoryview\n",
    "- None Type:\tNoneType"
   ]
  },
  {
   "cell_type": "markdown",
   "metadata": {},
   "source": [
    "### Numbers\n",
    "- integer\n",
    "- float"
   ]
  },
  {
   "cell_type": "code",
   "execution_count": null,
   "metadata": {},
   "outputs": [],
   "source": [
    "integer_number = 42\n",
    "floating_point_number = .97\n",
    "\n",
    "\n",
    "x = 1\n",
    "y = 2\n",
    "\n",
    "x + y  # addition\n",
    "x - y  # subtraction\n",
    "x / y  # division\n",
    "x * y  # multiplication\n",
    "y ** 3 # exponentiation\n",
    "\n",
    "10  + (10)**(1/2)"
   ]
  },
  {
   "cell_type": "markdown",
   "metadata": {},
   "source": [
    "### Strings"
   ]
  },
  {
   "cell_type": "markdown",
   "metadata": {},
   "source": [
    "strings are defined with ```''```, ```\"\"```, or ```\"\"\" \"\"\"```"
   ]
  },
  {
   "cell_type": "code",
   "execution_count": 50,
   "metadata": {},
   "outputs": [],
   "source": [
    "str_1 = 'My Name Is'\n",
    "str_2 = \"Slim Shady\""
   ]
  },
  {
   "cell_type": "markdown",
   "metadata": {},
   "source": [
    "\"+\" operator concatenates the strings"
   ]
  },
  {
   "cell_type": "code",
   "execution_count": null,
   "metadata": {},
   "outputs": [],
   "source": [
    "str_1 + str_2"
   ]
  },
  {
   "cell_type": "markdown",
   "metadata": {},
   "source": [
    "\"*\" operator concatenates a string with itself"
   ]
  },
  {
   "cell_type": "code",
   "execution_count": null,
   "metadata": {},
   "outputs": [],
   "source": [
    "str_1 * 5"
   ]
  },
  {
   "cell_type": "markdown",
   "metadata": {},
   "source": [
    "There is a set of operators that works for specific data types. You cannot subtract one string from another "
   ]
  },
  {
   "cell_type": "code",
   "execution_count": null,
   "metadata": {},
   "outputs": [],
   "source": [
    "str_2 - str_1"
   ]
  },
  {
   "cell_type": "markdown",
   "metadata": {},
   "source": [
    "### Containers\n",
    "- lists\n",
    "- dictionaries\n",
    "- tuples"
   ]
  },
  {
   "cell_type": "markdown",
   "metadata": {},
   "source": [
    "lists are defined with ```[]```"
   ]
  },
  {
   "cell_type": "code",
   "execution_count": null,
   "metadata": {},
   "outputs": [],
   "source": [
    "my_list = [1, 3, 4,]\n",
    "my_list"
   ]
  },
  {
   "cell_type": "markdown",
   "metadata": {},
   "source": [
    "You can store whatever you want in a list\n"
   ]
  },
  {
   "cell_type": "code",
   "execution_count": 51,
   "metadata": {},
   "outputs": [],
   "source": [
    "my_list = [str_1, str_2, 0, 5.0]"
   ]
  },
  {
   "cell_type": "code",
   "execution_count": 52,
   "metadata": {},
   "outputs": [],
   "source": [
    "new_list = [my_list, my_list] # list of lists"
   ]
  },
  {
   "cell_type": "markdown",
   "metadata": {},
   "source": [
    "Similarly to strings, the \"+\" operator concatenates two lists"
   ]
  },
  {
   "cell_type": "code",
   "execution_count": null,
   "metadata": {},
   "outputs": [],
   "source": [
    "my_list + my_list"
   ]
  },
  {
   "cell_type": "markdown",
   "metadata": {},
   "source": [
    "Similarly to strings, the \"*\" operator concatenates a list with itself"
   ]
  },
  {
   "cell_type": "code",
   "execution_count": null,
   "metadata": {},
   "outputs": [],
   "source": [
    "my_list * 3"
   ]
  },
  {
   "cell_type": "code",
   "execution_count": null,
   "metadata": {},
   "outputs": [],
   "source": [
    "my_list * 1.5"
   ]
  },
  {
   "cell_type": "markdown",
   "metadata": {},
   "source": [
    "If you want to add two lists as two vectors, do it element-wise (will see it later)"
   ]
  },
  {
   "cell_type": "markdown",
   "metadata": {},
   "source": [
    "dictionaries are defined with ```{key: value}```"
   ]
  },
  {
   "cell_type": "code",
   "execution_count": null,
   "metadata": {},
   "outputs": [],
   "source": [
    "key = 'student_name'\n",
    "value = 'Sebastian Pereira'\n",
    "\n",
    "my_dict = {key: value}\n",
    "my_dict"
   ]
  },
  {
   "cell_type": "code",
   "execution_count": 64,
   "metadata": {},
   "outputs": [],
   "source": [
    "my_dict = { \n",
    "          # key: value  \n",
    "          'student_name': 'Sebastian Pereira',\n",
    "           53: [0.3, 'some_string'],\n",
    "           }"
   ]
  },
  {
   "cell_type": "markdown",
   "metadata": {},
   "source": [
    "You can ask for a value from your dictionary using ```my_dict[key]```"
   ]
  },
  {
   "cell_type": "code",
   "execution_count": null,
   "metadata": {},
   "outputs": [],
   "source": [
    "key = 'student_name'\n",
    "my_dict[key]"
   ]
  },
  {
   "cell_type": "code",
   "execution_count": null,
   "metadata": {},
   "outputs": [],
   "source": [
    "my_dict[53]"
   ]
  },
  {
   "cell_type": "markdown",
   "metadata": {},
   "source": [
    "#### Indexing and slicing\n",
    "- numeration of the elements in python starts with 0"
   ]
  },
  {
   "cell_type": "code",
   "execution_count": null,
   "metadata": {},
   "outputs": [],
   "source": [
    "my_list = [1, 3, 4,]\n",
    "my_list[0]"
   ]
  },
  {
   "cell_type": "markdown",
   "metadata": {},
   "source": [
    "the last element of th list can be asked by -1 index"
   ]
  },
  {
   "cell_type": "code",
   "execution_count": null,
   "metadata": {},
   "outputs": [],
   "source": [
    "my_list[-1]"
   ]
  },
  {
   "cell_type": "markdown",
   "metadata": {},
   "source": [
    "- for slicing use \":\""
   ]
  },
  {
   "cell_type": "code",
   "execution_count": null,
   "metadata": {},
   "outputs": [],
   "source": [
    "my_list[0:3]"
   ]
  },
  {
   "cell_type": "markdown",
   "metadata": {},
   "source": [
    "indexing is a feature of a specific data types (structures)\n",
    "- lists, tuples, string"
   ]
  },
  {
   "cell_type": "code",
   "execution_count": null,
   "metadata": {},
   "outputs": [],
   "source": [
    "val = 1\n",
    "val[0]"
   ]
  },
  {
   "cell_type": "markdown",
   "metadata": {},
   "source": [
    "lists are mutable"
   ]
  },
  {
   "cell_type": "code",
   "execution_count": null,
   "metadata": {},
   "outputs": [],
   "source": [
    "my_list = [7, 12]\n",
    "my_list[0] = -3\n",
    "my_list"
   ]
  },
  {
   "cell_type": "markdown",
   "metadata": {},
   "source": [
    "tuples are similar to lists, but immutable. these are defined with ()"
   ]
  },
  {
   "cell_type": "code",
   "execution_count": 12,
   "metadata": {},
   "outputs": [],
   "source": [
    "my_tuple = (1, 2, 'f')\n"
   ]
  },
  {
   "cell_type": "code",
   "execution_count": 13,
   "metadata": {},
   "outputs": [],
   "source": [
    "new_tuple = (my_tuple, my_tuple) # tuple of tuples\n"
   ]
  },
  {
   "cell_type": "code",
   "execution_count": null,
   "metadata": {},
   "outputs": [],
   "source": [
    "new_tuple[1] = 7.0"
   ]
  },
  {
   "cell_type": "markdown",
   "metadata": {},
   "source": [
    "### Objects and methods\n",
    "\n",
    "Python is an object oriented programming language. There are objects in python. For example, lists and dictionaries are the objects. There are specific methods defined for each type of objects.\n",
    "\n",
    "\n",
    "\"Object-oriented programming (OOP) is a computer programming model that organizes software design around data, or objects, rather than functions and logic. An object can be defined as a data field that has unique attributes and behavior.\"\n",
    "\n",
    "[source](https://www.techtarget.com/searchapparchitecture/definition/object-oriented-programming-OOP)"
   ]
  },
  {
   "cell_type": "code",
   "execution_count": null,
   "metadata": {},
   "outputs": [],
   "source": [
    "my_list = [3, 5, 1, 5, 5, 5] # object\n",
    "\n",
    "my_list.sort() # method\n",
    "\n",
    "my_list\n"
   ]
  },
  {
   "cell_type": "code",
   "execution_count": null,
   "metadata": {},
   "outputs": [],
   "source": [
    "my_list = [3, 5, 1, 5, 5, 5] # object\n",
    " \n",
    "my_list.count(5) # method"
   ]
  },
  {
   "cell_type": "code",
   "execution_count": null,
   "metadata": {},
   "outputs": [],
   "source": [
    "my_list = [3, 5, 1, 5, 5, 5] # object\n",
    " \n",
    "my_list.append(5) # method\n",
    "\n",
    "my_list.count(5) # method"
   ]
  },
  {
   "cell_type": "code",
   "execution_count": null,
   "metadata": {},
   "outputs": [],
   "source": [
    "my_dict = {'Toyota': 'Celica'} # object\n",
    "\n",
    "my_dict.update({'Nissan': 'Skyline'}) # method\n",
    "\n",
    "my_dict"
   ]
  },
  {
   "cell_type": "code",
   "execution_count": 70,
   "metadata": {},
   "outputs": [
    {
     "data": {
      "text/plain": [
       "['10', ' 20', ' 30', ' 40']"
      ]
     },
     "execution_count": 70,
     "metadata": {},
     "output_type": "execute_result"
    }
   ],
   "source": [
    "string = '10, 20, 30, 40' # object\n",
    "string.split(',') # method"
   ]
  },
  {
   "cell_type": "markdown",
   "metadata": {},
   "source": [
    "#### Indentation, errors"
   ]
  },
  {
   "cell_type": "code",
   "execution_count": null,
   "metadata": {},
   "outputs": [],
   "source": [
    "1/0"
   ]
  },
  {
   "cell_type": "markdown",
   "metadata": {},
   "source": [
    "We can handle errors with try/except construction"
   ]
  },
  {
   "cell_type": "code",
   "execution_count": null,
   "metadata": {},
   "outputs": [],
   "source": [
    "try:\n",
    "    1/0 # indentation here\n",
    "except:\n",
    "    print('Error') # function"
   ]
  },
  {
   "cell_type": "markdown",
   "metadata": {},
   "source": [
    "Indentation is used in python to indicate a block of a code (as seen above)\n",
    "- 4 spaces or 1 tabulation"
   ]
  },
  {
   "cell_type": "markdown",
   "metadata": {},
   "source": [
    "#### Functions"
   ]
  },
  {
   "cell_type": "markdown",
   "metadata": {},
   "source": [
    "- A function is a block of code which only runs when it is called.\n",
    "\n",
    "- You can pass data, known as Arguments, into a function.\n",
    "\n",
    "- A function can return single or several objects or variables (or nothing)\n",
    "\n",
    "[Resource link](https://www.w3schools.com/python/python_functions.asp)"
   ]
  },
  {
   "cell_type": "markdown",
   "metadata": {},
   "source": [
    "There are built-in functions in python\n",
    "\n",
    "https://docs.python.org/3/library/functions.html"
   ]
  },
  {
   "cell_type": "code",
   "execution_count": null,
   "metadata": {},
   "outputs": [],
   "source": [
    "print('Hello World!')"
   ]
  },
  {
   "cell_type": "code",
   "execution_count": null,
   "metadata": {},
   "outputs": [],
   "source": [
    "type('Hello World!')\n"
   ]
  },
  {
   "cell_type": "code",
   "execution_count": null,
   "metadata": {},
   "outputs": [],
   "source": [
    "type(print)"
   ]
  },
  {
   "cell_type": "code",
   "execution_count": null,
   "metadata": {},
   "outputs": [],
   "source": [
    "float('-1.0')"
   ]
  },
  {
   "cell_type": "code",
   "execution_count": null,
   "metadata": {},
   "outputs": [],
   "source": [
    "int(float('-1.0'))"
   ]
  },
  {
   "cell_type": "code",
   "execution_count": null,
   "metadata": {},
   "outputs": [],
   "source": [
    "round(-0.14934, 3)"
   ]
  },
  {
   "cell_type": "code",
   "execution_count": null,
   "metadata": {},
   "outputs": [],
   "source": [
    "my_list = [4, 8, 15, 16, 23, 42, 8, 15, 16, 23, 42, 15, 16, 23, 42]\n",
    "len(my_list)"
   ]
  },
  {
   "cell_type": "code",
   "execution_count": null,
   "metadata": {},
   "outputs": [],
   "source": [
    "my_list = [4, 8, 15, 16, 23, 42, 8, 15, 16, 23, 42, 15, 16, 23, 42]\n",
    "\n",
    "sum(my_list)"
   ]
  },
  {
   "cell_type": "code",
   "execution_count": null,
   "metadata": {},
   "outputs": [],
   "source": [
    "my_list = [4, 8, 15, 16, 23, 42, 8, 15, 16, 23, 42, 15, 16, 23, 42]\n",
    "zip(my_list, my_list)"
   ]
  },
  {
   "cell_type": "code",
   "execution_count": null,
   "metadata": {},
   "outputs": [],
   "source": [
    "list(zip(my_list, my_list))"
   ]
  },
  {
   "cell_type": "code",
   "execution_count": null,
   "metadata": {},
   "outputs": [],
   "source": [
    "help(list)"
   ]
  },
  {
   "cell_type": "markdown",
   "metadata": {},
   "source": [
    "- A function is defined using the ```def``` keyword:"
   ]
  },
  {
   "cell_type": "code",
   "execution_count": null,
   "metadata": {},
   "outputs": [],
   "source": [
    "def my_func(arg):\n",
    "    \"\"\"\n",
    "    my first function\n",
    "    \n",
    "    returns a passed number - 1\n",
    "\n",
    "    Params\n",
    "    ------\n",
    "    arg: data_type\n",
    "        a comment about the input parameter\n",
    "\n",
    "    Returns\n",
    "    -------\n",
    "    arg - 1\n",
    "    \"\"\"\n",
    "    \n",
    "    out = arg - 1\n",
    "    return out\n",
    "\n",
    "\n",
    "\n",
    "my_func(-50)"
   ]
  },
  {
   "cell_type": "code",
   "execution_count": 20,
   "metadata": {},
   "outputs": [],
   "source": [
    "def nothing():\n",
    "    \"\"\"\"\n",
    "    this function does nothing\n",
    "    which is achieved by the \"pass\" keyword\n",
    "\n",
    "\n",
    "    the pass statement is used as a placeholder for future code.\n",
    "    then the pass statement is executed, nothing happens, but you avoid getting an error when empty code is not allowed.\n",
    "\n",
    "    \"\"\"\n",
    "    pass\n",
    "\n",
    "nothing()"
   ]
  },
  {
   "cell_type": "markdown",
   "metadata": {},
   "source": [
    "More python keywords\n",
    "\n",
    "https://www.w3schools.com/python/python_ref_keywords.asp\n"
   ]
  },
  {
   "cell_type": "markdown",
   "metadata": {},
   "source": [
    "#### if/else and iterations\n"
   ]
  },
  {
   "cell_type": "markdown",
   "metadata": {},
   "source": [
    "element-wise summation"
   ]
  },
  {
   "cell_type": "code",
   "execution_count": null,
   "metadata": {},
   "outputs": [],
   "source": [
    "list_1 = [0, 1, 2, 3]\n",
    "list_2 = [3, 2, 1, 0]\n",
    "list_sum = []\n",
    "\n",
    "for item_1, item_2 in zip(list_1, list_2):\n",
    "    item_3 = item_1 + item_2\n",
    "    list_sum.append(item_3)\n",
    "list_sum"
   ]
  },
  {
   "cell_type": "code",
   "execution_count": 23,
   "metadata": {},
   "outputs": [],
   "source": [
    "my_list = [4, 8, 15, 16, 23, 42, 8, 15, 16, 23, 42, 15, 16, 23, 42]\n",
    "for element in my_list:\n",
    "    if element == 42:\n",
    "        pass\n",
    "    else:\n",
    "        continue # do nothing but go to the next iteration step"
   ]
  },
  {
   "cell_type": "code",
   "execution_count": null,
   "metadata": {},
   "outputs": [],
   "source": [
    "ids = []\n",
    "my_list = [4, 8, 15, 16, 23, 42, 8, 15, 16, 23, 42, 15, 16, 23, 42]\n",
    "for i, element in enumerate(my_list):\n",
    "    if element == 42:\n",
    "        print(element)\n",
    "        ids.append(i)\n",
    "    else:\n",
    "        continue # do nothing but go to the next iteration step\n"
   ]
  },
  {
   "cell_type": "code",
   "execution_count": null,
   "metadata": {},
   "outputs": [],
   "source": [
    "for index in ids:\n",
    "    print(my_list[index])"
   ]
  },
  {
   "cell_type": "code",
   "execution_count": null,
   "metadata": {},
   "outputs": [],
   "source": [
    "my_list = [4, 8, 15, 16, 23, 42, 8, 15, 16, 23, 42, 15, 16, 23, 42]\n",
    "for i in range(len(my_list)):\n",
    "    element = my_list[i]\n",
    "    if element == 42:\n",
    "        print(i, 'gotcha')\n",
    "    else:\n",
    "        continue # do nothing but go to the next iteration step"
   ]
  },
  {
   "cell_type": "markdown",
   "metadata": {},
   "source": [
    "#### Modules"
   ]
  },
  {
   "cell_type": "markdown",
   "metadata": {},
   "source": [
    "There are modules in Python. Some are installed by default, some are not. You need to import a module before using its methods. Your code always goes after the imports.\n",
    "\n",
    "- to import a module in python use the following construction\n",
    "\n",
    "```python\n",
    "import name_of_the_module\n",
    "```\n",
    "\n",
    "\n",
    "- frequently modules in python consists of several parts (submodules) with a different functionality\n",
    "\n",
    "- sometimes you want to import only a part of the module\n",
    "\n",
    "```python\n",
    "from module.submodule import some_name\n",
    "```\n",
    "\n",
    "\n",
    "\n"
   ]
  },
  {
   "cell_type": "code",
   "execution_count": null,
   "metadata": {},
   "outputs": [],
   "source": [
    "import os # operating system interface\n",
    "\n",
    "# print the current working directory\n",
    "print(os.getcwd())\n",
    "\n"
   ]
  },
  {
   "cell_type": "code",
   "execution_count": null,
   "metadata": {},
   "outputs": [],
   "source": [
    "from os import getcwd \n",
    "\n",
    "# print the current working directory\n",
    "print(getcwd())"
   ]
  },
  {
   "cell_type": "markdown",
   "metadata": {},
   "source": [
    "### Task 1\n",
    "- Write a function that finds a maximum element in a list and returns its index\n"
   ]
  },
  {
   "cell_type": "code",
   "execution_count": 154,
   "metadata": {},
   "outputs": [],
   "source": [
    "def min_id(my_list):\n",
    "    \"\"\"\n",
    "    this function find an inde of the largest number in a list\n",
    "\n",
    "    Params\n",
    "    ------\n",
    "    my_list: list\n",
    "    \n",
    "\n",
    "    Returns\n",
    "    ------\n",
    "    an index of the largest element in a list\n",
    "    \"\"\"\n",
    "\n",
    "    # your code here\n",
    "    pass"
   ]
  },
  {
   "cell_type": "markdown",
   "metadata": {},
   "source": [
    "#### Task 2\n",
    "\n",
    "- Write a function that returns the number of times an element appears in a list\n",
    "\n",
    "- Compare with the count() built-in function"
   ]
  },
  {
   "cell_type": "code",
   "execution_count": null,
   "metadata": {},
   "outputs": [],
   "source": [
    "def count(my_list, element):\n",
    "    \"\"\"\n",
    "    this function returns the number of occurrences of an item in a list.\n",
    "\n",
    "    Params\n",
    "    ------\n",
    "    my_list: list\n",
    "    \n",
    "    element: any data object\n",
    "        an element to count\n",
    "\n",
    "    Returns\n",
    "    ------\n",
    "    the number of occurrences of an item in a list\n",
    "    \"\"\"\n",
    "\n",
    "    # your code here\n",
    "    pass\n",
    "\n",
    "\n",
    "my_list = [4, 8, 15, 16, 23, 42, 8, 15, 16, 23, 42, 15, 16, 23, 42]\n",
    "\n",
    "count(my_list, 8) == my_list.count(8), count(my_list, 0) == my_list.count(0)\n"
   ]
  },
  {
   "cell_type": "markdown",
   "metadata": {},
   "source": [
    "#### Task 3\n",
    "\n",
    "- Write a function that returns a dictionary containing unique elements as keys and their counters as values\n",
    "- Compare your solution with the collections.Counter function"
   ]
  },
  {
   "cell_type": "code",
   "execution_count": 156,
   "metadata": {},
   "outputs": [],
   "source": [
    "from collections import Counter\n",
    "\n",
    "def counter_dict(my_list):\n",
    "\n",
    "    \"\"\"\n",
    "    this function returns a dictionary with the number of occurrences of unique items in a list.\n",
    "\n",
    "    Params\n",
    "    ------\n",
    "    my_list: list\n",
    "    \n",
    "    element: any data object\n",
    "        an element to count\n",
    "\n",
    "    Returns\n",
    "    ------\n",
    "    dictionary with numebr of occurances of unique elements in a list\n",
    "    \n",
    "    \"\"\"\n",
    "    pass\n",
    "\n",
    "my_list = [4, 8, 15, 16, 23, 42, 8, 15, 16, 23, 42, 15, 16, 23, 42]\n"
   ]
  },
  {
   "cell_type": "markdown",
   "metadata": {},
   "source": [
    "#### Important note:\n",
    "In some cases, when you \"link\" two variables, changes to one may affect the other. This corresponds to lists and dicts and other mutable data types."
   ]
  },
  {
   "cell_type": "code",
   "execution_count": null,
   "metadata": {},
   "outputs": [],
   "source": [
    "list_1 = [1, 3, 2]\n",
    "list_2 = list_1 # this is just a new name to the same object in memory\n",
    "list_2.sort()\n",
    "list_1 == list_2"
   ]
  },
  {
   "cell_type": "markdown",
   "metadata": {},
   "source": [
    "To avoid it, you need to \"unlink\" the variables"
   ]
  },
  {
   "cell_type": "code",
   "execution_count": null,
   "metadata": {},
   "outputs": [],
   "source": [
    "list_1 = [1, 3, 2]\n",
    "list_2 = list_1.copy() # create a copy\n",
    "list_2.sort()\n",
    "list_1 == list_2"
   ]
  },
  {
   "cell_type": "markdown",
   "metadata": {},
   "source": [
    "Use [x] * n with immutable x in your list as the resulting list will hold references to the x object."
   ]
  },
  {
   "cell_type": "code",
   "execution_count": null,
   "metadata": {},
   "outputs": [],
   "source": [
    "x = [1, 3]\n",
    "ls = [x]\n",
    "data = ls * 3 \n",
    "data\n"
   ]
  },
  {
   "cell_type": "code",
   "execution_count": null,
   "metadata": {},
   "outputs": [],
   "source": [
    "x[0] = 12\n",
    "data"
   ]
  },
  {
   "cell_type": "markdown",
   "metadata": {},
   "source": [
    "#### Read/Write text file"
   ]
  },
  {
   "cell_type": "code",
   "execution_count": 71,
   "metadata": {},
   "outputs": [
    {
     "name": "stdout",
     "output_type": "stream",
     "text": [
      "x, y\n",
      "\n",
      "10, 12\n",
      "\n",
      "20, 24\n",
      "\n"
     ]
    }
   ],
   "source": [
    "with open('new_file.txt', 'w') as file: #open(file_name, mode)\n",
    "    line = 'x, y\\n' # \\n is used to go to the next line\n",
    "    file.write(line)\n",
    "    line2 = '10, 12\\n'\n",
    "    file.write(line2)\n",
    "    line3 = '20, 24\\n'\n",
    "    file.write(line3)\n",
    "\n",
    "with open('new_file.txt') as file:\n",
    "    text = file.readlines()\n",
    "    for line in text:\n",
    "        print(line)"
   ]
  },
  {
   "cell_type": "markdown",
   "metadata": {},
   "source": [
    "\"r\" - Read - Default value. Opens a file for reading, error if the file does not exist\n",
    "\n",
    "\"a\" - Append - Opens a file for appending, creates the file if it does not exist\n",
    "\n",
    "\"w\" - Write - Opens a file for writing, creates the file if it does not exist\n",
    "\n",
    "\"x\" - Create - Creates the specified file, returns an error if the file exist"
   ]
  },
  {
   "cell_type": "markdown",
   "metadata": {},
   "source": [
    "### Task 4\n",
    "\n",
    "- read file data/measured_data.csv\n",
    "- iterate over lines in the file\n",
    "\n",
    "- collect x,  y variables into lists\n",
    "\n"
   ]
  },
  {
   "cell_type": "markdown",
   "metadata": {},
   "source": [
    "### Numpy\n",
    "\n",
    "\"NumPy is the fundamental package for scientific computing in Python. It is a Python library that provides a multidimensional array object, various derived objects (such as masked arrays and matrices), and an assortment of routines for fast operations on arrays, including mathematical, logical, shape manipulation, sorting, selecting, I/O, discrete Fourier transforms, basic linear algebra, basic statistical operations, random simulation and much more\"\n",
    "\n",
    "[documentation](https://numpy.org/doc/stable/index.html)\n",
    "\n",
    "[beginner's guide](https://numpy.org/doc/stable/user/absolute_beginners.html)\n",
    "\n",
    "[additional resource](https://colab.research.google.com/github/ffund/ml-notebooks/blob/master/notebooks/1-python-numpy-tutorial.ipynb#scrollTo=6d444cd2-9cd7-4b1b-9471-b1f2938019a4)"
   ]
  },
  {
   "cell_type": "markdown",
   "metadata": {},
   "source": [
    "numpy.array"
   ]
  },
  {
   "cell_type": "code",
   "execution_count": 45,
   "metadata": {},
   "outputs": [],
   "source": [
    "# import\n",
    "import numpy as np # np is used for a shorter notation and ease of use"
   ]
  },
  {
   "cell_type": "code",
   "execution_count": null,
   "metadata": {},
   "outputs": [],
   "source": [
    "array = np.array([0, 1, 2, 3, 4]) # one dimensional array (rank 1 array)\n",
    "array"
   ]
  },
  {
   "cell_type": "markdown",
   "metadata": {},
   "source": [
    "shape of an array"
   ]
  },
  {
   "cell_type": "code",
   "execution_count": null,
   "metadata": {},
   "outputs": [],
   "source": [
    "array.shape"
   ]
  },
  {
   "cell_type": "markdown",
   "metadata": {},
   "source": [
    "its dimension"
   ]
  },
  {
   "cell_type": "code",
   "execution_count": null,
   "metadata": {},
   "outputs": [],
   "source": [
    "array.ndim"
   ]
  },
  {
   "cell_type": "code",
   "execution_count": null,
   "metadata": {},
   "outputs": [],
   "source": [
    "array = np.array([[1, 3, 3], [3, 5, 8]])\n",
    "array"
   ]
  },
  {
   "cell_type": "code",
   "execution_count": null,
   "metadata": {},
   "outputs": [],
   "source": [
    "array.shape"
   ]
  },
  {
   "cell_type": "code",
   "execution_count": null,
   "metadata": {},
   "outputs": [],
   "source": [
    "array.ndim"
   ]
  },
  {
   "cell_type": "markdown",
   "metadata": {},
   "source": [
    "slicing and indexing"
   ]
  },
  {
   "cell_type": "code",
   "execution_count": 70,
   "metadata": {},
   "outputs": [],
   "source": [
    "data = np.array([1, 2, 3])"
   ]
  },
  {
   "cell_type": "code",
   "execution_count": null,
   "metadata": {},
   "outputs": [],
   "source": [
    "# first element of an array\n",
    "data[0]"
   ]
  },
  {
   "cell_type": "code",
   "execution_count": null,
   "metadata": {},
   "outputs": [],
   "source": [
    "# slice of an array\n",
    "data[0:2]"
   ]
  },
  {
   "cell_type": "markdown",
   "metadata": {},
   "source": [
    "![bg](https://numpy.org/doc/stable/_images/np_indexing.png)"
   ]
  },
  {
   "cell_type": "markdown",
   "metadata": {},
   "source": [
    "arrays are mutable similarly to lists"
   ]
  },
  {
   "cell_type": "code",
   "execution_count": null,
   "metadata": {},
   "outputs": [],
   "source": [
    "data = np.array([9, 0, 1])\n",
    "data[1] = 1\n",
    "data"
   ]
  },
  {
   "cell_type": "markdown",
   "metadata": {},
   "source": [
    "select a subset of arrays that fulfills a specified conditions"
   ]
  },
  {
   "cell_type": "code",
   "execution_count": null,
   "metadata": {},
   "outputs": [],
   "source": [
    "data = np.array([i for i in range(10)])\n",
    "data"
   ]
  },
  {
   "cell_type": "code",
   "execution_count": null,
   "metadata": {},
   "outputs": [],
   "source": [
    "data[data < 5]"
   ]
  },
  {
   "cell_type": "markdown",
   "metadata": {},
   "source": [
    "stacking"
   ]
  },
  {
   "cell_type": "code",
   "execution_count": null,
   "metadata": {},
   "outputs": [],
   "source": [
    "a = np.array([1, 2, 3])\n",
    "b = np.array([4, 5, 6])\n",
    "np.hstack([a, b]) # horizontal stacking"
   ]
  },
  {
   "cell_type": "code",
   "execution_count": null,
   "metadata": {},
   "outputs": [],
   "source": [
    "np.vstack([a, b]) # vertical stacking"
   ]
  },
  {
   "cell_type": "markdown",
   "metadata": {},
   "source": [
    "add element(s)"
   ]
  },
  {
   "cell_type": "code",
   "execution_count": null,
   "metadata": {},
   "outputs": [],
   "source": [
    "a = np.array([1, 2])\n",
    "np.concatenate((a, [1, 3, 10]))"
   ]
  },
  {
   "cell_type": "markdown",
   "metadata": {},
   "source": [
    "reshaping"
   ]
  },
  {
   "cell_type": "code",
   "execution_count": null,
   "metadata": {},
   "outputs": [],
   "source": [
    "data = np.array([1, 2, 3, 4])\n",
    "data.reshape(2, 2)"
   ]
  },
  {
   "cell_type": "code",
   "execution_count": null,
   "metadata": {},
   "outputs": [],
   "source": [
    "data.reshape(2, 4)"
   ]
  },
  {
   "cell_type": "markdown",
   "metadata": {},
   "source": [
    "creating basic arrays "
   ]
  },
  {
   "cell_type": "code",
   "execution_count": null,
   "metadata": {},
   "outputs": [],
   "source": [
    "ones = np.ones(8)\n",
    "ones"
   ]
  },
  {
   "cell_type": "code",
   "execution_count": null,
   "metadata": {},
   "outputs": [],
   "source": [
    "zeros = np.zeros(8)\n",
    "zeros"
   ]
  },
  {
   "cell_type": "code",
   "execution_count": null,
   "metadata": {},
   "outputs": [],
   "source": [
    "integer_sequence = np.arange(5, 18, 3)\n",
    "integer_sequence"
   ]
  },
  {
   "cell_type": "code",
   "execution_count": null,
   "metadata": {},
   "outputs": [],
   "source": [
    "np.linspace(0, 10, 50) # linearly spaced values"
   ]
  },
  {
   "cell_type": "markdown",
   "metadata": {},
   "source": [
    "basic operations with numpy arrays"
   ]
  },
  {
   "cell_type": "code",
   "execution_count": 320,
   "metadata": {},
   "outputs": [],
   "source": [
    "a = np.ones(3)\n",
    "b = np.ones(3) * 5 # broadcasting\n",
    "b[-1] = 0.3"
   ]
  },
  {
   "cell_type": "markdown",
   "metadata": {},
   "source": [
    "![bg](https://numpy.org/doc/stable/_images/np_multiply_broadcasting.png)"
   ]
  },
  {
   "cell_type": "code",
   "execution_count": null,
   "metadata": {},
   "outputs": [],
   "source": [
    "a + b"
   ]
  },
  {
   "cell_type": "code",
   "execution_count": null,
   "metadata": {},
   "outputs": [],
   "source": [
    "a * b"
   ]
  },
  {
   "cell_type": "code",
   "execution_count": null,
   "metadata": {},
   "outputs": [],
   "source": [
    "a / b"
   ]
  },
  {
   "cell_type": "code",
   "execution_count": null,
   "metadata": {},
   "outputs": [],
   "source": [
    "a[0] = 0 \n",
    "b / a "
   ]
  },
  {
   "cell_type": "markdown",
   "metadata": {},
   "source": [
    "sorting"
   ]
  },
  {
   "cell_type": "code",
   "execution_count": null,
   "metadata": {},
   "outputs": [],
   "source": [
    "a = [5, 3, 8, 6, 1, 0]\n",
    "np.array(a)"
   ]
  },
  {
   "cell_type": "code",
   "execution_count": null,
   "metadata": {},
   "outputs": [],
   "source": [
    "a.sort()\n",
    "a"
   ]
  },
  {
   "cell_type": "markdown",
   "metadata": {},
   "source": [
    "useful operations"
   ]
  },
  {
   "cell_type": "code",
   "execution_count": 144,
   "metadata": {},
   "outputs": [],
   "source": [
    "data = np.array([0, 4, 6, 9, 2, 4])"
   ]
  },
  {
   "cell_type": "code",
   "execution_count": null,
   "metadata": {},
   "outputs": [],
   "source": [
    "data.min()"
   ]
  },
  {
   "cell_type": "code",
   "execution_count": null,
   "metadata": {},
   "outputs": [],
   "source": [
    "data.max()"
   ]
  },
  {
   "cell_type": "code",
   "execution_count": null,
   "metadata": {},
   "outputs": [],
   "source": [
    "data.mean()"
   ]
  },
  {
   "cell_type": "code",
   "execution_count": null,
   "metadata": {},
   "outputs": [],
   "source": [
    "data.sum()"
   ]
  },
  {
   "cell_type": "code",
   "execution_count": 188,
   "metadata": {},
   "outputs": [],
   "source": [
    "data = np.array([[1, 2], [5, 3], [4, 6]])"
   ]
  },
  {
   "cell_type": "code",
   "execution_count": null,
   "metadata": {},
   "outputs": [],
   "source": [
    "data.max(axis = 0)"
   ]
  },
  {
   "cell_type": "markdown",
   "metadata": {},
   "source": [
    "![bg](https://numpy.org/doc/stable/_images/np_matrix_aggregation_row.png)"
   ]
  },
  {
   "cell_type": "code",
   "execution_count": null,
   "metadata": {},
   "outputs": [],
   "source": [
    "data.max(axis = 1)"
   ]
  },
  {
   "cell_type": "markdown",
   "metadata": {},
   "source": [
    "operations with matrices and vectors"
   ]
  },
  {
   "cell_type": "code",
   "execution_count": 336,
   "metadata": {},
   "outputs": [],
   "source": [
    "I = np.identity(3)\n",
    "M = np.array([[2, 3, 1], [1, 0, 1], [0, 0, 1]])\n",
    "\n"
   ]
  },
  {
   "cell_type": "code",
   "execution_count": null,
   "metadata": {},
   "outputs": [],
   "source": [
    "# element-wise multiplication\n",
    "I * M"
   ]
  },
  {
   "cell_type": "code",
   "execution_count": null,
   "metadata": {},
   "outputs": [],
   "source": [
    "np.multiply(I, M) # same thing"
   ]
  },
  {
   "cell_type": "code",
   "execution_count": null,
   "metadata": {},
   "outputs": [],
   "source": [
    "# dot product\n",
    "np.dot(I, M)"
   ]
  },
  {
   "cell_type": "code",
   "execution_count": null,
   "metadata": {},
   "outputs": [],
   "source": [
    "I @ M # same thing"
   ]
  },
  {
   "cell_type": "code",
   "execution_count": null,
   "metadata": {},
   "outputs": [],
   "source": [
    "vector = np.array([1, 0, 2])\n",
    "np.dot(vector, M)"
   ]
  },
  {
   "cell_type": "code",
   "execution_count": null,
   "metadata": {},
   "outputs": [],
   "source": [
    "np.dot(M, vector) # note the difference, order matters"
   ]
  },
  {
   "cell_type": "code",
   "execution_count": null,
   "metadata": {},
   "outputs": [],
   "source": [
    "# cross product of two vectors\n",
    "v1 = np.array([1, 2, 3])\n",
    "v2 = np.array([2, 1, 1])\n",
    "np.cross(v1, v2)"
   ]
  },
  {
   "cell_type": "code",
   "execution_count": null,
   "metadata": {},
   "outputs": [],
   "source": [
    "# transpose \n",
    "M.T"
   ]
  },
  {
   "cell_type": "markdown",
   "metadata": {},
   "source": [
    "```np.linalg``` is used for linear algebra operations"
   ]
  },
  {
   "cell_type": "code",
   "execution_count": null,
   "metadata": {},
   "outputs": [],
   "source": [
    "# inverse matrix\n",
    "np.linalg.inv(M)"
   ]
  },
  {
   "cell_type": "code",
   "execution_count": null,
   "metadata": {},
   "outputs": [],
   "source": [
    "v = np.array([0, 4, 8])\n",
    "np.linalg.norm(v) # norm of a vector"
   ]
  },
  {
   "cell_type": "code",
   "execution_count": null,
   "metadata": {},
   "outputs": [],
   "source": [
    "np.linalg.norm(M, axis = 1) # norm along the axis"
   ]
  },
  {
   "cell_type": "markdown",
   "metadata": {},
   "source": [
    "### Task 5: Volume of a parallelepiped\n",
    "\n",
    "Write a function that calculates a volume of the parallepiped determined by three vectors\n",
    "\n",
    "Hint: Mixed dot product"
   ]
  },
  {
   "cell_type": "code",
   "execution_count": 350,
   "metadata": {},
   "outputs": [],
   "source": [
    "def volume(v1, v2, v3):\n",
    "    \"\"\"\n",
    "    This function calculates volume of \n",
    "    the parallepiped determined by three vectors\n",
    "\n",
    "    Prameters\n",
    "    --------\n",
    "    v1: np.array\n",
    "    v2: np.array\n",
    "    v3: np.array\n",
    "\n",
    "    Returns\n",
    "    -------\n",
    "    volume of a parallelepiped\n",
    "\n",
    "    \"\"\"\n",
    "\n",
    "\n",
    "    pass"
   ]
  },
  {
   "cell_type": "markdown",
   "metadata": {},
   "source": [
    "### Matplotlib\n",
    "\"Matplotlib is a comprehensive library for creating static, animated, and interactive visualizations in Python. Matplotlib makes easy things easy and hard things possible.\"\n",
    "[documentation](https://matplotlib.org/)"
   ]
  },
  {
   "cell_type": "code",
   "execution_count": 351,
   "metadata": {},
   "outputs": [],
   "source": [
    "import matplotlib.pyplot as plt"
   ]
  },
  {
   "cell_type": "markdown",
   "metadata": {},
   "source": [
    "basic plot"
   ]
  },
  {
   "cell_type": "code",
   "execution_count": null,
   "metadata": {},
   "outputs": [],
   "source": [
    "x = np.linspace(0, 10, 20)\n",
    "y = np.sin(x)\n",
    "\n",
    "plt.plot(x, y)"
   ]
  },
  {
   "cell_type": "markdown",
   "metadata": {},
   "source": [
    "subplots (provides more flexibility)"
   ]
  },
  {
   "cell_type": "code",
   "execution_count": null,
   "metadata": {},
   "outputs": [],
   "source": [
    "fig, ax = plt.subplots() # create figure and axis\n",
    "\n",
    "ax.plot(x, y)\n",
    "ax.plot(x, y/2)\n",
    "ax.plot(x, y/4)\n",
    "ax.plot(x, y/8)"
   ]
  },
  {
   "cell_type": "code",
   "execution_count": null,
   "metadata": {},
   "outputs": [],
   "source": [
    "fig, (ax1, ax2) = plt.subplots(dpi = 150, ncols = 2, figsize = (6, 3)) # figure with 150 dpi resolution, 2 horizontal subplots\n",
    "\n",
    "ax1.plot(x, y)\n",
    "ax2.plot(x, -y)\n"
   ]
  },
  {
   "cell_type": "code",
   "execution_count": null,
   "metadata": {},
   "outputs": [],
   "source": [
    "fig, axes = plt.subplots(dpi = 150, ncols = 2, figsize = (6, 3)) # same thing\n",
    "\n",
    "axes[0].plot(x, y)\n",
    "axes[1].plot(x, -y)\n"
   ]
  },
  {
   "cell_type": "markdown",
   "metadata": {},
   "source": [
    "plot adjustments and annotation"
   ]
  },
  {
   "cell_type": "code",
   "execution_count": null,
   "metadata": {},
   "outputs": [],
   "source": [
    "fig, ax = plt.subplots(dpi = 150, ncols = 1, figsize = (6, 2)) \n",
    "\n",
    "ax.plot(x, y, label = 'sin(x)')\n",
    "ax.set_xlabel('x label')\n",
    "ax.set_ylabel('y label')\n",
    "ax.set_title('y = sin(x)')\n",
    "ax.grid()\n",
    "\n",
    "ax.set_xlim(0, 10)\n",
    "ax.set_ylim(-1, 1)\n",
    "ax.legend()\n"
   ]
  },
  {
   "cell_type": "markdown",
   "metadata": {},
   "source": [
    "plot a histogram"
   ]
  },
  {
   "cell_type": "code",
   "execution_count": null,
   "metadata": {},
   "outputs": [],
   "source": [
    "x = np.random.normal(size = 10000, loc = 0.5, scale = 0.1) # Draw random samples from a normal (Gaussian) distribution\n",
    "\n",
    "fig, ax = plt.subplots(dpi = 150)\n",
    "_ = ax.hist(x, bins = 100)\n",
    "\n",
    "ax.set_title('normal distribution')\n",
    "ax.set_xlabel('x label')\n",
    "ax.set_ylabel('Count')"
   ]
  },
  {
   "cell_type": "markdown",
   "metadata": {},
   "source": [
    "plot a scatter plot"
   ]
  },
  {
   "cell_type": "code",
   "execution_count": null,
   "metadata": {},
   "outputs": [],
   "source": [
    "x = np.random.normal(size = 10000, loc = 0.5, scale = 0.1) # Draw random samples from a normal (Gaussian) distribution\n",
    "y = np.random.normal(size = 10000, loc = 0.5, scale = 0.1) # Draw random samples from a normal (Gaussian) distribution\n",
    "colors = np.linspace(0, 1, len(x))\n",
    "\n",
    "fig, ax = plt.subplots(dpi = 200, figsize = (3, 3))\n",
    "ax.scatter(x, y, s = 10, marker = 'x', alpha = 0.5, c = colors)\n",
    "\n",
    "ax.set_xlabel('x label')\n",
    "ax.set_ylabel('y label')\n",
    "\n",
    "plt.tight_layout()"
   ]
  },
  {
   "cell_type": "markdown",
   "metadata": {},
   "source": [
    "### Pandas\n",
    "\"pandas is a fast, powerful, flexible and easy to use open source data analysis and manipulation tool,\n",
    "built on top of the Python programming language.\"\n",
    "\n",
    "[documentation](https://pandas.pydata.org/docs/)\n",
    "[getting started](https://pandas.pydata.org/docs/getting_started/index.html#getting-started)"
   ]
  },
  {
   "cell_type": "code",
   "execution_count": 354,
   "metadata": {},
   "outputs": [],
   "source": [
    "import pandas as pd # pd is used for a shorter notation and ease of use"
   ]
  },
  {
   "cell_type": "markdown",
   "metadata": {},
   "source": [
    "Pandas DataFrame is the main object of manipulation. Think of it as a table.\n",
    "\n",
    "![bg](https://pandas.pydata.org/docs/_images/01_table_dataframe.svg)"
   ]
  },
  {
   "cell_type": "markdown",
   "metadata": {},
   "source": [
    "create a DataFrame"
   ]
  },
  {
   "cell_type": "code",
   "execution_count": null,
   "metadata": {},
   "outputs": [],
   "source": [
    "first_names = ['John', 'Ivan', 'Stan']\n",
    "df = pd.DataFrame(data = first_names, columns = ['first_name'])\n",
    "df"
   ]
  },
  {
   "cell_type": "markdown",
   "metadata": {},
   "source": [
    "add column"
   ]
  },
  {
   "cell_type": "code",
   "execution_count": 356,
   "metadata": {},
   "outputs": [],
   "source": [
    "second_names = ['Doe', 'Ivanov', 'Smith']\n",
    "df['second_name'] = second_names"
   ]
  },
  {
   "cell_type": "code",
   "execution_count": null,
   "metadata": {},
   "outputs": [],
   "source": [
    "df"
   ]
  },
  {
   "cell_type": "markdown",
   "metadata": {},
   "source": [
    "concatenate two dataframes"
   ]
  },
  {
   "cell_type": "code",
   "execution_count": 358,
   "metadata": {},
   "outputs": [],
   "source": [
    "df_new = pd.concat([df, df])"
   ]
  },
  {
   "cell_type": "markdown",
   "metadata": {},
   "source": [
    "get column names "
   ]
  },
  {
   "cell_type": "code",
   "execution_count": null,
   "metadata": {},
   "outputs": [],
   "source": [
    "df_new.columns"
   ]
  },
  {
   "cell_type": "markdown",
   "metadata": {},
   "source": [
    "query column elements"
   ]
  },
  {
   "cell_type": "code",
   "execution_count": null,
   "metadata": {},
   "outputs": [],
   "source": [
    "df_new['first_name']"
   ]
  },
  {
   "cell_type": "markdown",
   "metadata": {},
   "source": [
    "query raw elements by integer index (similarly to the slicing of numpy arrays)"
   ]
  },
  {
   "cell_type": "code",
   "execution_count": null,
   "metadata": {},
   "outputs": [],
   "source": [
    "df_new.iloc[1]"
   ]
  },
  {
   "cell_type": "markdown",
   "metadata": {},
   "source": [
    "query raw elements by index label"
   ]
  },
  {
   "cell_type": "code",
   "execution_count": null,
   "metadata": {},
   "outputs": [],
   "source": [
    "df_new.loc[1]"
   ]
  },
  {
   "cell_type": "markdown",
   "metadata": {},
   "source": [
    "reset index labels"
   ]
  },
  {
   "cell_type": "code",
   "execution_count": null,
   "metadata": {},
   "outputs": [],
   "source": [
    "df_new.reset_index(drop = True)"
   ]
  },
  {
   "cell_type": "markdown",
   "metadata": {},
   "source": [
    "get info about the dataframe"
   ]
  },
  {
   "cell_type": "code",
   "execution_count": null,
   "metadata": {},
   "outputs": [],
   "source": [
    "df_new.info()"
   ]
  },
  {
   "cell_type": "markdown",
   "metadata": {},
   "source": [
    "reading data with pandas"
   ]
  },
  {
   "cell_type": "markdown",
   "metadata": {},
   "source": [
    "![bg](https://pandas.pydata.org/docs/_images/02_io_readwrite.svg)"
   ]
  },
  {
   "cell_type": "markdown",
   "metadata": {},
   "source": [
    "read .csv file"
   ]
  },
  {
   "cell_type": "code",
   "execution_count": 395,
   "metadata": {},
   "outputs": [],
   "source": [
    "data1 = pd.read_csv('data/bandgap_data_Na-P-S.csv')\n",
    "data2 = pd.read_csv('data/energy_per_atom_data_Na-P-S.csv')"
   ]
  },
  {
   "cell_type": "code",
   "execution_count": null,
   "metadata": {},
   "outputs": [],
   "source": [
    "data1.head(5) # show first 5 entries"
   ]
  },
  {
   "cell_type": "code",
   "execution_count": null,
   "metadata": {},
   "outputs": [],
   "source": [
    "data1.tail(5) # show last 5 entries"
   ]
  },
  {
   "cell_type": "code",
   "execution_count": null,
   "metadata": {},
   "outputs": [],
   "source": [
    "data2.head(5)"
   ]
  },
  {
   "cell_type": "markdown",
   "metadata": {},
   "source": [
    "merge two tables"
   ]
  },
  {
   "cell_type": "code",
   "execution_count": 408,
   "metadata": {},
   "outputs": [],
   "source": [
    "data = data1.merge(data2)"
   ]
  },
  {
   "cell_type": "code",
   "execution_count": null,
   "metadata": {},
   "outputs": [],
   "source": [
    "data"
   ]
  },
  {
   "cell_type": "markdown",
   "metadata": {},
   "source": [
    "sort table by a given column"
   ]
  },
  {
   "cell_type": "code",
   "execution_count": null,
   "metadata": {},
   "outputs": [],
   "source": [
    "data_sorted = data.sort_values(by = 'energy_per_atom')\n",
    "data_sorted"
   ]
  },
  {
   "cell_type": "markdown",
   "metadata": {},
   "source": [
    "group data by some column and apply some operation to the resulting groups"
   ]
  },
  {
   "cell_type": "code",
   "execution_count": null,
   "metadata": {},
   "outputs": [],
   "source": [
    "data_grouped = data_sorted.groupby('formula_pretty').first()\n",
    "data_grouped"
   ]
  },
  {
   "cell_type": "code",
   "execution_count": 428,
   "metadata": {},
   "outputs": [],
   "source": [
    "data_grouped = data_grouped.reset_index()"
   ]
  },
  {
   "cell_type": "code",
   "execution_count": null,
   "metadata": {},
   "outputs": [],
   "source": [
    "data_grouped"
   ]
  },
  {
   "cell_type": "markdown",
   "metadata": {},
   "source": [
    "get subsample"
   ]
  },
  {
   "cell_type": "code",
   "execution_count": null,
   "metadata": {},
   "outputs": [],
   "source": [
    "data_grouped[data_grouped['chemsys'] == 'Na-P']"
   ]
  },
  {
   "cell_type": "markdown",
   "metadata": {},
   "source": [
    "save the table"
   ]
  },
  {
   "cell_type": "code",
   "execution_count": 443,
   "metadata": {},
   "outputs": [],
   "source": [
    "# data_grouped.to_csv('data/data.csv', index = False)"
   ]
  },
  {
   "cell_type": "markdown",
   "metadata": {},
   "source": [
    "### Task 6:\n",
    "- Plot the distribution of band gap values ​​for the materials of the Na-P-S chemical system presented in the table\n",
    "- Plot the bandgap vs. energy_per_atoms scatterp for materials with the band gap > 0.5\n",
    "\n"
   ]
  },
  {
   "cell_type": "markdown",
   "metadata": {},
   "source": [
    "### Scipy\n",
    "\"SciPy provides algorithms for optimization, integration, interpolation, eigenvalue problems, algebraic equations, differential equations, statistics and many other classes of problems.\"\n",
    "\n",
    "[documentation](https://docs.scipy.org/doc/scipy/)"
   ]
  },
  {
   "cell_type": "code",
   "execution_count": null,
   "metadata": {},
   "outputs": [],
   "source": [
    "import matplotlib.pyplot as plt\n",
    "import numpy as np\n",
    "from pandas import pandas\n",
    "\n",
    "from scipy.stats import linregress\n",
    "from scipy.optimize import curve_fit    \n",
    "\n",
    "\n",
    "\n",
    "def noise(x, mean = 0.0, std = 2500.0):\n",
    "    y = np.random.normal(size = len(x), loc = mean, scale = std)\n",
    "    return y\n",
    "\n",
    "\n",
    "def parabola(x, a0 = -5.0, a1 = 100.0, a2 = 13.4):\n",
    "    return a0 + a1 * x + a2 * x**2\n",
    "\n",
    "\n",
    "\n",
    "\n",
    "plt.rcParams.update({'font.size': 10})\n",
    "fig, (ax1, ax2) = plt.subplots(dpi = 300, figsize = (6, 3), ncols = 2)\n",
    "\n",
    "x = np.linspace(-50, 50, 200)\n",
    "y = parabola(x) + noise(x)\n",
    "\n",
    "ax1.scatter(x, y, marker = 'o', label = 'measured', s = 3, alpha = 0.5)\n",
    "ax1.plot(x, parabola(x), label = 'ideal', alpha = 0.5)\n",
    "\n",
    "\n",
    "popt, pcov = curve_fit(parabola, x, y)\n",
    "\n",
    "y_fit = parabola(x, *popt)\n",
    "ax1.plot(x, y_fit, label = 'fit')\n",
    "\n",
    "_ = ax2.hist(y - y_fit, bins = 20)\n",
    "\n",
    "ax2.set_xlabel('Err')\n",
    "ax2.set_ylabel('Count')\n",
    "\n",
    "std = (y - y_fit).std()\n",
    "\n",
    "\n",
    "ax1.fill_between(x, y_fit - std, y_fit + std, alpha = 0.25, color = 'darkred', label = '1 sigma')\n",
    "ax1.set_xlabel('x')\n",
    "ax1.set_ylabel('y')\n",
    "ax1.legend()\n",
    "plt.tight_layout()\n"
   ]
  },
  {
   "cell_type": "markdown",
   "metadata": {},
   "source": [
    "### About solving your homework\n",
    "Don't know how to solve the problem? \n",
    "\n",
    "- Use Google, ask stackoverflow\n",
    "\n",
    "Don't understand a bug/error in your code?\n",
    "\n",
    "- Use Google, ask stackoverflow\n",
    "\n",
    "Still having problems?\n",
    "\n",
    "- Ask a TA"
   ]
  }
 ],
 "metadata": {
  "kernelspec": {
   "display_name": "Python 3 (ipykernel)",
   "language": "python",
   "name": "python3"
  },
  "language_info": {
   "codemirror_mode": {
    "name": "ipython",
    "version": 3
   },
   "file_extension": ".py",
   "mimetype": "text/x-python",
   "name": "python",
   "nbconvert_exporter": "python",
   "pygments_lexer": "ipython3",
   "version": "3.8.8"
  }
 },
 "nbformat": 4,
 "nbformat_minor": 4
}
