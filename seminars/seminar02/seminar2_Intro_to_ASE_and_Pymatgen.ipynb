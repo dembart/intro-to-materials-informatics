{
 "cells": [
  {
   "cell_type": "markdown",
   "metadata": {},
   "source": [
    "### Seminar #2. Python for atomistic modeling and analysis\n",
    "\n",
    "#### Goals\n",
    "- Learn basics of ASE and Pymatgen\n",
    "\n",
    "\n",
    "#### Agenda\n",
    "- Structure file formats\n",
    "- Intro to ASE\n",
    "- Intro to Pymatgen\n",
    "- Nearest neighbors list\n"
   ]
  },
  {
   "cell_type": "code",
   "execution_count": 1,
   "metadata": {},
   "outputs": [],
   "source": [
    "import pandas as pd \n",
    "import numpy as np \n",
    "import matplotlib.pyplot as plt"
   ]
  },
  {
   "cell_type": "markdown",
   "metadata": {},
   "source": [
    "### ASE: Intro\n",
    "documentation: https://wiki.fysik.dtu.dk/ase/index.html"
   ]
  },
  {
   "cell_type": "markdown",
   "metadata": {},
   "source": [
    "read .cif file"
   ]
  },
  {
   "cell_type": "code",
   "execution_count": 2,
   "metadata": {},
   "outputs": [
    {
     "data": {
      "text/plain": [
       "Atoms(symbols='Li4I4', pbc=True, cell=[5.96835483, 5.96835483, 5.96835483], spacegroup_kinds=...)"
      ]
     },
     "execution_count": 2,
     "metadata": {},
     "output_type": "execute_result"
    }
   ],
   "source": [
    "from ase.io import read\n",
    "\n",
    "atoms = read('data/LiI.cif')\n",
    "atoms # Atoms's object"
   ]
  },
  {
   "cell_type": "markdown",
   "metadata": {},
   "source": [
    "#### Crystalographic information file (.cif)\n",
    "- used to share the crystal structure representations\n",
    "- minimum information:\n",
    "    - space group\n",
    "    - unit cell parameters\n",
    "    - fractional coordinates of atoms\n",
    "- additional informations:\n",
    "    - symmetry operations\n",
    "    - oxidation states\n",
    "    - anything you need\n",
    "    - anything you want"
   ]
  },
  {
   "cell_type": "code",
   "execution_count": 3,
   "metadata": {},
   "outputs": [
    {
     "data": {
      "text/plain": [
       "\"\\n# generated using pymatgen\\ndata_LiBr\\n_symmetry_space_group_name_H-M   Fm-3m\\n_cell_length_a   5.44538116\\n_cell_length_b   5.44538116\\n_cell_length_c   5.44538116\\n_cell_angle_alpha   90.00000000\\n_cell_angle_beta   90.00000000\\n_cell_angle_gamma   90.00000000\\n_symmetry_Int_Tables_number   225\\n_chemical_formula_structural   LiBr\\n_chemical_formula_sum   'Li4 Br4'\\n_cell_volume   161.46740039\\n_cell_formula_units_Z   4\\nloop_\\n _symmetry_equiv_pos_site_id\\n _symmetry_equiv_pos_as_xyz\\n  1  'x, y, z'\\n  2  '-x, -y, -z'\\n  3  '-y, x, z'\\n  4  'y, -x, -z'\\n  5  '-x, -y, z'\\n  6  'x, y, -z'\\n  7  'y, -x, z'\\n  8  '-y, x, -z'\\n  9  'x, -y, -z'\\n  10  '-x, y, z'\\n  11  '-y, -x, -z'\\n  12  'y, x, z'\\n  13  '-x, y, -z'\\n  14  'x, -y, z'\\n  15  'y, x, -z'\\n  16  '-y, -x, z'\\n  17  'z, x, y'\\n  18  '-z, -x, -y'\\n  19  'z, -y, x'\\n  20  '-z, y, -x'\\n  21  'z, -x, -y'\\n  22  '-z, x, y'\\n  23  'z, y, -x'\\n  24  '-z, -y, x'\\n  25  '-z, x, -y'\\n  26  'z, -x, y'\\n  27  '-z, -y, -x'\\n  28  'z, y, x'\\n  29  '-z, -x, y'\\n  30  'z, x, -y'\\n  31  '-z, y, x'\\n  32  'z, -y, -x'\\n  33  'y, z, x'\\n  34  '-y, -z, -x'\\n  35  'x, z, -y'\\n  36  '-x, -z, y'\\n  37  '-y, z, -x'\\n  38  'y, -z, x'\\n  39  '-x, z, y'\\n  40  'x, -z, -y'\\n  41  '-y, -z, x'\\n  42  'y, z, -x'\\n  43  '-x, -z, -y'\\n  44  'x, z, y'\\n  45  'y, -z, -x'\\n  46  '-y, z, x'\\n  47  'x, -z, y'\\n  48  '-x, z, -y'\\n  49  'x+1/2, y+1/2, z'\\n  50  '-x+1/2, -y+1/2, -z'\\n  51  '-y+1/2, x+1/2, z'\\n  52  'y+1/2, -x+1/2, -z'\\n  53  '-x+1/2, -y+1/2, z'\\n  54  'x+1/2, y+1/2, -z'\\n  55  'y+1/2, -x+1/2, z'\\n  56  '-y+1/2, x+1/2, -z'\\n  57  'x+1/2, -y+1/2, -z'\\n  58  '-x+1/2, y+1/2, z'\\n  59  '-y+1/2, -x+1/2, -z'\\n  60  'y+1/2, x+1/2, z'\\n  61  '-x+1/2, y+1/2, -z'\\n  62  'x+1/2, -y+1/2, z'\\n  63  'y+1/2, x+1/2, -z'\\n  64  '-y+1/2, -x+1/2, z'\\n  65  'z+1/2, x+1/2, y'\\n  66  '-z+1/2, -x+1/2, -y'\\n  67  'z+1/2, -y+1/2, x'\\n  68  '-z+1/2, y+1/2, -x'\\n  69  'z+1/2, -x+1/2, -y'\\n  70  '-z+1/2, x+1/2, y'\\n  71  'z+1/2, y+1/2, -x'\\n  72  '-z+1/2, -y+1/2, x'\\n  73  '-z+1/2, x+1/2, -y'\\n  74  'z+1/2, -x+1/2, y'\\n  75  '-z+1/2, -y+1/2, -x'\\n  76  'z+1/2, y+1/2, x'\\n  77  '-z+1/2, -x+1/2, y'\\n  78  'z+1/2, x+1/2, -y'\\n  79  '-z+1/2, y+1/2, x'\\n  80  'z+1/2, -y+1/2, -x'\\n  81  'y+1/2, z+1/2, x'\\n  82  '-y+1/2, -z+1/2, -x'\\n  83  'x+1/2, z+1/2, -y'\\n  84  '-x+1/2, -z+1/2, y'\\n  85  '-y+1/2, z+1/2, -x'\\n  86  'y+1/2, -z+1/2, x'\\n  87  '-x+1/2, z+1/2, y'\\n  88  'x+1/2, -z+1/2, -y'\\n  89  '-y+1/2, -z+1/2, x'\\n  90  'y+1/2, z+1/2, -x'\\n  91  '-x+1/2, -z+1/2, -y'\\n  92  'x+1/2, z+1/2, y'\\n  93  'y+1/2, -z+1/2, -x'\\n  94  '-y+1/2, z+1/2, x'\\n  95  'x+1/2, -z+1/2, y'\\n  96  '-x+1/2, z+1/2, -y'\\n  97  'x+1/2, y, z+1/2'\\n  98  '-x+1/2, -y, -z+1/2'\\n  99  '-y+1/2, x, z+1/2'\\n  100  'y+1/2, -x, -z+1/2'\\n  101  '-x+1/2, -y, z+1/2'\\n  102  'x+1/2, y, -z+1/2'\\n  103  'y+1/2, -x, z+1/2'\\n  104  '-y+1/2, x, -z+1/2'\\n  105  'x+1/2, -y, -z+1/2'\\n  106  '-x+1/2, y, z+1/2'\\n  107  '-y+1/2, -x, -z+1/2'\\n  108  'y+1/2, x, z+1/2'\\n  109  '-x+1/2, y, -z+1/2'\\n  110  'x+1/2, -y, z+1/2'\\n  111  'y+1/2, x, -z+1/2'\\n  112  '-y+1/2, -x, z+1/2'\\n  113  'z+1/2, x, y+1/2'\\n  114  '-z+1/2, -x, -y+1/2'\\n  115  'z+1/2, -y, x+1/2'\\n  116  '-z+1/2, y, -x+1/2'\\n  117  'z+1/2, -x, -y+1/2'\\n  118  '-z+1/2, x, y+1/2'\\n  119  'z+1/2, y, -x+1/2'\\n  120  '-z+1/2, -y, x+1/2'\\n  121  '-z+1/2, x, -y+1/2'\\n  122  'z+1/2, -x, y+1/2'\\n  123  '-z+1/2, -y, -x+1/2'\\n  124  'z+1/2, y, x+1/2'\\n  125  '-z+1/2, -x, y+1/2'\\n  126  'z+1/2, x, -y+1/2'\\n  127  '-z+1/2, y, x+1/2'\\n  128  'z+1/2, -y, -x+1/2'\\n  129  'y+1/2, z, x+1/2'\\n  130  '-y+1/2, -z, -x+1/2'\\n  131  'x+1/2, z, -y+1/2'\\n  132  '-x+1/2, -z, y+1/2'\\n  133  '-y+1/2, z, -x+1/2'\\n  134  'y+1/2, -z, x+1/2'\\n  135  '-x+1/2, z, y+1/2'\\n  136  'x+1/2, -z, -y+1/2'\\n  137  '-y+1/2, -z, x+1/2'\\n  138  'y+1/2, z, -x+1/2'\\n  139  '-x+1/2, -z, -y+1/2'\\n  140  'x+1/2, z, y+1/2'\\n  141  'y+1/2, -z, -x+1/2'\\n  142  '-y+1/2, z, x+1/2'\\n  143  'x+1/2, -z, y+1/2'\\n  144  '-x+1/2, z, -y+1/2'\\n  145  'x, y+1/2, z+1/2'\\n  146  '-x, -y+1/2, -z+1/2'\\n  147  '-y, x+1/2, z+1/2'\\n  148  'y, -x+1/2, -z+1/2'\\n  149  '-x, -y+1/2, z+1/2'\\n  150  'x, y+1/2, -z+1/2'\\n  151  'y, -x+1/2, z+1/2'\\n  152  '-y, x+1/2, -z+1/2'\\n  153  'x, -y+1/2, -z+1/2'\\n  154  '-x, y+1/2, z+1/2'\\n  155  '-y, -x+1/2, -z+1/2'\\n  156  'y, x+1/2, z+1/2'\\n  157  '-x, y+1/2, -z+1/2'\\n  158  'x, -y+1/2, z+1/2'\\n  159  'y, x+1/2, -z+1/2'\\n  160  '-y, -x+1/2, z+1/2'\\n  161  'z, x+1/2, y+1/2'\\n  162  '-z, -x+1/2, -y+1/2'\\n  163  'z, -y+1/2, x+1/2'\\n  164  '-z, y+1/2, -x+1/2'\\n  165  'z, -x+1/2, -y+1/2'\\n  166  '-z, x+1/2, y+1/2'\\n  167  'z, y+1/2, -x+1/2'\\n  168  '-z, -y+1/2, x+1/2'\\n  169  '-z, x+1/2, -y+1/2'\\n  170  'z, -x+1/2, y+1/2'\\n  171  '-z, -y+1/2, -x+1/2'\\n  172  'z, y+1/2, x+1/2'\\n  173  '-z, -x+1/2, y+1/2'\\n  174  'z, x+1/2, -y+1/2'\\n  175  '-z, y+1/2, x+1/2'\\n  176  'z, -y+1/2, -x+1/2'\\n  177  'y, z+1/2, x+1/2'\\n  178  '-y, -z+1/2, -x+1/2'\\n  179  'x, z+1/2, -y+1/2'\\n  180  '-x, -z+1/2, y+1/2'\\n  181  '-y, z+1/2, -x+1/2'\\n  182  'y, -z+1/2, x+1/2'\\n  183  '-x, z+1/2, y+1/2'\\n  184  'x, -z+1/2, -y+1/2'\\n  185  '-y, -z+1/2, x+1/2'\\n  186  'y, z+1/2, -x+1/2'\\n  187  '-x, -z+1/2, -y+1/2'\\n  188  'x, z+1/2, y+1/2'\\n  189  'y, -z+1/2, -x+1/2'\\n  190  '-y, z+1/2, x+1/2'\\n  191  'x, -z+1/2, y+1/2'\\n  192  '-x, z+1/2, -y+1/2'\\nloop_\\n _atom_type_symbol\\n _atom_type_oxidation_number\\n  Li+  1.0\\n  Br-  -1.0\\nloop_\\n _atom_site_type_symbol\\n _atom_site_label\\n _atom_site_symmetry_multiplicity\\n _atom_site_fract_x\\n _atom_site_fract_y\\n _atom_site_fract_z\\n _atom_site_occupancy\\n  Li+  Li0  4  0.00000000  0.00000000  0.00000000  1\\n  Br-  Br1  4  0.00000000  0.00000000  0.50000000  1\\n\""
      ]
     },
     "execution_count": 3,
     "metadata": {},
     "output_type": "execute_result"
    }
   ],
   "source": [
    "\"\"\"\n",
    "# generated using pymatgen\n",
    "data_LiBr\n",
    "_symmetry_space_group_name_H-M   Fm-3m\n",
    "_cell_length_a   5.44538116\n",
    "_cell_length_b   5.44538116\n",
    "_cell_length_c   5.44538116\n",
    "_cell_angle_alpha   90.00000000\n",
    "_cell_angle_beta   90.00000000\n",
    "_cell_angle_gamma   90.00000000\n",
    "_symmetry_Int_Tables_number   225\n",
    "_chemical_formula_structural   LiBr\n",
    "_chemical_formula_sum   'Li4 Br4'\n",
    "_cell_volume   161.46740039\n",
    "_cell_formula_units_Z   4\n",
    "loop_\n",
    " _symmetry_equiv_pos_site_id\n",
    " _symmetry_equiv_pos_as_xyz\n",
    "  1  'x, y, z'\n",
    "  2  '-x, -y, -z'\n",
    "  3  '-y, x, z'\n",
    "  4  'y, -x, -z'\n",
    "  5  '-x, -y, z'\n",
    "  6  'x, y, -z'\n",
    "  7  'y, -x, z'\n",
    "  8  '-y, x, -z'\n",
    "  9  'x, -y, -z'\n",
    "  10  '-x, y, z'\n",
    "  11  '-y, -x, -z'\n",
    "  12  'y, x, z'\n",
    "  13  '-x, y, -z'\n",
    "  14  'x, -y, z'\n",
    "  15  'y, x, -z'\n",
    "  16  '-y, -x, z'\n",
    "  17  'z, x, y'\n",
    "  18  '-z, -x, -y'\n",
    "  19  'z, -y, x'\n",
    "  20  '-z, y, -x'\n",
    "  21  'z, -x, -y'\n",
    "  22  '-z, x, y'\n",
    "  23  'z, y, -x'\n",
    "  24  '-z, -y, x'\n",
    "  25  '-z, x, -y'\n",
    "  26  'z, -x, y'\n",
    "  27  '-z, -y, -x'\n",
    "  28  'z, y, x'\n",
    "  29  '-z, -x, y'\n",
    "  30  'z, x, -y'\n",
    "  31  '-z, y, x'\n",
    "  32  'z, -y, -x'\n",
    "  33  'y, z, x'\n",
    "  34  '-y, -z, -x'\n",
    "  35  'x, z, -y'\n",
    "  36  '-x, -z, y'\n",
    "  37  '-y, z, -x'\n",
    "  38  'y, -z, x'\n",
    "  39  '-x, z, y'\n",
    "  40  'x, -z, -y'\n",
    "  41  '-y, -z, x'\n",
    "  42  'y, z, -x'\n",
    "  43  '-x, -z, -y'\n",
    "  44  'x, z, y'\n",
    "  45  'y, -z, -x'\n",
    "  46  '-y, z, x'\n",
    "  47  'x, -z, y'\n",
    "  48  '-x, z, -y'\n",
    "  49  'x+1/2, y+1/2, z'\n",
    "  50  '-x+1/2, -y+1/2, -z'\n",
    "  51  '-y+1/2, x+1/2, z'\n",
    "  52  'y+1/2, -x+1/2, -z'\n",
    "  53  '-x+1/2, -y+1/2, z'\n",
    "  54  'x+1/2, y+1/2, -z'\n",
    "  55  'y+1/2, -x+1/2, z'\n",
    "  56  '-y+1/2, x+1/2, -z'\n",
    "  57  'x+1/2, -y+1/2, -z'\n",
    "  58  '-x+1/2, y+1/2, z'\n",
    "  59  '-y+1/2, -x+1/2, -z'\n",
    "  60  'y+1/2, x+1/2, z'\n",
    "  61  '-x+1/2, y+1/2, -z'\n",
    "  62  'x+1/2, -y+1/2, z'\n",
    "  63  'y+1/2, x+1/2, -z'\n",
    "  64  '-y+1/2, -x+1/2, z'\n",
    "  65  'z+1/2, x+1/2, y'\n",
    "  66  '-z+1/2, -x+1/2, -y'\n",
    "  67  'z+1/2, -y+1/2, x'\n",
    "  68  '-z+1/2, y+1/2, -x'\n",
    "  69  'z+1/2, -x+1/2, -y'\n",
    "  70  '-z+1/2, x+1/2, y'\n",
    "  71  'z+1/2, y+1/2, -x'\n",
    "  72  '-z+1/2, -y+1/2, x'\n",
    "  73  '-z+1/2, x+1/2, -y'\n",
    "  74  'z+1/2, -x+1/2, y'\n",
    "  75  '-z+1/2, -y+1/2, -x'\n",
    "  76  'z+1/2, y+1/2, x'\n",
    "  77  '-z+1/2, -x+1/2, y'\n",
    "  78  'z+1/2, x+1/2, -y'\n",
    "  79  '-z+1/2, y+1/2, x'\n",
    "  80  'z+1/2, -y+1/2, -x'\n",
    "  81  'y+1/2, z+1/2, x'\n",
    "  82  '-y+1/2, -z+1/2, -x'\n",
    "  83  'x+1/2, z+1/2, -y'\n",
    "  84  '-x+1/2, -z+1/2, y'\n",
    "  85  '-y+1/2, z+1/2, -x'\n",
    "  86  'y+1/2, -z+1/2, x'\n",
    "  87  '-x+1/2, z+1/2, y'\n",
    "  88  'x+1/2, -z+1/2, -y'\n",
    "  89  '-y+1/2, -z+1/2, x'\n",
    "  90  'y+1/2, z+1/2, -x'\n",
    "  91  '-x+1/2, -z+1/2, -y'\n",
    "  92  'x+1/2, z+1/2, y'\n",
    "  93  'y+1/2, -z+1/2, -x'\n",
    "  94  '-y+1/2, z+1/2, x'\n",
    "  95  'x+1/2, -z+1/2, y'\n",
    "  96  '-x+1/2, z+1/2, -y'\n",
    "  97  'x+1/2, y, z+1/2'\n",
    "  98  '-x+1/2, -y, -z+1/2'\n",
    "  99  '-y+1/2, x, z+1/2'\n",
    "  100  'y+1/2, -x, -z+1/2'\n",
    "  101  '-x+1/2, -y, z+1/2'\n",
    "  102  'x+1/2, y, -z+1/2'\n",
    "  103  'y+1/2, -x, z+1/2'\n",
    "  104  '-y+1/2, x, -z+1/2'\n",
    "  105  'x+1/2, -y, -z+1/2'\n",
    "  106  '-x+1/2, y, z+1/2'\n",
    "  107  '-y+1/2, -x, -z+1/2'\n",
    "  108  'y+1/2, x, z+1/2'\n",
    "  109  '-x+1/2, y, -z+1/2'\n",
    "  110  'x+1/2, -y, z+1/2'\n",
    "  111  'y+1/2, x, -z+1/2'\n",
    "  112  '-y+1/2, -x, z+1/2'\n",
    "  113  'z+1/2, x, y+1/2'\n",
    "  114  '-z+1/2, -x, -y+1/2'\n",
    "  115  'z+1/2, -y, x+1/2'\n",
    "  116  '-z+1/2, y, -x+1/2'\n",
    "  117  'z+1/2, -x, -y+1/2'\n",
    "  118  '-z+1/2, x, y+1/2'\n",
    "  119  'z+1/2, y, -x+1/2'\n",
    "  120  '-z+1/2, -y, x+1/2'\n",
    "  121  '-z+1/2, x, -y+1/2'\n",
    "  122  'z+1/2, -x, y+1/2'\n",
    "  123  '-z+1/2, -y, -x+1/2'\n",
    "  124  'z+1/2, y, x+1/2'\n",
    "  125  '-z+1/2, -x, y+1/2'\n",
    "  126  'z+1/2, x, -y+1/2'\n",
    "  127  '-z+1/2, y, x+1/2'\n",
    "  128  'z+1/2, -y, -x+1/2'\n",
    "  129  'y+1/2, z, x+1/2'\n",
    "  130  '-y+1/2, -z, -x+1/2'\n",
    "  131  'x+1/2, z, -y+1/2'\n",
    "  132  '-x+1/2, -z, y+1/2'\n",
    "  133  '-y+1/2, z, -x+1/2'\n",
    "  134  'y+1/2, -z, x+1/2'\n",
    "  135  '-x+1/2, z, y+1/2'\n",
    "  136  'x+1/2, -z, -y+1/2'\n",
    "  137  '-y+1/2, -z, x+1/2'\n",
    "  138  'y+1/2, z, -x+1/2'\n",
    "  139  '-x+1/2, -z, -y+1/2'\n",
    "  140  'x+1/2, z, y+1/2'\n",
    "  141  'y+1/2, -z, -x+1/2'\n",
    "  142  '-y+1/2, z, x+1/2'\n",
    "  143  'x+1/2, -z, y+1/2'\n",
    "  144  '-x+1/2, z, -y+1/2'\n",
    "  145  'x, y+1/2, z+1/2'\n",
    "  146  '-x, -y+1/2, -z+1/2'\n",
    "  147  '-y, x+1/2, z+1/2'\n",
    "  148  'y, -x+1/2, -z+1/2'\n",
    "  149  '-x, -y+1/2, z+1/2'\n",
    "  150  'x, y+1/2, -z+1/2'\n",
    "  151  'y, -x+1/2, z+1/2'\n",
    "  152  '-y, x+1/2, -z+1/2'\n",
    "  153  'x, -y+1/2, -z+1/2'\n",
    "  154  '-x, y+1/2, z+1/2'\n",
    "  155  '-y, -x+1/2, -z+1/2'\n",
    "  156  'y, x+1/2, z+1/2'\n",
    "  157  '-x, y+1/2, -z+1/2'\n",
    "  158  'x, -y+1/2, z+1/2'\n",
    "  159  'y, x+1/2, -z+1/2'\n",
    "  160  '-y, -x+1/2, z+1/2'\n",
    "  161  'z, x+1/2, y+1/2'\n",
    "  162  '-z, -x+1/2, -y+1/2'\n",
    "  163  'z, -y+1/2, x+1/2'\n",
    "  164  '-z, y+1/2, -x+1/2'\n",
    "  165  'z, -x+1/2, -y+1/2'\n",
    "  166  '-z, x+1/2, y+1/2'\n",
    "  167  'z, y+1/2, -x+1/2'\n",
    "  168  '-z, -y+1/2, x+1/2'\n",
    "  169  '-z, x+1/2, -y+1/2'\n",
    "  170  'z, -x+1/2, y+1/2'\n",
    "  171  '-z, -y+1/2, -x+1/2'\n",
    "  172  'z, y+1/2, x+1/2'\n",
    "  173  '-z, -x+1/2, y+1/2'\n",
    "  174  'z, x+1/2, -y+1/2'\n",
    "  175  '-z, y+1/2, x+1/2'\n",
    "  176  'z, -y+1/2, -x+1/2'\n",
    "  177  'y, z+1/2, x+1/2'\n",
    "  178  '-y, -z+1/2, -x+1/2'\n",
    "  179  'x, z+1/2, -y+1/2'\n",
    "  180  '-x, -z+1/2, y+1/2'\n",
    "  181  '-y, z+1/2, -x+1/2'\n",
    "  182  'y, -z+1/2, x+1/2'\n",
    "  183  '-x, z+1/2, y+1/2'\n",
    "  184  'x, -z+1/2, -y+1/2'\n",
    "  185  '-y, -z+1/2, x+1/2'\n",
    "  186  'y, z+1/2, -x+1/2'\n",
    "  187  '-x, -z+1/2, -y+1/2'\n",
    "  188  'x, z+1/2, y+1/2'\n",
    "  189  'y, -z+1/2, -x+1/2'\n",
    "  190  '-y, z+1/2, x+1/2'\n",
    "  191  'x, -z+1/2, y+1/2'\n",
    "  192  '-x, z+1/2, -y+1/2'\n",
    "loop_\n",
    " _atom_type_symbol\n",
    " _atom_type_oxidation_number\n",
    "  Li+  1.0\n",
    "  Br-  -1.0\n",
    "loop_\n",
    " _atom_site_type_symbol\n",
    " _atom_site_label\n",
    " _atom_site_symmetry_multiplicity\n",
    " _atom_site_fract_x\n",
    " _atom_site_fract_y\n",
    " _atom_site_fract_z\n",
    " _atom_site_occupancy\n",
    "  Li+  Li0  4  0.00000000  0.00000000  0.00000000  1\n",
    "  Br-  Br1  4  0.00000000  0.00000000  0.50000000  1\n",
    "\"\"\""
   ]
  },
  {
   "cell_type": "markdown",
   "metadata": {},
   "source": [
    "Input and output data formats supported by ASE\n",
    "\n",
    "https://wiki.fysik.dtu.dk/ase/ase/io/io.html\n"
   ]
  },
  {
   "cell_type": "markdown",
   "metadata": {},
   "source": [
    "Atoms object overview"
   ]
  },
  {
   "cell_type": "code",
   "execution_count": null,
   "metadata": {},
   "outputs": [],
   "source": [
    "from ase.io import read\n",
    "\n",
    "atoms = read('data/LiI.cif')\n",
    "atoms # Atoms's object"
   ]
  },
  {
   "cell_type": "code",
   "execution_count": null,
   "metadata": {},
   "outputs": [],
   "source": [
    "atoms.positions # cartesian positions"
   ]
  },
  {
   "cell_type": "code",
   "execution_count": null,
   "metadata": {},
   "outputs": [],
   "source": [
    "atoms.numbers # atomic numbers"
   ]
  },
  {
   "cell_type": "code",
   "execution_count": null,
   "metadata": {},
   "outputs": [],
   "source": [
    "atoms.symbols # symbols"
   ]
  },
  {
   "cell_type": "code",
   "execution_count": null,
   "metadata": {},
   "outputs": [],
   "source": [
    "atoms.cell # basis vectors"
   ]
  },
  {
   "cell_type": "code",
   "execution_count": null,
   "metadata": {},
   "outputs": [],
   "source": [
    "atoms.cell + 0.0"
   ]
  },
  {
   "cell_type": "code",
   "execution_count": 79,
   "metadata": {},
   "outputs": [],
   "source": [
    "a, b, c, alpha, beta, gamma = atoms.cell.cellpar()"
   ]
  },
  {
   "cell_type": "code",
   "execution_count": null,
   "metadata": {},
   "outputs": [],
   "source": [
    "atoms.pbc # periodic boundary conditions"
   ]
  },
  {
   "cell_type": "code",
   "execution_count": null,
   "metadata": {},
   "outputs": [],
   "source": [
    "atoms.arrays"
   ]
  },
  {
   "cell_type": "code",
   "execution_count": null,
   "metadata": {},
   "outputs": [],
   "source": [
    "atoms.info"
   ]
  },
  {
   "cell_type": "markdown",
   "metadata": {},
   "source": [
    "you can store additional properties/attributes"
   ]
  },
  {
   "cell_type": "code",
   "execution_count": null,
   "metadata": {},
   "outputs": [],
   "source": [
    "atoms.info.update({'chemsys': 'Li-I'})\n",
    "atoms.info"
   ]
  },
  {
   "cell_type": "markdown",
   "metadata": {},
   "source": [
    "you can delete not important props"
   ]
  },
  {
   "cell_type": "code",
   "execution_count": 13,
   "metadata": {},
   "outputs": [],
   "source": [
    "try:\n",
    "    del atoms.info['occupancy']\n",
    "    atoms.info\n",
    "except:\n",
    "    pass"
   ]
  },
  {
   "cell_type": "code",
   "execution_count": 2,
   "metadata": {},
   "outputs": [],
   "source": [
    "#atoms.set_array"
   ]
  },
  {
   "cell_type": "markdown",
   "metadata": {},
   "source": [
    "you can append or remove an atom"
   ]
  },
  {
   "cell_type": "code",
   "execution_count": 304,
   "metadata": {},
   "outputs": [],
   "source": [
    "atoms.append('Cs')"
   ]
  },
  {
   "cell_type": "code",
   "execution_count": null,
   "metadata": {},
   "outputs": [],
   "source": [
    "atoms.positions[-1]"
   ]
  },
  {
   "cell_type": "code",
   "execution_count": 306,
   "metadata": {},
   "outputs": [],
   "source": [
    "atoms.positions[-1] += [3, 2, 1]"
   ]
  },
  {
   "cell_type": "code",
   "execution_count": null,
   "metadata": {},
   "outputs": [],
   "source": [
    "atoms.positions"
   ]
  },
  {
   "cell_type": "code",
   "execution_count": null,
   "metadata": {},
   "outputs": [],
   "source": [
    "atoms.symbols"
   ]
  },
  {
   "cell_type": "code",
   "execution_count": 309,
   "metadata": {},
   "outputs": [],
   "source": [
    "del atoms[-1]"
   ]
  },
  {
   "cell_type": "code",
   "execution_count": null,
   "metadata": {},
   "outputs": [],
   "source": [
    "atoms"
   ]
  },
  {
   "cell_type": "markdown",
   "metadata": {},
   "source": [
    "write .cif file"
   ]
  },
  {
   "cell_type": "code",
   "execution_count": 117,
   "metadata": {},
   "outputs": [],
   "source": [
    "from ase.io import write\n",
    "\n",
    "write('data/some_name.cif', atoms)"
   ]
  },
  {
   "cell_type": "markdown",
   "metadata": {},
   "source": [
    "read .xyz"
   ]
  },
  {
   "cell_type": "code",
   "execution_count": null,
   "metadata": {},
   "outputs": [],
   "source": [
    "\"\"\"\n",
    "12\n",
    "Benzene, Source: https://github.com/nutjunkie/IQmol/blob/master/share/fragments/Molecules/Aromatics/Benzene.xyz\n",
    "  H      1.2194     -0.1652      2.1600\n",
    "  C      0.6825     -0.0924      1.2087\n",
    "  C     -0.7075     -0.0352      1.1973\n",
    "  H     -1.2644     -0.0630      2.1393\n",
    "  C     -1.3898      0.0572     -0.0114\n",
    "  H     -2.4836      0.1021     -0.0204\n",
    "  C     -0.6824      0.0925     -1.2088\n",
    "  H     -1.2194      0.1652     -2.1599\n",
    "  C      0.7075      0.0352     -1.1973\n",
    "  H      1.2641      0.0628     -2.1395\n",
    "  C      1.3899     -0.0572      0.0114\n",
    "  H      2.4836     -0.1022      0.0205\n",
    "\"\"\"\n",
    "\n",
    "\n",
    "atoms = read('data/benzene.xyz')\n",
    "atoms"
   ]
  },
  {
   "cell_type": "markdown",
   "metadata": {},
   "source": [
    ".xyz format allows saving a list of molecular structures"
   ]
  },
  {
   "cell_type": "code",
   "execution_count": 120,
   "metadata": {},
   "outputs": [],
   "source": [
    "images = []\n",
    "\n",
    "for i in range(5):\n",
    "    image = atoms.copy()\n",
    "    image.positions += i * 10\n",
    "    images.append(image)\n",
    "images\n",
    "write('data/moving_benzene.xyz', images) # use jmol to see the changes"
   ]
  },
  {
   "cell_type": "markdown",
   "metadata": {},
   "source": [
    "you cannot save a list of crystal structures in .cif format, but you can do it in .extxyz format"
   ]
  },
  {
   "cell_type": "markdown",
   "metadata": {},
   "source": [
    "write Atoms object in a file"
   ]
  },
  {
   "cell_type": "code",
   "execution_count": 121,
   "metadata": {},
   "outputs": [],
   "source": [
    "from ase.io import write\n",
    "atoms = read('data/LiI.cif')\n",
    "filename = 'data/LiI.extxyz' # extxyz allows to store crystal structures in .xyz-like format\n",
    "write(filename, atoms)"
   ]
  },
  {
   "cell_type": "code",
   "execution_count": null,
   "metadata": {},
   "outputs": [],
   "source": [
    "atoms_saved = read(filename)\n",
    "atoms_saved.info"
   ]
  },
  {
   "cell_type": "markdown",
   "metadata": {},
   "source": [
    "#### Manipulating Atoms object"
   ]
  },
  {
   "cell_type": "markdown",
   "metadata": {},
   "source": [
    "get sublattice"
   ]
  },
  {
   "cell_type": "code",
   "execution_count": 26,
   "metadata": {},
   "outputs": [],
   "source": [
    "sublattice = atoms[atoms.numbers == 3].copy() # use copy to decouple replicas"
   ]
  },
  {
   "cell_type": "markdown",
   "metadata": {},
   "source": [
    "modify coordinates"
   ]
  },
  {
   "cell_type": "code",
   "execution_count": 123,
   "metadata": {},
   "outputs": [],
   "source": [
    "atoms.positions[-1] += [0.1, 0.05, 0.2]"
   ]
  },
  {
   "cell_type": "code",
   "execution_count": null,
   "metadata": {},
   "outputs": [],
   "source": [
    "atoms.positions"
   ]
  },
  {
   "cell_type": "markdown",
   "metadata": {},
   "source": [
    "turn off pbc "
   ]
  },
  {
   "cell_type": "code",
   "execution_count": null,
   "metadata": {},
   "outputs": [],
   "source": [
    "atoms.pbc = [True, True, False]\n",
    "atoms.pbc"
   ]
  },
  {
   "cell_type": "markdown",
   "metadata": {},
   "source": [
    "replace species"
   ]
  },
  {
   "cell_type": "code",
   "execution_count": 129,
   "metadata": {},
   "outputs": [],
   "source": [
    "atoms.numbers = np.where(atoms.numbers == 3, 1, atoms.numbers)"
   ]
  },
  {
   "cell_type": "code",
   "execution_count": null,
   "metadata": {},
   "outputs": [],
   "source": [
    "atoms"
   ]
  },
  {
   "cell_type": "markdown",
   "metadata": {},
   "source": [
    "visualize Atoms"
   ]
  },
  {
   "cell_type": "code",
   "execution_count": null,
   "metadata": {},
   "outputs": [],
   "source": [
    "from ase.visualize import view\n",
    "view(atoms, viewer='x3d')"
   ]
  },
  {
   "cell_type": "markdown",
   "metadata": {},
   "source": [
    "create supercell"
   ]
  },
  {
   "cell_type": "code",
   "execution_count": null,
   "metadata": {},
   "outputs": [],
   "source": [
    "from ase.build import make_supercell\n",
    "P = [\n",
    "        [3, 0, 0],\n",
    "        [0, 2, 0],\n",
    "        [0, 0, 6]\n",
    "    ]\n",
    "\n",
    "supercell = make_supercell(atoms, P)\n",
    "view(supercell, viewer='x3d')"
   ]
  },
  {
   "cell_type": "markdown",
   "metadata": {},
   "source": [
    "### Task 1: Unit cell volume\n",
    "\n",
    "Write a function that takes Atoms object (crystal structure) as an input and return volume of its unit cell\n",
    "\n",
    "Hint: Scalar triple product"
   ]
  },
  {
   "cell_type": "code",
   "execution_count": null,
   "metadata": {},
   "outputs": [],
   "source": [
    "atoms = read('data/LiF.cif')\n",
    "\n",
    "def unit_cell_volume(atoms):\n",
    "\n",
    "    \"\"\"\n",
    "    This function calculates the unit cell volume of the given Atoms object.\n",
    "\n",
    "    Params:\n",
    "    ------\n",
    "\n",
    "    atoms: Ase's Atoms object\n",
    "        a crystal structure for which unit cell the volume should be calculated\n",
    "\n",
    "    Returns:\n",
    "\n",
    "    volume of the unit cell in Angstrom ^ 3\n",
    "    \"\"\"\n",
    "    pass\n",
    "\n",
    "unit_cell_volume(atoms.cell),  atoms.cell.volume\n"
   ]
  },
  {
   "cell_type": "markdown",
   "metadata": {},
   "source": [
    "### Task 2: Substitution\n",
    "Write a function that takes the Atom object (crystal structure) as input and returns the structure with the species of interest replaced on the given chemical element.\n"
   ]
  },
  {
   "cell_type": "code",
   "execution_count": null,
   "metadata": {},
   "outputs": [],
   "source": [
    "atoms = read('data/LiF.cif')\n",
    "\n",
    "def replace_atoms(atoms, specie, substitute):\n",
    "\n",
    "    \"\"\"\n",
    "    This function returns atoms with species replaced by the substitute\n",
    "\n",
    "    Params:\n",
    "    ------\n",
    "\n",
    "    atoms: Ase's Atoms object\n",
    "        a crystal structure for which unit cell the volume should be calculated\n",
    "\n",
    "    specie: int\n",
    "        atomic number\n",
    "\n",
    "    substitute: int\n",
    "        atomic number\n",
    "\n",
    "    Returns:\n",
    "\n",
    "    modified Atoms object\n",
    "    \"\"\"\n",
    "    pass\n"
   ]
  },
  {
   "cell_type": "markdown",
   "metadata": {},
   "source": [
    "Building Atoms object"
   ]
  },
  {
   "cell_type": "code",
   "execution_count": 134,
   "metadata": {},
   "outputs": [],
   "source": [
    "from ase import Atoms\n",
    "from ase.cell import Cell"
   ]
  },
  {
   "cell_type": "code",
   "execution_count": 135,
   "metadata": {},
   "outputs": [],
   "source": [
    "a, b, c, alpha, beta, gamma = 3.359, 3.359, 3.359, 90, 90, 90 # unit cell parameters, cubic lattice\n",
    "positions = np.array([0.5, 0.5, 0.5]).reshape(-1, 3) # positions N x 3\n",
    "numbers = np.array([84]) # N\n",
    "cell = Cell.fromcellpar([a, b, c, alpha, beta, gamma]) # cell matrix can be created from the unit cell parameters\n",
    "pbc = [True, True, True]\n",
    "atoms = Atoms(positions = positions, numbers = numbers, pbc = pbc, cell = cell)"
   ]
  },
  {
   "cell_type": "markdown",
   "metadata": {},
   "source": [
    "get space group of the structure"
   ]
  },
  {
   "cell_type": "code",
   "execution_count": null,
   "metadata": {},
   "outputs": [],
   "source": [
    "from ase.spacegroup import get_spacegroup\n",
    "sg = get_spacegroup(atoms) # uses spglib library under the hood\n",
    "sg"
   ]
  },
  {
   "cell_type": "code",
   "execution_count": 137,
   "metadata": {},
   "outputs": [],
   "source": [
    "# rotation and translation symmetry operations\n",
    "\n",
    "for (rot, tr) in sg.get_symop():\n",
    "    pass"
   ]
  },
  {
   "cell_type": "markdown",
   "metadata": {},
   "source": [
    "symmetry operation"
   ]
  },
  {
   "cell_type": "code",
   "execution_count": null,
   "metadata": {},
   "outputs": [],
   "source": [
    "np.dot(atoms.positions[0], rot) + np.dot(tr, atoms.cell) # is it a right way?"
   ]
  },
  {
   "cell_type": "markdown",
   "metadata": {},
   "source": [
    "### Connectivity matrix for molecules"
   ]
  },
  {
   "cell_type": "code",
   "execution_count": 231,
   "metadata": {},
   "outputs": [],
   "source": [
    "from ase.io import read\n",
    "import numpy as np\n",
    "import matplotlib.pyplot as plt\n",
    "from ase.neighborlist import NeighborList"
   ]
  },
  {
   "cell_type": "markdown",
   "metadata": {},
   "source": [
    "![image](https://media.geeksforgeeks.org/wp-content/uploads/20240424142538/Adjacency-Matrix.webp)\n",
    "\n",
    "source: https://www.geeksforgeeks.org/adjacency-matrix/"
   ]
  },
  {
   "cell_type": "code",
   "execution_count": null,
   "metadata": {},
   "outputs": [],
   "source": [
    "atoms = read('data/benzene.xyz')\n",
    "atoms.pbc"
   ]
  },
  {
   "cell_type": "markdown",
   "metadata": {},
   "source": [
    "#### Approximate solution"
   ]
  },
  {
   "cell_type": "code",
   "execution_count": 233,
   "metadata": {},
   "outputs": [],
   "source": [
    "def _get_connectivity_matrix(atoms, cutoff):\n",
    "\n",
    "    \"\"\"\n",
    "    This function calculates a connectivity matrix for a given molecule\n",
    "\n",
    "    Params\n",
    "    ------\n",
    "\n",
    "    atoms: ASE's Atoms object\n",
    "        molecule\n",
    "    \n",
    "    cutoff: float\n",
    "        cutoff radius to consider for bonded atoms\n",
    "    \n",
    "    Returns\n",
    "    -------\n",
    "    The connectivity matrix, list of source indices, list of targe indices, list of distances\n",
    "\n",
    "    \"\"\"\n",
    "\n",
    "\n",
    "    source_list, target_list, distance_list = [], [], []\n",
    "    connectivity_matrix = []\n",
    "\n",
    "    for source in range(len(atoms)):\n",
    "        connectivity_matrix.append([])\n",
    "        for target in range(len(atoms)):\n",
    "            p_source = atoms.positions[source]\n",
    "            p_target = atoms.positions[target]\n",
    "            distance = np.linalg.norm(p_source - p_target)\n",
    "            source_list.append(source)\n",
    "            target_list.append(target)\n",
    "            distance_list.append(distance)\n",
    "            if distance > cutoff:\n",
    "                connectivity_matrix[source].append(0)\n",
    "            else:\n",
    "                connectivity_matrix[source].append(1)\n",
    "\n",
    "            if source == target:\n",
    "                connectivity_matrix[source][target] = 0\n",
    "\n",
    "\n",
    "    source_list = np.array(source_list)\n",
    "    target_list = np.array(target_list)\n",
    "    distance_list = np.array(distance_list)\n",
    "    connectivity_matrix = np.array(connectivity_matrix)\n",
    "    return connectivity_matrix, source_list, target_list, distance_list\n",
    "\n",
    "cm, _, _, _ = _get_connectivity_matrix(atoms, 2.5)"
   ]
  },
  {
   "cell_type": "markdown",
   "metadata": {},
   "source": [
    "### ASE's implementation"
   ]
  },
  {
   "cell_type": "code",
   "execution_count": 234,
   "metadata": {},
   "outputs": [],
   "source": [
    "cutoff = 2.5\n",
    "neighbor_list = NeighborList([cutoff / 2] * len(atoms), self_interaction=False, bothways=True)\n",
    "neighbor_list.update(atoms)\n",
    "matrix = neighbor_list.get_connectivity_matrix(sparse=False)"
   ]
  },
  {
   "cell_type": "markdown",
   "metadata": {},
   "source": [
    "### Nearest neighbor list considering pbc\n",
    "Approach:\n",
    "- add buffer around the unit cell"
   ]
  },
  {
   "cell_type": "markdown",
   "metadata": {},
   "source": [
    "#### Approximate solution (we collect neighbors in a cube, cutoff is not used here)"
   ]
  },
  {
   "cell_type": "code",
   "execution_count": 235,
   "metadata": {},
   "outputs": [],
   "source": [
    "import itertools"
   ]
  },
  {
   "cell_type": "code",
   "execution_count": 253,
   "metadata": {},
   "outputs": [],
   "source": [
    "atoms = read('data/LiF.cif')\n",
    "\n",
    "def _get_nn_list(atoms):\n",
    "\n",
    "\n",
    "    \"\"\"\n",
    "    This function finds an approximate neighbors list for a given structure.\n",
    "\n",
    "    The periodic boundary conditions are considered by constructing a 3x3x3 supercell\n",
    "\n",
    "    Params\n",
    "    ------\n",
    "\n",
    "    atoms: ASE's Atoms object\n",
    "        molecule\n",
    "    \n",
    "    cutoff: float\n",
    "        cutoff radius to consider for bonded atoms\n",
    "    \n",
    "    Returns\n",
    "    -------\n",
    "    The connectivity matrix, list of source indices, list of targe indices, list of distances\n",
    "\n",
    "    \"\"\"\n",
    "    offsets = tuple(list(itertools.product(\n",
    "                                            [-1, 0, 1],\n",
    "                                            [-1, 0, 1],\n",
    "                                            [-1, 0, 1],\n",
    "                                            )\n",
    "                        )\n",
    "                    )  \n",
    "    source_list, target_list, offset_list, distance_list = [], [], [], []\n",
    "\n",
    "    v1, v2, v3 = atoms.cell[0, :], atoms.cell[1, :], atoms.cell[2, :] # translational vectors\n",
    "\n",
    "    for source in range(len(atoms)):\n",
    "        for target in range(len(atoms)):\n",
    "            for offset in offsets:\n",
    "                if (source == target)&(offset == (0, 0, 0)):\n",
    "                    continue\n",
    "\n",
    "                p_source = atoms.positions[source]\n",
    "                p_target = atoms.positions[target] + np.dot(offset, atoms.cell)\n",
    "                distance = np.linalg.norm(p_source - p_target)\n",
    "\n",
    "                source_list.append(source)\n",
    "                target_list.append(target)\n",
    "                offset_list.append(offset_list)\n",
    "                distance_list.append(distance)\n",
    "\n",
    "    source_list = np.array(source_list)\n",
    "    target_list = np.array(target_list)\n",
    "    distance_list = np.array(distance_list)\n",
    "\n",
    "    return source_list, target_list, distance_list\n",
    "\n",
    "source_list, target_list, distance_list = _get_nn_list(atoms)"
   ]
  },
  {
   "cell_type": "code",
   "execution_count": null,
   "metadata": {},
   "outputs": [],
   "source": [
    "print(len(distance_list[distance_list < 5.95]))\n",
    "_ = plt.hist(distance_list[distance_list < 5.95], bins = 100)"
   ]
  },
  {
   "cell_type": "markdown",
   "metadata": {},
   "source": [
    "#### ASE's implementation"
   ]
  },
  {
   "cell_type": "code",
   "execution_count": null,
   "metadata": {},
   "outputs": [],
   "source": [
    "from ase.neighborlist import neighbor_list\n",
    "\n",
    "ii, jj, dd = neighbor_list('ijd', atoms, 5.95, self_interaction=False)\n",
    "\n",
    "_ = plt.hist(dd, bins = 100)\n",
    "\n",
    "len(dd)"
   ]
  },
  {
   "cell_type": "markdown",
   "metadata": {},
   "source": [
    "### Task 3: Nearest neighbor\n",
    "\n",
    "Write a function that calculates a minimum distance for each site in a given structure and returns its value and the nearest neighbor symbol"
   ]
  },
  {
   "cell_type": "code",
   "execution_count": 264,
   "metadata": {},
   "outputs": [],
   "source": [
    "\n",
    "def _get_minimum_distances(atoms, cutoff):\n",
    "\n",
    "    \"\"\"\n",
    "    This function finds the nearest neighbor for each site in a given structure\n",
    "\n",
    "    Params\n",
    "    ------\n",
    "\n",
    "    atoms: Atoms\n",
    "        crystal structure\n",
    "    cutoff float\n",
    "        cutoff radius\n",
    "\n",
    "    Returns\n",
    "    -------\n",
    "\n",
    "    list with the source atom chemical symbols,\n",
    "    list with the nearest neighbor chemical symbols, and\n",
    "    list with the distances between the source and the nearest neighbor\n",
    "\n",
    "    \"\"\"\n",
    "\n",
    "    pass\n",
    "\n",
    "_get_minimum_distances(atoms, 5.0)"
   ]
  },
  {
   "cell_type": "markdown",
   "metadata": {},
   "source": [
    "#### The killer feature of the ASE package is the calculators and optimizers. We will discuss these in Seminar #9.\n",
    "\n",
    "- https://wiki.fysik.dtu.dk/ase/ase/calculators/calculators.html\n",
    "\n",
    "- https://wiki.fysik.dtu.dk/ase/ase/optimize.html"
   ]
  },
  {
   "cell_type": "markdown",
   "metadata": {},
   "source": [
    "### Pymatgen: Intro\n",
    "documentation: https://pymatgen.org/"
   ]
  },
  {
   "cell_type": "code",
   "execution_count": 4,
   "metadata": {},
   "outputs": [],
   "source": [
    "from pymatgen.core import Structure\n",
    "from ase.io import read\n",
    "import numpy as np\n",
    "import matplotlib.pyplot as plt\n",
    "\n",
    "st = Structure.from_file('data/LiF.cif')\n",
    "st\n",
    "\n",
    "atoms = read('data/LiF.cif')"
   ]
  },
  {
   "cell_type": "markdown",
   "metadata": {},
   "source": [
    "while the Atoms object is a structure of arrays, the Structure object is an array of structures"
   ]
  },
  {
   "cell_type": "code",
   "execution_count": null,
   "metadata": {},
   "outputs": [],
   "source": [
    "atoms[atoms.numbers == 3] "
   ]
  },
  {
   "cell_type": "code",
   "execution_count": null,
   "metadata": {},
   "outputs": [],
   "source": [
    "st[np.array(st.atomic_numbers) == 3] # we cannot handle the Structure in a similar way"
   ]
  },
  {
   "cell_type": "markdown",
   "metadata": {},
   "source": [
    "i.e. it's not as handy, but it has a lot more functionality (see the documentation)"
   ]
  },
  {
   "cell_type": "code",
   "execution_count": null,
   "metadata": {},
   "outputs": [],
   "source": [
    "for site in st.sites:\n",
    "    print(site.frac_coords, site.specie)"
   ]
  },
  {
   "cell_type": "code",
   "execution_count": null,
   "metadata": {},
   "outputs": [],
   "source": [
    "st.lattice"
   ]
  },
  {
   "cell_type": "code",
   "execution_count": null,
   "metadata": {},
   "outputs": [],
   "source": [
    "st.lattice.matrix - atoms.cell"
   ]
  },
  {
   "cell_type": "code",
   "execution_count": null,
   "metadata": {},
   "outputs": [],
   "source": [
    "st.volume"
   ]
  },
  {
   "cell_type": "markdown",
   "metadata": {},
   "source": [
    "### Neighbor list using pymatgen and Voronoi partitioning\n",
    "\n",
    "Motivation:\n",
    "- crystal structures are very different, there is no a universal cutoff radius value for every system\n",
    "\n",
    "- i.e. the cutoff radius is a parameter that we want to get rid of\n",
    "\n",
    "- we can do it with the Voronoi partitioning scheme\n",
    "\n",
    "![image](https://upload.wikimedia.org/wikipedia/commons/thumb/5/54/Euclidean_Voronoi_diagram.svg/768px-Euclidean_Voronoi_diagram.svg.png)\n",
    "\n"
   ]
  },
  {
   "cell_type": "markdown",
   "metadata": {},
   "source": [
    "#### Approximate solution\n",
    "source: https://github.com/mcs-cice/IonExplorer2/blob/main/geometry.py"
   ]
  },
  {
   "cell_type": "code",
   "execution_count": 12,
   "metadata": {},
   "outputs": [],
   "source": [
    "from scipy.spatial import Voronoi\n",
    "import itertools \n",
    "\n",
    "def find_vneighbors(points, central_points, key=1, min_dist=-float(\"inf\"), max_dist=float(\"inf\")):\n",
    "\n",
    "\n",
    "    \"\"\"\n",
    "     Parameter mod can takes values 1, 2, or 3 that correspond to the\n",
    "    search for domains adjacent by vertices, edges or faces.\n",
    "    \"\"\"\n",
    "\n",
    "    neighbors = {i: None for i in central_points}\n",
    "    vor = Voronoi(points)\n",
    "    for i in central_points:\n",
    "        cp = points[i]\n",
    "        region = vor.regions[vor.point_region[i]]\n",
    "        if -1 in region:\n",
    "            raise ValueError(\"The domain for \\\"\" + str(i) + \"\\\" point is not closed!\")\n",
    "        local_neighbors = []\n",
    "        for j in range(len(points)):\n",
    "            numb_common_vertices = len(np.intersect1d(region, vor.regions[vor.point_region[j]]))\n",
    "            if i != j and numb_common_vertices >= key and min_dist < np.linalg.norm(cp - points[j]) < max_dist:\n",
    "                local_neighbors.append(j)\n",
    "        neighbors[i] = local_neighbors\n",
    "    return neighbors\n",
    "\n",
    "\n",
    "\n",
    "\n",
    "atoms = read('data/LiF.cif')\n",
    "points = []\n",
    "offsets = tuple(list(itertools.product(\n",
    "                                        [-1, 0, 1],\n",
    "                                        [-1, 0, 1],\n",
    "                                        [-1, 0, 1],\n",
    "                                        )\n",
    "                    )\n",
    "                )  \n",
    "\n",
    "\n",
    "central_points_ids = []\n",
    "for i, offset in enumerate(offsets):\n",
    "    points.append(atoms.positions + np.dot(offset, atoms.cell))\n",
    "    if offset == (0, 0, 0):\n",
    "        central_points_ids = np.arange(len(atoms) * i, len(atoms) * (i + 1))\n",
    "\n",
    "points = np.vstack(points)\n",
    "\n",
    "nn = find_vneighbors(points, central_points_ids, key=3, min_dist=-float(\"inf\"), max_dist=float(\"inf\"))\n"
   ]
  },
  {
   "cell_type": "code",
   "execution_count": 13,
   "metadata": {},
   "outputs": [],
   "source": [
    "source_list = []\n",
    "target_list = []\n",
    "distance_list = []\n",
    "for source in nn.keys():\n",
    "    for target in nn[source]:\n",
    "        source_list.append(source)\n",
    "        target_list.append(target)\n",
    "        d = np.linalg.norm(points[source] - points[target])\n",
    "        distance_list.append(d)"
   ]
  },
  {
   "cell_type": "code",
   "execution_count": null,
   "metadata": {},
   "outputs": [],
   "source": [
    "print(min(distance_list), max(distance_list))\n",
    "print(len(distance_list))\n",
    "\n",
    "_ = plt.hist(distance_list)"
   ]
  },
  {
   "cell_type": "markdown",
   "metadata": {},
   "source": [
    "#### Pymatgen's solution"
   ]
  },
  {
   "cell_type": "code",
   "execution_count": 15,
   "metadata": {},
   "outputs": [],
   "source": [
    "from pymatgen.analysis.local_env import VoronoiNN"
   ]
  },
  {
   "cell_type": "code",
   "execution_count": 16,
   "metadata": {},
   "outputs": [],
   "source": [
    "calc = VoronoiNN()\n",
    "voro_data = calc.get_all_voronoi_polyhedra(st)"
   ]
  },
  {
   "cell_type": "code",
   "execution_count": null,
   "metadata": {},
   "outputs": [],
   "source": [
    "type(voro_data)"
   ]
  },
  {
   "cell_type": "code",
   "execution_count": null,
   "metadata": {},
   "outputs": [],
   "source": [
    "voro_data[0][1187]"
   ]
  },
  {
   "cell_type": "code",
   "execution_count": 19,
   "metadata": {},
   "outputs": [],
   "source": [
    "ii, jj, dd = [], [], []\n",
    "for source, data in enumerate(voro_data):\n",
    "    for target in data.keys():\n",
    "        ii.append(source)\n",
    "        dd.append(2 * data[target]['face_dist'])"
   ]
  },
  {
   "cell_type": "code",
   "execution_count": null,
   "metadata": {},
   "outputs": [],
   "source": [
    "print(min(dd), max(dd))\n",
    "print(len(dd))"
   ]
  },
  {
   "cell_type": "markdown",
   "metadata": {},
   "source": [
    "#### We will explore more Pymatgen functionality at the next seminar (seminar #3)."
   ]
  },
  {
   "cell_type": "markdown",
   "metadata": {},
   "source": [
    "### Task 3\n",
    "\n",
    "Analyse the correlation between the Eg and X in LiX\n",
    "\n",
    "Steps:\n",
    "- Read the structures\n",
    "\n",
    "- Collect Eg and Li-X bond lengths (using VoronoiNN)\n",
    "    -  Eg vs. X data is stored in data/eg_vs_x.csv\n",
    "- Plot Eg vs. Li-X\n",
    "- Fit the line \n",
    "- Report correlation coefficient\n"
   ]
  },
  {
   "cell_type": "code",
   "execution_count": 63,
   "metadata": {},
   "outputs": [],
   "source": [
    "import pandas as pd \n",
    "import numpy as np\n",
    "import matplotlib.pyplot as plt\n",
    "from pymatgen.core import Structure\n",
    "from pymatgen.analysis.local_env import VoronoiNN\n",
    "from scipy.stats import linregress"
   ]
  },
  {
   "cell_type": "code",
   "execution_count": null,
   "metadata": {},
   "outputs": [],
   "source": []
  },
  {
   "cell_type": "code",
   "execution_count": null,
   "metadata": {},
   "outputs": [],
   "source": []
  },
  {
   "cell_type": "code",
   "execution_count": null,
   "metadata": {},
   "outputs": [],
   "source": []
  },
  {
   "cell_type": "code",
   "execution_count": null,
   "metadata": {},
   "outputs": [],
   "source": []
  },
  {
   "cell_type": "code",
   "execution_count": null,
   "metadata": {},
   "outputs": [],
   "source": []
  },
  {
   "cell_type": "code",
   "execution_count": null,
   "metadata": {},
   "outputs": [],
   "source": []
  },
  {
   "cell_type": "code",
   "execution_count": null,
   "metadata": {},
   "outputs": [],
   "source": []
  },
  {
   "cell_type": "code",
   "execution_count": null,
   "metadata": {},
   "outputs": [],
   "source": []
  },
  {
   "cell_type": "code",
   "execution_count": 60,
   "metadata": {},
   "outputs": [],
   "source": []
  },
  {
   "cell_type": "code",
   "execution_count": null,
   "metadata": {},
   "outputs": [],
   "source": []
  },
  {
   "cell_type": "code",
   "execution_count": null,
   "metadata": {},
   "outputs": [],
   "source": []
  },
  {
   "cell_type": "markdown",
   "metadata": {},
   "source": [
    "### Solutions to the tasks\n",
    "\n"
   ]
  },
  {
   "cell_type": "code",
   "execution_count": null,
   "metadata": {},
   "outputs": [],
   "source": [
    "# task 1\n",
    "def unit_cell_volume(atoms):\n",
    "    cell_matrix = atoms.cell\n",
    "    v1, v2, v3 = cell_matrix[0, :], cell_matrix[1, :], cell_matrix[2, :]\n",
    "    return np.dot(v1, np.cross(v2, v3))\n",
    "\n",
    "# task 2\n",
    "def _get_minimum_distances(atoms, cutoff):\n",
    "\n",
    "    ii, jj, dd = neighbor_list('ijd', atoms, cutoff, self_interaction=False)\n",
    "\n",
    "\n",
    "    source_ids = []\n",
    "    nn_symbols = []\n",
    "    d_min_list = []\n",
    "    for i in np.unique(ii):\n",
    "        d_min = dd[ii == i].min()\n",
    "\n",
    "        nn_symbol = atoms.symbols[jj[ii ==i][np.argwhere(dd[ii == i] == dd.min()).ravel()[0]]]\n",
    "\n",
    "\n",
    "        d_min_list.append(d_min)\n",
    "        source_ids.append(i)\n",
    "        nn_symbols.append(nn_symbol)\n",
    "    return source_ids, d_min_list, nn_symbols\n",
    "\n",
    "\n",
    "# task 3\n",
    "# read structure and Eg data\n",
    "data = pd.read_csv('data/eg_vs_x.csv')\n",
    "\n",
    "structures = []\n",
    "for X in data.x:\n",
    "    st = Structure.from_file(f'data/Li{X}.cif')\n",
    "    structures.append(st)\n",
    "data['structure'] = structures\n",
    "\n",
    "# collect distances\n",
    "li_x_mean_distances = []\n",
    "for st in data.structure:\n",
    "    calc = VoronoiNN()\n",
    "    li_x_distances = []\n",
    "    for i, site in enumerate(st.sites):\n",
    "        if str(site.specie.element) == 'Li':\n",
    "            poly_data = calc.get_voronoi_polyhedra(st, i)\n",
    "            for nn in poly_data:\n",
    "                li_x_distances.append(2 * poly_data[nn]['face_dist'])\n",
    "    li_x_mean_distances.append(np.mean(li_x_distances))\n",
    "data['li_x_distance'] = li_x_mean_distances\n",
    "\n",
    "# plot data\n",
    "fig, ax = plt.subplots(dpi = 150, figsize = (3, 3))\n",
    "ax.scatter(data.eg, data.li_x_distance, label = 'data points')\n",
    "\n",
    "res = linregress(data.eg, data.li_x_distance)\n",
    "ax.plot(data.eg, data.eg * res.slope + res.intercept, label = 'linear fit')\n",
    "\n",
    "ax.set_xlabel('Eg, eV')\n",
    "ax.set_ylabel('Li-X bond length, $\\AA$')\n",
    "\n",
    "print(res.rvalue)\n"
   ]
  },
  {
   "cell_type": "markdown",
   "metadata": {},
   "source": [
    "### Example from the slides"
   ]
  },
  {
   "cell_type": "code",
   "execution_count": null,
   "metadata": {},
   "outputs": [],
   "source": [
    "import pandas as pd\n",
    "from ase.io import read, write\n",
    "from mendeleev.fetch import fetch_table\n",
    "import matplotlib.pyplot as plt\n",
    "from mendeleev.fetch import fetch_ionic_radii\n",
    "from ions.data import ionic_radii\n",
    "import numpy as np\n",
    "from ase.neighborlist import neighbor_list\n",
    "from ase.visualize import view\n",
    "\n",
    "table = fetch_table('elements')\n",
    "\n",
    "df = pd.read_csv('data/eg_vs_x.csv')\n",
    "df['symbol'] = df['x']\n",
    "\n",
    "radii = []\n",
    "for x in df.x: \n",
    "    radii.append(ionic_radii[x][-1])\n",
    "\n",
    "data['r_i'] = radii\n",
    "\n",
    "X = df['x'].values\n",
    "structures = [] \n",
    "\n",
    "for element in X:\n",
    "    atoms = read(f'data/Li{element}.cif')\n",
    "    structures.append(atoms)\n",
    "\n",
    "from ase.build import make_supercell\n",
    "\n",
    "sc = make_supercell(atoms, [[3, 0, 0 ], [0, 3, 0], [0, 0, 3]])\n",
    "view(sc, viewer='x3d')\n",
    "\n",
    "\n",
    "def get_li_x_bond_length(atoms, r_cut = 3.0):\n",
    "\n",
    "    li_ids = np.where(atoms.symbols == 'Li')[0].ravel()\n",
    "\n",
    "    ii, jj, dd = neighbor_list('ijd', atoms,  r_cut, self_interaction=False)\n",
    "\n",
    "    min_distance = []\n",
    "    for index in li_ids:\n",
    "        min_distance.append(dd[ii == index].min())\n",
    "\n",
    "    return min_distance\n",
    "\n",
    "min_distance = get_li_x_bond_length(atoms)\n",
    "\n",
    "li_x_distance = []\n",
    "for atoms in structures:\n",
    "    li_x_distance.append(np.mean(get_li_x_bond_length(atoms)))\n",
    "\n",
    "\n",
    "df['li_x_bond_length'] = li_x_distance\n",
    "\n",
    "df = table[['symbol', 'en_pauling', 'en_allen']].merge(df)\n",
    "\n",
    "\n",
    "plt.rcParams['font.sans-serif'] = \"Arial\"\n",
    "# Then, \"ALWAYS use sans-serif fonts\"\n",
    "plt.rcParams['font.family'] = \"sans-serif\"\n",
    "plt.rcParams['font.size'] = 16\n",
    "\n",
    "#plt.rcParams.update({'font.family': 'Sans-Serif'})\n",
    "fig, ax = plt.subplots(figsize =(8, 3), dpi = 300)\n",
    "ax.grid(zorder = -1, alpha = 1.0, axis = 'x', color = 'w')\n",
    "# Horizontal Bar Plot\n",
    "ax.barh(df.x, df.eg)\n",
    "ax.set_xlabel('Eg, eV')\n",
    "plt.tight_layout()\n",
    "#fig.savefig('/Users/artemdembitskiy/Desktop/projects/intro-to-materials-informatics/src/lectures/lecture2/figures/eg_trend.png')\n",
    "\n",
    "\n",
    "from scipy.stats import linregress\n",
    "\n",
    "plt.rcParams['font.size'] = 11\n",
    "fig, (ax, ax2) = plt.subplots(dpi = 600, figsize = (5, 3), ncols = 2, sharey = True)\n",
    "ax.scatter(df.li_x_bond_length, df.eg, label = 'measured', color = 'darkred', alpha = 0.5)\n",
    " \n",
    "\n",
    "res = linregress(df.li_x_bond_length, df.eg)\n",
    "ax.plot(df.li_x_bond_length, df.li_x_bond_length * res.slope + res.intercept, label = 'fit', zorder = -1)\n",
    "\n",
    "ax.set_xlabel('Li-X bond length, $\\AA$')\n",
    "ax.set_ylabel('Eg, eV')\n",
    "\n",
    "res = linregress(df.en_pauling, df.eg)\n",
    "ax2.scatter(df.en_pauling, df.eg, color = 'darkcyan', alpha = 0.5)\n",
    "ax2.plot(df.en_pauling, df.en_pauling * res.slope + res.intercept, label = 'fit', zorder = -1)\n",
    "ax2.set_xlabel('Electronegativity (Pauling)')\n",
    "ax.legend(frameon = False)\n",
    "\n",
    "plt.tight_layout()\n",
    "\n",
    "#fig.savefig('/Users/artemdembitskiy/Desktop/projects/intro-to-materials-informatics/src/lectures/lecture2/figures/eg_correlation.png')\n",
    "\n"
   ]
  },
  {
   "cell_type": "markdown",
   "metadata": {},
   "source": [
    "#### Are Li-X bond length and X electronegativity correlated?"
   ]
  }
 ],
 "metadata": {
  "kernelspec": {
   "display_name": "base",
   "language": "python",
   "name": "python3"
  },
  "language_info": {
   "codemirror_mode": {
    "name": "ipython",
    "version": 3
   },
   "file_extension": ".py",
   "mimetype": "text/x-python",
   "name": "python",
   "nbconvert_exporter": "python",
   "pygments_lexer": "ipython3",
   "version": "3.8.8"
  }
 },
 "nbformat": 4,
 "nbformat_minor": 2
}
